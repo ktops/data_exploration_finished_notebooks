{
 "cells": [
  {
   "cell_type": "markdown",
   "metadata": {},
   "source": [
    "# SI 370 - Homework 2 - Visualization of Olympic Data"
   ]
  },
  {
   "cell_type": "markdown",
   "metadata": {},
   "source": [
    "### Kelsey Toporski - ktops"
   ]
  },
  {
   "cell_type": "markdown",
   "metadata": {},
   "source": [
    "#### Data source: https://www.kaggle.com/heesoo37/120-years-of-olympic-history-athletes-and-results#athlete_events.csv"
   ]
  },
  {
   "cell_type": "code",
   "execution_count": 1,
   "metadata": {},
   "outputs": [
    {
     "data": {
      "text/html": [
       "\n",
       "    <div class=\"bk-root\">\n",
       "        <a href=\"https://bokeh.pydata.org\" target=\"_blank\" class=\"bk-logo bk-logo-small bk-logo-notebook\"></a>\n",
       "        <span id=\"1001\">Loading BokehJS ...</span>\n",
       "    </div>"
      ]
     },
     "metadata": {},
     "output_type": "display_data"
    },
    {
     "data": {
      "application/javascript": [
       "\n",
       "(function(root) {\n",
       "  function now() {\n",
       "    return new Date();\n",
       "  }\n",
       "\n",
       "  var force = true;\n",
       "\n",
       "  if (typeof root._bokeh_onload_callbacks === \"undefined\" || force === true) {\n",
       "    root._bokeh_onload_callbacks = [];\n",
       "    root._bokeh_is_loading = undefined;\n",
       "  }\n",
       "\n",
       "  var JS_MIME_TYPE = 'application/javascript';\n",
       "  var HTML_MIME_TYPE = 'text/html';\n",
       "  var EXEC_MIME_TYPE = 'application/vnd.bokehjs_exec.v0+json';\n",
       "  var CLASS_NAME = 'output_bokeh rendered_html';\n",
       "\n",
       "  /**\n",
       "   * Render data to the DOM node\n",
       "   */\n",
       "  function render(props, node) {\n",
       "    var script = document.createElement(\"script\");\n",
       "    node.appendChild(script);\n",
       "  }\n",
       "\n",
       "  /**\n",
       "   * Handle when an output is cleared or removed\n",
       "   */\n",
       "  function handleClearOutput(event, handle) {\n",
       "    var cell = handle.cell;\n",
       "\n",
       "    var id = cell.output_area._bokeh_element_id;\n",
       "    var server_id = cell.output_area._bokeh_server_id;\n",
       "    // Clean up Bokeh references\n",
       "    if (id != null && id in Bokeh.index) {\n",
       "      Bokeh.index[id].model.document.clear();\n",
       "      delete Bokeh.index[id];\n",
       "    }\n",
       "\n",
       "    if (server_id !== undefined) {\n",
       "      // Clean up Bokeh references\n",
       "      var cmd = \"from bokeh.io.state import curstate; print(curstate().uuid_to_server['\" + server_id + \"'].get_sessions()[0].document.roots[0]._id)\";\n",
       "      cell.notebook.kernel.execute(cmd, {\n",
       "        iopub: {\n",
       "          output: function(msg) {\n",
       "            var id = msg.content.text.trim();\n",
       "            if (id in Bokeh.index) {\n",
       "              Bokeh.index[id].model.document.clear();\n",
       "              delete Bokeh.index[id];\n",
       "            }\n",
       "          }\n",
       "        }\n",
       "      });\n",
       "      // Destroy server and session\n",
       "      var cmd = \"import bokeh.io.notebook as ion; ion.destroy_server('\" + server_id + \"')\";\n",
       "      cell.notebook.kernel.execute(cmd);\n",
       "    }\n",
       "  }\n",
       "\n",
       "  /**\n",
       "   * Handle when a new output is added\n",
       "   */\n",
       "  function handleAddOutput(event, handle) {\n",
       "    var output_area = handle.output_area;\n",
       "    var output = handle.output;\n",
       "\n",
       "    // limit handleAddOutput to display_data with EXEC_MIME_TYPE content only\n",
       "    if ((output.output_type != \"display_data\") || (!output.data.hasOwnProperty(EXEC_MIME_TYPE))) {\n",
       "      return\n",
       "    }\n",
       "\n",
       "    var toinsert = output_area.element.find(\".\" + CLASS_NAME.split(' ')[0]);\n",
       "\n",
       "    if (output.metadata[EXEC_MIME_TYPE][\"id\"] !== undefined) {\n",
       "      toinsert[toinsert.length - 1].firstChild.textContent = output.data[JS_MIME_TYPE];\n",
       "      // store reference to embed id on output_area\n",
       "      output_area._bokeh_element_id = output.metadata[EXEC_MIME_TYPE][\"id\"];\n",
       "    }\n",
       "    if (output.metadata[EXEC_MIME_TYPE][\"server_id\"] !== undefined) {\n",
       "      var bk_div = document.createElement(\"div\");\n",
       "      bk_div.innerHTML = output.data[HTML_MIME_TYPE];\n",
       "      var script_attrs = bk_div.children[0].attributes;\n",
       "      for (var i = 0; i < script_attrs.length; i++) {\n",
       "        toinsert[toinsert.length - 1].firstChild.setAttribute(script_attrs[i].name, script_attrs[i].value);\n",
       "      }\n",
       "      // store reference to server id on output_area\n",
       "      output_area._bokeh_server_id = output.metadata[EXEC_MIME_TYPE][\"server_id\"];\n",
       "    }\n",
       "  }\n",
       "\n",
       "  function register_renderer(events, OutputArea) {\n",
       "\n",
       "    function append_mime(data, metadata, element) {\n",
       "      // create a DOM node to render to\n",
       "      var toinsert = this.create_output_subarea(\n",
       "        metadata,\n",
       "        CLASS_NAME,\n",
       "        EXEC_MIME_TYPE\n",
       "      );\n",
       "      this.keyboard_manager.register_events(toinsert);\n",
       "      // Render to node\n",
       "      var props = {data: data, metadata: metadata[EXEC_MIME_TYPE]};\n",
       "      render(props, toinsert[toinsert.length - 1]);\n",
       "      element.append(toinsert);\n",
       "      return toinsert\n",
       "    }\n",
       "\n",
       "    /* Handle when an output is cleared or removed */\n",
       "    events.on('clear_output.CodeCell', handleClearOutput);\n",
       "    events.on('delete.Cell', handleClearOutput);\n",
       "\n",
       "    /* Handle when a new output is added */\n",
       "    events.on('output_added.OutputArea', handleAddOutput);\n",
       "\n",
       "    /**\n",
       "     * Register the mime type and append_mime function with output_area\n",
       "     */\n",
       "    OutputArea.prototype.register_mime_type(EXEC_MIME_TYPE, append_mime, {\n",
       "      /* Is output safe? */\n",
       "      safe: true,\n",
       "      /* Index of renderer in `output_area.display_order` */\n",
       "      index: 0\n",
       "    });\n",
       "  }\n",
       "\n",
       "  // register the mime type if in Jupyter Notebook environment and previously unregistered\n",
       "  if (root.Jupyter !== undefined) {\n",
       "    var events = require('base/js/events');\n",
       "    var OutputArea = require('notebook/js/outputarea').OutputArea;\n",
       "\n",
       "    if (OutputArea.prototype.mime_types().indexOf(EXEC_MIME_TYPE) == -1) {\n",
       "      register_renderer(events, OutputArea);\n",
       "    }\n",
       "  }\n",
       "\n",
       "  \n",
       "  if (typeof (root._bokeh_timeout) === \"undefined\" || force === true) {\n",
       "    root._bokeh_timeout = Date.now() + 5000;\n",
       "    root._bokeh_failed_load = false;\n",
       "  }\n",
       "\n",
       "  var NB_LOAD_WARNING = {'data': {'text/html':\n",
       "     \"<div style='background-color: #fdd'>\\n\"+\n",
       "     \"<p>\\n\"+\n",
       "     \"BokehJS does not appear to have successfully loaded. If loading BokehJS from CDN, this \\n\"+\n",
       "     \"may be due to a slow or bad network connection. Possible fixes:\\n\"+\n",
       "     \"</p>\\n\"+\n",
       "     \"<ul>\\n\"+\n",
       "     \"<li>re-rerun `output_notebook()` to attempt to load from CDN again, or</li>\\n\"+\n",
       "     \"<li>use INLINE resources instead, as so:</li>\\n\"+\n",
       "     \"</ul>\\n\"+\n",
       "     \"<code>\\n\"+\n",
       "     \"from bokeh.resources import INLINE\\n\"+\n",
       "     \"output_notebook(resources=INLINE)\\n\"+\n",
       "     \"</code>\\n\"+\n",
       "     \"</div>\"}};\n",
       "\n",
       "  function display_loaded() {\n",
       "    var el = document.getElementById(\"1001\");\n",
       "    if (el != null) {\n",
       "      el.textContent = \"BokehJS is loading...\";\n",
       "    }\n",
       "    if (root.Bokeh !== undefined) {\n",
       "      if (el != null) {\n",
       "        el.textContent = \"BokehJS \" + root.Bokeh.version + \" successfully loaded.\";\n",
       "      }\n",
       "    } else if (Date.now() < root._bokeh_timeout) {\n",
       "      setTimeout(display_loaded, 100)\n",
       "    }\n",
       "  }\n",
       "\n",
       "\n",
       "  function run_callbacks() {\n",
       "    try {\n",
       "      root._bokeh_onload_callbacks.forEach(function(callback) {\n",
       "        if (callback != null)\n",
       "          callback();\n",
       "      });\n",
       "    } finally {\n",
       "      delete root._bokeh_onload_callbacks\n",
       "    }\n",
       "    console.debug(\"Bokeh: all callbacks have finished\");\n",
       "  }\n",
       "\n",
       "  function load_libs(css_urls, js_urls, callback) {\n",
       "    if (css_urls == null) css_urls = [];\n",
       "    if (js_urls == null) js_urls = [];\n",
       "\n",
       "    root._bokeh_onload_callbacks.push(callback);\n",
       "    if (root._bokeh_is_loading > 0) {\n",
       "      console.debug(\"Bokeh: BokehJS is being loaded, scheduling callback at\", now());\n",
       "      return null;\n",
       "    }\n",
       "    if (js_urls == null || js_urls.length === 0) {\n",
       "      run_callbacks();\n",
       "      return null;\n",
       "    }\n",
       "    console.debug(\"Bokeh: BokehJS not loaded, scheduling load and callback at\", now());\n",
       "    root._bokeh_is_loading = css_urls.length + js_urls.length;\n",
       "\n",
       "    function on_load() {\n",
       "      root._bokeh_is_loading--;\n",
       "      if (root._bokeh_is_loading === 0) {\n",
       "        console.debug(\"Bokeh: all BokehJS libraries/stylesheets loaded\");\n",
       "        run_callbacks()\n",
       "      }\n",
       "    }\n",
       "\n",
       "    function on_error() {\n",
       "      console.error(\"failed to load \" + url);\n",
       "    }\n",
       "\n",
       "    for (var i = 0; i < css_urls.length; i++) {\n",
       "      var url = css_urls[i];\n",
       "      const element = document.createElement(\"link\");\n",
       "      element.onload = on_load;\n",
       "      element.onerror = on_error;\n",
       "      element.rel = \"stylesheet\";\n",
       "      element.type = \"text/css\";\n",
       "      element.href = url;\n",
       "      console.debug(\"Bokeh: injecting link tag for BokehJS stylesheet: \", url);\n",
       "      document.body.appendChild(element);\n",
       "    }\n",
       "\n",
       "    for (var i = 0; i < js_urls.length; i++) {\n",
       "      var url = js_urls[i];\n",
       "      var element = document.createElement('script');\n",
       "      element.onload = on_load;\n",
       "      element.onerror = on_error;\n",
       "      element.async = false;\n",
       "      element.src = url;\n",
       "      console.debug(\"Bokeh: injecting script tag for BokehJS library: \", url);\n",
       "      document.head.appendChild(element);\n",
       "    }\n",
       "  };var element = document.getElementById(\"1001\");\n",
       "  if (element == null) {\n",
       "    console.error(\"Bokeh: ERROR: autoload.js configured with elementid '1001' but no matching script tag was found. \")\n",
       "    return false;\n",
       "  }\n",
       "\n",
       "  function inject_raw_css(css) {\n",
       "    const element = document.createElement(\"style\");\n",
       "    element.appendChild(document.createTextNode(css));\n",
       "    document.body.appendChild(element);\n",
       "  }\n",
       "\n",
       "  var js_urls = [\"https://cdn.pydata.org/bokeh/release/bokeh-1.3.4.min.js\", \"https://cdn.pydata.org/bokeh/release/bokeh-widgets-1.3.4.min.js\", \"https://cdn.pydata.org/bokeh/release/bokeh-tables-1.3.4.min.js\", \"https://cdn.pydata.org/bokeh/release/bokeh-gl-1.3.4.min.js\"];\n",
       "  var css_urls = [];\n",
       "\n",
       "  var inline_js = [\n",
       "    function(Bokeh) {\n",
       "      Bokeh.set_log_level(\"info\");\n",
       "    },\n",
       "    \n",
       "    function(Bokeh) {\n",
       "      \n",
       "    },\n",
       "    function(Bokeh) {} // ensure no trailing comma for IE\n",
       "  ];\n",
       "\n",
       "  function run_inline_js() {\n",
       "    \n",
       "    if ((root.Bokeh !== undefined) || (force === true)) {\n",
       "      for (var i = 0; i < inline_js.length; i++) {\n",
       "        inline_js[i].call(root, root.Bokeh);\n",
       "      }if (force === true) {\n",
       "        display_loaded();\n",
       "      }} else if (Date.now() < root._bokeh_timeout) {\n",
       "      setTimeout(run_inline_js, 100);\n",
       "    } else if (!root._bokeh_failed_load) {\n",
       "      console.log(\"Bokeh: BokehJS failed to load within specified timeout.\");\n",
       "      root._bokeh_failed_load = true;\n",
       "    } else if (force !== true) {\n",
       "      var cell = $(document.getElementById(\"1001\")).parents('.cell').data().cell;\n",
       "      cell.output_area.append_execute_result(NB_LOAD_WARNING)\n",
       "    }\n",
       "\n",
       "  }\n",
       "\n",
       "  if (root._bokeh_is_loading === 0) {\n",
       "    console.debug(\"Bokeh: BokehJS loaded, going straight to plotting\");\n",
       "    run_inline_js();\n",
       "  } else {\n",
       "    load_libs(css_urls, js_urls, function() {\n",
       "      console.debug(\"Bokeh: BokehJS plotting callback run at\", now());\n",
       "      run_inline_js();\n",
       "    });\n",
       "  }\n",
       "}(window));"
      ],
      "application/vnd.bokehjs_load.v0+json": "\n(function(root) {\n  function now() {\n    return new Date();\n  }\n\n  var force = true;\n\n  if (typeof root._bokeh_onload_callbacks === \"undefined\" || force === true) {\n    root._bokeh_onload_callbacks = [];\n    root._bokeh_is_loading = undefined;\n  }\n\n  \n\n  \n  if (typeof (root._bokeh_timeout) === \"undefined\" || force === true) {\n    root._bokeh_timeout = Date.now() + 5000;\n    root._bokeh_failed_load = false;\n  }\n\n  var NB_LOAD_WARNING = {'data': {'text/html':\n     \"<div style='background-color: #fdd'>\\n\"+\n     \"<p>\\n\"+\n     \"BokehJS does not appear to have successfully loaded. If loading BokehJS from CDN, this \\n\"+\n     \"may be due to a slow or bad network connection. Possible fixes:\\n\"+\n     \"</p>\\n\"+\n     \"<ul>\\n\"+\n     \"<li>re-rerun `output_notebook()` to attempt to load from CDN again, or</li>\\n\"+\n     \"<li>use INLINE resources instead, as so:</li>\\n\"+\n     \"</ul>\\n\"+\n     \"<code>\\n\"+\n     \"from bokeh.resources import INLINE\\n\"+\n     \"output_notebook(resources=INLINE)\\n\"+\n     \"</code>\\n\"+\n     \"</div>\"}};\n\n  function display_loaded() {\n    var el = document.getElementById(\"1001\");\n    if (el != null) {\n      el.textContent = \"BokehJS is loading...\";\n    }\n    if (root.Bokeh !== undefined) {\n      if (el != null) {\n        el.textContent = \"BokehJS \" + root.Bokeh.version + \" successfully loaded.\";\n      }\n    } else if (Date.now() < root._bokeh_timeout) {\n      setTimeout(display_loaded, 100)\n    }\n  }\n\n\n  function run_callbacks() {\n    try {\n      root._bokeh_onload_callbacks.forEach(function(callback) {\n        if (callback != null)\n          callback();\n      });\n    } finally {\n      delete root._bokeh_onload_callbacks\n    }\n    console.debug(\"Bokeh: all callbacks have finished\");\n  }\n\n  function load_libs(css_urls, js_urls, callback) {\n    if (css_urls == null) css_urls = [];\n    if (js_urls == null) js_urls = [];\n\n    root._bokeh_onload_callbacks.push(callback);\n    if (root._bokeh_is_loading > 0) {\n      console.debug(\"Bokeh: BokehJS is being loaded, scheduling callback at\", now());\n      return null;\n    }\n    if (js_urls == null || js_urls.length === 0) {\n      run_callbacks();\n      return null;\n    }\n    console.debug(\"Bokeh: BokehJS not loaded, scheduling load and callback at\", now());\n    root._bokeh_is_loading = css_urls.length + js_urls.length;\n\n    function on_load() {\n      root._bokeh_is_loading--;\n      if (root._bokeh_is_loading === 0) {\n        console.debug(\"Bokeh: all BokehJS libraries/stylesheets loaded\");\n        run_callbacks()\n      }\n    }\n\n    function on_error() {\n      console.error(\"failed to load \" + url);\n    }\n\n    for (var i = 0; i < css_urls.length; i++) {\n      var url = css_urls[i];\n      const element = document.createElement(\"link\");\n      element.onload = on_load;\n      element.onerror = on_error;\n      element.rel = \"stylesheet\";\n      element.type = \"text/css\";\n      element.href = url;\n      console.debug(\"Bokeh: injecting link tag for BokehJS stylesheet: \", url);\n      document.body.appendChild(element);\n    }\n\n    for (var i = 0; i < js_urls.length; i++) {\n      var url = js_urls[i];\n      var element = document.createElement('script');\n      element.onload = on_load;\n      element.onerror = on_error;\n      element.async = false;\n      element.src = url;\n      console.debug(\"Bokeh: injecting script tag for BokehJS library: \", url);\n      document.head.appendChild(element);\n    }\n  };var element = document.getElementById(\"1001\");\n  if (element == null) {\n    console.error(\"Bokeh: ERROR: autoload.js configured with elementid '1001' but no matching script tag was found. \")\n    return false;\n  }\n\n  function inject_raw_css(css) {\n    const element = document.createElement(\"style\");\n    element.appendChild(document.createTextNode(css));\n    document.body.appendChild(element);\n  }\n\n  var js_urls = [\"https://cdn.pydata.org/bokeh/release/bokeh-1.3.4.min.js\", \"https://cdn.pydata.org/bokeh/release/bokeh-widgets-1.3.4.min.js\", \"https://cdn.pydata.org/bokeh/release/bokeh-tables-1.3.4.min.js\", \"https://cdn.pydata.org/bokeh/release/bokeh-gl-1.3.4.min.js\"];\n  var css_urls = [];\n\n  var inline_js = [\n    function(Bokeh) {\n      Bokeh.set_log_level(\"info\");\n    },\n    \n    function(Bokeh) {\n      \n    },\n    function(Bokeh) {} // ensure no trailing comma for IE\n  ];\n\n  function run_inline_js() {\n    \n    if ((root.Bokeh !== undefined) || (force === true)) {\n      for (var i = 0; i < inline_js.length; i++) {\n        inline_js[i].call(root, root.Bokeh);\n      }if (force === true) {\n        display_loaded();\n      }} else if (Date.now() < root._bokeh_timeout) {\n      setTimeout(run_inline_js, 100);\n    } else if (!root._bokeh_failed_load) {\n      console.log(\"Bokeh: BokehJS failed to load within specified timeout.\");\n      root._bokeh_failed_load = true;\n    } else if (force !== true) {\n      var cell = $(document.getElementById(\"1001\")).parents('.cell').data().cell;\n      cell.output_area.append_execute_result(NB_LOAD_WARNING)\n    }\n\n  }\n\n  if (root._bokeh_is_loading === 0) {\n    console.debug(\"Bokeh: BokehJS loaded, going straight to plotting\");\n    run_inline_js();\n  } else {\n    load_libs(css_urls, js_urls, function() {\n      console.debug(\"Bokeh: BokehJS plotting callback run at\", now());\n      run_inline_js();\n    });\n  }\n}(window));"
     },
     "metadata": {},
     "output_type": "display_data"
    }
   ],
   "source": [
    "import numpy as np\n",
    "import pandas as pd\n",
    "import re\n",
    "\n",
    "import matplotlib.pyplot as plt\n",
    "\n",
    "import seaborn as sns\n",
    "\n",
    "from bokeh.plotting import figure\n",
    "\n",
    "from bokeh.layouts import layout\n",
    "from bokeh.layouts import widgetbox\n",
    "\n",
    "from bokeh.embed import file_html\n",
    "\n",
    "from bokeh.io import show\n",
    "from bokeh.io import output_notebook\n",
    "output_notebook()\n",
    "\n",
    "from bokeh.models import Text\n",
    "from bokeh.models import Plot\n",
    "from bokeh.models import Slider\n",
    "from bokeh.models import Circle\n",
    "from bokeh.models import Range1d\n",
    "from bokeh.models import CustomJS\n",
    "from bokeh.models import HoverTool\n",
    "from bokeh.models import LinearAxis\n",
    "from bokeh.models import FactorRange\n",
    "from bokeh.models import ColumnDataSource\n",
    "from bokeh.models import SingleIntervalTicker\n",
    "\n",
    "from bokeh.transform import factor_cmap\n",
    "\n",
    "from bokeh.palettes import Spectral6"
   ]
  },
  {
   "cell_type": "code",
   "execution_count": 2,
   "metadata": {
    "scrolled": true
   },
   "outputs": [
    {
     "data": {
      "text/html": [
       "<div>\n",
       "<style scoped>\n",
       "    .dataframe tbody tr th:only-of-type {\n",
       "        vertical-align: middle;\n",
       "    }\n",
       "\n",
       "    .dataframe tbody tr th {\n",
       "        vertical-align: top;\n",
       "    }\n",
       "\n",
       "    .dataframe thead th {\n",
       "        text-align: right;\n",
       "    }\n",
       "</style>\n",
       "<table border=\"1\" class=\"dataframe\">\n",
       "  <thead>\n",
       "    <tr style=\"text-align: right;\">\n",
       "      <th></th>\n",
       "      <th>ID</th>\n",
       "      <th>Name</th>\n",
       "      <th>Sex</th>\n",
       "      <th>Age</th>\n",
       "      <th>Height</th>\n",
       "      <th>Weight</th>\n",
       "      <th>Team</th>\n",
       "      <th>NOC</th>\n",
       "      <th>Games</th>\n",
       "      <th>Year</th>\n",
       "      <th>Season</th>\n",
       "      <th>City</th>\n",
       "      <th>Sport</th>\n",
       "      <th>Event</th>\n",
       "      <th>Medal</th>\n",
       "    </tr>\n",
       "  </thead>\n",
       "  <tbody>\n",
       "    <tr>\n",
       "      <td>0</td>\n",
       "      <td>1</td>\n",
       "      <td>A Dijiang</td>\n",
       "      <td>M</td>\n",
       "      <td>24.0</td>\n",
       "      <td>180.0</td>\n",
       "      <td>80.0</td>\n",
       "      <td>China</td>\n",
       "      <td>CHN</td>\n",
       "      <td>1992 Summer</td>\n",
       "      <td>1992</td>\n",
       "      <td>Summer</td>\n",
       "      <td>Barcelona</td>\n",
       "      <td>Basketball</td>\n",
       "      <td>Basketball Men's Basketball</td>\n",
       "      <td>NaN</td>\n",
       "    </tr>\n",
       "    <tr>\n",
       "      <td>1</td>\n",
       "      <td>2</td>\n",
       "      <td>A Lamusi</td>\n",
       "      <td>M</td>\n",
       "      <td>23.0</td>\n",
       "      <td>170.0</td>\n",
       "      <td>60.0</td>\n",
       "      <td>China</td>\n",
       "      <td>CHN</td>\n",
       "      <td>2012 Summer</td>\n",
       "      <td>2012</td>\n",
       "      <td>Summer</td>\n",
       "      <td>London</td>\n",
       "      <td>Judo</td>\n",
       "      <td>Judo Men's Extra-Lightweight</td>\n",
       "      <td>NaN</td>\n",
       "    </tr>\n",
       "    <tr>\n",
       "      <td>2</td>\n",
       "      <td>3</td>\n",
       "      <td>Gunnar Nielsen Aaby</td>\n",
       "      <td>M</td>\n",
       "      <td>24.0</td>\n",
       "      <td>NaN</td>\n",
       "      <td>NaN</td>\n",
       "      <td>Denmark</td>\n",
       "      <td>DEN</td>\n",
       "      <td>1920 Summer</td>\n",
       "      <td>1920</td>\n",
       "      <td>Summer</td>\n",
       "      <td>Antwerpen</td>\n",
       "      <td>Football</td>\n",
       "      <td>Football Men's Football</td>\n",
       "      <td>NaN</td>\n",
       "    </tr>\n",
       "    <tr>\n",
       "      <td>3</td>\n",
       "      <td>4</td>\n",
       "      <td>Edgar Lindenau Aabye</td>\n",
       "      <td>M</td>\n",
       "      <td>34.0</td>\n",
       "      <td>NaN</td>\n",
       "      <td>NaN</td>\n",
       "      <td>Denmark/Sweden</td>\n",
       "      <td>DEN</td>\n",
       "      <td>1900 Summer</td>\n",
       "      <td>1900</td>\n",
       "      <td>Summer</td>\n",
       "      <td>Paris</td>\n",
       "      <td>Tug-Of-War</td>\n",
       "      <td>Tug-Of-War Men's Tug-Of-War</td>\n",
       "      <td>Gold</td>\n",
       "    </tr>\n",
       "    <tr>\n",
       "      <td>4</td>\n",
       "      <td>5</td>\n",
       "      <td>Christine Jacoba Aaftink</td>\n",
       "      <td>F</td>\n",
       "      <td>21.0</td>\n",
       "      <td>185.0</td>\n",
       "      <td>82.0</td>\n",
       "      <td>Netherlands</td>\n",
       "      <td>NED</td>\n",
       "      <td>1988 Winter</td>\n",
       "      <td>1988</td>\n",
       "      <td>Winter</td>\n",
       "      <td>Calgary</td>\n",
       "      <td>Speed Skating</td>\n",
       "      <td>Speed Skating Women's 500 metres</td>\n",
       "      <td>NaN</td>\n",
       "    </tr>\n",
       "  </tbody>\n",
       "</table>\n",
       "</div>"
      ],
      "text/plain": [
       "   ID                      Name Sex   Age  Height  Weight            Team  \\\n",
       "0   1                 A Dijiang   M  24.0   180.0    80.0           China   \n",
       "1   2                  A Lamusi   M  23.0   170.0    60.0           China   \n",
       "2   3       Gunnar Nielsen Aaby   M  24.0     NaN     NaN         Denmark   \n",
       "3   4      Edgar Lindenau Aabye   M  34.0     NaN     NaN  Denmark/Sweden   \n",
       "4   5  Christine Jacoba Aaftink   F  21.0   185.0    82.0     Netherlands   \n",
       "\n",
       "   NOC        Games  Year  Season       City          Sport  \\\n",
       "0  CHN  1992 Summer  1992  Summer  Barcelona     Basketball   \n",
       "1  CHN  2012 Summer  2012  Summer     London           Judo   \n",
       "2  DEN  1920 Summer  1920  Summer  Antwerpen       Football   \n",
       "3  DEN  1900 Summer  1900  Summer      Paris     Tug-Of-War   \n",
       "4  NED  1988 Winter  1988  Winter    Calgary  Speed Skating   \n",
       "\n",
       "                              Event Medal  \n",
       "0       Basketball Men's Basketball   NaN  \n",
       "1      Judo Men's Extra-Lightweight   NaN  \n",
       "2           Football Men's Football   NaN  \n",
       "3       Tug-Of-War Men's Tug-Of-War  Gold  \n",
       "4  Speed Skating Women's 500 metres   NaN  "
      ]
     },
     "execution_count": 2,
     "metadata": {},
     "output_type": "execute_result"
    }
   ],
   "source": [
    "olympics = olympics = pd.read_csv('athlete_events.csv')\n",
    "olympics.head()"
   ]
  },
  {
   "cell_type": "markdown",
   "metadata": {},
   "source": [
    "## Question 1: How many medals were won by North American teams (US 🇺🇸, Canada 🇨🇦 , and Mexico 🇲🇽 ) from 2000 - 2016? How do those teams compare to each other in terms of medals won?"
   ]
  },
  {
   "cell_type": "markdown",
   "metadata": {},
   "source": [
    "#### Get the data into the right format:"
   ]
  },
  {
   "cell_type": "code",
   "execution_count": 3,
   "metadata": {},
   "outputs": [],
   "source": [
    "q1o = olympics.copy()"
   ]
  },
  {
   "cell_type": "code",
   "execution_count": 4,
   "metadata": {},
   "outputs": [],
   "source": [
    "# only want to see data from these three countries, in this time period\n",
    "\n",
    "# data from only this time period\n",
    "q1o = q1o[q1o.Year >= 2000]\n",
    "q1o = q1o[q1o.Year <= 2016]\n",
    "\n",
    "# data from only these countries\n",
    "q1o = q1o[(q1o.Team == 'United States') | (q1o.Team == 'Canada') | (q1o.Team == 'Mexico')]"
   ]
  },
  {
   "cell_type": "code",
   "execution_count": 5,
   "metadata": {},
   "outputs": [
    {
     "name": "stdout",
     "output_type": "stream",
     "text": [
      "Medals won by U.S. from 2000-2015: 1561\n",
      "Medals won by Canada from 2000-2015: 508\n",
      "Medals won by Mexico from 2000-2015: 43\n"
     ]
    }
   ],
   "source": [
    "# we will want to break this data up into the amount of medals won by each country, let's worry about the years later\n",
    "us = q1o[(q1o.Team == 'United States')]\n",
    "us = us.dropna(subset=['Medal'])\n",
    "us_meds = us.Medal.count()\n",
    "\n",
    "ca = q1o[(q1o.Team == 'Canada')]\n",
    "ca = ca.dropna(subset=['Medal'])\n",
    "ca_meds = ca.Medal.count()\n",
    "\n",
    "mx = q1o[(q1o.Team == 'Mexico')]\n",
    "mx = mx.dropna(subset=['Medal'])\n",
    "mx_meds = mx.Medal.count()\n",
    "\n",
    "print('Medals won by U.S. from 2000-2015: ' + str(us_meds))\n",
    "print('Medals won by Canada from 2000-2015: ' + str(ca_meds))\n",
    "print('Medals won by Mexico from 2000-2015: ' + str(mx_meds))"
   ]
  },
  {
   "cell_type": "markdown",
   "metadata": {},
   "source": [
    "#### Let's visualize this with a heatmap!"
   ]
  },
  {
   "cell_type": "code",
   "execution_count": 6,
   "metadata": {},
   "outputs": [
    {
     "data": {
      "text/plain": [
       "[[240, 70, 259, 48, 309, 89, 238, 52, 256],\n",
       " [31, 72, 17, 67, 35, 80, 55, 82, 69],\n",
       " [6, 0, 4, 0, 4, 0, 24, 0, 5]]"
      ]
     },
     "execution_count": 6,
     "metadata": {},
     "output_type": "execute_result"
    }
   ],
   "source": [
    "# to make this work for a heatmap, want to get a list of lists, where the inner lists represent the countries, \n",
    "# and are filled with how many medals they wone each from from 2000-2016\n",
    "\n",
    "# note that the olympics only happen every other year (counting winter and regular), so we will account for that\n",
    "\n",
    "# to start, I will initialize an list of lists full of 0's, because we know the size\n",
    "heat_list = [[0, 0, 0, 0, 0, 0, 0, 0, 0], [0, 0, 0, 0, 0, 0, 0, 0, 0], [0, 0, 0, 0, 0, 0, 0, 0, 0]]\n",
    "\n",
    "# next we will fill each list with the right medal counts - this is pythonic, bear with me\n",
    "year = 2000\n",
    "\n",
    "# for the US\n",
    "for i in range(9):\n",
    "    year = 2000 + i*2\n",
    "    us_meds_year = us[us.Year == year]\n",
    "    us_meds_year_count = us_meds_year.Medal.count()\n",
    "    heat_list[0][i] = us_meds_year_count\n",
    "    \n",
    "# for Canada\n",
    "for i in range(9):\n",
    "    year = 2000 + i*2\n",
    "    ca_meds_year = ca[ca.Year == year]\n",
    "    ca_meds_year_count = ca_meds_year.Medal.count()\n",
    "    heat_list[1][i] = ca_meds_year_count\n",
    "    \n",
    "# for Mexico\n",
    "for i in range(9):\n",
    "    year = 2000 + i*2\n",
    "    mx_meds_year = mx[mx.Year == year]\n",
    "    mx_meds_year_count = mx_meds_year.Medal.count()\n",
    "    heat_list[2][i] = mx_meds_year_count\n",
    "\n",
    "heat_list"
   ]
  },
  {
   "cell_type": "code",
   "execution_count": 7,
   "metadata": {
    "scrolled": true
   },
   "outputs": [
    {
     "data": {
      "image/png": "[encoded data removed]",
      "text/plain": [
       "<Figure size 1152x360 with 2 Axes>"
      ]
     },
     "metadata": {
      "needs_background": "light"
     },
     "output_type": "display_data"
    }
   ],
   "source": [
    "plt.figure(figsize = (16,5))\n",
    "x_labels = [2000, 2002, 2004, 2006, 2008, 2010, 2012, 2014, 2016]\n",
    "y_labels = ['USA', 'CAN', 'MEX']\n",
    "heat_map = sns.heatmap(heat_list, xticklabels=x_labels, yticklabels=y_labels, annot=True, annot_kws={\"size\": 15}, fmt='g', linewidths=.5, cbar_kws={'label': 'Number of Medals Won', 'orientation': 'horizontal'})\n",
    "plt.xlabel(\"Years\")\n",
    "plt.ylabel(\"Country\")\n",
    "plt.title('Amount of Medals Won by North American Teams from 2000-2016')\n",
    "heat_map.set_yticklabels(heat_map.get_yticklabels(), rotation=0)\n",
    "plt.show()"
   ]
  },
  {
   "cell_type": "markdown",
   "metadata": {},
   "source": [
    "#### This visualization shows us how many medals were won by each North American country each year, and how those teams compared against each other. We can see that while the US often dominates in the Summer Olympics, they are much more evenly matched with Canada (and even outdone by them) in the Winter Olympics. Mexico remains a non-competitive force against the US and Canada, but had a great games for themselves in 2012."
   ]
  },
  {
   "cell_type": "markdown",
   "metadata": {},
   "source": [
    "#### Let's visualize it a little differently with a bar graph."
   ]
  },
  {
   "cell_type": "code",
   "execution_count": 8,
   "metadata": {
    "scrolled": true
   },
   "outputs": [
    {
     "data": {
      "text/html": [
       "\n",
       "\n",
       "\n",
       "\n",
       "\n",
       "\n",
       "  <div class=\"bk-root\" id=\"eba4f30a-0ac4-4053-ae13-3ff33a7cb4ed\" data-root-id=\"1004\"></div>\n"
      ]
     },
     "metadata": {},
     "output_type": "display_data"
    },
    {
     "data": {
      "application/javascript": [
       "(function(root) {\n",
       "  function embed_document(root) {\n",
       "    \n",
       "  var docs_json = {\"1e279acf-3732-40e8-b86c-eb3b5a99fbc3\":{\"roots\":{\"references\":[{\"attributes\":{\"below\":[{\"id\":\"1014\",\"type\":\"CategoricalAxis\"}],\"center\":[{\"id\":\"1017\",\"type\":\"Grid\"},{\"id\":\"1022\",\"type\":\"Grid\"}],\"left\":[{\"id\":\"1018\",\"type\":\"LinearAxis\"}],\"plot_height\":300,\"plot_width\":900,\"renderers\":[{\"id\":\"1040\",\"type\":\"GlyphRenderer\"}],\"title\":{\"id\":\"1005\",\"type\":\"Title\"},\"toolbar\":{\"id\":\"1029\",\"type\":\"Toolbar\"},\"x_range\":{\"id\":\"1003\",\"type\":\"FactorRange\"},\"x_scale\":{\"id\":\"1010\",\"type\":\"CategoricalScale\"},\"y_range\":{\"id\":\"1008\",\"type\":\"DataRange1d\"},\"y_scale\":{\"id\":\"1012\",\"type\":\"LinearScale\"}},\"id\":\"1004\",\"subtype\":\"Figure\",\"type\":\"Plot\"},{\"attributes\":{\"callback\":null,\"start\":0},\"id\":\"1008\",\"type\":\"DataRange1d\"},{\"attributes\":{},\"id\":\"1026\",\"type\":\"SaveTool\"},{\"attributes\":{\"data_source\":{\"id\":\"1002\",\"type\":\"ColumnDataSource\"},\"glyph\":{\"id\":\"1038\",\"type\":\"VBar\"},\"hover_glyph\":null,\"muted_glyph\":null,\"nonselection_glyph\":{\"id\":\"1039\",\"type\":\"VBar\"},\"selection_glyph\":null,\"view\":{\"id\":\"1041\",\"type\":\"CDSView\"}},\"id\":\"1040\",\"type\":\"GlyphRenderer\"},{\"attributes\":{},\"id\":\"1027\",\"type\":\"ResetTool\"},{\"attributes\":{},\"id\":\"1028\",\"type\":\"HelpTool\"},{\"attributes\":{},\"id\":\"1010\",\"type\":\"CategoricalScale\"},{\"attributes\":{},\"id\":\"1012\",\"type\":\"LinearScale\"},{\"attributes\":{\"axis_label\":\"Years\",\"formatter\":{\"id\":\"1045\",\"type\":\"CategoricalTickFormatter\"},\"major_label_orientation\":1,\"ticker\":{\"id\":\"1015\",\"type\":\"CategoricalTicker\"}},\"id\":\"1014\",\"type\":\"CategoricalAxis\"},{\"attributes\":{},\"id\":\"1019\",\"type\":\"BasicTicker\"},{\"attributes\":{},\"id\":\"1015\",\"type\":\"CategoricalTicker\"},{\"attributes\":{\"source\":{\"id\":\"1002\",\"type\":\"ColumnDataSource\"}},\"id\":\"1041\",\"type\":\"CDSView\"},{\"attributes\":{\"grid_line_color\":null,\"ticker\":{\"id\":\"1015\",\"type\":\"CategoricalTicker\"}},\"id\":\"1017\",\"type\":\"Grid\"},{\"attributes\":{},\"id\":\"1043\",\"type\":\"BasicTickFormatter\"},{\"attributes\":{},\"id\":\"1048\",\"type\":\"UnionRenderers\"},{\"attributes\":{\"active_drag\":\"auto\",\"active_inspect\":\"auto\",\"active_multi\":null,\"active_scroll\":\"auto\",\"active_tap\":\"auto\",\"tools\":[{\"id\":\"1023\",\"type\":\"PanTool\"},{\"id\":\"1024\",\"type\":\"WheelZoomTool\"},{\"id\":\"1025\",\"type\":\"BoxZoomTool\"},{\"id\":\"1026\",\"type\":\"SaveTool\"},{\"id\":\"1027\",\"type\":\"ResetTool\"},{\"id\":\"1028\",\"type\":\"HelpTool\"}]},\"id\":\"1029\",\"type\":\"Toolbar\"},{\"attributes\":{\"axis_label\":\"Number of Medals\",\"formatter\":{\"id\":\"1043\",\"type\":\"BasicTickFormatter\"},\"ticker\":{\"id\":\"1019\",\"type\":\"BasicTicker\"}},\"id\":\"1018\",\"type\":\"LinearAxis\"},{\"attributes\":{},\"id\":\"1045\",\"type\":\"CategoricalTickFormatter\"},{\"attributes\":{\"dimension\":1,\"ticker\":{\"id\":\"1019\",\"type\":\"BasicTicker\"}},\"id\":\"1022\",\"type\":\"Grid\"},{\"attributes\":{\"bottom_units\":\"screen\",\"fill_alpha\":{\"value\":0.5},\"fill_color\":{\"value\":\"lightgrey\"},\"left_units\":\"screen\",\"level\":\"overlay\",\"line_alpha\":{\"value\":1.0},\"line_color\":{\"value\":\"black\"},\"line_dash\":[4,4],\"line_width\":{\"value\":2},\"render_mode\":\"css\",\"right_units\":\"screen\",\"top_units\":\"screen\"},\"id\":\"1047\",\"type\":\"BoxAnnotation\"},{\"attributes\":{\"fill_color\":{\"field\":\"x\",\"transform\":{\"id\":\"1036\",\"type\":\"CategoricalColorMapper\"}},\"line_color\":{\"value\":\"white\"},\"top\":{\"field\":\"counts\"},\"width\":{\"value\":0.9},\"x\":{\"field\":\"x\"}},\"id\":\"1038\",\"type\":\"VBar\"},{\"attributes\":{},\"id\":\"1049\",\"type\":\"Selection\"},{\"attributes\":{\"text\":\"Number of Medals Won by North American Teams from 2000-2016\"},\"id\":\"1005\",\"type\":\"Title\"},{\"attributes\":{\"callback\":null,\"data\":{\"counts\":[240,31,6,70,72,0,259,17,4,48,67,0,309,35,4,89,80,0,238,55,24,52,82,0,256,69,5],\"x\":[[\"2000\",\"USA\"],[\"2000\",\"CAN\"],[\"2000\",\"MEX\"],[\"2002\",\"USA\"],[\"2002\",\"CAN\"],[\"2002\",\"MEX\"],[\"2004\",\"USA\"],[\"2004\",\"CAN\"],[\"2004\",\"MEX\"],[\"2006\",\"USA\"],[\"2006\",\"CAN\"],[\"2006\",\"MEX\"],[\"2008\",\"USA\"],[\"2008\",\"CAN\"],[\"2008\",\"MEX\"],[\"2010\",\"USA\"],[\"2010\",\"CAN\"],[\"2010\",\"MEX\"],[\"2012\",\"USA\"],[\"2012\",\"CAN\"],[\"2012\",\"MEX\"],[\"2014\",\"USA\"],[\"2014\",\"CAN\"],[\"2014\",\"MEX\"],[\"2016\",\"USA\"],[\"2016\",\"CAN\"],[\"2016\",\"MEX\"]]},\"selected\":{\"id\":\"1049\",\"type\":\"Selection\"},\"selection_policy\":{\"id\":\"1048\",\"type\":\"UnionRenderers\"}},\"id\":\"1002\",\"type\":\"ColumnDataSource\"},{\"attributes\":{\"callback\":null,\"factors\":[[\"2000\",\"USA\"],[\"2000\",\"CAN\"],[\"2000\",\"MEX\"],[\"2002\",\"USA\"],[\"2002\",\"CAN\"],[\"2002\",\"MEX\"],[\"2004\",\"USA\"],[\"2004\",\"CAN\"],[\"2004\",\"MEX\"],[\"2006\",\"USA\"],[\"2006\",\"CAN\"],[\"2006\",\"MEX\"],[\"2008\",\"USA\"],[\"2008\",\"CAN\"],[\"2008\",\"MEX\"],[\"2010\",\"USA\"],[\"2010\",\"CAN\"],[\"2010\",\"MEX\"],[\"2012\",\"USA\"],[\"2012\",\"CAN\"],[\"2012\",\"MEX\"],[\"2014\",\"USA\"],[\"2014\",\"CAN\"],[\"2014\",\"MEX\"],[\"2016\",\"USA\"],[\"2016\",\"CAN\"],[\"2016\",\"MEX\"]],\"range_padding\":0.1},\"id\":\"1003\",\"type\":\"FactorRange\"},{\"attributes\":{\"fill_alpha\":{\"value\":0.1},\"fill_color\":{\"value\":\"#1f77b4\"},\"line_alpha\":{\"value\":0.1},\"line_color\":{\"value\":\"#1f77b4\"},\"top\":{\"field\":\"counts\"},\"width\":{\"value\":0.9},\"x\":{\"field\":\"x\"}},\"id\":\"1039\",\"type\":\"VBar\"},{\"attributes\":{\"end\":2,\"factors\":[\"USA\",\"CAN\",\"MEX\"],\"palette\":[\"tomato\",\"orange\",\"gold\"],\"start\":1},\"id\":\"1036\",\"type\":\"CategoricalColorMapper\"},{\"attributes\":{},\"id\":\"1023\",\"type\":\"PanTool\"},{\"attributes\":{},\"id\":\"1024\",\"type\":\"WheelZoomTool\"},{\"attributes\":{\"overlay\":{\"id\":\"1047\",\"type\":\"BoxAnnotation\"}},\"id\":\"1025\",\"type\":\"BoxZoomTool\"}],\"root_ids\":[\"1004\"]},\"title\":\"Bokeh Application\",\"version\":\"1.3.4\"}};\n",
       "  var render_items = [{\"docid\":\"1e279acf-3732-40e8-b86c-eb3b5a99fbc3\",\"roots\":{\"1004\":\"eba4f30a-0ac4-4053-ae13-3ff33a7cb4ed\"}}];\n",
       "  root.Bokeh.embed.embed_items_notebook(docs_json, render_items);\n",
       "\n",
       "  }\n",
       "  if (root.Bokeh !== undefined) {\n",
       "    embed_document(root);\n",
       "  } else {\n",
       "    var attempts = 0;\n",
       "    var timer = setInterval(function(root) {\n",
       "      if (root.Bokeh !== undefined) {\n",
       "        embed_document(root);\n",
       "        clearInterval(timer);\n",
       "      }\n",
       "      attempts++;\n",
       "      if (attempts > 100) {\n",
       "        console.log(\"Bokeh: ERROR: Unable to run BokehJS code because BokehJS library is missing\");\n",
       "        clearInterval(timer);\n",
       "      }\n",
       "    }, 10, root)\n",
       "  }\n",
       "})(window);"
      ],
      "application/vnd.bokehjs_exec.v0+json": ""
     },
     "metadata": {
      "application/vnd.bokehjs_exec.v0+json": {
       "id": "1004"
      }
     },
     "output_type": "display_data"
    }
   ],
   "source": [
    "years = ['2000', '2002', '2004', '2006', '2008', '2010', '2012', '2014', '2016']\n",
    "teams = ['USA', 'CAN', 'MEX']\n",
    "\n",
    "data = {'years': years,\n",
    "        'USA': [240, 70, 259, 48, 309, 89, 238, 52, 256],\n",
    "        'CAN': [31, 72, 17, 67, 35, 80, 55, 82, 69],\n",
    "        'MEX': [6, 0, 4, 0, 4, 0, 24, 0, 5]}\n",
    "\n",
    "x = [(year, team) for year in years for team in teams]\n",
    "counts = sum(zip(data['USA'], data['CAN'], data['MEX']), ())\n",
    "\n",
    "source = ColumnDataSource(data=dict(x=x, counts=counts))\n",
    "\n",
    "plot = figure(x_range=FactorRange(*x), plot_height=300, plot_width=900, title=\"Number of Medals Won by North American Teams from 2000-2016\")\n",
    "\n",
    "plot.vbar(x='x', top='counts', width=0.9, source=source, line_color=\"white\",\n",
    "\n",
    "       # use the palette to colormap based on the the x[1:2] values\n",
    "       fill_color=factor_cmap('x', palette=['tomato', 'orange', 'gold'], factors=teams, start=1, end=2))\n",
    "\n",
    "plot.y_range.start = 0\n",
    "plot.x_range.range_padding = 0.1\n",
    "plot.xaxis.major_label_orientation = 1\n",
    "plot.xgrid.grid_line_color = None\n",
    "\n",
    "plot.xaxis.axis_label = 'Years'\n",
    "plot.yaxis.axis_label = 'Number of Medals'\n",
    "\n",
    "show(plot)"
   ]
  },
  {
   "cell_type": "markdown",
   "metadata": {},
   "source": [
    "#### Revisualizing this same data in this way helps us look at a more direct comparison between the countries. With the height of the bar representing the amount of medals won, you can see how closely matched the US and Canada are during the Winter Olympics. Mexico is also not shown well on this graph, and that makes sense in this context, as they did not win many medals in this time frame."
   ]
  },
  {
   "cell_type": "markdown",
   "metadata": {},
   "source": [
    "## Question 2: Which athlete has won the most gold medals over this time period (2000-2016), and can we map their success? Let's compare the top two athletes and their records."
   ]
  },
  {
   "cell_type": "markdown",
   "metadata": {},
   "source": [
    "#### Get the data into the right format:"
   ]
  },
  {
   "cell_type": "code",
   "execution_count": 9,
   "metadata": {},
   "outputs": [],
   "source": [
    "q2o = olympics.copy()"
   ]
  },
  {
   "cell_type": "code",
   "execution_count": 10,
   "metadata": {},
   "outputs": [
    {
     "data": {
      "text/plain": [
       "Michael Fred Phelps, II    23\n",
       "Usain St. Leo Bolt          8\n",
       "Name: Name, dtype: int64"
      ]
     },
     "execution_count": 10,
     "metadata": {},
     "output_type": "execute_result"
    }
   ],
   "source": [
    "# data from only this time period\n",
    "q2o = q2o[q2o.Year >= 2000]\n",
    "q2o = q2o[q2o.Year <= 2016]\n",
    "\n",
    "# want to get just the people who have won gold medals\n",
    "gold = q2o[q2o.Medal == 'Gold']\n",
    "\n",
    "# want to group the rows by person\n",
    "gold_people = gold.Name.value_counts()\n",
    "gold_people.head(2)"
   ]
  },
  {
   "cell_type": "code",
   "execution_count": 11,
   "metadata": {},
   "outputs": [
    {
     "data": {
      "text/html": [
       "<div>\n",
       "<style scoped>\n",
       "    .dataframe tbody tr th:only-of-type {\n",
       "        vertical-align: middle;\n",
       "    }\n",
       "\n",
       "    .dataframe tbody tr th {\n",
       "        vertical-align: top;\n",
       "    }\n",
       "\n",
       "    .dataframe thead th {\n",
       "        text-align: right;\n",
       "    }\n",
       "</style>\n",
       "<table border=\"1\" class=\"dataframe\">\n",
       "  <thead>\n",
       "    <tr style=\"text-align: right;\">\n",
       "      <th></th>\n",
       "      <th>ID</th>\n",
       "      <th>Name</th>\n",
       "      <th>Sex</th>\n",
       "      <th>Age</th>\n",
       "      <th>Height</th>\n",
       "      <th>Weight</th>\n",
       "      <th>Team</th>\n",
       "      <th>NOC</th>\n",
       "      <th>Games</th>\n",
       "      <th>Year</th>\n",
       "      <th>Season</th>\n",
       "      <th>City</th>\n",
       "      <th>Sport</th>\n",
       "      <th>Event</th>\n",
       "      <th>Medal</th>\n",
       "    </tr>\n",
       "  </thead>\n",
       "  <tbody>\n",
       "    <tr>\n",
       "      <td>187890</td>\n",
       "      <td>94406</td>\n",
       "      <td>Michael Fred Phelps, II</td>\n",
       "      <td>M</td>\n",
       "      <td>19.0</td>\n",
       "      <td>193.0</td>\n",
       "      <td>91.0</td>\n",
       "      <td>United States</td>\n",
       "      <td>USA</td>\n",
       "      <td>2004 Summer</td>\n",
       "      <td>2004</td>\n",
       "      <td>Summer</td>\n",
       "      <td>Athina</td>\n",
       "      <td>Swimming</td>\n",
       "      <td>Swimming Men's 4 x 200 metres Freestyle Relay</td>\n",
       "      <td>Gold</td>\n",
       "    </tr>\n",
       "  </tbody>\n",
       "</table>\n",
       "</div>"
      ],
      "text/plain": [
       "           ID                     Name Sex   Age  Height  Weight  \\\n",
       "187890  94406  Michael Fred Phelps, II   M  19.0   193.0    91.0   \n",
       "\n",
       "                 Team  NOC        Games  Year  Season    City     Sport  \\\n",
       "187890  United States  USA  2004 Summer  2004  Summer  Athina  Swimming   \n",
       "\n",
       "                                                Event Medal  \n",
       "187890  Swimming Men's 4 x 200 metres Freestyle Relay  Gold  "
      ]
     },
     "execution_count": 11,
     "metadata": {},
     "output_type": "execute_result"
    }
   ],
   "source": [
    "phelps = gold[gold.Name == 'Michael Fred Phelps, II']\n",
    "phelps.head(1)"
   ]
  },
  {
   "cell_type": "code",
   "execution_count": 12,
   "metadata": {},
   "outputs": [
    {
     "data": {
      "text/html": [
       "<div>\n",
       "<style scoped>\n",
       "    .dataframe tbody tr th:only-of-type {\n",
       "        vertical-align: middle;\n",
       "    }\n",
       "\n",
       "    .dataframe tbody tr th {\n",
       "        vertical-align: top;\n",
       "    }\n",
       "\n",
       "    .dataframe thead th {\n",
       "        text-align: right;\n",
       "    }\n",
       "</style>\n",
       "<table border=\"1\" class=\"dataframe\">\n",
       "  <thead>\n",
       "    <tr style=\"text-align: right;\">\n",
       "      <th></th>\n",
       "      <th>ID</th>\n",
       "      <th>Name</th>\n",
       "      <th>Sex</th>\n",
       "      <th>Age</th>\n",
       "      <th>Height</th>\n",
       "      <th>Weight</th>\n",
       "      <th>Team</th>\n",
       "      <th>NOC</th>\n",
       "      <th>Games</th>\n",
       "      <th>Year</th>\n",
       "      <th>Season</th>\n",
       "      <th>City</th>\n",
       "      <th>Sport</th>\n",
       "      <th>Event</th>\n",
       "      <th>Medal</th>\n",
       "    </tr>\n",
       "  </thead>\n",
       "  <tbody>\n",
       "    <tr>\n",
       "      <td>24877</td>\n",
       "      <td>13029</td>\n",
       "      <td>Usain St. Leo Bolt</td>\n",
       "      <td>M</td>\n",
       "      <td>21.0</td>\n",
       "      <td>196.0</td>\n",
       "      <td>95.0</td>\n",
       "      <td>Jamaica</td>\n",
       "      <td>JAM</td>\n",
       "      <td>2008 Summer</td>\n",
       "      <td>2008</td>\n",
       "      <td>Summer</td>\n",
       "      <td>Beijing</td>\n",
       "      <td>Athletics</td>\n",
       "      <td>Athletics Men's 100 metres</td>\n",
       "      <td>Gold</td>\n",
       "    </tr>\n",
       "  </tbody>\n",
       "</table>\n",
       "</div>"
      ],
      "text/plain": [
       "          ID                Name Sex   Age  Height  Weight     Team  NOC  \\\n",
       "24877  13029  Usain St. Leo Bolt   M  21.0   196.0    95.0  Jamaica  JAM   \n",
       "\n",
       "             Games  Year  Season     City      Sport  \\\n",
       "24877  2008 Summer  2008  Summer  Beijing  Athletics   \n",
       "\n",
       "                            Event Medal  \n",
       "24877  Athletics Men's 100 metres  Gold  "
      ]
     },
     "execution_count": 12,
     "metadata": {},
     "output_type": "execute_result"
    }
   ],
   "source": [
    "bolt = gold[gold.Name == 'Usain St. Leo Bolt']\n",
    "bolt.head(1)"
   ]
  },
  {
   "cell_type": "code",
   "execution_count": 13,
   "metadata": {
    "scrolled": true
   },
   "outputs": [
    {
     "data": {
      "text/plain": [
       "[6, 8, 4, 5]"
      ]
     },
     "execution_count": 13,
     "metadata": {},
     "output_type": "execute_result"
    }
   ],
   "source": [
    "meds_per_year_p = phelps.groupby('Year').Medal.count()\n",
    "meds_per_year_p_df = pd.DataFrame(meds_per_year_p)\n",
    "meds_per_year_p_df = meds_per_year_p_df.reset_index()\n",
    "medal_nums_p = list(meds_per_year_p_df['Medal'])\n",
    "medal_nums_p"
   ]
  },
  {
   "cell_type": "code",
   "execution_count": 14,
   "metadata": {},
   "outputs": [
    {
     "data": {
      "text/plain": [
       "[2, 3, 3]"
      ]
     },
     "execution_count": 14,
     "metadata": {},
     "output_type": "execute_result"
    }
   ],
   "source": [
    "meds_per_year_b = bolt.groupby('Year').Medal.count()\n",
    "meds_per_year_b_df = pd.DataFrame(meds_per_year_b)\n",
    "meds_per_year_b_df = meds_per_year_b_df.reset_index()\n",
    "medal_nums_b = list(meds_per_year_b_df['Medal'])\n",
    "medal_nums_b"
   ]
  },
  {
   "cell_type": "markdown",
   "metadata": {},
   "source": [
    "#### Let's visualize this journey of gold medals with a line graph:"
   ]
  },
  {
   "cell_type": "code",
   "execution_count": 15,
   "metadata": {
    "scrolled": false
   },
   "outputs": [
    {
     "data": {
      "text/html": [
       "\n",
       "\n",
       "\n",
       "\n",
       "\n",
       "\n",
       "  <div class=\"bk-root\" id=\"22ede081-586d-4ebd-8b45-11c7079899f8\" data-root-id=\"1098\"></div>\n"
      ]
     },
     "metadata": {},
     "output_type": "display_data"
    },
    {
     "data": {
      "application/javascript": [
       "(function(root) {\n",
       "  function embed_document(root) {\n",
       "    \n",
       "  var docs_json = {\"e2981a7d-076b-45ca-af0e-db76dd4a1f18\":{\"roots\":{\"references\":[{\"attributes\":{\"below\":[{\"id\":\"1109\",\"type\":\"LinearAxis\"}],\"center\":[{\"id\":\"1113\",\"type\":\"Grid\"},{\"id\":\"1118\",\"type\":\"Grid\"},{\"id\":\"1143\",\"type\":\"Legend\"}],\"left\":[{\"id\":\"1114\",\"type\":\"LinearAxis\"}],\"plot_height\":400,\"plot_width\":400,\"renderers\":[{\"id\":\"1135\",\"type\":\"GlyphRenderer\"},{\"id\":\"1148\",\"type\":\"GlyphRenderer\"},{\"id\":\"1153\",\"type\":\"GlyphRenderer\"},{\"id\":\"1169\",\"type\":\"GlyphRenderer\"}],\"title\":{\"id\":\"1099\",\"type\":\"Title\"},\"toolbar\":{\"id\":\"1125\",\"type\":\"Toolbar\"},\"x_range\":{\"id\":\"1101\",\"type\":\"DataRange1d\"},\"x_scale\":{\"id\":\"1105\",\"type\":\"LinearScale\"},\"y_range\":{\"id\":\"1103\",\"type\":\"DataRange1d\"},\"y_scale\":{\"id\":\"1107\",\"type\":\"LinearScale\"}},\"id\":\"1098\",\"subtype\":\"Figure\",\"type\":\"Plot\"},{\"attributes\":{\"line_color\":\"red\",\"line_width\":2,\"x\":{\"field\":\"x\"},\"y\":{\"field\":\"y\"}},\"id\":\"1151\",\"type\":\"Line\"},{\"attributes\":{\"source\":{\"id\":\"1132\",\"type\":\"ColumnDataSource\"}},\"id\":\"1136\",\"type\":\"CDSView\"},{\"attributes\":{\"bottom_units\":\"screen\",\"fill_alpha\":{\"value\":0.5},\"fill_color\":{\"value\":\"lightgrey\"},\"left_units\":\"screen\",\"level\":\"overlay\",\"line_alpha\":{\"value\":1.0},\"line_color\":{\"value\":\"black\"},\"line_dash\":[4,4],\"line_width\":{\"value\":2},\"render_mode\":\"css\",\"right_units\":\"screen\",\"top_units\":\"screen\"},\"id\":\"1142\",\"type\":\"BoxAnnotation\"},{\"attributes\":{},\"id\":\"1192\",\"type\":\"Selection\"},{\"attributes\":{\"callback\":null},\"id\":\"1101\",\"type\":\"DataRange1d\"},{\"attributes\":{},\"id\":\"1161\",\"type\":\"UnionRenderers\"},{\"attributes\":{},\"id\":\"1191\",\"type\":\"UnionRenderers\"},{\"attributes\":{\"data_source\":{\"id\":\"1132\",\"type\":\"ColumnDataSource\"},\"glyph\":{\"id\":\"1133\",\"type\":\"Line\"},\"hover_glyph\":null,\"muted_glyph\":null,\"nonselection_glyph\":{\"id\":\"1134\",\"type\":\"Line\"},\"selection_glyph\":null,\"view\":{\"id\":\"1136\",\"type\":\"CDSView\"}},\"id\":\"1135\",\"type\":\"GlyphRenderer\"},{\"attributes\":{\"source\":{\"id\":\"1145\",\"type\":\"ColumnDataSource\"}},\"id\":\"1149\",\"type\":\"CDSView\"},{\"attributes\":{\"source\":{\"id\":\"1150\",\"type\":\"ColumnDataSource\"}},\"id\":\"1154\",\"type\":\"CDSView\"},{\"attributes\":{\"data_source\":{\"id\":\"1145\",\"type\":\"ColumnDataSource\"},\"glyph\":{\"id\":\"1146\",\"type\":\"Circle\"},\"hover_glyph\":null,\"muted_glyph\":null,\"nonselection_glyph\":{\"id\":\"1147\",\"type\":\"Circle\"},\"selection_glyph\":null,\"view\":{\"id\":\"1149\",\"type\":\"CDSView\"}},\"id\":\"1148\",\"type\":\"GlyphRenderer\"},{\"attributes\":{\"items\":[{\"id\":\"1144\",\"type\":\"LegendItem\"},{\"id\":\"1165\",\"type\":\"LegendItem\"}]},\"id\":\"1143\",\"type\":\"Legend\"},{\"attributes\":{},\"id\":\"1138\",\"type\":\"BasicTickFormatter\"},{\"attributes\":{\"line_width\":2,\"x\":{\"field\":\"x\"},\"y\":{\"field\":\"y\"}},\"id\":\"1133\",\"type\":\"Line\"},{\"attributes\":{\"text\":\"Gold Medals Won by Top Athletes Throughout Career\"},\"id\":\"1099\",\"type\":\"Title\"},{\"attributes\":{\"data_source\":{\"id\":\"1150\",\"type\":\"ColumnDataSource\"},\"glyph\":{\"id\":\"1151\",\"type\":\"Line\"},\"hover_glyph\":null,\"muted_glyph\":null,\"nonselection_glyph\":{\"id\":\"1152\",\"type\":\"Line\"},\"selection_glyph\":null,\"view\":{\"id\":\"1154\",\"type\":\"CDSView\"}},\"id\":\"1153\",\"type\":\"GlyphRenderer\"},{\"attributes\":{\"active_drag\":\"auto\",\"active_inspect\":\"auto\",\"active_multi\":null,\"active_scroll\":\"auto\",\"active_tap\":\"auto\",\"tools\":[{\"id\":\"1119\",\"type\":\"PanTool\"},{\"id\":\"1120\",\"type\":\"WheelZoomTool\"},{\"id\":\"1121\",\"type\":\"BoxZoomTool\"},{\"id\":\"1122\",\"type\":\"SaveTool\"},{\"id\":\"1123\",\"type\":\"ResetTool\"},{\"id\":\"1124\",\"type\":\"HelpTool\"}]},\"id\":\"1125\",\"type\":\"Toolbar\"},{\"attributes\":{\"callback\":null,\"data\":{\"x\":[2004,2008,2012,2016],\"y\":[0,2,3,3]},\"selected\":{\"id\":\"1192\",\"type\":\"Selection\"},\"selection_policy\":{\"id\":\"1191\",\"type\":\"UnionRenderers\"}},\"id\":\"1166\",\"type\":\"ColumnDataSource\"},{\"attributes\":{\"callback\":null,\"data\":{\"x\":[2004,2008,2012,2016],\"y\":[6,8,4,5]},\"selected\":{\"id\":\"1162\",\"type\":\"Selection\"},\"selection_policy\":{\"id\":\"1161\",\"type\":\"UnionRenderers\"}},\"id\":\"1132\",\"type\":\"ColumnDataSource\"},{\"attributes\":{},\"id\":\"1119\",\"type\":\"PanTool\"},{\"attributes\":{\"fill_color\":{\"value\":\"gold\"},\"size\":{\"units\":\"screen\",\"value\":12},\"x\":{\"field\":\"x\"},\"y\":{\"field\":\"y\"}},\"id\":\"1146\",\"type\":\"Circle\"},{\"attributes\":{\"label\":{\"value\":\"Usain Bolt\"},\"renderers\":[{\"id\":\"1153\",\"type\":\"GlyphRenderer\"}]},\"id\":\"1165\",\"type\":\"LegendItem\"},{\"attributes\":{\"callback\":null,\"data\":{\"x\":[2004,2008,2012,2016],\"y\":[0,2,3,3]},\"selected\":{\"id\":\"1190\",\"type\":\"Selection\"},\"selection_policy\":{\"id\":\"1189\",\"type\":\"UnionRenderers\"}},\"id\":\"1150\",\"type\":\"ColumnDataSource\"},{\"attributes\":{},\"id\":\"1162\",\"type\":\"Selection\"},{\"attributes\":{},\"id\":\"1120\",\"type\":\"WheelZoomTool\"},{\"attributes\":{},\"id\":\"1105\",\"type\":\"LinearScale\"},{\"attributes\":{\"fill_alpha\":{\"value\":0.1},\"fill_color\":{\"value\":\"#1f77b4\"},\"line_alpha\":{\"value\":0.1},\"line_color\":{\"value\":\"#1f77b4\"},\"size\":{\"units\":\"screen\",\"value\":12},\"x\":{\"field\":\"x\"},\"y\":{\"field\":\"y\"}},\"id\":\"1147\",\"type\":\"Circle\"},{\"attributes\":{},\"id\":\"1163\",\"type\":\"UnionRenderers\"},{\"attributes\":{\"overlay\":{\"id\":\"1142\",\"type\":\"BoxAnnotation\"}},\"id\":\"1121\",\"type\":\"BoxZoomTool\"},{\"attributes\":{},\"id\":\"1164\",\"type\":\"Selection\"},{\"attributes\":{},\"id\":\"1122\",\"type\":\"SaveTool\"},{\"attributes\":{},\"id\":\"1140\",\"type\":\"BasicTickFormatter\"},{\"attributes\":{\"callback\":null},\"id\":\"1103\",\"type\":\"DataRange1d\"},{\"attributes\":{},\"id\":\"1123\",\"type\":\"ResetTool\"},{\"attributes\":{},\"id\":\"1189\",\"type\":\"UnionRenderers\"},{\"attributes\":{},\"id\":\"1107\",\"type\":\"LinearScale\"},{\"attributes\":{},\"id\":\"1124\",\"type\":\"HelpTool\"},{\"attributes\":{\"fill_alpha\":{\"value\":0.1},\"fill_color\":{\"value\":\"#1f77b4\"},\"line_alpha\":{\"value\":0.1},\"line_color\":{\"value\":\"#1f77b4\"},\"size\":{\"units\":\"screen\",\"value\":12},\"x\":{\"field\":\"x\"},\"y\":{\"field\":\"y\"}},\"id\":\"1168\",\"type\":\"Circle\"},{\"attributes\":{\"axis_label\":\"Years\",\"formatter\":{\"id\":\"1140\",\"type\":\"BasicTickFormatter\"},\"ticker\":{\"id\":\"1110\",\"type\":\"BasicTicker\"}},\"id\":\"1109\",\"type\":\"LinearAxis\"},{\"attributes\":{\"line_alpha\":0.1,\"line_color\":\"#1f77b4\",\"line_width\":2,\"x\":{\"field\":\"x\"},\"y\":{\"field\":\"y\"}},\"id\":\"1134\",\"type\":\"Line\"},{\"attributes\":{\"fill_color\":{\"value\":\"gold\"},\"size\":{\"units\":\"screen\",\"value\":12},\"x\":{\"field\":\"x\"},\"y\":{\"field\":\"y\"}},\"id\":\"1167\",\"type\":\"Circle\"},{\"attributes\":{\"data_source\":{\"id\":\"1166\",\"type\":\"ColumnDataSource\"},\"glyph\":{\"id\":\"1167\",\"type\":\"Circle\"},\"hover_glyph\":null,\"muted_glyph\":null,\"nonselection_glyph\":{\"id\":\"1168\",\"type\":\"Circle\"},\"selection_glyph\":null,\"view\":{\"id\":\"1170\",\"type\":\"CDSView\"}},\"id\":\"1169\",\"type\":\"GlyphRenderer\"},{\"attributes\":{},\"id\":\"1110\",\"type\":\"BasicTicker\"},{\"attributes\":{},\"id\":\"1115\",\"type\":\"BasicTicker\"},{\"attributes\":{\"line_alpha\":0.1,\"line_color\":\"#1f77b4\",\"line_width\":2,\"x\":{\"field\":\"x\"},\"y\":{\"field\":\"y\"}},\"id\":\"1152\",\"type\":\"Line\"},{\"attributes\":{\"ticker\":{\"id\":\"1110\",\"type\":\"BasicTicker\"}},\"id\":\"1113\",\"type\":\"Grid\"},{\"attributes\":{\"source\":{\"id\":\"1166\",\"type\":\"ColumnDataSource\"}},\"id\":\"1170\",\"type\":\"CDSView\"},{\"attributes\":{\"dimension\":1,\"ticker\":{\"id\":\"1115\",\"type\":\"BasicTicker\"}},\"id\":\"1118\",\"type\":\"Grid\"},{\"attributes\":{\"callback\":null,\"data\":{\"x\":[2004,2008,2012,2016],\"y\":[6,8,4,5]},\"selected\":{\"id\":\"1164\",\"type\":\"Selection\"},\"selection_policy\":{\"id\":\"1163\",\"type\":\"UnionRenderers\"}},\"id\":\"1145\",\"type\":\"ColumnDataSource\"},{\"attributes\":{\"axis_label\":\"Number of Medals\",\"formatter\":{\"id\":\"1138\",\"type\":\"BasicTickFormatter\"},\"ticker\":{\"id\":\"1115\",\"type\":\"BasicTicker\"}},\"id\":\"1114\",\"type\":\"LinearAxis\"},{\"attributes\":{},\"id\":\"1190\",\"type\":\"Selection\"},{\"attributes\":{\"label\":{\"value\":\"Michael Phelps\"},\"renderers\":[{\"id\":\"1135\",\"type\":\"GlyphRenderer\"}]},\"id\":\"1144\",\"type\":\"LegendItem\"}],\"root_ids\":[\"1098\"]},\"title\":\"Bokeh Application\",\"version\":\"1.3.4\"}};\n",
       "  var render_items = [{\"docid\":\"e2981a7d-076b-45ca-af0e-db76dd4a1f18\",\"roots\":{\"1098\":\"22ede081-586d-4ebd-8b45-11c7079899f8\"}}];\n",
       "  root.Bokeh.embed.embed_items_notebook(docs_json, render_items);\n",
       "\n",
       "  }\n",
       "  if (root.Bokeh !== undefined) {\n",
       "    embed_document(root);\n",
       "  } else {\n",
       "    var attempts = 0;\n",
       "    var timer = setInterval(function(root) {\n",
       "      if (root.Bokeh !== undefined) {\n",
       "        embed_document(root);\n",
       "        clearInterval(timer);\n",
       "      }\n",
       "      attempts++;\n",
       "      if (attempts > 100) {\n",
       "        console.log(\"Bokeh: ERROR: Unable to run BokehJS code because BokehJS library is missing\");\n",
       "        clearInterval(timer);\n",
       "      }\n",
       "    }, 10, root)\n",
       "  }\n",
       "})(window);"
      ],
      "application/vnd.bokehjs_exec.v0+json": ""
     },
     "metadata": {
      "application/vnd.bokehjs_exec.v0+json": {
       "id": "1098"
      }
     },
     "output_type": "display_data"
    }
   ],
   "source": [
    "# let's make a bokeh line graph with points\n",
    "# x is years 2000-2016, both were only active starting in 2004, let's just start there\n",
    "# y is number of medals won\n",
    "\n",
    "x = [2004, 2008, 2012, 2016]\n",
    "y = [6, 8, 4, 5]\n",
    "y2 = [0, 2, 3, 3]\n",
    "\n",
    "# create a new plot with figure\n",
    "p = figure(plot_width=400, plot_height=400, title='Gold Medals Won by Top Athletes Throughout Career')\n",
    "\n",
    "# add both a line and circles on the same plot\n",
    "p.line(x, y, legend='Michael Phelps', line_width=2, color='black')\n",
    "p.circle(x, y, fill_color='gold', line_color='black', size=12)\n",
    "\n",
    "p.line(x, y2, legend='Usain Bolt', line_width=2, color='red')\n",
    "p.circle(x, y2, fill_color='gold', line_color='black', size=12)\n",
    "\n",
    "p.xaxis.axis_label = 'Years'\n",
    "p.yaxis.axis_label = 'Number of Medals'\n",
    "\n",
    "show(p) # show the results"
   ]
  },
  {
   "cell_type": "markdown",
   "metadata": {},
   "source": [
    "#### This graph helps us visualize the rise and fall of these two athletes' careers. While Michael Phelps had rises and falls in his amount of medals won over this timeframe, Usain Bolt increased the amount of medals he won over time. We can also see that Michael Phelps consistently won more medals per Olympic Games than Usain Bolt."
   ]
  },
  {
   "cell_type": "markdown",
   "metadata": {},
   "source": [
    "#### Let's compare the two a little more directly with a bar graph."
   ]
  },
  {
   "cell_type": "code",
   "execution_count": 16,
   "metadata": {
    "scrolled": true
   },
   "outputs": [
    {
     "data": {
      "image/png": "[encoded data removed]",
      "text/plain": [
       "<Figure size 432x288 with 1 Axes>"
      ]
     },
     "metadata": {
      "needs_background": "light"
     },
     "output_type": "display_data"
    }
   ],
   "source": [
    "gold_dict = {'year': [2004, 2008, 2012, 2016], 'phelps': [6, 8, 4, 5], 'bolt': [0, 2, 3, 3]}\n",
    "gold_df = pd.DataFrame.from_dict(gold_dict)\n",
    "\n",
    "# have to restack the dataframe \n",
    "gold_df_wide = pd.melt(gold_df, id_vars=['year']).sort_values(['variable','value'])\n",
    "\n",
    "colors = ['red', 'black']\n",
    "sns.barplot(x='year', y='value', hue='variable', data=gold_df_wide, palette=colors)\n",
    "plt.xlabel('Year')\n",
    "plt.ylabel('Medals Won')\n",
    "plt.title('Medals Won by Michael Phelps vs. Usain Bolt');"
   ]
  },
  {
   "cell_type": "markdown",
   "metadata": {},
   "source": [
    "#### This graph provides a more direct comparison between Michael Phelps and Usain Bolt. Again you can see Phelps' rise and fall in overall wins, and Bolt's incrase over time."
   ]
  },
  {
   "cell_type": "markdown",
   "metadata": {
    "hideCode": true
   },
   "source": [
    "## Question 3: How have the average ages of gold-medal-winning athletes changed over the years? Are they getting older? Younger? Staying the same? Look only at the 10 countries with the most gold-medal-winning athletes."
   ]
  },
  {
   "cell_type": "markdown",
   "metadata": {},
   "source": [
    "#### Let's look at this data using the Gapminder visualization:"
   ]
  },
  {
   "cell_type": "code",
   "execution_count": 17,
   "metadata": {},
   "outputs": [],
   "source": [
    "q3o = olympics.copy()"
   ]
  },
  {
   "cell_type": "code",
   "execution_count": 18,
   "metadata": {},
   "outputs": [],
   "source": [
    "def cleaning_dashes(team):\n",
    "    return team.replace('-','')\n",
    "\n",
    "def cleaning_nums(team):\n",
    "    return re.sub(r'[0-9]+', '', team)"
   ]
  },
  {
   "cell_type": "code",
   "execution_count": 19,
   "metadata": {},
   "outputs": [
    {
     "data": {
      "text/html": [
       "<div>\n",
       "<style scoped>\n",
       "    .dataframe tbody tr th:only-of-type {\n",
       "        vertical-align: middle;\n",
       "    }\n",
       "\n",
       "    .dataframe tbody tr th {\n",
       "        vertical-align: top;\n",
       "    }\n",
       "\n",
       "    .dataframe thead th {\n",
       "        text-align: right;\n",
       "    }\n",
       "</style>\n",
       "<table border=\"1\" class=\"dataframe\">\n",
       "  <thead>\n",
       "    <tr style=\"text-align: right;\">\n",
       "      <th></th>\n",
       "      <th>ID</th>\n",
       "      <th>Name</th>\n",
       "      <th>Age</th>\n",
       "      <th>Team</th>\n",
       "      <th>Year</th>\n",
       "      <th>Medal</th>\n",
       "    </tr>\n",
       "  </thead>\n",
       "  <tbody>\n",
       "    <tr>\n",
       "      <td>3</td>\n",
       "      <td>4</td>\n",
       "      <td>Edgar Lindenau Aabye</td>\n",
       "      <td>34.0</td>\n",
       "      <td>Denmark/Sweden</td>\n",
       "      <td>1900</td>\n",
       "      <td>Gold</td>\n",
       "    </tr>\n",
       "    <tr>\n",
       "      <td>42</td>\n",
       "      <td>17</td>\n",
       "      <td>Paavo Johannes Aaltonen</td>\n",
       "      <td>28.0</td>\n",
       "      <td>Finland</td>\n",
       "      <td>1948</td>\n",
       "      <td>Gold</td>\n",
       "    </tr>\n",
       "    <tr>\n",
       "      <td>60</td>\n",
       "      <td>20</td>\n",
       "      <td>Kjetil Andr Aamodt</td>\n",
       "      <td>20.0</td>\n",
       "      <td>Norway</td>\n",
       "      <td>1992</td>\n",
       "      <td>Gold</td>\n",
       "    </tr>\n",
       "    <tr>\n",
       "      <td>73</td>\n",
       "      <td>20</td>\n",
       "      <td>Kjetil Andr Aamodt</td>\n",
       "      <td>30.0</td>\n",
       "      <td>Norway</td>\n",
       "      <td>2002</td>\n",
       "      <td>Gold</td>\n",
       "    </tr>\n",
       "    <tr>\n",
       "      <td>78</td>\n",
       "      <td>20</td>\n",
       "      <td>Kjetil Andr Aamodt</td>\n",
       "      <td>34.0</td>\n",
       "      <td>Norway</td>\n",
       "      <td>2006</td>\n",
       "      <td>Gold</td>\n",
       "    </tr>\n",
       "  </tbody>\n",
       "</table>\n",
       "</div>"
      ],
      "text/plain": [
       "    ID                     Name   Age            Team  Year Medal\n",
       "3    4     Edgar Lindenau Aabye  34.0  Denmark/Sweden  1900  Gold\n",
       "42  17  Paavo Johannes Aaltonen  28.0         Finland  1948  Gold\n",
       "60  20       Kjetil Andr Aamodt  20.0          Norway  1992  Gold\n",
       "73  20       Kjetil Andr Aamodt  30.0          Norway  2002  Gold\n",
       "78  20       Kjetil Andr Aamodt  34.0          Norway  2006  Gold"
      ]
     },
     "execution_count": 19,
     "metadata": {},
     "output_type": "execute_result"
    }
   ],
   "source": [
    "# want to get just the people who have won gold medals, grab their id, name, age, team, year, and medal\n",
    "gold = q3o[q3o.Medal == 'Gold']\n",
    "gold = gold.drop(['Sex', 'Height', 'Weight', 'NOC', 'Games', 'Season', 'City', 'Sport', 'Event'], axis=1)\n",
    "\n",
    "gold_w_dups = gold.copy()\n",
    "\n",
    "# want to get rid of the people who have won more than one gold medal per year - get rid of duplicate rows\n",
    "gold = gold.drop_duplicates()\n",
    "\n",
    "# have to clean up some of the country names\n",
    "gold['Team'] = gold['Team'].apply(cleaning_dashes)\n",
    "gold['Team'] = gold['Team'].apply(cleaning_nums)\n",
    "\n",
    "gold_w_dups['Team'] = gold_w_dups['Team'].apply(cleaning_dashes)\n",
    "gold_w_dups['Team'] = gold_w_dups['Team'].apply(cleaning_nums)\n",
    "\n",
    "gold.head()"
   ]
  },
  {
   "cell_type": "code",
   "execution_count": 20,
   "metadata": {},
   "outputs": [
    {
     "data": {
      "text/plain": [
       "Team\n",
       "United States    2159\n",
       "Soviet Union      987\n",
       "Germany           662\n",
       "Great Britain     517\n",
       "Italy             505\n",
       "Canada            423\n",
       "Sweden            421\n",
       "France            419\n",
       "Hungary           397\n",
       "Russia            361\n",
       "Name: Medal, dtype: int64"
      ]
     },
     "execution_count": 20,
     "metadata": {},
     "output_type": "execute_result"
    }
   ],
   "source": [
    "# looking at the top 10 countries and how many medals are won\n",
    "gold_country_count = gold.groupby('Team').Medal.count()\n",
    "gold_country_count = gold_country_count.sort_values(ascending=False)\n",
    "gold_country_count = gold_country_count[:10]\n",
    "gold_country_count"
   ]
  },
  {
   "cell_type": "code",
   "execution_count": 21,
   "metadata": {},
   "outputs": [
    {
     "data": {
      "text/html": [
       "<div>\n",
       "<style scoped>\n",
       "    .dataframe tbody tr th:only-of-type {\n",
       "        vertical-align: middle;\n",
       "    }\n",
       "\n",
       "    .dataframe tbody tr th {\n",
       "        vertical-align: top;\n",
       "    }\n",
       "\n",
       "    .dataframe thead th {\n",
       "        text-align: right;\n",
       "    }\n",
       "</style>\n",
       "<table border=\"1\" class=\"dataframe\">\n",
       "  <thead>\n",
       "    <tr style=\"text-align: right;\">\n",
       "      <th></th>\n",
       "      <th>ID</th>\n",
       "      <th>Name</th>\n",
       "      <th>Age</th>\n",
       "      <th>Team</th>\n",
       "      <th>Year</th>\n",
       "      <th>Medal</th>\n",
       "    </tr>\n",
       "  </thead>\n",
       "  <tbody>\n",
       "    <tr>\n",
       "      <td>150</td>\n",
       "      <td>56</td>\n",
       "      <td>Ren Abadie</td>\n",
       "      <td>21.0</td>\n",
       "      <td>France</td>\n",
       "      <td>1956</td>\n",
       "      <td>Gold</td>\n",
       "    </tr>\n",
       "    <tr>\n",
       "      <td>173</td>\n",
       "      <td>73</td>\n",
       "      <td>Luc Abalo</td>\n",
       "      <td>23.0</td>\n",
       "      <td>France</td>\n",
       "      <td>2008</td>\n",
       "      <td>Gold</td>\n",
       "    </tr>\n",
       "    <tr>\n",
       "      <td>174</td>\n",
       "      <td>73</td>\n",
       "      <td>Luc Abalo</td>\n",
       "      <td>27.0</td>\n",
       "      <td>France</td>\n",
       "      <td>2012</td>\n",
       "      <td>Gold</td>\n",
       "    </tr>\n",
       "    <tr>\n",
       "      <td>200</td>\n",
       "      <td>93</td>\n",
       "      <td>Jol Marc Abati</td>\n",
       "      <td>38.0</td>\n",
       "      <td>France</td>\n",
       "      <td>2008</td>\n",
       "      <td>Gold</td>\n",
       "    </tr>\n",
       "    <tr>\n",
       "      <td>218</td>\n",
       "      <td>106</td>\n",
       "      <td>Agostino Abbagnale</td>\n",
       "      <td>22.0</td>\n",
       "      <td>Italy</td>\n",
       "      <td>1988</td>\n",
       "      <td>Gold</td>\n",
       "    </tr>\n",
       "  </tbody>\n",
       "</table>\n",
       "</div>"
      ],
      "text/plain": [
       "      ID                Name   Age    Team  Year Medal\n",
       "150   56          Ren Abadie  21.0  France  1956  Gold\n",
       "173   73           Luc Abalo  23.0  France  2008  Gold\n",
       "174   73           Luc Abalo  27.0  France  2012  Gold\n",
       "200   93      Jol Marc Abati  38.0  France  2008  Gold\n",
       "218  106  Agostino Abbagnale  22.0   Italy  1988  Gold"
      ]
     },
     "execution_count": 21,
     "metadata": {},
     "output_type": "execute_result"
    }
   ],
   "source": [
    "top_gold = gold[(gold.Team == 'United States') | (gold.Team == 'Soviet Union') | (gold.Team == 'Germany') | (gold.Team == 'Great Britain') | (gold.Team == 'Italy') | (gold.Team == 'Canada') | (gold.Team == 'Sweden') | (gold.Team == 'France') | (gold.Team == 'Hungary') | (gold.Team == 'Russia')]\n",
    "top_gold_w_dups = gold_w_dups[(gold_w_dups.Team == 'United States') | (gold_w_dups.Team == 'Soviet Union') | (gold_w_dups.Team == 'Germany') | (gold_w_dups.Team == 'Great Britain') | (gold_w_dups.Team == 'Italy') | (gold_w_dups.Team == 'Canada') | (gold_w_dups.Team == 'Sweden') | (gold_w_dups.Team == 'France') | (gold_w_dups.Team == 'Hungary') | (gold_w_dups.Team == 'Russia')]\n",
    "\n",
    "top_gold.head()"
   ]
  },
  {
   "cell_type": "code",
   "execution_count": 22,
   "metadata": {
    "scrolled": true
   },
   "outputs": [
    {
     "data": {
      "text/html": [
       "<div>\n",
       "<style scoped>\n",
       "    .dataframe tbody tr th:only-of-type {\n",
       "        vertical-align: middle;\n",
       "    }\n",
       "\n",
       "    .dataframe tbody tr th {\n",
       "        vertical-align: top;\n",
       "    }\n",
       "\n",
       "    .dataframe thead th {\n",
       "        text-align: right;\n",
       "    }\n",
       "</style>\n",
       "<table border=\"1\" class=\"dataframe\">\n",
       "  <thead>\n",
       "    <tr style=\"text-align: right;\">\n",
       "      <th></th>\n",
       "      <th>ID</th>\n",
       "      <th>Age</th>\n",
       "      <th>Year</th>\n",
       "    </tr>\n",
       "  </thead>\n",
       "  <tbody>\n",
       "    <tr>\n",
       "      <td>count</td>\n",
       "      <td>6851.000000</td>\n",
       "      <td>6835.000000</td>\n",
       "      <td>6851.000000</td>\n",
       "    </tr>\n",
       "    <tr>\n",
       "      <td>mean</td>\n",
       "      <td>67921.232813</td>\n",
       "      <td>26.088808</td>\n",
       "      <td>1971.754196</td>\n",
       "    </tr>\n",
       "    <tr>\n",
       "      <td>std</td>\n",
       "      <td>39059.084675</td>\n",
       "      <td>5.920272</td>\n",
       "      <td>33.562427</td>\n",
       "    </tr>\n",
       "    <tr>\n",
       "      <td>min</td>\n",
       "      <td>56.000000</td>\n",
       "      <td>13.000000</td>\n",
       "      <td>1896.000000</td>\n",
       "    </tr>\n",
       "    <tr>\n",
       "      <td>25%</td>\n",
       "      <td>34708.500000</td>\n",
       "      <td>22.000000</td>\n",
       "      <td>1948.000000</td>\n",
       "    </tr>\n",
       "    <tr>\n",
       "      <td>50%</td>\n",
       "      <td>67672.000000</td>\n",
       "      <td>25.000000</td>\n",
       "      <td>1980.000000</td>\n",
       "    </tr>\n",
       "    <tr>\n",
       "      <td>75%</td>\n",
       "      <td>102277.000000</td>\n",
       "      <td>29.000000</td>\n",
       "      <td>2000.000000</td>\n",
       "    </tr>\n",
       "    <tr>\n",
       "      <td>max</td>\n",
       "      <td>135553.000000</td>\n",
       "      <td>64.000000</td>\n",
       "      <td>2016.000000</td>\n",
       "    </tr>\n",
       "  </tbody>\n",
       "</table>\n",
       "</div>"
      ],
      "text/plain": [
       "                  ID          Age         Year\n",
       "count    6851.000000  6835.000000  6851.000000\n",
       "mean    67921.232813    26.088808  1971.754196\n",
       "std     39059.084675     5.920272    33.562427\n",
       "min        56.000000    13.000000  1896.000000\n",
       "25%     34708.500000    22.000000  1948.000000\n",
       "50%     67672.000000    25.000000  1980.000000\n",
       "75%    102277.000000    29.000000  2000.000000\n",
       "max    135553.000000    64.000000  2016.000000"
      ]
     },
     "execution_count": 22,
     "metadata": {},
     "output_type": "execute_result"
    }
   ],
   "source": [
    "# looking at the range of ages of medal winners\n",
    "top_gold.describe() #13-64, so make y axis go from 10-70"
   ]
  },
  {
   "cell_type": "code",
   "execution_count": 23,
   "metadata": {},
   "outputs": [],
   "source": [
    "# list of teams - will use to create legend - has to be in alphabetical order\n",
    "teams = ['Canada', 'France', 'Germany', 'Great Britain', 'Hungary', 'Italy', 'Russia', 'Soviet Union', 'Sweden', 'United States']"
   ]
  },
  {
   "cell_type": "code",
   "execution_count": 24,
   "metadata": {},
   "outputs": [],
   "source": [
    "# want to get the average age of all the athletes from one country during one year  \n",
    "age_df = top_gold.groupby(['Year', 'Team'])['Age'].mean().reset_index(name='avg_age')\n",
    "age_df = age_df.set_index(['Year', 'Team'])\n",
    "age_df = age_df.unstack().transpose()\n",
    "age_df = age_df.fillna(0)\n",
    "age_df.index = teams"
   ]
  },
  {
   "cell_type": "code",
   "execution_count": 25,
   "metadata": {},
   "outputs": [],
   "source": [
    "# want to know how many medals are won by each team each year\n",
    "gold_count_by_team_by_year = top_gold_w_dups.groupby(['Year', 'Team'])[\"Medal\"].count().reset_index(name = \"Medal_Count\")\n",
    "gcbtbyg = gold_count_by_team_by_year.set_index(['Year', 'Team'])\n",
    "med_count_df = gcbtbyg.unstack().transpose()\n",
    "med_count_df = med_count_df.fillna(0)\n",
    "med_count_df.index = teams"
   ]
  },
  {
   "cell_type": "code",
   "execution_count": 26,
   "metadata": {},
   "outputs": [],
   "source": [
    "# want to know the number of unique people who won gold from each country each year\n",
    "athlete_count_df = top_gold.groupby(['Year', 'Team'])[\"Name\"].nunique().reset_index(name = \"athlete_count\")\n",
    "athlete_count_df = athlete_count_df.set_index(['Year', 'Team'])\n",
    "athlete_count_df = athlete_count_df.unstack().transpose()\n",
    "athlete_count_df = med_count_df.fillna(0)\n",
    "athlete_count_df.index = teams"
   ]
  },
  {
   "cell_type": "code",
   "execution_count": 27,
   "metadata": {},
   "outputs": [],
   "source": [
    "# make a df of the top 10 teams and match them up with colors (for bubble colors)\n",
    "color_dict = {'team': ['Canada', 'France', 'Germany', 'Great Britain', 'Hungary', 'Italy', 'Russia', 'Soviet Union', 'Sweden', 'United States'], 'color': ['#AB3428', '#ff8c00', '#F5EE9E', '#3B8EA5', '#003366', '#006400', '#00CC99', '#4E0110', '#9370db', '#fa8072']}\n",
    "\n",
    "color_df = pd.DataFrame.from_dict(color_dict)\n",
    "color_df = color_df.set_index('team')"
   ]
  },
  {
   "cell_type": "code",
   "execution_count": 28,
   "metadata": {},
   "outputs": [],
   "source": [
    "# need a list of the appropriate years - take from the colnames of one of the dfs above\n",
    "years = list(age_df.columns)"
   ]
  },
  {
   "cell_type": "code",
   "execution_count": 29,
   "metadata": {},
   "outputs": [],
   "source": [
    "sources = {}\n",
    "\n",
    "team_color = color_df['color']\n",
    "team_color.name = 'team_color'\n",
    "\n",
    "for year in years:\n",
    "    age = age_df[year]\n",
    "    age.name = 'age'\n",
    "    \n",
    "    medals = med_count_df[year]\n",
    "    medals.name = 'medals'\n",
    "    \n",
    "    athletes = athlete_count_df[year]\n",
    "    athletes.name = 'athletes'\n",
    "    \n",
    "    new_df = pd.concat(\n",
    "                [age, medals, athletes, team_color],\n",
    "                axis=1, sort=False\n",
    "    )\n",
    "    sources['_' + str(year)] = ColumnDataSource(new_df)"
   ]
  },
  {
   "cell_type": "code",
   "execution_count": 30,
   "metadata": {},
   "outputs": [],
   "source": [
    "dict_of_sources = dict(zip(\n",
    "                      [x for x in years],\n",
    "                      ['_%s' % x for x in years])\n",
    "                      )\n",
    "\n",
    "js_source_array = str(dict_of_sources).replace(\"'\", \"\")"
   ]
  },
  {
   "cell_type": "code",
   "execution_count": 31,
   "metadata": {},
   "outputs": [],
   "source": [
    "xdr  = Range1d(12, 65)\n",
    "ydr  = Range1d(0, 200)\n",
    "plot = Plot(\n",
    "    x_range=xdr,\n",
    "    y_range=ydr,\n",
    "    plot_width=1000,\n",
    "    plot_height=500,\n",
    "    outline_line_color=None,\n",
    "    toolbar_location=None,\n",
    "    min_border=20,\n",
    ")\n",
    "plot.title.text = 'Average Ages of Gold-Medal-Winning Athletes from 1896-2016'"
   ]
  },
  {
   "cell_type": "code",
   "execution_count": 32,
   "metadata": {},
   "outputs": [],
   "source": [
    "AXIS_FORMATS = dict(\n",
    "    minor_tick_in=None,\n",
    "    minor_tick_out=None,\n",
    "    major_tick_in=None,\n",
    "    major_label_text_font_size=\"10pt\",\n",
    "    major_label_text_font_style=\"normal\",\n",
    "    axis_label_text_font_size=\"10pt\",\n",
    "\n",
    "    axis_line_color='#AAAAAA',\n",
    "    major_tick_line_color='#AAAAAA',\n",
    "    major_label_text_color='#666666',\n",
    "\n",
    "    major_tick_line_cap=\"round\",\n",
    "    axis_line_cap=\"round\",\n",
    "    axis_line_width=1,\n",
    "    major_tick_line_width=1,\n",
    ")\n",
    "\n",
    "xaxis = LinearAxis(\n",
    "    ticker     = SingleIntervalTicker(interval=5),\n",
    "    axis_label = \"Age of Athlete (years)\",\n",
    "    **AXIS_FORMATS\n",
    ")\n",
    "yaxis = LinearAxis(\n",
    "    ticker     = SingleIntervalTicker(interval=10),\n",
    "    axis_label = \"Number of Medals Won\",\n",
    "    **AXIS_FORMATS\n",
    ")   \n",
    "\n",
    "plot.add_layout(xaxis, 'below')\n",
    "plot.add_layout(yaxis, 'left')"
   ]
  },
  {
   "cell_type": "code",
   "execution_count": 33,
   "metadata": {},
   "outputs": [
    {
     "data": {
      "text/html": [
       "<div style=\"display: table;\"><div style=\"display: table-row;\"><div style=\"display: table-cell;\"><b title=\"bokeh.models.renderers.GlyphRenderer\">GlyphRenderer</b>(</div><div style=\"display: table-cell;\">id&nbsp;=&nbsp;'1326', <span id=\"1329\" style=\"cursor: pointer;\">&hellip;)</span></div></div><div class=\"1328\" style=\"display: none;\"><div style=\"display: table-cell;\"></div><div style=\"display: table-cell;\">data_source&nbsp;=&nbsp;ColumnDataSource(id='1324', ...),</div></div><div class=\"1328\" style=\"display: none;\"><div style=\"display: table-cell;\"></div><div style=\"display: table-cell;\">glyph&nbsp;=&nbsp;Text(id='1325', ...),</div></div><div class=\"1328\" style=\"display: none;\"><div style=\"display: table-cell;\"></div><div style=\"display: table-cell;\">hover_glyph&nbsp;=&nbsp;None,</div></div><div class=\"1328\" style=\"display: none;\"><div style=\"display: table-cell;\"></div><div style=\"display: table-cell;\">js_event_callbacks&nbsp;=&nbsp;{},</div></div><div class=\"1328\" style=\"display: none;\"><div style=\"display: table-cell;\"></div><div style=\"display: table-cell;\">js_property_callbacks&nbsp;=&nbsp;{},</div></div><div class=\"1328\" style=\"display: none;\"><div style=\"display: table-cell;\"></div><div style=\"display: table-cell;\">level&nbsp;=&nbsp;'glyph',</div></div><div class=\"1328\" style=\"display: none;\"><div style=\"display: table-cell;\"></div><div style=\"display: table-cell;\">muted&nbsp;=&nbsp;False,</div></div><div class=\"1328\" style=\"display: none;\"><div style=\"display: table-cell;\"></div><div style=\"display: table-cell;\">muted_glyph&nbsp;=&nbsp;None,</div></div><div class=\"1328\" style=\"display: none;\"><div style=\"display: table-cell;\"></div><div style=\"display: table-cell;\">name&nbsp;=&nbsp;None,</div></div><div class=\"1328\" style=\"display: none;\"><div style=\"display: table-cell;\"></div><div style=\"display: table-cell;\">nonselection_glyph&nbsp;=&nbsp;'auto',</div></div><div class=\"1328\" style=\"display: none;\"><div style=\"display: table-cell;\"></div><div style=\"display: table-cell;\">selection_glyph&nbsp;=&nbsp;'auto',</div></div><div class=\"1328\" style=\"display: none;\"><div style=\"display: table-cell;\"></div><div style=\"display: table-cell;\">subscribed_events&nbsp;=&nbsp;[],</div></div><div class=\"1328\" style=\"display: none;\"><div style=\"display: table-cell;\"></div><div style=\"display: table-cell;\">tags&nbsp;=&nbsp;[],</div></div><div class=\"1328\" style=\"display: none;\"><div style=\"display: table-cell;\"></div><div style=\"display: table-cell;\">view&nbsp;=&nbsp;CDSView(id='1327', ...),</div></div><div class=\"1328\" style=\"display: none;\"><div style=\"display: table-cell;\"></div><div style=\"display: table-cell;\">visible&nbsp;=&nbsp;True,</div></div><div class=\"1328\" style=\"display: none;\"><div style=\"display: table-cell;\"></div><div style=\"display: table-cell;\">x_range_name&nbsp;=&nbsp;'default',</div></div><div class=\"1328\" style=\"display: none;\"><div style=\"display: table-cell;\"></div><div style=\"display: table-cell;\">y_range_name&nbsp;=&nbsp;'default')</div></div></div>\n",
       "<script>\n",
       "(function() {\n",
       "  var expanded = false;\n",
       "  var ellipsis = document.getElementById(\"1329\");\n",
       "  ellipsis.addEventListener(\"click\", function() {\n",
       "    var rows = document.getElementsByClassName(\"1328\");\n",
       "    for (var i = 0; i < rows.length; i++) {\n",
       "      var el = rows[i];\n",
       "      el.style.display = expanded ? \"none\" : \"table-row\";\n",
       "    }\n",
       "    ellipsis.innerHTML = expanded ? \"&hellip;)\" : \"&lsaquo;&lsaquo;&lsaquo;\";\n",
       "    expanded = !expanded;\n",
       "  });\n",
       "})();\n",
       "</script>\n"
      ],
      "text/plain": [
       "GlyphRenderer(id='1326', ...)"
      ]
     },
     "execution_count": 33,
     "metadata": {},
     "output_type": "execute_result"
    }
   ],
   "source": [
    "text_source = ColumnDataSource({'year': ['%s' % years[0]]})\n",
    "text        = Text(\n",
    "                  x=25, y=55, text='year',\n",
    "                  text_font_size='150pt',\n",
    "                  text_color='#EEEEEE'\n",
    "                  )\n",
    "plot.add_glyph(text_source, text)"
   ]
  },
  {
   "cell_type": "code",
   "execution_count": 34,
   "metadata": {},
   "outputs": [],
   "source": [
    "# Add the circle\n",
    "renderer_source = sources['_%s' % years[0]]\n",
    "circle_glyph    = Circle(\n",
    "                    x='age', y='medals',\n",
    "                    size='athletes', fill_alpha=0.8,\n",
    "                    fill_color='team_color',\n",
    "                    line_color='#7c7e71',\n",
    "                    line_width=0.5, line_alpha=0.5\n",
    "                    )\n",
    "\n",
    "circle_renderer = plot.add_glyph(renderer_source, circle_glyph)"
   ]
  },
  {
   "cell_type": "code",
   "execution_count": 35,
   "metadata": {},
   "outputs": [],
   "source": [
    "# Add hover for the circle (not other plot elements)\n",
    "tooltips = \"@team\"\n",
    "plot.add_tools(HoverTool(\n",
    "                  tooltips=tooltips,\n",
    "                  renderers=[circle_renderer]\n",
    "                  )\n",
    "              )"
   ]
  },
  {
   "cell_type": "code",
   "execution_count": 36,
   "metadata": {},
   "outputs": [],
   "source": [
    "color_list = color_df['color']\n",
    "\n",
    "text_x = 60\n",
    "text_y = 190\n",
    "for i, team in enumerate(teams):\n",
    "    plot.add_glyph(Text(\n",
    "                      x=text_x, y=text_y,\n",
    "                      text=[team],\n",
    "                      text_font_size='10pt',\n",
    "                      text_color='#666666'\n",
    "                      )\n",
    "                  )\n",
    "    plot.add_glyph(Circle(\n",
    "                      x=text_x - 0.5,\n",
    "                      y=text_y + 3,\n",
    "                      fill_color=color_list[i],\n",
    "                      line_color=None,\n",
    "                      fill_alpha=0.8,\n",
    "                      size=10,\n",
    "                      )\n",
    "                  )\n",
    "    text_y = text_y - 10"
   ]
  },
  {
   "cell_type": "code",
   "execution_count": 37,
   "metadata": {},
   "outputs": [],
   "source": [
    "# Add the slider\n",
    "code = \"\"\"\n",
    "    var year = slider.value,\n",
    "        sources = %s,\n",
    "        new_source_data = sources[year].data;\n",
    "    renderer_source.data = new_source_data;\n",
    "    text_source.data = {'year': [String(year)]};\n",
    "\"\"\" % js_source_array\n",
    "\n",
    "callback = CustomJS(args=sources, code=code)\n",
    "slider   = Slider(\n",
    "              start=years[0], end=years[-1],\n",
    "              value=2, step=2, title=\"Year\",\n",
    "              callback=callback\n",
    "              )\n",
    "callback.args[\"renderer_source\"] = renderer_source\n",
    "callback.args[\"text_source\"] = text_source\n",
    "callback.args[\"slider\"] = slider"
   ]
  },
  {
   "cell_type": "code",
   "execution_count": 38,
   "metadata": {},
   "outputs": [
    {
     "data": {
      "text/html": [
       "\n",
       "\n",
       "\n",
       "\n",
       "\n",
       "\n",
       "  <div class=\"bk-root\" id=\"02812f69-fa16-4474-bc90-dbf4683da31a\" data-root-id=\"1419\"></div>\n"
      ]
     },
     "metadata": {},
     "output_type": "display_data"
    },
    {
     "data": {
      "application/javascript": [
       "(function(root) {\n",
       "  function embed_document(root) {\n",
       "    \n",
       "  var docs_json = {\"357a6e6a-a54a-4bef-aa27-c29ad78f6d12\":{\"roots\":{\"references\":[{\"attributes\":{\"children\":[{\"id\":\"1417\",\"type\":\"Row\"},{\"id\":\"1418\",\"type\":\"Row\"}],\"sizing_mode\":\"scale_width\"},\"id\":\"1419\",\"type\":\"Column\"},{\"attributes\":{},\"id\":\"1473\",\"type\":\"Selection\"},{\"attributes\":{\"callback\":null,\"renderers\":[{\"id\":\"1331\",\"type\":\"GlyphRenderer\"}],\"tooltips\":\"@team\"},\"id\":\"1333\",\"type\":\"HoverTool\"},{\"attributes\":{\"callback\":null,\"data\":{\"age\":{\"__ndarray__\":\"AAAAAACAOkAlSZIkSRI5QBzHcRzHcTlAAAAAAACAOEAXXXTRRRc3QAAAAAAA4DhAAAAAAAAAAAAAAAAAAAAAAAAAAAAAgDdA4NXiJszvOEA=\",\"dtype\":\"float64\",\"shape\":[10]},\"athletes\":{\"__ndarray__\":\"AAAAAAAAQEAAAAAAAAAsQAAAAAAAwFdAAAAAAAAAIEAAAAAAAAAsQAAAAAAAADlAAAAAAAAAAAAAAAAAAAAAAAAAAAAAAABAAAAAAACAV0A=\",\"dtype\":\"float64\",\"shape\":[10]},\"medals\":{\"__ndarray__\":\"AAAAAAAAQEAAAAAAAAAsQAAAAAAAwFdAAAAAAAAAIEAAAAAAAAAsQAAAAAAAADlAAAAAAAAAAAAAAAAAAAAAAAAAAAAAAABAAAAAAACAV0A=\",\"dtype\":\"float64\",\"shape\":[10]},\"team\":[\"Canada\",\"France\",\"Germany\",\"Great Britain\",\"Hungary\",\"Italy\",\"Russia\",\"Soviet Union\",\"Sweden\",\"United States\"],\"team_color\":[\"#AB3428\",\"#ff8c00\",\"#F5EE9E\",\"#3B8EA5\",\"#003366\",\"#006400\",\"#00CC99\",\"#4E0110\",\"#9370db\",\"#fa8072\"]},\"selected\":{\"id\":\"1535\",\"type\":\"Selection\"},\"selection_policy\":{\"id\":\"1534\",\"type\":\"UnionRenderers\"}},\"id\":\"1299\",\"type\":\"ColumnDataSource\"},{\"attributes\":{\"callback\":null,\"data\":{\"age\":{\"__ndarray__\":\"AAAAAAAAPEAAAAAAAEA/QAAAAAAAQDtAAAAAAACgPEAzMzMzMzM3QAAAAAAAADRAAAAAAAAAAAAAAAAAAAAAAAAAAAAAgDlAq6qqqqqqOEA=\",\"dtype\":\"float64\",\"shape\":[10]},\"athletes\":{\"__ndarray__\":\"AAAAAAAA8D8AAAAAAAA0QAAAAAAAACxAAAAAAAAAIkAAAAAAAAAUQAAAAAAAAAhAAAAAAAAAAAAAAAAAAAAAAAAAAAAAAABAAAAAAAAAKEA=\",\"dtype\":\"float64\",\"shape\":[10]},\"medals\":{\"__ndarray__\":\"AAAAAAAA8D8AAAAAAAA0QAAAAAAAACxAAAAAAAAAIkAAAAAAAAAUQAAAAAAAAAhAAAAAAAAAAAAAAAAAAAAAAAAAAAAAAABAAAAAAAAAKEA=\",\"dtype\":\"float64\",\"shape\":[10]},\"team\":[\"Canada\",\"France\",\"Germany\",\"Great Britain\",\"Hungary\",\"Italy\",\"Russia\",\"Soviet Union\",\"Sweden\",\"United States\"],\"team_color\":[\"#AB3428\",\"#ff8c00\",\"#F5EE9E\",\"#3B8EA5\",\"#003366\",\"#006400\",\"#00CC99\",\"#4E0110\",\"#9370db\",\"#fa8072\"]},\"selected\":{\"id\":\"1497\",\"type\":\"Selection\"},\"selection_policy\":{\"id\":\"1496\",\"type\":\"UnionRenderers\"}},\"id\":\"1280\",\"type\":\"ColumnDataSource\"},{\"attributes\":{\"callback\":null,\"data\":{\"age\":{\"__ndarray__\":\"btu2bdu2OkDzGsprKK87QGZmZmZmZj1AAAAAAACAPUAAAAAAAIA4QOQ4juM4jjxAIYQQQgghOEAAAAAAAAAAAAAAAAAAgEBAmpmZmZnZOEA=\",\"dtype\":\"float64\",\"shape\":[10]},\"athletes\":{\"__ndarray__\":\"AAAAAAAAIEAAAAAAAAA1QAAAAAAAAEVAAAAAAAAAAEAAAAAAAAAgQAAAAAAAADNAAAAAAAAAQkAAAAAAAAAAAAAAAAAAAAhAAAAAAADgY0A=\",\"dtype\":\"float64\",\"shape\":[10]},\"medals\":{\"__ndarray__\":\"AAAAAAAAIEAAAAAAAAA1QAAAAAAAAEVAAAAAAAAAAEAAAAAAAAAgQAAAAAAAADNAAAAAAAAAQkAAAAAAAAAAAAAAAAAAAAhAAAAAAADgY0A=\",\"dtype\":\"float64\",\"shape\":[10]},\"team\":[\"Canada\",\"France\",\"Germany\",\"Great Britain\",\"Hungary\",\"Italy\",\"Russia\",\"Soviet Union\",\"Sweden\",\"United States\"],\"team_color\":[\"#AB3428\",\"#ff8c00\",\"#F5EE9E\",\"#3B8EA5\",\"#003366\",\"#006400\",\"#00CC99\",\"#4E0110\",\"#9370db\",\"#fa8072\"]},\"selected\":{\"id\":\"1539\",\"type\":\"Selection\"},\"selection_policy\":{\"id\":\"1538\",\"type\":\"UnionRenderers\"}},\"id\":\"1301\",\"type\":\"ColumnDataSource\"},{\"attributes\":{\"source\":{\"id\":\"1396\",\"type\":\"ColumnDataSource\"}},\"id\":\"1398\",\"type\":\"CDSView\"},{\"attributes\":{\"callback\":null,\"data\":{},\"selected\":{\"id\":\"1453\",\"type\":\"Selection\"},\"selection_policy\":{\"id\":\"1452\",\"type\":\"UnionRenderers\"}},\"id\":\"1336\",\"type\":\"ColumnDataSource\"},{\"attributes\":{},\"id\":\"1490\",\"type\":\"UnionRenderers\"},{\"attributes\":{\"callback\":null,\"data\":{\"age\":{\"__ndarray__\":\"AAAAAAAANkAzMzMzMzM8QM3MzMzMzD5AoryG8hpKO0DHcRzHcRw+QM3MzMzMDDhAAAAAAAAAAAAAAAAAAAAAAM7Wod9sHTtADdIgDdIgPkA=\",\"dtype\":\"float64\",\"shape\":[10]},\"athletes\":{\"__ndarray__\":\"AAAAAAAACEAAAAAAAAAcQAAAAAAAABhAAAAAAAAAQ0AAAAAAAAAkQAAAAAAAADZAAAAAAAAAAAAAAAAAAAAAAAAAAAAAwFdAAAAAAAAAR0A=\",\"dtype\":\"float64\",\"shape\":[10]},\"medals\":{\"__ndarray__\":\"AAAAAAAACEAAAAAAAAAcQAAAAAAAABhAAAAAAAAAQ0AAAAAAAAAkQAAAAAAAADZAAAAAAAAAAAAAAAAAAAAAAAAAAAAAwFdAAAAAAAAAR0A=\",\"dtype\":\"float64\",\"shape\":[10]},\"team\":[\"Canada\",\"France\",\"Germany\",\"Great Britain\",\"Hungary\",\"Italy\",\"Russia\",\"Soviet Union\",\"Sweden\",\"United States\"],\"team_color\":[\"#AB3428\",\"#ff8c00\",\"#F5EE9E\",\"#3B8EA5\",\"#003366\",\"#006400\",\"#00CC99\",\"#4E0110\",\"#9370db\",\"#fa8072\"]},\"selected\":{\"id\":\"1501\",\"type\":\"Selection\"},\"selection_policy\":{\"id\":\"1500\",\"type\":\"UnionRenderers\"}},\"id\":\"1282\",\"type\":\"ColumnDataSource\"},{\"attributes\":{\"fill_alpha\":{\"value\":0.8},\"fill_color\":{\"value\":\"#9370db\"},\"line_color\":{\"value\":null},\"size\":{\"units\":\"screen\",\"value\":10},\"x\":{\"value\":59.5},\"y\":{\"value\":113}},\"id\":\"1403\",\"type\":\"Circle\"},{\"attributes\":{},\"id\":\"1455\",\"type\":\"Selection\"},{\"attributes\":{\"callback\":null,\"data\":{\"age\":{\"__ndarray__\":\"q6qqqqoqPEAAAAAAAMA6QEjhehSuRzlAAAAAAACAOUB9DM7H4Hw6QMVO7MRO7DhAAAAAAAAAAAAAAAAAAIA6QAAAAAAAwDlAUgaebs0PNkA=\",\"dtype\":\"float64\",\"shape\":[10]},\"athletes\":{\"__ndarray__\":\"AAAAAAAAGEAAAAAAAAAQQAAAAAAAADlAAAAAAAAAGEAAAAAAAABFQAAAAAAAACxAAAAAAAAAAAAAAAAAAIBWQAAAAAAAACJAAAAAAAAAWEA=\",\"dtype\":\"float64\",\"shape\":[10]},\"medals\":{\"__ndarray__\":\"AAAAAAAAGEAAAAAAAAAQQAAAAAAAADlAAAAAAAAAGEAAAAAAAABFQAAAAAAAACxAAAAAAAAAAAAAAAAAAIBWQAAAAAAAACJAAAAAAAAAWEA=\",\"dtype\":\"float64\",\"shape\":[10]},\"team\":[\"Canada\",\"France\",\"Germany\",\"Great Britain\",\"Hungary\",\"Italy\",\"Russia\",\"Soviet Union\",\"Sweden\",\"United States\"],\"team_color\":[\"#AB3428\",\"#ff8c00\",\"#F5EE9E\",\"#3B8EA5\",\"#003366\",\"#006400\",\"#00CC99\",\"#4E0110\",\"#9370db\",\"#fa8072\"]},\"selected\":{\"id\":\"1521\",\"type\":\"Selection\"},\"selection_policy\":{\"id\":\"1520\",\"type\":\"UnionRenderers\"}},\"id\":\"1292\",\"type\":\"ColumnDataSource\"},{\"attributes\":{},\"id\":\"1456\",\"type\":\"UnionRenderers\"},{\"attributes\":{},\"id\":\"1548\",\"type\":\"UnionRenderers\"},{\"attributes\":{\"data_source\":{\"id\":\"1404\",\"type\":\"ColumnDataSource\"},\"glyph\":{\"id\":\"1403\",\"type\":\"Circle\"},\"hover_glyph\":null,\"muted_glyph\":null,\"view\":{\"id\":\"1406\",\"type\":\"CDSView\"}},\"id\":\"1405\",\"type\":\"GlyphRenderer\"},{\"attributes\":{},\"id\":\"1457\",\"type\":\"Selection\"},{\"attributes\":{\"callback\":null,\"data\":{\"age\":{\"__ndarray__\":\"zczMzMzMN0DFTuzETuw5QAAAAAAAAAAAvelNb3oTQEAAAAAAAAAAAHIcx3EcxztAAAAAAAAAAAAAAAAAAAAAAIO+oC/oCzpAQhqkQRokOkA=\",\"dtype\":\"float64\",\"shape\":[10]},\"athletes\":{\"__ndarray__\":\"AAAAAAAAJEAAAAAAAAAqQAAAAAAAAAAAAAAAAAAASEAAAAAAAAAAAAAAAAAAwFBAAAAAAAAAAAAAAAAAAAAAAAAAAAAAgEZAAAAAAADAW0A=\",\"dtype\":\"float64\",\"shape\":[10]},\"medals\":{\"__ndarray__\":\"AAAAAAAAJEAAAAAAAAAqQAAAAAAAAAAAAAAAAAAASEAAAAAAAAAAAAAAAAAAwFBAAAAAAAAAAAAAAAAAAAAAAAAAAAAAgEZAAAAAAADAW0A=\",\"dtype\":\"float64\",\"shape\":[10]},\"team\":[\"Canada\",\"France\",\"Germany\",\"Great Britain\",\"Hungary\",\"Italy\",\"Russia\",\"Soviet Union\",\"Sweden\",\"United States\"],\"team_color\":[\"#AB3428\",\"#ff8c00\",\"#F5EE9E\",\"#3B8EA5\",\"#003366\",\"#006400\",\"#00CC99\",\"#4E0110\",\"#9370db\",\"#fa8072\"]},\"selected\":{\"id\":\"1503\",\"type\":\"Selection\"},\"selection_policy\":{\"id\":\"1502\",\"type\":\"UnionRenderers\"}},\"id\":\"1283\",\"type\":\"ColumnDataSource\"},{\"attributes\":{},\"id\":\"1458\",\"type\":\"UnionRenderers\"},{\"attributes\":{},\"id\":\"1466\",\"type\":\"UnionRenderers\"},{\"attributes\":{},\"id\":\"1459\",\"type\":\"Selection\"},{\"attributes\":{\"source\":{\"id\":\"1400\",\"type\":\"ColumnDataSource\"}},\"id\":\"1402\",\"type\":\"CDSView\"},{\"attributes\":{},\"id\":\"1460\",\"type\":\"UnionRenderers\"},{\"attributes\":{},\"id\":\"1461\",\"type\":\"Selection\"},{\"attributes\":{\"callback\":null,\"data\":{\"age\":{\"__ndarray__\":\"dmIndmInPEDNzMzMzMw8QAAAAAAAADZAUAd1UAf1PEAAAAAAAIA5QAAAAAAAADhAAAAAAAAAQUAAAAAAAAAAABaykIUsZDhAvLu7u7s7PkA=\",\"dtype\":\"float64\",\"shape\":[10]},\"athletes\":{\"__ndarray__\":\"AAAAAAAALEAAAAAAAAAmQAAAAAAAABBAAAAAAABAVEAAAAAAAAAcQAAAAAAAAABAAAAAAAAA8D8AAAAAAAAAAAAAAAAAAEhAAAAAAAAAQUA=\",\"dtype\":\"float64\",\"shape\":[10]},\"medals\":{\"__ndarray__\":\"AAAAAAAALEAAAAAAAAAmQAAAAAAAABBAAAAAAABAVEAAAAAAAAAcQAAAAAAAAABAAAAAAAAA8D8AAAAAAAAAAAAAAAAAAEhAAAAAAAAAQUA=\",\"dtype\":\"float64\",\"shape\":[10]},\"team\":[\"Canada\",\"France\",\"Germany\",\"Great Britain\",\"Hungary\",\"Italy\",\"Russia\",\"Soviet Union\",\"Sweden\",\"United States\"],\"team_color\":[\"#AB3428\",\"#ff8c00\",\"#F5EE9E\",\"#3B8EA5\",\"#003366\",\"#006400\",\"#00CC99\",\"#4E0110\",\"#9370db\",\"#fa8072\"]},\"selected\":{\"id\":\"1499\",\"type\":\"Selection\"},\"selection_policy\":{\"id\":\"1498\",\"type\":\"UnionRenderers\"}},\"id\":\"1281\",\"type\":\"ColumnDataSource\"},{\"attributes\":{},\"id\":\"1462\",\"type\":\"UnionRenderers\"},{\"attributes\":{},\"id\":\"1469\",\"type\":\"Selection\"},{\"attributes\":{\"callback\":null,\"data\":{\"age\":{\"__ndarray__\":\"AAAAAADAPUBVVVVVVVU4QAAAAAAAAAAAchzHcRzHPkB877333ns5QBdddNFFFzhAAAAAAAAAAADXod9sHfo5QAAAAAAAgDhAvYbyGsorNkA=\",\"dtype\":\"float64\",\"shape\":[10]},\"athletes\":{\"__ndarray__\":\"AAAAAAAAEEAAAAAAAAAwQAAAAAAAAAAAAAAAAAAAIkAAAAAAAABAQAAAAAAAACpAAAAAAAAAAAAAAAAAAMBWQAAAAAAAABxAAAAAAAAAWUA=\",\"dtype\":\"float64\",\"shape\":[10]},\"medals\":{\"__ndarray__\":\"AAAAAAAAEEAAAAAAAAAwQAAAAAAAAAAAAAAAAAAAIkAAAAAAAABAQAAAAAAAACpAAAAAAAAAAAAAAAAAAMBWQAAAAAAAABxAAAAAAAAAWUA=\",\"dtype\":\"float64\",\"shape\":[10]},\"team\":[\"Canada\",\"France\",\"Germany\",\"Great Britain\",\"Hungary\",\"Italy\",\"Russia\",\"Soviet Union\",\"Sweden\",\"United States\"],\"team_color\":[\"#AB3428\",\"#ff8c00\",\"#F5EE9E\",\"#3B8EA5\",\"#003366\",\"#006400\",\"#00CC99\",\"#4E0110\",\"#9370db\",\"#fa8072\"]},\"selected\":{\"id\":\"1523\",\"type\":\"Selection\"},\"selection_policy\":{\"id\":\"1522\",\"type\":\"UnionRenderers\"}},\"id\":\"1293\",\"type\":\"ColumnDataSource\"},{\"attributes\":{},\"id\":\"1463\",\"type\":\"Selection\"},{\"attributes\":{\"text\":{\"value\":\"Canada\"},\"text_color\":{\"value\":\"#666666\"},\"text_font_size\":{\"value\":\"10pt\"},\"x\":{\"value\":60},\"y\":{\"value\":190}},\"id\":\"1335\",\"type\":\"Text\"},{\"attributes\":{\"data_source\":{\"id\":\"1340\",\"type\":\"ColumnDataSource\"},\"glyph\":{\"id\":\"1339\",\"type\":\"Circle\"},\"hover_glyph\":null,\"muted_glyph\":null,\"view\":{\"id\":\"1342\",\"type\":\"CDSView\"}},\"id\":\"1341\",\"type\":\"GlyphRenderer\"},{\"attributes\":{\"fill_alpha\":{\"value\":0.8},\"fill_color\":{\"value\":\"#4E0110\"},\"line_color\":{\"value\":null},\"size\":{\"units\":\"screen\",\"value\":10},\"x\":{\"value\":59.5},\"y\":{\"value\":123}},\"id\":\"1395\",\"type\":\"Circle\"},{\"attributes\":{},\"id\":\"1472\",\"type\":\"UnionRenderers\"},{\"attributes\":{},\"id\":\"1477\",\"type\":\"Selection\"},{\"attributes\":{},\"id\":\"1491\",\"type\":\"Selection\"},{\"attributes\":{},\"id\":\"1478\",\"type\":\"UnionRenderers\"},{\"attributes\":{},\"id\":\"1492\",\"type\":\"UnionRenderers\"},{\"attributes\":{},\"id\":\"1471\",\"type\":\"Selection\"},{\"attributes\":{\"source\":{\"id\":\"1277\",\"type\":\"ColumnDataSource\"}},\"id\":\"1332\",\"type\":\"CDSView\"},{\"attributes\":{},\"id\":\"1470\",\"type\":\"UnionRenderers\"},{\"attributes\":{},\"id\":\"1479\",\"type\":\"Selection\"},{\"attributes\":{},\"id\":\"1493\",\"type\":\"Selection\"},{\"attributes\":{},\"id\":\"1467\",\"type\":\"Selection\"},{\"attributes\":{},\"id\":\"1480\",\"type\":\"UnionRenderers\"},{\"attributes\":{},\"id\":\"1494\",\"type\":\"UnionRenderers\"},{\"attributes\":{\"data_source\":{\"id\":\"1344\",\"type\":\"ColumnDataSource\"},\"glyph\":{\"id\":\"1343\",\"type\":\"Text\"},\"hover_glyph\":null,\"muted_glyph\":null,\"view\":{\"id\":\"1346\",\"type\":\"CDSView\"}},\"id\":\"1345\",\"type\":\"GlyphRenderer\"},{\"attributes\":{\"source\":{\"id\":\"1336\",\"type\":\"ColumnDataSource\"}},\"id\":\"1338\",\"type\":\"CDSView\"},{\"attributes\":{},\"id\":\"1481\",\"type\":\"Selection\"},{\"attributes\":{},\"id\":\"1495\",\"type\":\"Selection\"},{\"attributes\":{\"data_source\":{\"id\":\"1336\",\"type\":\"ColumnDataSource\"},\"glyph\":{\"id\":\"1335\",\"type\":\"Text\"},\"hover_glyph\":null,\"muted_glyph\":null,\"view\":{\"id\":\"1338\",\"type\":\"CDSView\"}},\"id\":\"1337\",\"type\":\"GlyphRenderer\"},{\"attributes\":{},\"id\":\"1482\",\"type\":\"UnionRenderers\"},{\"attributes\":{},\"id\":\"1496\",\"type\":\"UnionRenderers\"},{\"attributes\":{\"callback\":null,\"data\":{},\"selected\":{\"id\":\"1455\",\"type\":\"Selection\"},\"selection_policy\":{\"id\":\"1454\",\"type\":\"UnionRenderers\"}},\"id\":\"1340\",\"type\":\"ColumnDataSource\"},{\"attributes\":{\"source\":{\"id\":\"1392\",\"type\":\"ColumnDataSource\"}},\"id\":\"1394\",\"type\":\"CDSView\"},{\"attributes\":{\"data_source\":{\"id\":\"1400\",\"type\":\"ColumnDataSource\"},\"glyph\":{\"id\":\"1399\",\"type\":\"Text\"},\"hover_glyph\":null,\"muted_glyph\":null,\"view\":{\"id\":\"1402\",\"type\":\"CDSView\"}},\"id\":\"1401\",\"type\":\"GlyphRenderer\"},{\"attributes\":{\"callback\":null,\"data\":{\"age\":{\"__ndarray__\":\"AAAAAAAAAACIh4eHh4c4QAAAAAAAAAAAAAAAAACAN0AAAAAAAIA4QAAAAAAAYDlAAAAAAAAAAADMLrvssss4QM3MzMzMzDVAMzMzMzPzNUA=\",\"dtype\":\"float64\",\"shape\":[10]},\"athletes\":{\"__ndarray__\":\"AAAAAAAAAAAAAAAAAAAyQAAAAAAAAAAAAAAAAAAAGEAAAAAAAAAgQAAAAAAAACBAAAAAAAAAAAAAAAAAAKBpQAAAAAAAABhAAAAAAAAAOEA=\",\"dtype\":\"float64\",\"shape\":[10]},\"medals\":{\"__ndarray__\":\"AAAAAAAAAAAAAAAAAAAyQAAAAAAAAAAAAAAAAAAAGEAAAAAAAAAgQAAAAAAAACBAAAAAAAAAAAAAAAAAAKBpQAAAAAAAABhAAAAAAAAAOEA=\",\"dtype\":\"float64\",\"shape\":[10]},\"team\":[\"Canada\",\"France\",\"Germany\",\"Great Britain\",\"Hungary\",\"Italy\",\"Russia\",\"Soviet Union\",\"Sweden\",\"United States\"],\"team_color\":[\"#AB3428\",\"#ff8c00\",\"#F5EE9E\",\"#3B8EA5\",\"#003366\",\"#006400\",\"#00CC99\",\"#4E0110\",\"#9370db\",\"#fa8072\"]},\"selected\":{\"id\":\"1529\",\"type\":\"Selection\"},\"selection_policy\":{\"id\":\"1528\",\"type\":\"UnionRenderers\"}},\"id\":\"1296\",\"type\":\"ColumnDataSource\"},{\"attributes\":{},\"id\":\"1483\",\"type\":\"Selection\"},{\"attributes\":{},\"id\":\"1497\",\"type\":\"Selection\"},{\"attributes\":{\"callback\":null,\"data\":{\"age\":{\"__ndarray__\":\"q6qqqqqqN0DZiZ3YiZ07QAAAAAAAAAAA0UUXXXRRPECXlpaWlpY4QKuqqqqq6jhAAAAAAAAAAACamZmZmXE4QDMzMzMzMztA5DiO4zguOEA=\",\"dtype\":\"float64\",\"shape\":[10]},\"athletes\":{\"__ndarray__\":\"AAAAAAAAEEAAAAAAAAAqQAAAAAAAAAAAAAAAAAAANkAAAAAAAAA0QAAAAAAAACpAAAAAAAAAAAAAAAAAAMBlQAAAAAAAABxAAAAAAABAVkA=\",\"dtype\":\"float64\",\"shape\":[10]},\"medals\":{\"__ndarray__\":\"AAAAAAAAEEAAAAAAAAAqQAAAAAAAAAAAAAAAAAAANkAAAAAAAAA0QAAAAAAAACpAAAAAAAAAAAAAAAAAAMBlQAAAAAAAABxAAAAAAABAVkA=\",\"dtype\":\"float64\",\"shape\":[10]},\"team\":[\"Canada\",\"France\",\"Germany\",\"Great Britain\",\"Hungary\",\"Italy\",\"Russia\",\"Soviet Union\",\"Sweden\",\"United States\"],\"team_color\":[\"#AB3428\",\"#ff8c00\",\"#F5EE9E\",\"#3B8EA5\",\"#003366\",\"#006400\",\"#00CC99\",\"#4E0110\",\"#9370db\",\"#fa8072\"]},\"selected\":{\"id\":\"1533\",\"type\":\"Selection\"},\"selection_policy\":{\"id\":\"1532\",\"type\":\"UnionRenderers\"}},\"id\":\"1298\",\"type\":\"ColumnDataSource\"},{\"attributes\":{\"callback\":null,\"data\":{},\"selected\":{\"id\":\"1457\",\"type\":\"Selection\"},\"selection_policy\":{\"id\":\"1456\",\"type\":\"UnionRenderers\"}},\"id\":\"1344\",\"type\":\"ColumnDataSource\"},{\"attributes\":{},\"id\":\"1484\",\"type\":\"UnionRenderers\"},{\"attributes\":{},\"id\":\"1498\",\"type\":\"UnionRenderers\"},{\"attributes\":{},\"id\":\"1485\",\"type\":\"Selection\"},{\"attributes\":{},\"id\":\"1499\",\"type\":\"Selection\"},{\"attributes\":{\"text\":{\"field\":\"year\"},\"text_color\":{\"value\":\"#EEEEEE\"},\"text_font_size\":{\"value\":\"150pt\"},\"x\":{\"value\":25},\"y\":{\"value\":55}},\"id\":\"1325\",\"type\":\"Text\"},{\"attributes\":{\"callback\":null,\"data\":{\"age\":{\"__ndarray__\":\"AAAAAACANkAAAAAAAAAAAAAAAAAAMDlAAAAAAAAAAAAAAAAAAAAAAHZiJ3ZiJztA8fDw8PDwOEAAAAAAAAAAAC1kIQtZyDlAZmZmZmZmO0A=\",\"dtype\":\"float64\",\"shape\":[10]},\"athletes\":{\"__ndarray__\":\"AAAAAAAACEAAAAAAAAAAAAAAAAAAADJAAAAAAAAAAAAAAAAAAAAAAAAAAAAAACxAAAAAAAAAM0AAAAAAAAAAAAAAAAAAADdAAAAAAAAAGEA=\",\"dtype\":\"float64\",\"shape\":[10]},\"medals\":{\"__ndarray__\":\"AAAAAAAACEAAAAAAAAAAAAAAAAAAADJAAAAAAAAAAAAAAAAAAAAAAAAAAAAAACxAAAAAAAAAM0AAAAAAAAAAAAAAAAAAADdAAAAAAAAAGEA=\",\"dtype\":\"float64\",\"shape\":[10]},\"team\":[\"Canada\",\"France\",\"Germany\",\"Great Britain\",\"Hungary\",\"Italy\",\"Russia\",\"Soviet Union\",\"Sweden\",\"United States\"],\"team_color\":[\"#AB3428\",\"#ff8c00\",\"#F5EE9E\",\"#3B8EA5\",\"#003366\",\"#006400\",\"#00CC99\",\"#4E0110\",\"#9370db\",\"#fa8072\"]},\"selected\":{\"id\":\"1537\",\"type\":\"Selection\"},\"selection_policy\":{\"id\":\"1536\",\"type\":\"UnionRenderers\"}},\"id\":\"1300\",\"type\":\"ColumnDataSource\"},{\"attributes\":{},\"id\":\"1464\",\"type\":\"UnionRenderers\"},{\"attributes\":{},\"id\":\"1486\",\"type\":\"UnionRenderers\"},{\"attributes\":{},\"id\":\"1500\",\"type\":\"UnionRenderers\"},{\"attributes\":{\"callback\":null,\"data\":{\"age\":{\"__ndarray__\":\"AAAAAAAAMkAzMzMzM7NCQAAAAAAAAAAA27Zt27ZtPECSJEmSJEk5QKuqqqqqqjZAAAAAAAAAAAA7qIM6qAM5QDmO4ziO4zxAY4wxxhhjNUA=\",\"dtype\":\"float64\",\"shape\":[10]},\"athletes\":{\"__ndarray__\":\"AAAAAAAA8D8AAAAAAAAUQAAAAAAAAAAAAAAAAAAAHEAAAAAAAAAsQAAAAAAAAAhAAAAAAAAAAAAAAAAAAABjQAAAAAAAACJAAAAAAABAUkA=\",\"dtype\":\"float64\",\"shape\":[10]},\"medals\":{\"__ndarray__\":\"AAAAAAAA8D8AAAAAAAAUQAAAAAAAAAAAAAAAAAAAHEAAAAAAAAAsQAAAAAAAAAhAAAAAAAAAAAAAAAAAAABjQAAAAAAAACJAAAAAAABAUkA=\",\"dtype\":\"float64\",\"shape\":[10]},\"team\":[\"Canada\",\"France\",\"Germany\",\"Great Britain\",\"Hungary\",\"Italy\",\"Russia\",\"Soviet Union\",\"Sweden\",\"United States\"],\"team_color\":[\"#AB3428\",\"#ff8c00\",\"#F5EE9E\",\"#3B8EA5\",\"#003366\",\"#006400\",\"#00CC99\",\"#4E0110\",\"#9370db\",\"#fa8072\"]},\"selected\":{\"id\":\"1527\",\"type\":\"Selection\"},\"selection_policy\":{\"id\":\"1526\",\"type\":\"UnionRenderers\"}},\"id\":\"1295\",\"type\":\"ColumnDataSource\"},{\"attributes\":{},\"id\":\"1465\",\"type\":\"Selection\"},{\"attributes\":{\"source\":{\"id\":\"1340\",\"type\":\"ColumnDataSource\"}},\"id\":\"1342\",\"type\":\"CDSView\"},{\"attributes\":{},\"id\":\"1487\",\"type\":\"Selection\"},{\"attributes\":{},\"id\":\"1501\",\"type\":\"Selection\"},{\"attributes\":{\"text\":{\"value\":\"France\"},\"text_color\":{\"value\":\"#666666\"},\"text_font_size\":{\"value\":\"10pt\"},\"x\":{\"value\":60},\"y\":{\"value\":180}},\"id\":\"1343\",\"type\":\"Text\"},{\"attributes\":{\"callback\":null,\"data\":{\"age\":{\"__ndarray__\":\"AAAAAAAAAAAAAAAAAAA7QAAAAAAAAAAAbtu2bdu2PEA5juM4juM7QKuqqqqqajtAAAAAAAAAAADT0tLS0lI6QAAAAAAAADlAfsPaN6x9NUA=\",\"dtype\":\"float64\",\"shape\":[10]},\"athletes\":{\"__ndarray__\":\"AAAAAAAAAAAAAAAAAAAAQAAAAAAAAAAAAAAAAAAAIEAAAAAAAAAkQAAAAAAAAChAAAAAAAAAAAAAAAAAAOBhQAAAAAAAABRAAAAAAAAAUkA=\",\"dtype\":\"float64\",\"shape\":[10]},\"medals\":{\"__ndarray__\":\"AAAAAAAAAAAAAAAAAAAAQAAAAAAAAAAAAAAAAAAAIEAAAAAAAAAkQAAAAAAAAChAAAAAAAAAAAAAAAAAAOBhQAAAAAAAABRAAAAAAAAAUkA=\",\"dtype\":\"float64\",\"shape\":[10]},\"team\":[\"Canada\",\"France\",\"Germany\",\"Great Britain\",\"Hungary\",\"Italy\",\"Russia\",\"Soviet Union\",\"Sweden\",\"United States\"],\"team_color\":[\"#AB3428\",\"#ff8c00\",\"#F5EE9E\",\"#3B8EA5\",\"#003366\",\"#006400\",\"#00CC99\",\"#4E0110\",\"#9370db\",\"#fa8072\"]},\"selected\":{\"id\":\"1525\",\"type\":\"Selection\"},\"selection_policy\":{\"id\":\"1524\",\"type\":\"UnionRenderers\"}},\"id\":\"1294\",\"type\":\"ColumnDataSource\"},{\"attributes\":{},\"id\":\"1488\",\"type\":\"UnionRenderers\"},{\"attributes\":{},\"id\":\"1502\",\"type\":\"UnionRenderers\"},{\"attributes\":{\"data_source\":{\"id\":\"1392\",\"type\":\"ColumnDataSource\"},\"glyph\":{\"id\":\"1391\",\"type\":\"Text\"},\"hover_glyph\":null,\"muted_glyph\":null,\"view\":{\"id\":\"1394\",\"type\":\"CDSView\"}},\"id\":\"1393\",\"type\":\"GlyphRenderer\"},{\"attributes\":{\"callback\":null,\"data\":{\"age\":{\"__ndarray__\":\"h/IaymsoOEAzMzMzM7M4QAAAAAAAAAAAXXTRRRddOkAAAAAAAAAAACMs9zTCcjhAAAAAAAAAAACoEZZ7GmE4QAAAAAAAADhA6eVPW2jAN0A=\",\"dtype\":\"float64\",\"shape\":[10]},\"athletes\":{\"__ndarray__\":\"AAAAAAAANUAAAAAAAAA0QAAAAAAAAAAAAAAAAAAAJkAAAAAAAAAAAAAAAAAAAD9AAAAAAAAAAAAAAAAAAAA9QAAAAAAAACRAAAAAAADAZ0A=\",\"dtype\":\"float64\",\"shape\":[10]},\"medals\":{\"__ndarray__\":\"AAAAAAAANUAAAAAAAAA0QAAAAAAAAAAAAAAAAAAAJkAAAAAAAAAAAAAAAAAAAD9AAAAAAAAAAAAAAAAAAAA9QAAAAAAAACRAAAAAAADAZ0A=\",\"dtype\":\"float64\",\"shape\":[10]},\"team\":[\"Canada\",\"France\",\"Germany\",\"Great Britain\",\"Hungary\",\"Italy\",\"Russia\",\"Soviet Union\",\"Sweden\",\"United States\"],\"team_color\":[\"#AB3428\",\"#ff8c00\",\"#F5EE9E\",\"#3B8EA5\",\"#003366\",\"#006400\",\"#00CC99\",\"#4E0110\",\"#9370db\",\"#fa8072\"]},\"selected\":{\"id\":\"1531\",\"type\":\"Selection\"},\"selection_policy\":{\"id\":\"1530\",\"type\":\"UnionRenderers\"}},\"id\":\"1297\",\"type\":\"ColumnDataSource\"},{\"attributes\":{},\"id\":\"1489\",\"type\":\"Selection\"},{\"attributes\":{},\"id\":\"1503\",\"type\":\"Selection\"},{\"attributes\":{},\"id\":\"1504\",\"type\":\"UnionRenderers\"},{\"attributes\":{\"source\":{\"id\":\"1380\",\"type\":\"ColumnDataSource\"}},\"id\":\"1382\",\"type\":\"CDSView\"},{\"attributes\":{\"callback\":null,\"data\":{},\"selected\":{\"id\":\"1491\",\"type\":\"Selection\"},\"selection_policy\":{\"id\":\"1490\",\"type\":\"UnionRenderers\"}},\"id\":\"1412\",\"type\":\"ColumnDataSource\"},{\"attributes\":{},\"id\":\"1536\",\"type\":\"UnionRenderers\"},{\"attributes\":{\"text\":{\"value\":\"Soviet Union\"},\"text_color\":{\"value\":\"#666666\"},\"text_font_size\":{\"value\":\"10pt\"},\"x\":{\"value\":60},\"y\":{\"value\":120}},\"id\":\"1391\",\"type\":\"Text\"},{\"attributes\":{},\"id\":\"1468\",\"type\":\"UnionRenderers\"},{\"attributes\":{},\"id\":\"1505\",\"type\":\"Selection\"},{\"attributes\":{\"source\":{\"id\":\"1364\",\"type\":\"ColumnDataSource\"}},\"id\":\"1366\",\"type\":\"CDSView\"},{\"attributes\":{\"callback\":null,\"data\":{},\"selected\":{\"id\":\"1489\",\"type\":\"Selection\"},\"selection_policy\":{\"id\":\"1488\",\"type\":\"UnionRenderers\"}},\"id\":\"1408\",\"type\":\"ColumnDataSource\"},{\"attributes\":{\"callback\":null,\"data\":{\"age\":{\"__ndarray__\":\"t23btm3bO0AAAAAAAIA5QBiGYRiGYTtAAAAAAAAAAAAAAAAAAAAAAKuqqqqqqj1Auuiiiy66OkAAAAAAAAAAAAAAAAAAAAAAj8L1KFyPN0A=\",\"dtype\":\"float64\",\"shape\":[10]},\"athletes\":{\"__ndarray__\":\"AAAAAAAALEAAAAAAAAAAQAAAAAAAADZAAAAAAAAAAAAAAAAAAAAAAAAAAAAAAAhAAAAAAAAALEAAAAAAAAAAAAAAAAAAAAAAAAAAAAAAOUA=\",\"dtype\":\"float64\",\"shape\":[10]},\"medals\":{\"__ndarray__\":\"AAAAAAAALEAAAAAAAAAAQAAAAAAAADZAAAAAAAAAAAAAAAAAAAAAAAAAAAAAAAhAAAAAAAAALEAAAAAAAAAAAAAAAAAAAAAAAAAAAAAAOUA=\",\"dtype\":\"float64\",\"shape\":[10]},\"team\":[\"Canada\",\"France\",\"Germany\",\"Great Britain\",\"Hungary\",\"Italy\",\"Russia\",\"Soviet Union\",\"Sweden\",\"United States\"],\"team_color\":[\"#AB3428\",\"#ff8c00\",\"#F5EE9E\",\"#3B8EA5\",\"#003366\",\"#006400\",\"#00CC99\",\"#4E0110\",\"#9370db\",\"#fa8072\"]},\"selected\":{\"id\":\"1541\",\"type\":\"Selection\"},\"selection_policy\":{\"id\":\"1540\",\"type\":\"UnionRenderers\"}},\"id\":\"1302\",\"type\":\"ColumnDataSource\"},{\"attributes\":{},\"id\":\"1537\",\"type\":\"Selection\"},{\"attributes\":{\"source\":{\"id\":\"1344\",\"type\":\"ColumnDataSource\"}},\"id\":\"1346\",\"type\":\"CDSView\"},{\"attributes\":{\"callback\":null,\"data\":{\"age\":{\"__ndarray__\":\"5DiO4zgON0CSJEmSJEk/QDMzMzMz8ztASZIkSZIkOkBVVVVVVdVAQAAAAAAA4DhAAAAAAAAAAAAAAAAAAAAAAFVVVVVVVTxA5QpicgUxNkA=\",\"dtype\":\"float64\",\"shape\":[10]},\"athletes\":{\"__ndarray__\":\"AAAAAAAAM0AAAAAAAAAgQAAAAAAAADVAAAAAAAAAHEAAAAAAAAAkQAAAAAAAADhAAAAAAAAAAAAAAAAAAAAAAAAAAAAAACJAAAAAAACASkA=\",\"dtype\":\"float64\",\"shape\":[10]},\"medals\":{\"__ndarray__\":\"AAAAAAAAM0AAAAAAAAAgQAAAAAAAADVAAAAAAAAAHEAAAAAAAAAkQAAAAAAAADhAAAAAAAAAAAAAAAAAAAAAAAAAAAAAACJAAAAAAACASkA=\",\"dtype\":\"float64\",\"shape\":[10]},\"team\":[\"Canada\",\"France\",\"Germany\",\"Great Britain\",\"Hungary\",\"Italy\",\"Russia\",\"Soviet Union\",\"Sweden\",\"United States\"],\"team_color\":[\"#AB3428\",\"#ff8c00\",\"#F5EE9E\",\"#3B8EA5\",\"#003366\",\"#006400\",\"#00CC99\",\"#4E0110\",\"#9370db\",\"#fa8072\"]},\"selected\":{\"id\":\"1507\",\"type\":\"Selection\"},\"selection_policy\":{\"id\":\"1506\",\"type\":\"UnionRenderers\"}},\"id\":\"1285\",\"type\":\"ColumnDataSource\"},{\"attributes\":{},\"id\":\"1476\",\"type\":\"UnionRenderers\"},{\"attributes\":{},\"id\":\"1506\",\"type\":\"UnionRenderers\"},{\"attributes\":{\"data_source\":{\"id\":\"1388\",\"type\":\"ColumnDataSource\"},\"glyph\":{\"id\":\"1387\",\"type\":\"Circle\"},\"hover_glyph\":null,\"muted_glyph\":null,\"view\":{\"id\":\"1390\",\"type\":\"CDSView\"}},\"id\":\"1389\",\"type\":\"GlyphRenderer\"},{\"attributes\":{},\"id\":\"1538\",\"type\":\"UnionRenderers\"},{\"attributes\":{\"callback\":null,\"data\":{},\"selected\":{\"id\":\"1469\",\"type\":\"Selection\"},\"selection_policy\":{\"id\":\"1468\",\"type\":\"UnionRenderers\"}},\"id\":\"1368\",\"type\":\"ColumnDataSource\"},{\"attributes\":{\"text\":{\"value\":\"Russia\"},\"text_color\":{\"value\":\"#666666\"},\"text_font_size\":{\"value\":\"10pt\"},\"x\":{\"value\":60},\"y\":{\"value\":130}},\"id\":\"1383\",\"type\":\"Text\"},{\"attributes\":{},\"id\":\"1507\",\"type\":\"Selection\"},{\"attributes\":{\"callback\":null,\"data\":{},\"selected\":{\"id\":\"1485\",\"type\":\"Selection\"},\"selection_policy\":{\"id\":\"1484\",\"type\":\"UnionRenderers\"}},\"id\":\"1400\",\"type\":\"ColumnDataSource\"},{\"attributes\":{},\"id\":\"1539\",\"type\":\"Selection\"},{\"attributes\":{\"callback\":null,\"data\":{},\"selected\":{\"id\":\"1479\",\"type\":\"Selection\"},\"selection_policy\":{\"id\":\"1478\",\"type\":\"UnionRenderers\"}},\"id\":\"1388\",\"type\":\"ColumnDataSource\"},{\"attributes\":{},\"id\":\"1508\",\"type\":\"UnionRenderers\"},{\"attributes\":{\"data_source\":{\"id\":\"1364\",\"type\":\"ColumnDataSource\"},\"glyph\":{\"id\":\"1363\",\"type\":\"Circle\"},\"hover_glyph\":null,\"muted_glyph\":null,\"view\":{\"id\":\"1366\",\"type\":\"CDSView\"}},\"id\":\"1365\",\"type\":\"GlyphRenderer\"},{\"attributes\":{\"interval\":10},\"id\":\"1321\",\"type\":\"SingleIntervalTicker\"},{\"attributes\":{\"source\":{\"id\":\"1384\",\"type\":\"ColumnDataSource\"}},\"id\":\"1386\",\"type\":\"CDSView\"},{\"attributes\":{\"source\":{\"id\":\"1408\",\"type\":\"ColumnDataSource\"}},\"id\":\"1410\",\"type\":\"CDSView\"},{\"attributes\":{},\"id\":\"1509\",\"type\":\"Selection\"},{\"attributes\":{},\"id\":\"1540\",\"type\":\"UnionRenderers\"},{\"attributes\":{\"data_source\":{\"id\":\"1412\",\"type\":\"ColumnDataSource\"},\"glyph\":{\"id\":\"1411\",\"type\":\"Circle\"},\"hover_glyph\":null,\"muted_glyph\":null,\"view\":{\"id\":\"1414\",\"type\":\"CDSView\"}},\"id\":\"1413\",\"type\":\"GlyphRenderer\"},{\"attributes\":{\"fill_alpha\":{\"value\":0.8},\"fill_color\":{\"value\":\"#003366\"},\"line_color\":{\"value\":null},\"size\":{\"units\":\"screen\",\"value\":10},\"x\":{\"value\":59.5},\"y\":{\"value\":153}},\"id\":\"1371\",\"type\":\"Circle\"},{\"attributes\":{},\"id\":\"1475\",\"type\":\"Selection\"},{\"attributes\":{},\"id\":\"1541\",\"type\":\"Selection\"},{\"attributes\":{\"fill_alpha\":{\"value\":0.8},\"fill_color\":{\"value\":\"#006400\"},\"line_color\":{\"value\":null},\"size\":{\"units\":\"screen\",\"value\":10},\"x\":{\"value\":59.5},\"y\":{\"value\":143}},\"id\":\"1379\",\"type\":\"Circle\"},{\"attributes\":{},\"id\":\"1510\",\"type\":\"UnionRenderers\"},{\"attributes\":{\"data_source\":{\"id\":\"1368\",\"type\":\"ColumnDataSource\"},\"glyph\":{\"id\":\"1367\",\"type\":\"Text\"},\"hover_glyph\":null,\"muted_glyph\":null,\"view\":{\"id\":\"1370\",\"type\":\"CDSView\"}},\"id\":\"1369\",\"type\":\"GlyphRenderer\"},{\"attributes\":{\"callback\":null,\"data\":{},\"selected\":{\"id\":\"1475\",\"type\":\"Selection\"},\"selection_policy\":{\"id\":\"1474\",\"type\":\"UnionRenderers\"}},\"id\":\"1380\",\"type\":\"ColumnDataSource\"},{\"attributes\":{},\"id\":\"1542\",\"type\":\"UnionRenderers\"},{\"attributes\":{\"fill_alpha\":{\"value\":0.8},\"fill_color\":{\"value\":\"#00CC99\"},\"line_color\":{\"value\":null},\"size\":{\"units\":\"screen\",\"value\":10},\"x\":{\"value\":59.5},\"y\":{\"value\":133}},\"id\":\"1387\",\"type\":\"Circle\"},{\"attributes\":{},\"id\":\"1511\",\"type\":\"Selection\"},{\"attributes\":{\"source\":{\"id\":\"1368\",\"type\":\"ColumnDataSource\"}},\"id\":\"1370\",\"type\":\"CDSView\"},{\"attributes\":{},\"id\":\"1543\",\"type\":\"Selection\"},{\"attributes\":{\"text\":\"Average Ages of Gold-Medal-Winning Athletes from 1896-2016\"},\"id\":\"1317\",\"type\":\"Title\"},{\"attributes\":{\"source\":{\"id\":\"1404\",\"type\":\"ColumnDataSource\"}},\"id\":\"1406\",\"type\":\"CDSView\"},{\"attributes\":{\"source\":{\"id\":\"1412\",\"type\":\"ColumnDataSource\"}},\"id\":\"1414\",\"type\":\"CDSView\"},{\"attributes\":{},\"id\":\"1512\",\"type\":\"UnionRenderers\"},{\"attributes\":{\"data_source\":{\"id\":\"1348\",\"type\":\"ColumnDataSource\"},\"glyph\":{\"id\":\"1347\",\"type\":\"Circle\"},\"hover_glyph\":null,\"muted_glyph\":null,\"view\":{\"id\":\"1350\",\"type\":\"CDSView\"}},\"id\":\"1349\",\"type\":\"GlyphRenderer\"},{\"attributes\":{\"callback\":null,\"data\":{\"year\":[\"1896\"]},\"selected\":{\"id\":\"1449\",\"type\":\"Selection\"},\"selection_policy\":{\"id\":\"1448\",\"type\":\"UnionRenderers\"}},\"id\":\"1324\",\"type\":\"ColumnDataSource\"},{\"attributes\":{},\"id\":\"1544\",\"type\":\"UnionRenderers\"},{\"attributes\":{\"below\":[{\"id\":\"1319\",\"type\":\"LinearAxis\"}],\"left\":[{\"id\":\"1322\",\"type\":\"LinearAxis\"}],\"min_border\":20,\"outline_line_color\":{\"value\":null},\"plot_height\":500,\"plot_width\":1000,\"renderers\":[{\"id\":\"1326\",\"type\":\"GlyphRenderer\"},{\"id\":\"1331\",\"type\":\"GlyphRenderer\"},{\"id\":\"1337\",\"type\":\"GlyphRenderer\"},{\"id\":\"1341\",\"type\":\"GlyphRenderer\"},{\"id\":\"1345\",\"type\":\"GlyphRenderer\"},{\"id\":\"1349\",\"type\":\"GlyphRenderer\"},{\"id\":\"1353\",\"type\":\"GlyphRenderer\"},{\"id\":\"1357\",\"type\":\"GlyphRenderer\"},{\"id\":\"1361\",\"type\":\"GlyphRenderer\"},{\"id\":\"1365\",\"type\":\"GlyphRenderer\"},{\"id\":\"1369\",\"type\":\"GlyphRenderer\"},{\"id\":\"1373\",\"type\":\"GlyphRenderer\"},{\"id\":\"1377\",\"type\":\"GlyphRenderer\"},{\"id\":\"1381\",\"type\":\"GlyphRenderer\"},{\"id\":\"1385\",\"type\":\"GlyphRenderer\"},{\"id\":\"1389\",\"type\":\"GlyphRenderer\"},{\"id\":\"1393\",\"type\":\"GlyphRenderer\"},{\"id\":\"1397\",\"type\":\"GlyphRenderer\"},{\"id\":\"1401\",\"type\":\"GlyphRenderer\"},{\"id\":\"1405\",\"type\":\"GlyphRenderer\"},{\"id\":\"1409\",\"type\":\"GlyphRenderer\"},{\"id\":\"1413\",\"type\":\"GlyphRenderer\"}],\"sizing_mode\":\"scale_width\",\"title\":{\"id\":\"1317\",\"type\":\"Title\"},\"toolbar\":{\"id\":\"1334\",\"type\":\"Toolbar\"},\"toolbar_location\":null,\"x_range\":{\"id\":\"1312\",\"type\":\"Range1d\"},\"x_scale\":{\"id\":\"1445\",\"type\":\"LinearScale\"},\"y_range\":{\"id\":\"1313\",\"type\":\"Range1d\"},\"y_scale\":{\"id\":\"1444\",\"type\":\"LinearScale\"}},\"id\":\"1314\",\"type\":\"Plot\"},{\"attributes\":{\"text\":{\"value\":\"Hungary\"},\"text_color\":{\"value\":\"#666666\"},\"text_font_size\":{\"value\":\"10pt\"},\"x\":{\"value\":60},\"y\":{\"value\":150}},\"id\":\"1367\",\"type\":\"Text\"},{\"attributes\":{},\"id\":\"1513\",\"type\":\"Selection\"},{\"attributes\":{},\"id\":\"1474\",\"type\":\"UnionRenderers\"},{\"attributes\":{},\"id\":\"1545\",\"type\":\"Selection\"},{\"attributes\":{\"source\":{\"id\":\"1372\",\"type\":\"ColumnDataSource\"}},\"id\":\"1374\",\"type\":\"CDSView\"},{\"attributes\":{},\"id\":\"1514\",\"type\":\"UnionRenderers\"},{\"attributes\":{\"children\":[{\"id\":\"1314\",\"type\":\"Plot\"}],\"sizing_mode\":\"scale_width\"},\"id\":\"1417\",\"type\":\"Row\"},{\"attributes\":{\"active_drag\":\"auto\",\"active_inspect\":\"auto\",\"active_multi\":null,\"active_scroll\":\"auto\",\"active_tap\":\"auto\",\"tools\":[{\"id\":\"1333\",\"type\":\"HoverTool\"}]},\"id\":\"1334\",\"type\":\"Toolbar\"},{\"attributes\":{\"data_source\":{\"id\":\"1384\",\"type\":\"ColumnDataSource\"},\"glyph\":{\"id\":\"1383\",\"type\":\"Text\"},\"hover_glyph\":null,\"muted_glyph\":null,\"view\":{\"id\":\"1386\",\"type\":\"CDSView\"}},\"id\":\"1385\",\"type\":\"GlyphRenderer\"},{\"attributes\":{\"fill_alpha\":{\"value\":0.8},\"fill_color\":{\"field\":\"team_color\"},\"line_alpha\":{\"value\":0.5},\"line_color\":{\"value\":\"#7c7e71\"},\"line_width\":{\"value\":0.5},\"size\":{\"field\":\"athletes\",\"units\":\"screen\"},\"x\":{\"field\":\"age\"},\"y\":{\"field\":\"medals\"}},\"id\":\"1330\",\"type\":\"Circle\"},{\"attributes\":{\"children\":[{\"id\":\"1416\",\"type\":\"Slider\"}],\"sizing_mode\":\"scale_width\"},\"id\":\"1418\",\"type\":\"Row\"},{\"attributes\":{\"fill_alpha\":{\"value\":0.8},\"fill_color\":{\"value\":\"#3B8EA5\"},\"line_color\":{\"value\":null},\"size\":{\"units\":\"screen\",\"value\":10},\"x\":{\"value\":59.5},\"y\":{\"value\":163}},\"id\":\"1363\",\"type\":\"Circle\"},{\"attributes\":{\"callback\":null,\"data\":{\"age\":{\"__ndarray__\":\"AAAAAAAAO0A2lNdQXkM/QAAAAAAAADVAjuM4juM4OkAAAAAAAAA1QAAAAAAAADlAAAAAAAAAAAAAAAAAAAAAAAAAAAAAAAAAjC666KKLOEA=\",\"dtype\":\"float64\",\"shape\":[10]},\"athletes\":{\"__ndarray__\":\"AAAAAAAA8D8AAAAAAAA2QAAAAAAAAPA/AAAAAAAAJkAAAAAAAADwPwAAAAAAAAhAAAAAAAAAAAAAAAAAAAAAAAAAAAAAAAAAAAAAAAAAMkA=\",\"dtype\":\"float64\",\"shape\":[10]},\"medals\":{\"__ndarray__\":\"AAAAAAAA8D8AAAAAAAA2QAAAAAAAAPA/AAAAAAAAJkAAAAAAAADwPwAAAAAAAAhAAAAAAAAAAAAAAAAAAAAAAAAAAAAAAAAAAAAAAAAAMkA=\",\"dtype\":\"float64\",\"shape\":[10]},\"team\":[\"Canada\",\"France\",\"Germany\",\"Great Britain\",\"Hungary\",\"Italy\",\"Russia\",\"Soviet Union\",\"Sweden\",\"United States\"],\"team_color\":[\"#AB3428\",\"#ff8c00\",\"#F5EE9E\",\"#3B8EA5\",\"#003366\",\"#006400\",\"#00CC99\",\"#4E0110\",\"#9370db\",\"#fa8072\"]},\"selected\":{\"id\":\"1493\",\"type\":\"Selection\"},\"selection_policy\":{\"id\":\"1492\",\"type\":\"UnionRenderers\"}},\"id\":\"1278\",\"type\":\"ColumnDataSource\"},{\"attributes\":{},\"id\":\"1515\",\"type\":\"Selection\"},{\"attributes\":{},\"id\":\"1546\",\"type\":\"UnionRenderers\"},{\"attributes\":{},\"id\":\"1547\",\"type\":\"Selection\"},{\"attributes\":{\"callback\":null,\"data\":{},\"selected\":{\"id\":\"1471\",\"type\":\"Selection\"},\"selection_policy\":{\"id\":\"1470\",\"type\":\"UnionRenderers\"}},\"id\":\"1372\",\"type\":\"ColumnDataSource\"},{\"attributes\":{\"callback\":null,\"data\":{\"age\":{\"__ndarray__\":\"AAAAAACAOkDNzMzMzAw7QAAAAAAAgD1AF1100UUXO0BOb3rTm945QGZmZmZmJj1AY4wxxhjjOUAAAAAAAAAAAAAAAAAAwD5ApEEapEEaOkA=\",\"dtype\":\"float64\",\"shape\":[10]},\"athletes\":{\"__ndarray__\":\"AAAAAAAAEEAAAAAAAAA2QAAAAAAAAD9AAAAAAAAANkAAAAAAAAA5QAAAAAAAADZAAAAAAACAUEAAAAAAAAAAAAAAAAAAABBAAAAAAABAYEA=\",\"dtype\":\"float64\",\"shape\":[10]},\"medals\":{\"__ndarray__\":\"AAAAAAAAEEAAAAAAAAA2QAAAAAAAAD9AAAAAAAAANkAAAAAAAAA5QAAAAAAAADZAAAAAAACAUEAAAAAAAAAAAAAAAAAAABBAAAAAAABAYEA=\",\"dtype\":\"float64\",\"shape\":[10]},\"team\":[\"Canada\",\"France\",\"Germany\",\"Great Britain\",\"Hungary\",\"Italy\",\"Russia\",\"Soviet Union\",\"Sweden\",\"United States\"],\"team_color\":[\"#AB3428\",\"#ff8c00\",\"#F5EE9E\",\"#3B8EA5\",\"#003366\",\"#006400\",\"#00CC99\",\"#4E0110\",\"#9370db\",\"#fa8072\"]},\"selected\":{\"id\":\"1543\",\"type\":\"Selection\"},\"selection_policy\":{\"id\":\"1542\",\"type\":\"UnionRenderers\"}},\"id\":\"1303\",\"type\":\"ColumnDataSource\"},{\"attributes\":{},\"id\":\"1516\",\"type\":\"UnionRenderers\"},{\"attributes\":{\"source\":{\"id\":\"1356\",\"type\":\"ColumnDataSource\"}},\"id\":\"1358\",\"type\":\"CDSView\"},{\"attributes\":{\"data_source\":{\"id\":\"1376\",\"type\":\"ColumnDataSource\"},\"glyph\":{\"id\":\"1375\",\"type\":\"Text\"},\"hover_glyph\":null,\"muted_glyph\":null,\"view\":{\"id\":\"1378\",\"type\":\"CDSView\"}},\"id\":\"1377\",\"type\":\"GlyphRenderer\"},{\"attributes\":{\"data_source\":{\"id\":\"1396\",\"type\":\"ColumnDataSource\"},\"glyph\":{\"id\":\"1395\",\"type\":\"Circle\"},\"hover_glyph\":null,\"muted_glyph\":null,\"view\":{\"id\":\"1398\",\"type\":\"CDSView\"}},\"id\":\"1397\",\"type\":\"GlyphRenderer\"},{\"attributes\":{\"args\":{\"_1896\":{\"id\":\"1277\",\"type\":\"ColumnDataSource\"},\"_1900\":{\"id\":\"1278\",\"type\":\"ColumnDataSource\"},\"_1904\":{\"id\":\"1279\",\"type\":\"ColumnDataSource\"},\"_1906\":{\"id\":\"1280\",\"type\":\"ColumnDataSource\"},\"_1908\":{\"id\":\"1281\",\"type\":\"ColumnDataSource\"},\"_1912\":{\"id\":\"1282\",\"type\":\"ColumnDataSource\"},\"_1920\":{\"id\":\"1283\",\"type\":\"ColumnDataSource\"},\"_1924\":{\"id\":\"1284\",\"type\":\"ColumnDataSource\"},\"_1928\":{\"id\":\"1285\",\"type\":\"ColumnDataSource\"},\"_1932\":{\"id\":\"1286\",\"type\":\"ColumnDataSource\"},\"_1936\":{\"id\":\"1287\",\"type\":\"ColumnDataSource\"},\"_1948\":{\"id\":\"1288\",\"type\":\"ColumnDataSource\"},\"_1952\":{\"id\":\"1289\",\"type\":\"ColumnDataSource\"},\"_1956\":{\"id\":\"1290\",\"type\":\"ColumnDataSource\"},\"_1960\":{\"id\":\"1291\",\"type\":\"ColumnDataSource\"},\"_1964\":{\"id\":\"1292\",\"type\":\"ColumnDataSource\"},\"_1968\":{\"id\":\"1293\",\"type\":\"ColumnDataSource\"},\"_1972\":{\"id\":\"1294\",\"type\":\"ColumnDataSource\"},\"_1976\":{\"id\":\"1295\",\"type\":\"ColumnDataSource\"},\"_1980\":{\"id\":\"1296\",\"type\":\"ColumnDataSource\"},\"_1984\":{\"id\":\"1297\",\"type\":\"ColumnDataSource\"},\"_1988\":{\"id\":\"1298\",\"type\":\"ColumnDataSource\"},\"_1992\":{\"id\":\"1299\",\"type\":\"ColumnDataSource\"},\"_1994\":{\"id\":\"1300\",\"type\":\"ColumnDataSource\"},\"_1996\":{\"id\":\"1301\",\"type\":\"ColumnDataSource\"},\"_1998\":{\"id\":\"1302\",\"type\":\"ColumnDataSource\"},\"_2000\":{\"id\":\"1303\",\"type\":\"ColumnDataSource\"},\"_2002\":{\"id\":\"1304\",\"type\":\"ColumnDataSource\"},\"_2004\":{\"id\":\"1305\",\"type\":\"ColumnDataSource\"},\"_2006\":{\"id\":\"1306\",\"type\":\"ColumnDataSource\"},\"_2008\":{\"id\":\"1307\",\"type\":\"ColumnDataSource\"},\"_2010\":{\"id\":\"1308\",\"type\":\"ColumnDataSource\"},\"_2012\":{\"id\":\"1309\",\"type\":\"ColumnDataSource\"},\"_2014\":{\"id\":\"1310\",\"type\":\"ColumnDataSource\"},\"_2016\":{\"id\":\"1311\",\"type\":\"ColumnDataSource\"},\"renderer_source\":{\"id\":\"1277\",\"type\":\"ColumnDataSource\"},\"slider\":{\"id\":\"1416\",\"type\":\"Slider\"},\"text_source\":{\"id\":\"1324\",\"type\":\"ColumnDataSource\"}},\"code\":\"\\n    var year = slider.value,\\n        sources = {1896: _1896, 1900: _1900, 1904: _1904, 1906: _1906, 1908: _1908, 1912: _1912, 1920: _1920, 1924: _1924, 1928: _1928, 1932: _1932, 1936: _1936, 1948: _1948, 1952: _1952, 1956: _1956, 1960: _1960, 1964: _1964, 1968: _1968, 1972: _1972, 1976: _1976, 1980: _1980, 1984: _1984, 1988: _1988, 1992: _1992, 1994: _1994, 1996: _1996, 1998: _1998, 2000: _2000, 2002: _2002, 2004: _2004, 2006: _2006, 2008: _2008, 2010: _2010, 2012: _2012, 2014: _2014, 2016: _2016},\\n        new_source_data = sources[year].data;\\n    renderer_source.data = new_source_data;\\n    text_source.data = {'year': [String(year)]};\\n\"},\"id\":\"1415\",\"type\":\"CustomJS\"},{\"attributes\":{\"callback\":{\"id\":\"1415\",\"type\":\"CustomJS\"},\"end\":2016,\"sizing_mode\":\"scale_width\",\"start\":1896,\"step\":2,\"title\":\"Year\",\"value\":2},\"id\":\"1416\",\"type\":\"Slider\"},{\"attributes\":{\"callback\":null,\"data\":{\"age\":{\"__ndarray__\":\"T+zETuzEOEAzMzMzMzNAQAAAAAAAAAAAmpmZmZmZQUAAAAAAAEBAQBdddNFFlztAAAAAAAAAAAAAAAAAAAAAAAAAAAAAAD1AnJWfEGflOEA=\",\"dtype\":\"float64\",\"shape\":[10]},\"athletes\":{\"__ndarray__\":\"AAAAAAAAKkAAAAAAAAA8QAAAAAAAAAAAAAAAAAAAFEAAAAAAAAAuQAAAAAAAADZAAAAAAAAAAAAAAAAAAAAAAAAAAAAAgEJAAAAAAACAVUA=\",\"dtype\":\"float64\",\"shape\":[10]},\"medals\":{\"__ndarray__\":\"AAAAAAAAKkAAAAAAAAA8QAAAAAAAAAAAAAAAAAAAFEAAAAAAAAAuQAAAAAAAADZAAAAAAAAAAAAAAAAAAAAAAAAAAAAAgEJAAAAAAACAVUA=\",\"dtype\":\"float64\",\"shape\":[10]},\"team\":[\"Canada\",\"France\",\"Germany\",\"Great Britain\",\"Hungary\",\"Italy\",\"Russia\",\"Soviet Union\",\"Sweden\",\"United States\"],\"team_color\":[\"#AB3428\",\"#ff8c00\",\"#F5EE9E\",\"#3B8EA5\",\"#003366\",\"#006400\",\"#00CC99\",\"#4E0110\",\"#9370db\",\"#fa8072\"]},\"selected\":{\"id\":\"1513\",\"type\":\"Selection\"},\"selection_policy\":{\"id\":\"1512\",\"type\":\"UnionRenderers\"}},\"id\":\"1288\",\"type\":\"ColumnDataSource\"},{\"attributes\":{},\"id\":\"1517\",\"type\":\"Selection\"},{\"attributes\":{\"data_source\":{\"id\":\"1372\",\"type\":\"ColumnDataSource\"},\"glyph\":{\"id\":\"1371\",\"type\":\"Circle\"},\"hover_glyph\":null,\"muted_glyph\":null,\"view\":{\"id\":\"1374\",\"type\":\"CDSView\"}},\"id\":\"1373\",\"type\":\"GlyphRenderer\"},{\"attributes\":{\"callback\":null,\"end\":65,\"start\":12},\"id\":\"1312\",\"type\":\"Range1d\"},{\"attributes\":{\"interval\":5},\"id\":\"1318\",\"type\":\"SingleIntervalTicker\"},{\"attributes\":{},\"id\":\"1549\",\"type\":\"Selection\"},{\"attributes\":{},\"id\":\"1445\",\"type\":\"LinearScale\"},{\"attributes\":{\"text\":{\"value\":\"Italy\"},\"text_color\":{\"value\":\"#666666\"},\"text_font_size\":{\"value\":\"10pt\"},\"x\":{\"value\":60},\"y\":{\"value\":140}},\"id\":\"1375\",\"type\":\"Text\"},{\"attributes\":{},\"id\":\"1518\",\"type\":\"UnionRenderers\"},{\"attributes\":{},\"id\":\"1550\",\"type\":\"UnionRenderers\"},{\"attributes\":{\"callback\":null,\"data\":{},\"selected\":{\"id\":\"1477\",\"type\":\"Selection\"},\"selection_policy\":{\"id\":\"1476\",\"type\":\"UnionRenderers\"}},\"id\":\"1384\",\"type\":\"ColumnDataSource\"},{\"attributes\":{\"callback\":null,\"data\":{\"age\":{\"__ndarray__\":\"AAAAAAAAQ0AAAAAAAAAAAFVVVVVVVTVAAAAAAAAAQUAAAAAAAAA3QAAAAAAAAAAAAAAAAAAAAAAAAAAAAAAAAAAAAAAAAAAAMjgfg/MxOkA=\",\"dtype\":\"float64\",\"shape\":[10]},\"athletes\":{\"__ndarray__\":\"AAAAAAAAAEAAAAAAAAAAAAAAAAAAABBAAAAAAAAA8D8AAAAAAAAAQAAAAAAAAAAAAAAAAAAAAAAAAAAAAAAAAAAAAAAAAAAAAAAAAADAUEA=\",\"dtype\":\"float64\",\"shape\":[10]},\"medals\":{\"__ndarray__\":\"AAAAAAAAAEAAAAAAAAAAAAAAAAAAABBAAAAAAAAA8D8AAAAAAAAAQAAAAAAAAAAAAAAAAAAAAAAAAAAAAAAAAAAAAAAAAAAAAAAAAADAUEA=\",\"dtype\":\"float64\",\"shape\":[10]},\"team\":[\"Canada\",\"France\",\"Germany\",\"Great Britain\",\"Hungary\",\"Italy\",\"Russia\",\"Soviet Union\",\"Sweden\",\"United States\"],\"team_color\":[\"#AB3428\",\"#ff8c00\",\"#F5EE9E\",\"#3B8EA5\",\"#003366\",\"#006400\",\"#00CC99\",\"#4E0110\",\"#9370db\",\"#fa8072\"]},\"selected\":{\"id\":\"1495\",\"type\":\"Selection\"},\"selection_policy\":{\"id\":\"1494\",\"type\":\"UnionRenderers\"}},\"id\":\"1279\",\"type\":\"ColumnDataSource\"},{\"attributes\":{},\"id\":\"1519\",\"type\":\"Selection\"},{\"attributes\":{\"callback\":null,\"data\":{},\"selected\":{\"id\":\"1467\",\"type\":\"Selection\"},\"selection_policy\":{\"id\":\"1466\",\"type\":\"UnionRenderers\"}},\"id\":\"1364\",\"type\":\"ColumnDataSource\"},{\"attributes\":{\"source\":{\"id\":\"1324\",\"type\":\"ColumnDataSource\"}},\"id\":\"1327\",\"type\":\"CDSView\"},{\"attributes\":{\"data_source\":{\"id\":\"1380\",\"type\":\"ColumnDataSource\"},\"glyph\":{\"id\":\"1379\",\"type\":\"Circle\"},\"hover_glyph\":null,\"muted_glyph\":null,\"view\":{\"id\":\"1382\",\"type\":\"CDSView\"}},\"id\":\"1381\",\"type\":\"GlyphRenderer\"},{\"attributes\":{},\"id\":\"1551\",\"type\":\"Selection\"},{\"attributes\":{\"callback\":null,\"data\":{\"age\":{\"__ndarray__\":\"VVVVVVVVNUAAAAAAAAA2QDmO4ziOYzdAAAAAAAAAN0B00UUXXXQ+QOLh4eHh4ThAAAAAAAAAAAC/Ye0b1r45QCVJkiRJkj1A6Hme53keNkA=\",\"dtype\":\"float64\",\"shape\":[10]},\"athletes\":{\"__ndarray__\":\"AAAAAAAACEAAAAAAAADwPwAAAAAAAENAAAAAAAAAAEAAAAAAAAAqQAAAAAAAAEJAAAAAAAAAAAAAAAAAAIBQQAAAAAAAABxAAAAAAABAWEA=\",\"dtype\":\"float64\",\"shape\":[10]},\"medals\":{\"__ndarray__\":\"AAAAAAAACEAAAAAAAADwPwAAAAAAAENAAAAAAAAAAEAAAAAAAAAqQAAAAAAAAEJAAAAAAAAAAAAAAAAAAIBQQAAAAAAAABxAAAAAAABAWEA=\",\"dtype\":\"float64\",\"shape\":[10]},\"team\":[\"Canada\",\"France\",\"Germany\",\"Great Britain\",\"Hungary\",\"Italy\",\"Russia\",\"Soviet Union\",\"Sweden\",\"United States\"],\"team_color\":[\"#AB3428\",\"#ff8c00\",\"#F5EE9E\",\"#3B8EA5\",\"#003366\",\"#006400\",\"#00CC99\",\"#4E0110\",\"#9370db\",\"#fa8072\"]},\"selected\":{\"id\":\"1519\",\"type\":\"Selection\"},\"selection_policy\":{\"id\":\"1518\",\"type\":\"UnionRenderers\"}},\"id\":\"1291\",\"type\":\"ColumnDataSource\"},{\"attributes\":{},\"id\":\"1520\",\"type\":\"UnionRenderers\"},{\"attributes\":{},\"id\":\"1444\",\"type\":\"LinearScale\"},{\"attributes\":{\"source\":{\"id\":\"1360\",\"type\":\"ColumnDataSource\"}},\"id\":\"1362\",\"type\":\"CDSView\"},{\"attributes\":{\"source\":{\"id\":\"1376\",\"type\":\"ColumnDataSource\"}},\"id\":\"1378\",\"type\":\"CDSView\"},{\"attributes\":{\"callback\":null,\"data\":{\"age\":{\"__ndarray__\":\"VVVVVVVVO0BiGIZhGIY7QGpXonYlaj1AAAAAAABAPUDTm970pjc8QKuqqqqqSjxAAAAAAAAAOUAAAAAAAAAAAJqZmZmZmTlA7SW0l9DeOUA=\",\"dtype\":\"float64\",\"shape\":[10]},\"athletes\":{\"__ndarray__\":\"AAAAAAAACEAAAAAAAAA1QAAAAAAAgERAAAAAAAAAMUAAAAAAAAA4QAAAAAAAADhAAAAAAAAASEAAAAAAAAAAAAAAAAAAABRAAAAAAABAXUA=\",\"dtype\":\"float64\",\"shape\":[10]},\"medals\":{\"__ndarray__\":\"AAAAAAAACEAAAAAAAAA1QAAAAAAAgERAAAAAAAAAMUAAAAAAAAA4QAAAAAAAADhAAAAAAAAASEAAAAAAAAAAAAAAAAAAABRAAAAAAABAXUA=\",\"dtype\":\"float64\",\"shape\":[10]},\"team\":[\"Canada\",\"France\",\"Germany\",\"Great Britain\",\"Hungary\",\"Italy\",\"Russia\",\"Soviet Union\",\"Sweden\",\"United States\"],\"team_color\":[\"#AB3428\",\"#ff8c00\",\"#F5EE9E\",\"#3B8EA5\",\"#003366\",\"#006400\",\"#00CC99\",\"#4E0110\",\"#9370db\",\"#fa8072\"]},\"selected\":{\"id\":\"1547\",\"type\":\"Selection\"},\"selection_policy\":{\"id\":\"1546\",\"type\":\"UnionRenderers\"}},\"id\":\"1305\",\"type\":\"ColumnDataSource\"},{\"attributes\":{\"data_source\":{\"id\":\"1324\",\"type\":\"ColumnDataSource\"},\"glyph\":{\"id\":\"1325\",\"type\":\"Text\"},\"hover_glyph\":null,\"muted_glyph\":null,\"view\":{\"id\":\"1327\",\"type\":\"CDSView\"}},\"id\":\"1326\",\"type\":\"GlyphRenderer\"},{\"attributes\":{},\"id\":\"1521\",\"type\":\"Selection\"},{\"attributes\":{},\"id\":\"1552\",\"type\":\"UnionRenderers\"},{\"attributes\":{\"data_source\":{\"id\":\"1360\",\"type\":\"ColumnDataSource\"},\"glyph\":{\"id\":\"1359\",\"type\":\"Text\"},\"hover_glyph\":null,\"muted_glyph\":null,\"view\":{\"id\":\"1362\",\"type\":\"CDSView\"}},\"id\":\"1361\",\"type\":\"GlyphRenderer\"},{\"attributes\":{},\"id\":\"1553\",\"type\":\"Selection\"},{\"attributes\":{\"callback\":null,\"data\":{\"age\":{\"__ndarray__\":\"AAAAAADQN0CPwvUoXA9AQJqZmZmZmTlAAAAAAABAPEDHcRzHcZw7QAAAAAAAADlAAAAAAAAAAAAAAAAAAAAAAHIcx3EcR0FAWHzFV3zFOEA=\",\"dtype\":\"float64\",\"shape\":[10]},\"athletes\":{\"__ndarray__\":\"AAAAAAAAMEAAAAAAAAA8QAAAAAAAACRAAAAAAAAAIkAAAAAAAAA0QAAAAAAAADVAAAAAAAAAAAAAAAAAAAAAAAAAAAAAACRAAAAAAABAU0A=\",\"dtype\":\"float64\",\"shape\":[10]},\"medals\":{\"__ndarray__\":\"AAAAAAAAMEAAAAAAAAA8QAAAAAAAACRAAAAAAAAAIkAAAAAAAAA0QAAAAAAAADVAAAAAAAAAAAAAAAAAAAAAAAAAAAAAACRAAAAAAABAU0A=\",\"dtype\":\"float64\",\"shape\":[10]},\"team\":[\"Canada\",\"France\",\"Germany\",\"Great Britain\",\"Hungary\",\"Italy\",\"Russia\",\"Soviet Union\",\"Sweden\",\"United States\"],\"team_color\":[\"#AB3428\",\"#ff8c00\",\"#F5EE9E\",\"#3B8EA5\",\"#003366\",\"#006400\",\"#00CC99\",\"#4E0110\",\"#9370db\",\"#fa8072\"]},\"selected\":{\"id\":\"1509\",\"type\":\"Selection\"},\"selection_policy\":{\"id\":\"1508\",\"type\":\"UnionRenderers\"}},\"id\":\"1286\",\"type\":\"ColumnDataSource\"},{\"attributes\":{},\"id\":\"1522\",\"type\":\"UnionRenderers\"},{\"attributes\":{\"callback\":null,\"end\":200},\"id\":\"1313\",\"type\":\"Range1d\"},{\"attributes\":{},\"id\":\"1554\",\"type\":\"UnionRenderers\"},{\"attributes\":{},\"id\":\"1446\",\"type\":\"BasicTickFormatter\"},{\"attributes\":{},\"id\":\"1523\",\"type\":\"Selection\"},{\"attributes\":{\"axis_label\":\"Number of Medals Won\",\"axis_label_text_font_size\":{\"value\":\"10pt\"},\"axis_line_cap\":\"round\",\"axis_line_color\":{\"value\":\"#AAAAAA\"},\"formatter\":{\"id\":\"1446\",\"type\":\"BasicTickFormatter\"},\"major_label_text_color\":{\"value\":\"#666666\"},\"major_label_text_font_size\":{\"value\":\"10pt\"},\"major_tick_in\":null,\"major_tick_line_cap\":\"round\",\"major_tick_line_color\":{\"value\":\"#AAAAAA\"},\"minor_tick_in\":null,\"minor_tick_out\":null,\"ticker\":{\"id\":\"1321\",\"type\":\"SingleIntervalTicker\"}},\"id\":\"1322\",\"type\":\"LinearAxis\"},{\"attributes\":{\"callback\":null,\"data\":{},\"selected\":{\"id\":\"1465\",\"type\":\"Selection\"},\"selection_policy\":{\"id\":\"1464\",\"type\":\"UnionRenderers\"}},\"id\":\"1360\",\"type\":\"ColumnDataSource\"},{\"attributes\":{},\"id\":\"1447\",\"type\":\"BasicTickFormatter\"},{\"attributes\":{},\"id\":\"1555\",\"type\":\"Selection\"},{\"attributes\":{\"data_source\":{\"id\":\"1352\",\"type\":\"ColumnDataSource\"},\"glyph\":{\"id\":\"1351\",\"type\":\"Text\"},\"hover_glyph\":null,\"muted_glyph\":null,\"view\":{\"id\":\"1354\",\"type\":\"CDSView\"}},\"id\":\"1353\",\"type\":\"GlyphRenderer\"},{\"attributes\":{},\"id\":\"1448\",\"type\":\"UnionRenderers\"},{\"attributes\":{},\"id\":\"1524\",\"type\":\"UnionRenderers\"},{\"attributes\":{\"text\":{\"value\":\"Great Britain\"},\"text_color\":{\"value\":\"#666666\"},\"text_font_size\":{\"value\":\"10pt\"},\"x\":{\"value\":60},\"y\":{\"value\":160}},\"id\":\"1359\",\"type\":\"Text\"},{\"attributes\":{\"callback\":null,\"data\":{\"age\":{\"__ndarray__\":\"AAAAAAAAN0B8GmG5pxE8QOmiiy666DpA4o64I+6IPEDRRRdddNE7QJqZmZmZmTtAAAAAAACQOEAAAAAAAAAAAAAAAAAAQEBAIQiCIAgCOkA=\",\"dtype\":\"float64\",\"shape\":[10]},\"athletes\":{\"__ndarray__\":\"AAAAAAAA8D8AAAAAAAA+QAAAAAAAgEZAAAAAAAAASEAAAAAAAAAoQAAAAAAAADBAAAAAAAAASUAAAAAAAAAAAAAAAAAAAABAAAAAAAAgYkA=\",\"dtype\":\"float64\",\"shape\":[10]},\"medals\":{\"__ndarray__\":\"AAAAAAAA8D8AAAAAAAA+QAAAAAAAgEZAAAAAAAAASEAAAAAAAAAoQAAAAAAAADBAAAAAAAAASUAAAAAAAAAAAAAAAAAAAABAAAAAAAAgYkA=\",\"dtype\":\"float64\",\"shape\":[10]},\"team\":[\"Canada\",\"France\",\"Germany\",\"Great Britain\",\"Hungary\",\"Italy\",\"Russia\",\"Soviet Union\",\"Sweden\",\"United States\"],\"team_color\":[\"#AB3428\",\"#ff8c00\",\"#F5EE9E\",\"#3B8EA5\",\"#003366\",\"#006400\",\"#00CC99\",\"#4E0110\",\"#9370db\",\"#fa8072\"]},\"selected\":{\"id\":\"1555\",\"type\":\"Selection\"},\"selection_policy\":{\"id\":\"1554\",\"type\":\"UnionRenderers\"}},\"id\":\"1309\",\"type\":\"ColumnDataSource\"},{\"attributes\":{},\"id\":\"1556\",\"type\":\"UnionRenderers\"},{\"attributes\":{\"callback\":null,\"data\":{},\"selected\":{\"id\":\"1463\",\"type\":\"Selection\"},\"selection_policy\":{\"id\":\"1462\",\"type\":\"UnionRenderers\"}},\"id\":\"1356\",\"type\":\"ColumnDataSource\"},{\"attributes\":{\"callback\":null,\"data\":{},\"selected\":{\"id\":\"1483\",\"type\":\"Selection\"},\"selection_policy\":{\"id\":\"1482\",\"type\":\"UnionRenderers\"}},\"id\":\"1396\",\"type\":\"ColumnDataSource\"},{\"attributes\":{},\"id\":\"1449\",\"type\":\"Selection\"},{\"attributes\":{},\"id\":\"1525\",\"type\":\"Selection\"},{\"attributes\":{\"source\":{\"id\":\"1348\",\"type\":\"ColumnDataSource\"}},\"id\":\"1350\",\"type\":\"CDSView\"},{\"attributes\":{\"callback\":null,\"data\":{\"age\":{\"__ndarray__\":\"VVVVVVVVO0BVVVVVVVU9QOQ4juM4jj1AAAAAAAAAAAAAAAAAAAAAAMdxHMdxHD5AZmZmZmZmPEAAAAAAAAAAAA8PDw8Pjz1AjuM4juM4N0A=\",\"dtype\":\"float64\",\"shape\":[10]},\"athletes\":{\"__ndarray__\":\"AAAAAAAAPkAAAAAAAAAIQAAAAAAAADdAAAAAAAAAAAAAAAAAAAAAAAAAAAAAACZAAAAAAAAAMEAAAAAAAAAAAAAAAAAAgEFAAAAAAAAAIkA=\",\"dtype\":\"float64\",\"shape\":[10]},\"medals\":{\"__ndarray__\":\"AAAAAAAAPkAAAAAAAAAIQAAAAAAAADdAAAAAAAAAAAAAAAAAAAAAAAAAAAAAACZAAAAAAAAAMEAAAAAAAAAAAAAAAAAAgEFAAAAAAAAAIkA=\",\"dtype\":\"float64\",\"shape\":[10]},\"team\":[\"Canada\",\"France\",\"Germany\",\"Great Britain\",\"Hungary\",\"Italy\",\"Russia\",\"Soviet Union\",\"Sweden\",\"United States\"],\"team_color\":[\"#AB3428\",\"#ff8c00\",\"#F5EE9E\",\"#3B8EA5\",\"#003366\",\"#006400\",\"#00CC99\",\"#4E0110\",\"#9370db\",\"#fa8072\"]},\"selected\":{\"id\":\"1549\",\"type\":\"Selection\"},\"selection_policy\":{\"id\":\"1548\",\"type\":\"UnionRenderers\"}},\"id\":\"1306\",\"type\":\"ColumnDataSource\"},{\"attributes\":{},\"id\":\"1557\",\"type\":\"Selection\"},{\"attributes\":{\"callback\":null,\"data\":{\"age\":{\"__ndarray__\":\"eHh4eHh4O0CamZmZmZk6QHrTm970pjpAzczMzMzMP0AAAAAAAAAAAAAAAAAAwD1Aq6qqqqoqOEAAAAAAAAAAAAAAAAAAAAAAL7rooosuOEA=\",\"dtype\":\"float64\",\"shape\":[10]},\"athletes\":{\"__ndarray__\":\"AAAAAAAASkAAAAAAAAAUQAAAAAAAADpAAAAAAAAAFEAAAAAAAAAAAAAAAAAAABBAAAAAAAAAGEAAAAAAAAAAAAAAAAAAAAAAAAAAAAAAJkA=\",\"dtype\":\"float64\",\"shape\":[10]},\"medals\":{\"__ndarray__\":\"AAAAAAAASkAAAAAAAAAUQAAAAAAAADpAAAAAAAAAFEAAAAAAAAAAAAAAAAAAABBAAAAAAAAAGEAAAAAAAAAAAAAAAAAAAAAAAAAAAAAAJkA=\",\"dtype\":\"float64\",\"shape\":[10]},\"team\":[\"Canada\",\"France\",\"Germany\",\"Great Britain\",\"Hungary\",\"Italy\",\"Russia\",\"Soviet Union\",\"Sweden\",\"United States\"],\"team_color\":[\"#AB3428\",\"#ff8c00\",\"#F5EE9E\",\"#3B8EA5\",\"#003366\",\"#006400\",\"#00CC99\",\"#4E0110\",\"#9370db\",\"#fa8072\"]},\"selected\":{\"id\":\"1545\",\"type\":\"Selection\"},\"selection_policy\":{\"id\":\"1544\",\"type\":\"UnionRenderers\"}},\"id\":\"1304\",\"type\":\"ColumnDataSource\"},{\"attributes\":{},\"id\":\"1450\",\"type\":\"UnionRenderers\"},{\"attributes\":{},\"id\":\"1526\",\"type\":\"UnionRenderers\"},{\"attributes\":{\"callback\":null,\"data\":{},\"selected\":{\"id\":\"1473\",\"type\":\"Selection\"},\"selection_policy\":{\"id\":\"1472\",\"type\":\"UnionRenderers\"}},\"id\":\"1376\",\"type\":\"ColumnDataSource\"},{\"attributes\":{},\"id\":\"1558\",\"type\":\"UnionRenderers\"},{\"attributes\":{\"data_source\":{\"id\":\"1356\",\"type\":\"ColumnDataSource\"},\"glyph\":{\"id\":\"1355\",\"type\":\"Circle\"},\"hover_glyph\":null,\"muted_glyph\":null,\"view\":{\"id\":\"1358\",\"type\":\"CDSView\"}},\"id\":\"1357\",\"type\":\"GlyphRenderer\"},{\"attributes\":{\"source\":{\"id\":\"1388\",\"type\":\"ColumnDataSource\"}},\"id\":\"1390\",\"type\":\"CDSView\"},{\"attributes\":{},\"id\":\"1451\",\"type\":\"Selection\"},{\"attributes\":{},\"id\":\"1527\",\"type\":\"Selection\"},{\"attributes\":{\"text\":{\"value\":\"Sweden\"},\"text_color\":{\"value\":\"#666666\"},\"text_font_size\":{\"value\":\"10pt\"},\"x\":{\"value\":60},\"y\":{\"value\":110}},\"id\":\"1399\",\"type\":\"Text\"},{\"attributes\":{\"callback\":null,\"data\":{\"age\":{\"__ndarray__\":\"MzMzMzMzNECSJEmSJEk4QHIcx3Ecxz1AAAAAAABAO0A7sRM7sRM8QNejcD0K1ztAAAAAAAAAAABKeKOp82s6QAAAAAAAsEJAAAAAAAAAN0A=\",\"dtype\":\"float64\",\"shape\":[10]},\"athletes\":{\"__ndarray__\":\"AAAAAAAAFEAAAAAAAAAcQAAAAAAAACRAAAAAAAAAIEAAAAAAAAA+QAAAAAAAADxAAAAAAAAAAAAAAAAAAIBXQAAAAAAAACRAAAAAAACATkA=\",\"dtype\":\"float64\",\"shape\":[10]},\"medals\":{\"__ndarray__\":\"AAAAAAAAFEAAAAAAAAAcQAAAAAAAACRAAAAAAAAAIEAAAAAAAAA+QAAAAAAAADxAAAAAAAAAAAAAAAAAAIBXQAAAAAAAACRAAAAAAACATkA=\",\"dtype\":\"float64\",\"shape\":[10]},\"team\":[\"Canada\",\"France\",\"Germany\",\"Great Britain\",\"Hungary\",\"Italy\",\"Russia\",\"Soviet Union\",\"Sweden\",\"United States\"],\"team_color\":[\"#AB3428\",\"#ff8c00\",\"#F5EE9E\",\"#3B8EA5\",\"#003366\",\"#006400\",\"#00CC99\",\"#4E0110\",\"#9370db\",\"#fa8072\"]},\"selected\":{\"id\":\"1517\",\"type\":\"Selection\"},\"selection_policy\":{\"id\":\"1516\",\"type\":\"UnionRenderers\"}},\"id\":\"1290\",\"type\":\"ColumnDataSource\"},{\"attributes\":{},\"id\":\"1559\",\"type\":\"Selection\"},{\"attributes\":{\"source\":{\"id\":\"1352\",\"type\":\"ColumnDataSource\"}},\"id\":\"1354\",\"type\":\"CDSView\"},{\"attributes\":{},\"id\":\"1528\",\"type\":\"UnionRenderers\"},{\"attributes\":{\"callback\":null,\"data\":{},\"selected\":{\"id\":\"1461\",\"type\":\"Selection\"},\"selection_policy\":{\"id\":\"1460\",\"type\":\"UnionRenderers\"}},\"id\":\"1352\",\"type\":\"ColumnDataSource\"},{\"attributes\":{\"callback\":null,\"data\":{\"age\":{\"__ndarray__\":\"AAAAAAAAP0Crqqqqqqo2QIwuuuii6zpAh/IaymsoOkCrqqqqqqo5QAnLPY2w3DhAAAAAAAAAAAAAAAAAAAAAADmO4ziO4zlAx/rQWB8aN0A=\",\"dtype\":\"float64\",\"shape\":[10]},\"athletes\":{\"__ndarray__\":\"AAAAAAAA8D8AAAAAAAAqQAAAAAAAwFdAAAAAAAAAM0AAAAAAAAA5QAAAAAAAAD9AAAAAAAAAAAAAAAAAAAAAAAAAAAAAACJAAAAAAACASkA=\",\"dtype\":\"float64\",\"shape\":[10]},\"medals\":{\"__ndarray__\":\"AAAAAAAA8D8AAAAAAAAqQAAAAAAAwFdAAAAAAAAAM0AAAAAAAAA5QAAAAAAAAD9AAAAAAAAAAAAAAAAAAAAAAAAAAAAAACJAAAAAAACASkA=\",\"dtype\":\"float64\",\"shape\":[10]},\"team\":[\"Canada\",\"France\",\"Germany\",\"Great Britain\",\"Hungary\",\"Italy\",\"Russia\",\"Soviet Union\",\"Sweden\",\"United States\"],\"team_color\":[\"#AB3428\",\"#ff8c00\",\"#F5EE9E\",\"#3B8EA5\",\"#003366\",\"#006400\",\"#00CC99\",\"#4E0110\",\"#9370db\",\"#fa8072\"]},\"selected\":{\"id\":\"1511\",\"type\":\"Selection\"},\"selection_policy\":{\"id\":\"1510\",\"type\":\"UnionRenderers\"}},\"id\":\"1287\",\"type\":\"ColumnDataSource\"},{\"attributes\":{},\"id\":\"1452\",\"type\":\"UnionRenderers\"},{\"attributes\":{\"callback\":null,\"data\":{\"age\":{\"__ndarray__\":\"AAAAAAAAOEAzMzMzMzNAQE5vetOb3jtAqfvy2IqgPEDbtm3btm09QLdt27Zt2zhAJUmSJEmSOUAAAAAAAAAAAAAAAAAAADZArolArolAOUA=\",\"dtype\":\"float64\",\"shape\":[10]},\"athletes\":{\"__ndarray__\":\"AAAAAAAAEEAAAAAAAAA0QAAAAAAAgEhAAAAAAAAAUEAAAAAAAAAoQAAAAAAAACBAAAAAAAAASkAAAAAAAAAAAAAAAAAAAABAAAAAAABgYUA=\",\"dtype\":\"float64\",\"shape\":[10]},\"medals\":{\"__ndarray__\":\"AAAAAAAAEEAAAAAAAAA0QAAAAAAAgEhAAAAAAAAAUEAAAAAAAAAoQAAAAAAAACBAAAAAAAAASkAAAAAAAAAAAAAAAAAAAABAAAAAAABgYUA=\",\"dtype\":\"float64\",\"shape\":[10]},\"team\":[\"Canada\",\"France\",\"Germany\",\"Great Britain\",\"Hungary\",\"Italy\",\"Russia\",\"Soviet Union\",\"Sweden\",\"United States\"],\"team_color\":[\"#AB3428\",\"#ff8c00\",\"#F5EE9E\",\"#3B8EA5\",\"#003366\",\"#006400\",\"#00CC99\",\"#4E0110\",\"#9370db\",\"#fa8072\"]},\"selected\":{\"id\":\"1559\",\"type\":\"Selection\"},\"selection_policy\":{\"id\":\"1558\",\"type\":\"UnionRenderers\"}},\"id\":\"1311\",\"type\":\"ColumnDataSource\"},{\"attributes\":{},\"id\":\"1529\",\"type\":\"Selection\"},{\"attributes\":{\"data_source\":{\"id\":\"1277\",\"type\":\"ColumnDataSource\"},\"glyph\":{\"id\":\"1330\",\"type\":\"Circle\"},\"hover_glyph\":null,\"muted_glyph\":null,\"view\":{\"id\":\"1332\",\"type\":\"CDSView\"}},\"id\":\"1331\",\"type\":\"GlyphRenderer\"},{\"attributes\":{\"callback\":null,\"data\":{\"age\":{\"__ndarray__\":\"i6DhpO7LO0AAAAAAAAA5QNmJndiJnThAAAAAAAAAOUAAAAAAAAAAAAAAAAAAAAAASZIkSZIkOkAAAAAAAAAAAAAAAAAAIDxAMzMzMzMzN0A=\",\"dtype\":\"float64\",\"shape\":[10]},\"athletes\":{\"__ndarray__\":\"AAAAAACATUAAAAAAAAAQQAAAAAAAAC5AAAAAAAAA8D8AAAAAAAAAAAAAAAAAAAAAAAAAAACAQEAAAAAAAAAAAAAAAAAAACBAAAAAAAAAJEA=\",\"dtype\":\"float64\",\"shape\":[10]},\"medals\":{\"__ndarray__\":\"AAAAAACATUAAAAAAAAAQQAAAAAAAAC5AAAAAAAAA8D8AAAAAAAAAAAAAAAAAAAAAAAAAAACAQEAAAAAAAAAAAAAAAAAAACBAAAAAAAAAJEA=\",\"dtype\":\"float64\",\"shape\":[10]},\"team\":[\"Canada\",\"France\",\"Germany\",\"Great Britain\",\"Hungary\",\"Italy\",\"Russia\",\"Soviet Union\",\"Sweden\",\"United States\"],\"team_color\":[\"#AB3428\",\"#ff8c00\",\"#F5EE9E\",\"#3B8EA5\",\"#003366\",\"#006400\",\"#00CC99\",\"#4E0110\",\"#9370db\",\"#fa8072\"]},\"selected\":{\"id\":\"1557\",\"type\":\"Selection\"},\"selection_policy\":{\"id\":\"1556\",\"type\":\"UnionRenderers\"}},\"id\":\"1310\",\"type\":\"ColumnDataSource\"},{\"attributes\":{},\"id\":\"1454\",\"type\":\"UnionRenderers\"},{\"attributes\":{\"callback\":null,\"data\":{\"age\":{\"__ndarray__\":\"6aKLLrroOkAAAAAAAIA3QNmJndiJnTtAAAAAAAAAO0AAAAAAAAAAAAAAAAAAADlAq6qqqqqqO0AAAAAAAAAAAM3MzMzMDEBAAAAAAABAO0A=\",\"dtype\":\"float64\",\"shape\":[10]},\"athletes\":{\"__ndarray__\":\"AAAAAADAUEAAAAAAAAAAQAAAAAAAAC5AAAAAAAAA8D8AAAAAAAAAAAAAAAAAAPA/AAAAAAAAGEAAAAAAAAAAAAAAAAAAACZAAAAAAAAAKEA=\",\"dtype\":\"float64\",\"shape\":[10]},\"medals\":{\"__ndarray__\":\"AAAAAADAUEAAAAAAAAAAQAAAAAAAAC5AAAAAAAAA8D8AAAAAAAAAAAAAAAAAAPA/AAAAAAAAGEAAAAAAAAAAAAAAAAAAACZAAAAAAAAAKEA=\",\"dtype\":\"float64\",\"shape\":[10]},\"team\":[\"Canada\",\"France\",\"Germany\",\"Great Britain\",\"Hungary\",\"Italy\",\"Russia\",\"Soviet Union\",\"Sweden\",\"United States\"],\"team_color\":[\"#AB3428\",\"#ff8c00\",\"#F5EE9E\",\"#3B8EA5\",\"#003366\",\"#006400\",\"#00CC99\",\"#4E0110\",\"#9370db\",\"#fa8072\"]},\"selected\":{\"id\":\"1553\",\"type\":\"Selection\"},\"selection_policy\":{\"id\":\"1552\",\"type\":\"UnionRenderers\"}},\"id\":\"1308\",\"type\":\"ColumnDataSource\"},{\"attributes\":{},\"id\":\"1530\",\"type\":\"UnionRenderers\"},{\"attributes\":{\"text\":{\"value\":\"United States\"},\"text_color\":{\"value\":\"#666666\"},\"text_font_size\":{\"value\":\"10pt\"},\"x\":{\"value\":60},\"y\":{\"value\":100}},\"id\":\"1407\",\"type\":\"Text\"},{\"attributes\":{},\"id\":\"1453\",\"type\":\"Selection\"},{\"attributes\":{\"fill_alpha\":{\"value\":0.8},\"fill_color\":{\"value\":\"#AB3428\"},\"line_color\":{\"value\":null},\"size\":{\"units\":\"screen\",\"value\":10},\"x\":{\"value\":59.5},\"y\":{\"value\":193}},\"id\":\"1339\",\"type\":\"Circle\"},{\"attributes\":{\"fill_alpha\":{\"value\":0.8},\"fill_color\":{\"value\":\"#fa8072\"},\"line_color\":{\"value\":null},\"size\":{\"units\":\"screen\",\"value\":10},\"x\":{\"value\":59.5},\"y\":{\"value\":103}},\"id\":\"1411\",\"type\":\"Circle\"},{\"attributes\":{\"callback\":null,\"data\":{\"age\":{\"__ndarray__\":\"jC666KKLPUAAAAAAAAA9QAAAAAAAADtAVVVVVVVVO0AAAAAAAOA8QAAAAAAAYDpAg/MxOB+DN0AAAAAAAAAAAAAAAAAAAAAAXccoznWMOkA=\",\"dtype\":\"float64\",\"shape\":[10]},\"athletes\":{\"__ndarray__\":\"AAAAAAAAJkAAAAAAAAA5QAAAAAAAgENAAAAAAAAAP0AAAAAAAAAwQAAAAAAAACBAAAAAAACARUAAAAAAAAAAAAAAAAAAAAAAAAAAAADAX0A=\",\"dtype\":\"float64\",\"shape\":[10]},\"medals\":{\"__ndarray__\":\"AAAAAAAAJkAAAAAAAAA5QAAAAAAAgENAAAAAAAAAP0AAAAAAAAAwQAAAAAAAACBAAAAAAACARUAAAAAAAAAAAAAAAAAAAAAAAAAAAADAX0A=\",\"dtype\":\"float64\",\"shape\":[10]},\"team\":[\"Canada\",\"France\",\"Germany\",\"Great Britain\",\"Hungary\",\"Italy\",\"Russia\",\"Soviet Union\",\"Sweden\",\"United States\"],\"team_color\":[\"#AB3428\",\"#ff8c00\",\"#F5EE9E\",\"#3B8EA5\",\"#003366\",\"#006400\",\"#00CC99\",\"#4E0110\",\"#9370db\",\"#fa8072\"]},\"selected\":{\"id\":\"1551\",\"type\":\"Selection\"},\"selection_policy\":{\"id\":\"1550\",\"type\":\"UnionRenderers\"}},\"id\":\"1307\",\"type\":\"ColumnDataSource\"},{\"attributes\":{},\"id\":\"1531\",\"type\":\"Selection\"},{\"attributes\":{\"text\":{\"value\":\"Germany\"},\"text_color\":{\"value\":\"#666666\"},\"text_font_size\":{\"value\":\"10pt\"},\"x\":{\"value\":60},\"y\":{\"value\":170}},\"id\":\"1351\",\"type\":\"Text\"},{\"attributes\":{\"callback\":null,\"data\":{},\"selected\":{\"id\":\"1487\",\"type\":\"Selection\"},\"selection_policy\":{\"id\":\"1486\",\"type\":\"UnionRenderers\"}},\"id\":\"1404\",\"type\":\"ColumnDataSource\"},{\"attributes\":{\"data_source\":{\"id\":\"1408\",\"type\":\"ColumnDataSource\"},\"glyph\":{\"id\":\"1407\",\"type\":\"Text\"},\"hover_glyph\":null,\"muted_glyph\":null,\"view\":{\"id\":\"1410\",\"type\":\"CDSView\"}},\"id\":\"1409\",\"type\":\"GlyphRenderer\"},{\"attributes\":{\"callback\":null,\"data\":{\"age\":{\"__ndarray__\":\"AAAAAAAAAAAAAAAAAAAzQFVVVVVVVThAAAAAAAAAN0AAAAAAAAAyQAAAAAAAAAAAAAAAAAAAAAAAAAAAAAAAAAAAAAAAAAAAAAAAAAAgN0A=\",\"dtype\":\"float64\",\"shape\":[10]},\"athletes\":{\"__ndarray__\":\"AAAAAAAAAAAAAAAAAAAUQAAAAAAAADhAAAAAAAAAAEAAAAAAAAAAQAAAAAAAAAAAAAAAAAAAAAAAAAAAAAAAAAAAAAAAAAAAAAAAAAAAJkA=\",\"dtype\":\"float64\",\"shape\":[10]},\"medals\":{\"__ndarray__\":\"AAAAAAAAAAAAAAAAAAAUQAAAAAAAADhAAAAAAAAAAEAAAAAAAAAAQAAAAAAAAAAAAAAAAAAAAAAAAAAAAAAAAAAAAAAAAAAAAAAAAAAAJkA=\",\"dtype\":\"float64\",\"shape\":[10]},\"team\":[\"Canada\",\"France\",\"Germany\",\"Great Britain\",\"Hungary\",\"Italy\",\"Russia\",\"Soviet Union\",\"Sweden\",\"United States\"],\"team_color\":[\"#AB3428\",\"#ff8c00\",\"#F5EE9E\",\"#3B8EA5\",\"#003366\",\"#006400\",\"#00CC99\",\"#4E0110\",\"#9370db\",\"#fa8072\"]},\"selected\":{\"id\":\"1451\",\"type\":\"Selection\"},\"selection_policy\":{\"id\":\"1450\",\"type\":\"UnionRenderers\"}},\"id\":\"1277\",\"type\":\"ColumnDataSource\"},{\"attributes\":{\"callback\":null,\"data\":{\"age\":{\"__ndarray__\":\"HMdxHMdxOEAAAAAAANg8QAAAAAAAAAAAAAAAAABAQUAAAAAAAMBAQFVVVVVVVT1AAAAAAAAAAAAAAAAAAAAAAAAAAAAAIEFAgy3Ygi1YOEA=\",\"dtype\":\"float64\",\"shape\":[10]},\"athletes\":{\"__ndarray__\":\"AAAAAAAAIkAAAAAAAIBCQAAAAAAAAAAAAAAAAAAAP0AAAAAAAAAAQAAAAAAAADlAAAAAAAAAAAAAAAAAAAAAAAAAAAAAACBAAAAAAACAWEA=\",\"dtype\":\"float64\",\"shape\":[10]},\"medals\":{\"__ndarray__\":\"AAAAAAAAIkAAAAAAAIBCQAAAAAAAAAAAAAAAAAAAP0AAAAAAAAAAQAAAAAAAADlAAAAAAAAAAAAAAAAAAAAAAAAAAAAAACBAAAAAAACAWEA=\",\"dtype\":\"float64\",\"shape\":[10]},\"team\":[\"Canada\",\"France\",\"Germany\",\"Great Britain\",\"Hungary\",\"Italy\",\"Russia\",\"Soviet Union\",\"Sweden\",\"United States\"],\"team_color\":[\"#AB3428\",\"#ff8c00\",\"#F5EE9E\",\"#3B8EA5\",\"#003366\",\"#006400\",\"#00CC99\",\"#4E0110\",\"#9370db\",\"#fa8072\"]},\"selected\":{\"id\":\"1505\",\"type\":\"Selection\"},\"selection_policy\":{\"id\":\"1504\",\"type\":\"UnionRenderers\"}},\"id\":\"1284\",\"type\":\"ColumnDataSource\"},{\"attributes\":{\"callback\":null,\"data\":{\"age\":{\"__ndarray__\":\"S0tLS0tLOUDZiZ3YiZ06QAAAAAAAIEBAAAAAAACAQkC/vr6+vr46QN7d3d3d3TtAAAAAAAAAAADLPY2w3NM6QDEMwzAMwz5AU0/Gb5d6NkA=\",\"dtype\":\"float64\",\"shape\":[10]},\"athletes\":{\"__ndarray__\":\"AAAAAAAAMUAAAAAAAAAsQAAAAAAAACBAAAAAAAAAEEAAAAAAAIBKQAAAAAAAADBAAAAAAAAAAAAAAAAAAABCQAAAAAAAADdAAAAAAABAU0A=\",\"dtype\":\"float64\",\"shape\":[10]},\"medals\":{\"__ndarray__\":\"AAAAAAAAMUAAAAAAAAAsQAAAAAAAACBAAAAAAAAAEEAAAAAAAIBKQAAAAAAAADBAAAAAAAAAAAAAAAAAAABCQAAAAAAAADdAAAAAAABAU0A=\",\"dtype\":\"float64\",\"shape\":[10]},\"team\":[\"Canada\",\"France\",\"Germany\",\"Great Britain\",\"Hungary\",\"Italy\",\"Russia\",\"Soviet Union\",\"Sweden\",\"United States\"],\"team_color\":[\"#AB3428\",\"#ff8c00\",\"#F5EE9E\",\"#3B8EA5\",\"#003366\",\"#006400\",\"#00CC99\",\"#4E0110\",\"#9370db\",\"#fa8072\"]},\"selected\":{\"id\":\"1515\",\"type\":\"Selection\"},\"selection_policy\":{\"id\":\"1514\",\"type\":\"UnionRenderers\"}},\"id\":\"1289\",\"type\":\"ColumnDataSource\"},{\"attributes\":{\"axis_label\":\"Age of Athlete (years)\",\"axis_label_text_font_size\":{\"value\":\"10pt\"},\"axis_line_cap\":\"round\",\"axis_line_color\":{\"value\":\"#AAAAAA\"},\"formatter\":{\"id\":\"1447\",\"type\":\"BasicTickFormatter\"},\"major_label_text_color\":{\"value\":\"#666666\"},\"major_label_text_font_size\":{\"value\":\"10pt\"},\"major_tick_in\":null,\"major_tick_line_cap\":\"round\",\"major_tick_line_color\":{\"value\":\"#AAAAAA\"},\"minor_tick_in\":null,\"minor_tick_out\":null,\"ticker\":{\"id\":\"1318\",\"type\":\"SingleIntervalTicker\"}},\"id\":\"1319\",\"type\":\"LinearAxis\"},{\"attributes\":{},\"id\":\"1532\",\"type\":\"UnionRenderers\"},{\"attributes\":{\"fill_alpha\":{\"value\":0.8},\"fill_color\":{\"value\":\"#F5EE9E\"},\"line_color\":{\"value\":null},\"size\":{\"units\":\"screen\",\"value\":10},\"x\":{\"value\":59.5},\"y\":{\"value\":173}},\"id\":\"1355\",\"type\":\"Circle\"},{\"attributes\":{},\"id\":\"1533\",\"type\":\"Selection\"},{\"attributes\":{\"callback\":null,\"data\":{},\"selected\":{\"id\":\"1459\",\"type\":\"Selection\"},\"selection_policy\":{\"id\":\"1458\",\"type\":\"UnionRenderers\"}},\"id\":\"1348\",\"type\":\"ColumnDataSource\"},{\"attributes\":{\"callback\":null,\"data\":{},\"selected\":{\"id\":\"1481\",\"type\":\"Selection\"},\"selection_policy\":{\"id\":\"1480\",\"type\":\"UnionRenderers\"}},\"id\":\"1392\",\"type\":\"ColumnDataSource\"},{\"attributes\":{},\"id\":\"1534\",\"type\":\"UnionRenderers\"},{\"attributes\":{},\"id\":\"1535\",\"type\":\"Selection\"},{\"attributes\":{\"fill_alpha\":{\"value\":0.8},\"fill_color\":{\"value\":\"#ff8c00\"},\"line_color\":{\"value\":null},\"size\":{\"units\":\"screen\",\"value\":10},\"x\":{\"value\":59.5},\"y\":{\"value\":183}},\"id\":\"1347\",\"type\":\"Circle\"}],\"root_ids\":[\"1419\"]},\"title\":\"Bokeh Application\",\"version\":\"1.3.4\"}};\n",
       "  var render_items = [{\"docid\":\"357a6e6a-a54a-4bef-aa27-c29ad78f6d12\",\"roots\":{\"1419\":\"02812f69-fa16-4474-bc90-dbf4683da31a\"}}];\n",
       "  root.Bokeh.embed.embed_items_notebook(docs_json, render_items);\n",
       "\n",
       "  }\n",
       "  if (root.Bokeh !== undefined) {\n",
       "    embed_document(root);\n",
       "  } else {\n",
       "    var attempts = 0;\n",
       "    var timer = setInterval(function(root) {\n",
       "      if (root.Bokeh !== undefined) {\n",
       "        embed_document(root);\n",
       "        clearInterval(timer);\n",
       "      }\n",
       "      attempts++;\n",
       "      if (attempts > 100) {\n",
       "        console.log(\"Bokeh: ERROR: Unable to run BokehJS code because BokehJS library is missing\");\n",
       "        clearInterval(timer);\n",
       "      }\n",
       "    }, 10, root)\n",
       "  }\n",
       "})(window);"
      ],
      "application/vnd.bokehjs_exec.v0+json": ""
     },
     "metadata": {
      "application/vnd.bokehjs_exec.v0+json": {
       "id": "1419"
      }
     },
     "output_type": "display_data"
    }
   ],
   "source": [
    "show(layout([[plot], [slider]], sizing_mode='scale_width'))"
   ]
  },
  {
   "cell_type": "markdown",
   "metadata": {},
   "source": [
    "#### This interactive vizualization allows us to see the different average ages of gold-medal-winning athletes in the Olympic Games from 1896 to 2016. \n",
    "\n",
    "#### It includes medalists from the top 10 countries who have won the most gold medals over time. The circles on the graph represent different countries, the size of the circles represents the amount of unique athletes they had win gold medals in a given year. \n",
    "\n",
    "#### The goal was to see if the average age for a high-performing athlete had changed over time - had they gotten older, younger, etc. Moving throughout the years here, we can see that the average age for most countries has hovered between 25-30 years old. One outlier would be in 1976, where you can see that France's average athlete age is between 35-40."
   ]
  },
  {
   "cell_type": "code",
   "execution_count": null,
   "metadata": {},
   "outputs": [],
   "source": []
  }
 ],
 "metadata": {
  "kernelspec": {
   "display_name": "Python 3",
   "language": "python",
   "name": "python3"
  },
  "language_info": {
   "codemirror_mode": {
    "name": "ipython",
    "version": 3
   },
   "file_extension": ".py",
   "mimetype": "text/x-python",
   "name": "python",
   "nbconvert_exporter": "python",
   "pygments_lexer": "ipython3",
   "version": "3.7.4"
  }
 },
 "nbformat": 4,
 "nbformat_minor": 2
}
