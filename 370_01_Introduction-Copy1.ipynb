{
 "cells": [
  {
   "cell_type": "markdown",
   "metadata": {
    "slideshow": {
     "slide_type": "slide"
    }
   },
   "source": [
    "# Welcome to SI 370: Exploratory Data Analysis"
   ]
  },
  {
   "cell_type": "markdown",
   "metadata": {
    "slideshow": {
     "slide_type": "slide"
    }
   },
   "source": [
    "## Overview of Today\n",
    "* Introduction to (part of) the teaching team\n",
    "* What is Exploratory Data Analysis?\n",
    "* What is Data Science?\n",
    "* Syllabus overview\n",
    "* Getting started with course technology"
   ]
  },
  {
   "cell_type": "markdown",
   "metadata": {
    "slideshow": {
     "slide_type": "slide"
    }
   },
   "source": [
    "## About your instructor: Dr. Chris Teplovs\n",
    "\n",
    "* Originally from Canada\n",
    "* Ph.D. from University of Toronto\n",
    "* Postdoctoral Fellow at Copenhagen Business School\n",
    "* Visiting Associate Research Professor, École Normale Supérieure de Cachan, France\n",
    "* Lead Developer, Office of Academic Innovation\n",
    "* Lecturer & Research Scientist, School of Information\n",
    "\n",
    "<img src=\"resources/teplovs.png\" alt=\"Chris Teplovs\" style=\"width: 200px; float: right;\"/>"
   ]
  },
  {
   "cell_type": "markdown",
   "metadata": {
    "slideshow": {
     "slide_type": "subslide"
    }
   },
   "source": [
    "## Our GSI: Minje Choi\n",
    "\n",
    "* will join us next week"
   ]
  },
  {
   "cell_type": "markdown",
   "metadata": {
    "slideshow": {
     "slide_type": "subslide"
    }
   },
   "source": [
    "## Our Instructional Aide: Luke Cheng\n",
    "\n",
    "* Born and raised in Ann Arbor\n",
    "* Studying UI/UX and Computer Science\n",
    "* Enjoys playing tennis, piano and watching sports\n",
    "<img src=\"resources/lukecheng.jpg\" alt=\"Luke Cheng\" style=\"width: 200px; float: right;\"/>"
   ]
  },
  {
   "cell_type": "markdown",
   "metadata": {
    "slideshow": {
     "slide_type": "slide"
    }
   },
   "source": [
    "## What is Exploratory Data Analysis (EDA)?\n",
    "\n",
    "Wikipedia:\n",
    ">In statistics, exploratory data analysis (EDA) is an approach to analyzing data sets to summarize their main characteristics, often with visual methods. A statistical model can be used or not, but primarily EDA is for seeing what the data can tell us beyond the formal modeling or hypothesis testing task. "
   ]
  },
  {
   "cell_type": "markdown",
   "metadata": {
    "slideshow": {
     "slide_type": "slide"
    }
   },
   "source": [
    "## But really, what is Exploratory Data Analysis?\n",
    "\n",
    "(TPS)"
   ]
  },
  {
   "cell_type": "markdown",
   "metadata": {
    "slideshow": {
     "slide_type": "slide"
    }
   },
   "source": [
    "## What is Data Science?\n",
    "\n",
    "(TPS)"
   ]
  },
  {
   "cell_type": "markdown",
   "metadata": {
    "slideshow": {
     "slide_type": "slide"
    }
   },
   "source": [
    "## EDA is Detective Work\n",
    "* Tools to find clues, put together a story, identify suspects\n",
    "* Sometimes clues are accidental or misleading…\n",
    " * but it’s critical to find them anyway…\n",
    " * because overlooking potential clues could be even worse!"
   ]
  },
  {
   "cell_type": "markdown",
   "metadata": {
    "slideshow": {
     "slide_type": "subslide"
    }
   },
   "source": [
    "## Goals of Exploratory Data Analysis\n",
    "* Provide simplified descriptions of what’s happening in (possibly) complex data\n",
    "* Look below the surface to get new insights\n",
    "* See interesting behavior through visualization"
   ]
  },
  {
   "cell_type": "markdown",
   "metadata": {
    "slideshow": {
     "slide_type": "subslide"
    }
   },
   "source": [
    "## We want surprises!\n",
    "* Exploration & visualization closely linked\n",
    "* We need pictures with impact: the Goldilocks Principle (not too much, not too little, just right)\n",
    "* Make comparisons easy"
   ]
  },
  {
   "cell_type": "markdown",
   "metadata": {
    "slideshow": {
     "slide_type": "subslide"
    }
   },
   "source": [
    "## Some key principles of EDA\n",
    "* First, find or define “normal”\n",
    "* Then, compute and visualize differences from the normal\n",
    "* If studying an event or property in a dataset\n",
    "* What frequency would you “normally” expect?\n",
    "* What was the actual frequency observed, compared to the “normal”\n",
    "* Pick visualizations that emphasize those differences"
   ]
  },
  {
   "cell_type": "markdown",
   "metadata": {
    "slideshow": {
     "slide_type": "subslide"
    }
   },
   "source": [
    "![](resources/djtrends.jpg)"
   ]
  },
  {
   "cell_type": "markdown",
   "metadata": {
    "slideshow": {
     "slide_type": "subslide"
    }
   },
   "source": [
    "![](resources/djdetails.jpg)"
   ]
  },
  {
   "cell_type": "markdown",
   "metadata": {
    "slideshow": {
     "slide_type": "subslide"
    }
   },
   "source": [
    "![](resources/flightdelaycount.png)"
   ]
  },
  {
   "cell_type": "markdown",
   "metadata": {
    "slideshow": {
     "slide_type": "subslide"
    }
   },
   "source": [
    "![](resources/flightdelaymodel.png)"
   ]
  },
  {
   "cell_type": "markdown",
   "metadata": {
    "slideshow": {
     "slide_type": "subslide"
    }
   },
   "source": [
    "![](resources/flightdelaydetails.png)"
   ]
  },
  {
   "cell_type": "markdown",
   "metadata": {
    "slideshow": {
     "slide_type": "subslide"
    }
   },
   "source": [
    "### Preceding images from https://www.kaggle.com/fabiendaniel/predicting-flight-delays-tutorial"
   ]
  },
  {
   "cell_type": "markdown",
   "metadata": {
    "slideshow": {
     "slide_type": "slide"
    }
   },
   "source": [
    "## How do we explore?\n",
    "* Use tools to get different points of view (in order to get a simpler view)\n",
    "* Many things might not work!\n",
    "* There is no single right answer\n",
    " * There are many ways to approach a body of data\n",
    " * Some are better than others\n",
    "* **Not** finding any patterns one level deeper can still be an important finding!"
   ]
  },
  {
   "cell_type": "markdown",
   "metadata": {
    "slideshow": {
     "slide_type": "subslide"
    }
   },
   "source": [
    "## How do we find interesting patterns?\n",
    "* Visualization tools and human pattern recognition (a.k.a. “eyeballing”)\n",
    "* Analytic/automated methods\n",
    " * Statistics\n",
    " * Machine Learning"
   ]
  },
  {
   "cell_type": "markdown",
   "metadata": {
    "slideshow": {
     "slide_type": "slide"
    }
   },
   "source": [
    "## Skills that you'll learn in SI 370\n",
    "* Importing and cleaning data\n",
    "* Summary statistics\n",
    "* Visualization\n",
    "* Practical statistics\n",
    "* Clustering & Classification\n",
    "* Multidimensional techniques\n",
    "* Text analytics\n",
    "* Time series\n",
    "* Networks\n",
    "\n",
    "How to apply Python coding and packages to solve the above problems"
   ]
  },
  {
   "cell_type": "markdown",
   "metadata": {
    "slideshow": {
     "slide_type": "slide"
    }
   },
   "source": [
    "# Questions?"
   ]
  },
  {
   "cell_type": "markdown",
   "metadata": {
    "slideshow": {
     "slide_type": "slide"
    }
   },
   "source": [
    "# Syllabus walk-through\n",
    "\n",
    "[Syllabus on Google Drive](https://docs.google.com/document/d/1WQL-jEoUnNZdr1_IXdt0Zhm5LXBqQGD0GnGoV8DFRSY/edit)\n"
   ]
  },
  {
   "cell_type": "markdown",
   "metadata": {
    "slideshow": {
     "slide_type": "slide"
    }
   },
   "source": [
    "# Technologies we will be using"
   ]
  },
  {
   "cell_type": "markdown",
   "metadata": {
    "slideshow": {
     "slide_type": "subslide"
    }
   },
   "source": [
    "## Canvas\n",
    "* institutional learning management system\n",
    "* you'll find assignments and grades here"
   ]
  },
  {
   "cell_type": "markdown",
   "metadata": {
    "slideshow": {
     "slide_type": "subslide"
    }
   },
   "source": [
    "## Jupyter Notebook via Canvas\n",
    "\n",
    "* Why Jupyter?\n",
    " * Interactive, reproducible results, literate programming, REPL (read-eval-print loop)\n",
    " * great for data exploration\n",
    "* Why Jupyter via Canvas?\n",
    " * zero-config option for Jupyter (we provide libraries)\n",
    " * [Brief video explaining process of using Jupyter in this course](https://drive.google.com/file/d/1LQOMTCmLF0iWDsQt5pB6O8jzDI6KsDFO/view)"
   ]
  },
  {
   "cell_type": "markdown",
   "metadata": {
    "slideshow": {
     "slide_type": "subslide"
    }
   },
   "source": [
    "## Slack\n",
    "\n",
    "* group communication tool\n",
    "* primary communication tool in this course (instead of email)"
   ]
  },
  {
   "cell_type": "markdown",
   "metadata": {
    "slideshow": {
     "slide_type": "slide"
    }
   },
   "source": [
    "## Next steps\n",
    "1. Follow the [invitation link to Slack](https://join.slack.com/t/si370fa2019/shared_invite/enQtNzM4MzA4NDIzMzY1LTE2MzMxMzZjYTUwMjVmYjBhNGRiYmZiYzYwZjk2YzIwNTYxY2E0MmZjMGE3MDM3ZmRmNTI1YjNiNzE4YTgzNjg)\n",
    "1. Complete the course survey (for points)\n",
    "4. We'll start working the lab together, share some insights, submit your first notebook for the class, and talk about prepping for next class\n"
   ]
  },
  {
   "cell_type": "markdown",
   "metadata": {},
   "source": [
    "## Jupyter via Canvas\n",
    "\n",
    "* go to Canvas\n",
    "* click on \"Jupyter Notebook\"\n",
    "* click on \"si370\"\n",
    "* **DUPLICATE** the file before working on it!"
   ]
  },
  {
   "cell_type": "markdown",
   "metadata": {
    "slideshow": {
     "slide_type": "slide"
    }
   },
   "source": [
    "### IMPORTANT: Replace ```?``` in the following code with your uniqname."
   ]
  },
  {
   "cell_type": "code",
   "execution_count": 1,
   "metadata": {},
   "outputs": [],
   "source": [
    "MY_UNIQNAME = 'ktops'"
   ]
  },
  {
   "cell_type": "markdown",
   "metadata": {
    "slideshow": {
     "slide_type": "skip"
    }
   },
   "source": [
    "First, let's load the pandas library (which we'll cover in more detail next time):"
   ]
  },
  {
   "cell_type": "code",
   "execution_count": 2,
   "metadata": {
    "scrolled": true,
    "slideshow": {
     "slide_type": "slide"
    }
   },
   "outputs": [],
   "source": [
    "import pandas as pd"
   ]
  },
  {
   "cell_type": "markdown",
   "metadata": {
    "slideshow": {
     "slide_type": "skip"
    }
   },
   "source": [
    "We're going to load a bunch of data files from the data/names directory.  If you look at that directory you'll see a bunch of files that are names ```yobXXXX.txt``` where XXXX is a year.  The years range from 1880 to 2014, \n",
    "so let's use python's range function to create a list of years:"
   ]
  },
  {
   "cell_type": "code",
   "execution_count": 3,
   "metadata": {
    "slideshow": {
     "slide_type": "fragment"
    }
   },
   "outputs": [],
   "source": [
    "years = range(1880, 2015)"
   ]
  },
  {
   "cell_type": "markdown",
   "metadata": {
    "slideshow": {
     "slide_type": "skip"
    }
   },
   "source": [
    "And let's remind ourselves how range works by examining the first and last elements of the list:"
   ]
  },
  {
   "cell_type": "code",
   "execution_count": 4,
   "metadata": {
    "scrolled": true,
    "slideshow": {
     "slide_type": "fragment"
    }
   },
   "outputs": [
    {
     "name": "stdout",
     "output_type": "stream",
     "text": [
      "1880 2014\n"
     ]
    }
   ],
   "source": [
    "print(years[0],years[-1])"
   ]
  },
  {
   "cell_type": "markdown",
   "metadata": {
    "slideshow": {
     "slide_type": "skip"
    }
   },
   "source": [
    "The next cell block initializes another empty list (```pieces```), \n",
    "which we append with a pandas DataFrame (which we'll get to next class),\n",
    "the concatenates all those dataframes into one big DataFrame called ```df_names```:"
   ]
  },
  {
   "cell_type": "code",
   "execution_count": 5,
   "metadata": {
    "slideshow": {
     "slide_type": "subslide"
    }
   },
   "outputs": [],
   "source": [
    "pieces = []\n",
    "for year in years:\n",
    "    path = 'data/names/yob%d.csv'%year\n",
    "    frame = pd.read_csv(path)\n",
    "    frame['year'] = year\n",
    "    pieces.append(frame)\n",
    "df_names = pd.concat(pieces, ignore_index=True)"
   ]
  },
  {
   "cell_type": "markdown",
   "metadata": {
    "slideshow": {
     "slide_type": "skip"
    }
   },
   "source": [
    "Execute the next block . You will see what the DataFrame looks like. It includes the number of births for each name/gender combination for each year. \"df_\" means DataFrame."
   ]
  },
  {
   "cell_type": "code",
   "execution_count": 6,
   "metadata": {
    "slideshow": {
     "slide_type": "fragment"
    }
   },
   "outputs": [
    {
     "data": {
      "text/html": [
       "<div>\n",
       "<style scoped>\n",
       "    .dataframe tbody tr th:only-of-type {\n",
       "        vertical-align: middle;\n",
       "    }\n",
       "\n",
       "    .dataframe tbody tr th {\n",
       "        vertical-align: top;\n",
       "    }\n",
       "\n",
       "    .dataframe thead th {\n",
       "        text-align: right;\n",
       "    }\n",
       "</style>\n",
       "<table border=\"1\" class=\"dataframe\">\n",
       "  <thead>\n",
       "    <tr style=\"text-align: right;\">\n",
       "      <th></th>\n",
       "      <th>name</th>\n",
       "      <th>gender</th>\n",
       "      <th>birth_count</th>\n",
       "      <th>year</th>\n",
       "    </tr>\n",
       "  </thead>\n",
       "  <tbody>\n",
       "    <tr>\n",
       "      <th>0</th>\n",
       "      <td>Simeon</td>\n",
       "      <td>M</td>\n",
       "      <td>23</td>\n",
       "      <td>1880</td>\n",
       "    </tr>\n",
       "    <tr>\n",
       "      <th>1</th>\n",
       "      <td>Raoul</td>\n",
       "      <td>M</td>\n",
       "      <td>7</td>\n",
       "      <td>1880</td>\n",
       "    </tr>\n",
       "    <tr>\n",
       "      <th>2</th>\n",
       "      <td>Lou</td>\n",
       "      <td>M</td>\n",
       "      <td>14</td>\n",
       "      <td>1880</td>\n",
       "    </tr>\n",
       "    <tr>\n",
       "      <th>3</th>\n",
       "      <td>Myra</td>\n",
       "      <td>F</td>\n",
       "      <td>83</td>\n",
       "      <td>1880</td>\n",
       "    </tr>\n",
       "    <tr>\n",
       "      <th>4</th>\n",
       "      <td>Alois</td>\n",
       "      <td>M</td>\n",
       "      <td>10</td>\n",
       "      <td>1880</td>\n",
       "    </tr>\n",
       "  </tbody>\n",
       "</table>\n",
       "</div>"
      ],
      "text/plain": [
       "     name gender  birth_count  year\n",
       "0  Simeon      M           23  1880\n",
       "1   Raoul      M            7  1880\n",
       "2     Lou      M           14  1880\n",
       "3    Myra      F           83  1880\n",
       "4   Alois      M           10  1880"
      ]
     },
     "execution_count": 6,
     "metadata": {},
     "output_type": "execute_result"
    }
   ],
   "source": [
    "df_names.head()"
   ]
  },
  {
   "cell_type": "markdown",
   "metadata": {
    "slideshow": {
     "slide_type": "skip"
    }
   },
   "source": [
    "We want to visualize the number of births of a specific baby name (e.g., \"Mike\") across the years. First, execute the following code to select birth records just for \"Mike.\""
   ]
  },
  {
   "cell_type": "code",
   "execution_count": 7,
   "metadata": {
    "slideshow": {
     "slide_type": "subslide"
    }
   },
   "outputs": [],
   "source": [
    "df_mike = df_names[(df_names.name == 'Mike') & (df_names.gender == 'M')]"
   ]
  },
  {
   "cell_type": "code",
   "execution_count": 8,
   "metadata": {
    "slideshow": {
     "slide_type": "fragment"
    }
   },
   "outputs": [
    {
     "data": {
      "text/html": [
       "<div>\n",
       "<style scoped>\n",
       "    .dataframe tbody tr th:only-of-type {\n",
       "        vertical-align: middle;\n",
       "    }\n",
       "\n",
       "    .dataframe tbody tr th {\n",
       "        vertical-align: top;\n",
       "    }\n",
       "\n",
       "    .dataframe thead th {\n",
       "        text-align: right;\n",
       "    }\n",
       "</style>\n",
       "<table border=\"1\" class=\"dataframe\">\n",
       "  <thead>\n",
       "    <tr style=\"text-align: right;\">\n",
       "      <th></th>\n",
       "      <th>name</th>\n",
       "      <th>gender</th>\n",
       "      <th>birth_count</th>\n",
       "      <th>year</th>\n",
       "    </tr>\n",
       "  </thead>\n",
       "  <tbody>\n",
       "    <tr>\n",
       "      <th>159</th>\n",
       "      <td>Mike</td>\n",
       "      <td>M</td>\n",
       "      <td>95</td>\n",
       "      <td>1880</td>\n",
       "    </tr>\n",
       "    <tr>\n",
       "      <th>2741</th>\n",
       "      <td>Mike</td>\n",
       "      <td>M</td>\n",
       "      <td>44</td>\n",
       "      <td>1881</td>\n",
       "    </tr>\n",
       "    <tr>\n",
       "      <th>5448</th>\n",
       "      <td>Mike</td>\n",
       "      <td>M</td>\n",
       "      <td>89</td>\n",
       "      <td>1882</td>\n",
       "    </tr>\n",
       "    <tr>\n",
       "      <th>7883</th>\n",
       "      <td>Mike</td>\n",
       "      <td>M</td>\n",
       "      <td>73</td>\n",
       "      <td>1883</td>\n",
       "    </tr>\n",
       "    <tr>\n",
       "      <th>9709</th>\n",
       "      <td>Mike</td>\n",
       "      <td>M</td>\n",
       "      <td>84</td>\n",
       "      <td>1884</td>\n",
       "    </tr>\n",
       "  </tbody>\n",
       "</table>\n",
       "</div>"
      ],
      "text/plain": [
       "      name gender  birth_count  year\n",
       "159   Mike      M           95  1880\n",
       "2741  Mike      M           44  1881\n",
       "5448  Mike      M           89  1882\n",
       "7883  Mike      M           73  1883\n",
       "9709  Mike      M           84  1884"
      ]
     },
     "execution_count": 8,
     "metadata": {},
     "output_type": "execute_result"
    }
   ],
   "source": [
    "df_mike.head()"
   ]
  },
  {
   "cell_type": "markdown",
   "metadata": {
    "slideshow": {
     "slide_type": "skip"
    }
   },
   "source": [
    "To create a plot, execute the following code. The first line starting with \"%\" is a command that enables inline plotting for the matplotlib library in Jupyter Notebook. This line needs to be executed only once per session."
   ]
  },
  {
   "cell_type": "code",
   "execution_count": 9,
   "metadata": {
    "slideshow": {
     "slide_type": "subslide"
    }
   },
   "outputs": [
    {
     "data": {
      "text/plain": [
       "<matplotlib.axes._subplots.AxesSubplot at 0x7f345f3b2c88>"
      ]
     },
     "execution_count": 9,
     "metadata": {},
     "output_type": "execute_result"
    },
    {
     "data": {
      "image/png": "[encoded data removed]",
      "text/plain": [
       "<Figure size 432x288 with 1 Axes>"
      ]
     },
     "metadata": {
      "needs_background": "light"
     },
     "output_type": "display_data"
    }
   ],
   "source": [
    "%matplotlib inline\n",
    "df_mike.plot('year', 'birth_count', title='\"James\"')"
   ]
  },
  {
   "cell_type": "markdown",
   "metadata": {
    "slideshow": {
     "slide_type": "subslide"
    }
   },
   "source": [
    "## <font color=\"magenta\">Exercise 1 (4 points): Create a similar graph for all the female babies named \"Mike\"</font>\n",
    "Hint: Copy and paste the code above that looks like\n",
    "```df_mike = df_names[(df_names.name == 'Mike') & (df_names.gender == 'M')]``` and chamge 'M' to 'F' to get started.  You might want to assign the results to \n",
    "another DataFrame"
   ]
  },
  {
   "cell_type": "code",
   "execution_count": 10,
   "metadata": {
    "slideshow": {
     "slide_type": "-"
    }
   },
   "outputs": [
    {
     "data": {
      "text/plain": [
       "<matplotlib.axes._subplots.AxesSubplot at 0x7f3455800710>"
      ]
     },
     "execution_count": 10,
     "metadata": {},
     "output_type": "execute_result"
    },
    {
     "data": {
      "image/png": "[encoded data removed]",
      "text/plain": [
       "<Figure size 432x288 with 1 Axes>"
      ]
     },
     "metadata": {
      "needs_background": "light"
     },
     "output_type": "display_data"
    }
   ],
   "source": [
    "df_mike_f = df_names[(df_names.name == 'Mike') & (df_names.gender == 'F')]\n",
    "df_mike_f.plot('year', 'birth_count', title='\"Mike, Females\"')"
   ]
  },
  {
   "cell_type": "markdown",
   "metadata": {
    "slideshow": {
     "slide_type": "subslide"
    }
   },
   "source": [
    "## <font color=\"magenta\">Exercise 2 (3 points): Describe the differences between the two graphs in one or two paragraphs using complete sentences. </font>"
   ]
  },
  {
   "cell_type": "markdown",
   "metadata": {},
   "source": [
    "While the male Mike graph has two clear spikes, the female graph has several spikes in popularity. Additionally, the time frames are very different - the male graph goes from approx. 1880-2020, while the female graph goes from approx. 1920-1990. The amount of females named Mike seems a lot more variable than the amount of males named Mike, but there are greater differences in the numbers of male Mikes than female (10000 birth count difference vs. 15)."
   ]
  },
  {
   "cell_type": "markdown",
   "metadata": {
    "slideshow": {
     "slide_type": "subslide"
    }
   },
   "source": [
    "## <font color=\"magenta\">Exercise 3 (3 points): Suggest or hypothesize reasons that may explain the patterns you see in the graphs and the differences between them. </font>"
   ]
  },
  {
   "cell_type": "markdown",
   "metadata": {},
   "source": [
    "For the difference in peaks in popularity, for males there may be less spikes because many males don't just have the name Mike, but are actually named Michael, and then may go by Mike. For female, the name Mike may have more spikes because the name may be more intentionally used. These may both be affected by the scale of the graphs as well, as the smaller amount of time passed in the female graph may just allow you to see more of the ups and downs in the data. Below, I look at the male graph in the same time frame as the female one, to see how it might change the graph."
   ]
  },
  {
   "cell_type": "markdown",
   "metadata": {
    "slideshow": {
     "slide_type": "subslide"
    }
   },
   "source": [
    "## <font color=\"magenta\">Exercise 4+: Experiment with different names, plots, etc.  EXPLORE THE DATA! </font>"
   ]
  },
  {
   "cell_type": "code",
   "execution_count": 11,
   "metadata": {},
   "outputs": [
    {
     "data": {
      "text/plain": [
       "(1916, 1994)"
      ]
     },
     "execution_count": 11,
     "metadata": {},
     "output_type": "execute_result"
    },
    {
     "data": {
      "image/png": "[encoded data removed]",
      "text/plain": [
       "<Figure size 432x288 with 1 Axes>"
      ]
     },
     "metadata": {
      "needs_background": "light"
     },
     "output_type": "display_data"
    }
   ],
   "source": [
    "#df_mike_f goes from 1916-1994\n",
    "d = df_mike.plot('year', 'birth_count', title='\"Mike, Males (w Time Cut)\"')\n",
    "d.set_xlim(1916, 1994)"
   ]
  },
  {
   "cell_type": "markdown",
   "metadata": {},
   "source": [
    "It looks like my hypothesis about the difference in time frames affecting the graph was wrong, it appears to be the same."
   ]
  },
  {
   "cell_type": "code",
   "execution_count": 14,
   "metadata": {},
   "outputs": [],
   "source": [
    "# overlay the two graphs onto the same plot to see if the popularity happens at the same times"
   ]
  },
  {
   "cell_type": "code",
   "execution_count": 23,
   "metadata": {},
   "outputs": [
    {
     "data": {
      "text/html": [
       "<div>\n",
       "<style scoped>\n",
       "    .dataframe tbody tr th:only-of-type {\n",
       "        vertical-align: middle;\n",
       "    }\n",
       "\n",
       "    .dataframe tbody tr th {\n",
       "        vertical-align: top;\n",
       "    }\n",
       "\n",
       "    .dataframe thead th {\n",
       "        text-align: right;\n",
       "    }\n",
       "</style>\n",
       "<table border=\"1\" class=\"dataframe\">\n",
       "  <thead>\n",
       "    <tr style=\"text-align: right;\">\n",
       "      <th></th>\n",
       "      <th>name</th>\n",
       "      <th>gender</th>\n",
       "      <th>birth_count</th>\n",
       "      <th>year</th>\n",
       "    </tr>\n",
       "  </thead>\n",
       "  <tbody>\n",
       "    <tr>\n",
       "      <th>580129</th>\n",
       "      <td>Mike</td>\n",
       "      <td>M</td>\n",
       "      <td>12047</td>\n",
       "      <td>1960</td>\n",
       "    </tr>\n",
       "  </tbody>\n",
       "</table>\n",
       "</div>"
      ],
      "text/plain": [
       "        name gender  birth_count  year\n",
       "580129  Mike      M        12047  1960"
      ]
     },
     "execution_count": 23,
     "metadata": {},
     "output_type": "execute_result"
    }
   ],
   "source": [
    "# how many boys vs. girls were named Mike in 1960\n",
    "boys = df_mike[df_mike['year'] == 1960]\n",
    "boys"
   ]
  },
  {
   "cell_type": "code",
   "execution_count": 24,
   "metadata": {},
   "outputs": [
    {
     "data": {
      "text/html": [
       "<div>\n",
       "<style scoped>\n",
       "    .dataframe tbody tr th:only-of-type {\n",
       "        vertical-align: middle;\n",
       "    }\n",
       "\n",
       "    .dataframe tbody tr th {\n",
       "        vertical-align: top;\n",
       "    }\n",
       "\n",
       "    .dataframe thead th {\n",
       "        text-align: right;\n",
       "    }\n",
       "</style>\n",
       "<table border=\"1\" class=\"dataframe\">\n",
       "  <thead>\n",
       "    <tr style=\"text-align: right;\">\n",
       "      <th></th>\n",
       "      <th>name</th>\n",
       "      <th>gender</th>\n",
       "      <th>birth_count</th>\n",
       "      <th>year</th>\n",
       "    </tr>\n",
       "  </thead>\n",
       "  <tbody>\n",
       "    <tr>\n",
       "      <th>576895</th>\n",
       "      <td>Mike</td>\n",
       "      <td>F</td>\n",
       "      <td>24</td>\n",
       "      <td>1960</td>\n",
       "    </tr>\n",
       "  </tbody>\n",
       "</table>\n",
       "</div>"
      ],
      "text/plain": [
       "        name gender  birth_count  year\n",
       "576895  Mike      F           24  1960"
      ]
     },
     "execution_count": 24,
     "metadata": {},
     "output_type": "execute_result"
    }
   ],
   "source": [
    "girls = df_mike_f[df_mike_f['year'] == 1960]\n",
    "girls"
   ]
  },
  {
   "cell_type": "markdown",
   "metadata": {},
   "source": [
    "Although there are spikes in both the male in female graphs at 1960, they are on very different scales. The spike in boy names mean ~12000, while the spike in girls was 24."
   ]
  },
  {
   "cell_type": "markdown",
   "metadata": {
    "slideshow": {
     "slide_type": "subslide"
    }
   },
   "source": [
    "# <font color=\"magenta\">END OF NOTEBOOK</font>\n",
    "## Remember to submit this file in HTML format via Canvas."
   ]
  },
  {
   "cell_type": "code",
   "execution_count": null,
   "metadata": {},
   "outputs": [],
   "source": []
  }
 ],
 "metadata": {
  "celltoolbar": "Slideshow",
  "kernelspec": {
   "display_name": "Python 3",
   "language": "python",
   "name": "python3"
  },
  "language_info": {
   "codemirror_mode": {
    "name": "ipython",
    "version": 3
   },
   "file_extension": ".py",
   "mimetype": "text/x-python",
   "name": "python",
   "nbconvert_exporter": "python",
   "pygments_lexer": "ipython3",
   "version": "3.7.5"
  }
 },
 "nbformat": 4,
 "nbformat_minor": 2
}
