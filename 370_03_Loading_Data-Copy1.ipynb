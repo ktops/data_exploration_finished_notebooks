{
 "cells": [
  {
   "cell_type": "markdown",
   "metadata": {
    "slideshow": {
     "slide_type": "slide"
    }
   },
   "source": [
    "# SI370 Day 3: Loading and manipulating data in pandas\n"
   ]
  },
  {
   "cell_type": "markdown",
   "metadata": {
    "slideshow": {
     "slide_type": "slide"
    }
   },
   "source": [
    "# Reminders\n"
   ]
  },
  {
   "cell_type": "markdown",
   "metadata": {
    "slideshow": {
     "slide_type": "slide"
    }
   },
   "source": [
    "## Learning Objectives\n",
    "* (from last week) explain how boolean masks work in filtering DataFrames\n",
    "* load CSV files\n",
    "* load JSON files\n",
    "* use pd.read_html to extract tables from web pages\n",
    "* load data from simple APIs \n",
    "* handle missing data (dropna and fillna)\n",
    "* use vectorized string functions"
   ]
  },
  {
   "cell_type": "markdown",
   "metadata": {
    "slideshow": {
     "slide_type": "subslide"
    }
   },
   "source": [
    "### IMPORTANT: Replace ```?``` in the following code with your uniqname."
   ]
  },
  {
   "cell_type": "code",
   "execution_count": 8,
   "metadata": {},
   "outputs": [],
   "source": [
    "MY_UNIQNAME = 'ktops'"
   ]
  },
  {
   "cell_type": "markdown",
   "metadata": {
    "slideshow": {
     "slide_type": "slide"
    }
   },
   "source": [
    "## <font color=\"magenta\">Exercise 1 (10 minutes, 1 point):</font>\n",
    "### a. Sign up for a Kaggle account (https://www.kaggle.com/).  Record your Kaggle username in the following markdown cell\n"
   ]
  },
  {
   "cell_type": "markdown",
   "metadata": {},
   "source": [
    "ktops98"
   ]
  },
  {
   "cell_type": "markdown",
   "metadata": {},
   "source": [
    "### b. Browse the Kaggle datasets (https://www.kaggle.com/datasets) and list two or three that you find interesting.  Explain why you find them interesting."
   ]
  },
  {
   "cell_type": "markdown",
   "metadata": {},
   "source": [
    "Fruits 360 - 80,000 pictures of fruit, object detection!\n",
    "55000+ Song Lyrics - lots of song lyrics in english, sentiment analysis!"
   ]
  },
  {
   "cell_type": "markdown",
   "metadata": {
    "slideshow": {
     "slide_type": "slide"
    }
   },
   "source": [
    "# Today's focus: Loading (and manipulating) data using pandas"
   ]
  },
  {
   "cell_type": "code",
   "execution_count": 9,
   "metadata": {
    "slideshow": {
     "slide_type": "subslide"
    }
   },
   "outputs": [],
   "source": [
    "import pandas as pd"
   ]
  },
  {
   "cell_type": "code",
   "execution_count": null,
   "metadata": {},
   "outputs": [],
   "source": []
  },
  {
   "cell_type": "markdown",
   "metadata": {
    "slideshow": {
     "slide_type": "skip"
    }
   },
   "source": [
    "Recall the ```pd.read_csv``` function that we used to load data sets in previous classes:"
   ]
  },
  {
   "cell_type": "code",
   "execution_count": 10,
   "metadata": {},
   "outputs": [],
   "source": [
    "menu = pd.read_csv('data/menu.csv') "
   ]
  },
  {
   "cell_type": "markdown",
   "metadata": {
    "slideshow": {
     "slide_type": "skip"
    }
   },
   "source": [
    "That works great for well-formatted CSV files, but what happens when you get something that looks like the ```data/avocado_eu.csv``` file.\n",
    "Go ahead and browse that in JupyterLab's CSV browser.\n",
    "\n",
    "You'll notice a new drop-down menu labelled \"Delimiter\".  Go ahead and change that to ```;```.\n",
    "\n",
    "Referring back to your readings and the [read_csv documentation online](https://pandas.pydata.org/pandas-docs/stable/generated/pandas.read_csv.html), complete the following exercise\n",
    "\n",
    "\n",
    "Read the data/avocado_eu.csv file into a pandas DataFrame and show the first 5 rows.\n"
   ]
  },
  {
   "cell_type": "code",
   "execution_count": 11,
   "metadata": {
    "scrolled": true,
    "slideshow": {
     "slide_type": "subslide"
    }
   },
   "outputs": [
    {
     "data": {
      "text/html": [
       "<div>\n",
       "<style scoped>\n",
       "    .dataframe tbody tr th:only-of-type {\n",
       "        vertical-align: middle;\n",
       "    }\n",
       "\n",
       "    .dataframe tbody tr th {\n",
       "        vertical-align: top;\n",
       "    }\n",
       "\n",
       "    .dataframe thead th {\n",
       "        text-align: right;\n",
       "    }\n",
       "</style>\n",
       "<table border=\"1\" class=\"dataframe\">\n",
       "  <thead>\n",
       "    <tr style=\"text-align: right;\">\n",
       "      <th></th>\n",
       "      <th></th>\n",
       "      <th></th>\n",
       "      <th></th>\n",
       "      <th></th>\n",
       "      <th></th>\n",
       "      <th></th>\n",
       "      <th></th>\n",
       "      <th></th>\n",
       "      <th>;Date;AveragePrice;Total Volume;4046;4225;4770;Total Bags;Small Bags;Large Bags;XLarge Bags;type;year;region</th>\n",
       "    </tr>\n",
       "  </thead>\n",
       "  <tbody>\n",
       "    <tr>\n",
       "      <th>0;2015-12-27;1</th>\n",
       "      <th>33;64236</th>\n",
       "      <th>62;1036</th>\n",
       "      <th>74;54454</th>\n",
       "      <th>85;48</th>\n",
       "      <th>16;8696</th>\n",
       "      <th>87;8603</th>\n",
       "      <th>62;93</th>\n",
       "      <th>25;0</th>\n",
       "      <td>0;conventional;2015;Albany</td>\n",
       "    </tr>\n",
       "    <tr>\n",
       "      <th>1;2015-12-20;1</th>\n",
       "      <th>35;54876</th>\n",
       "      <th>98;674</th>\n",
       "      <th>28;44638</th>\n",
       "      <th>81;58</th>\n",
       "      <th>33;9505</th>\n",
       "      <th>56;9408</th>\n",
       "      <th>07;97</th>\n",
       "      <th>49;0</th>\n",
       "      <td>0;conventional;2015;Albany</td>\n",
       "    </tr>\n",
       "    <tr>\n",
       "      <th>2;2015-12-13;0</th>\n",
       "      <th>93;118220</th>\n",
       "      <th>22;794</th>\n",
       "      <th>7;109149</th>\n",
       "      <th>67;130</th>\n",
       "      <th>5;8145</th>\n",
       "      <th>35;8042</th>\n",
       "      <th>21;103</th>\n",
       "      <th>14;0</th>\n",
       "      <td>0;conventional;2015;Albany</td>\n",
       "    </tr>\n",
       "    <tr>\n",
       "      <th>3;2015-12-06;1</th>\n",
       "      <th>08;78992</th>\n",
       "      <th>15;1132</th>\n",
       "      <th>0;71976</th>\n",
       "      <th>41;72</th>\n",
       "      <th>58;5811</th>\n",
       "      <th>16;5677</th>\n",
       "      <th>4;133</th>\n",
       "      <th>76;0</th>\n",
       "      <td>0;conventional;2015;Albany</td>\n",
       "    </tr>\n",
       "    <tr>\n",
       "      <th>4;2015-11-29;1</th>\n",
       "      <th>28;51039</th>\n",
       "      <th>6;941</th>\n",
       "      <th>48;43838</th>\n",
       "      <th>39;75</th>\n",
       "      <th>78;6183</th>\n",
       "      <th>95;5986</th>\n",
       "      <th>26;197</th>\n",
       "      <th>69;0</th>\n",
       "      <td>0;conventional;2015;Albany</td>\n",
       "    </tr>\n",
       "  </tbody>\n",
       "</table>\n",
       "</div>"
      ],
      "text/plain": [
       "                                                                             ;Date;AveragePrice;Total Volume;4046;4225;4770;Total Bags;Small Bags;Large Bags;XLarge Bags;type;year;region\n",
       "0;2015-12-27;1 33;64236  62;1036 74;54454 85;48  16;8696 87;8603 62;93  25;0                         0;conventional;2015;Albany                                                          \n",
       "1;2015-12-20;1 35;54876  98;674  28;44638 81;58  33;9505 56;9408 07;97  49;0                         0;conventional;2015;Albany                                                          \n",
       "2;2015-12-13;0 93;118220 22;794  7;109149 67;130 5;8145  35;8042 21;103 14;0                         0;conventional;2015;Albany                                                          \n",
       "3;2015-12-06;1 08;78992  15;1132 0;71976  41;72  58;5811 16;5677 4;133  76;0                         0;conventional;2015;Albany                                                          \n",
       "4;2015-11-29;1 28;51039  6;941   48;43838 39;75  78;6183 95;5986 26;197 69;0                         0;conventional;2015;Albany                                                          "
      ]
     },
     "execution_count": 11,
     "metadata": {},
     "output_type": "execute_result"
    }
   ],
   "source": [
    "avocado = pd.read_csv('data/avocado_eu.csv')\n",
    "avocado.head(5)"
   ]
  },
  {
   "cell_type": "markdown",
   "metadata": {
    "slideshow": {
     "slide_type": "subslide"
    }
   },
   "source": [
    "You'll notice that, unless you did something special in the previous read_csv invocation, the decimal points don't look quite right.  Go ahead and find the right option to convert commas to periods when loading a CSV file.  Also figure out how to \"fix\" the salary numbers so they don't contain commas.  \n",
    "\n",
    "Hint: Use the documentation at https://pandas.pydata.org/pandas-docs/stable/reference/api/pandas.read_csv.html\n",
    "\n",
    "Or you can search for something like \"pandas read_csv decimal thousands comma\": https://duckduckgo.com/?q=pandas+read_csv+decimal+thousands+comma&atb=v108-1&ia=web"
   ]
  },
  {
   "cell_type": "markdown",
   "metadata": {
    "slideshow": {
     "slide_type": "subslide"
    }
   },
   "source": [
    "## <font color=\"magenta\">Exercise 2 (1 point):</font>\n",
    "Read the data/avocado_eu.csv file using the correct delimiter and decimal character into a dataframe and show the first 5 rows:"
   ]
  },
  {
   "cell_type": "code",
   "execution_count": 12,
   "metadata": {},
   "outputs": [
    {
     "data": {
      "text/html": [
       "<div>\n",
       "<style scoped>\n",
       "    .dataframe tbody tr th:only-of-type {\n",
       "        vertical-align: middle;\n",
       "    }\n",
       "\n",
       "    .dataframe tbody tr th {\n",
       "        vertical-align: top;\n",
       "    }\n",
       "\n",
       "    .dataframe thead th {\n",
       "        text-align: right;\n",
       "    }\n",
       "</style>\n",
       "<table border=\"1\" class=\"dataframe\">\n",
       "  <thead>\n",
       "    <tr style=\"text-align: right;\">\n",
       "      <th></th>\n",
       "      <th>Unnamed: 0</th>\n",
       "      <th>Date</th>\n",
       "      <th>AveragePrice</th>\n",
       "      <th>Total Volume</th>\n",
       "      <th>4046</th>\n",
       "      <th>4225</th>\n",
       "      <th>4770</th>\n",
       "      <th>Total Bags</th>\n",
       "      <th>Small Bags</th>\n",
       "      <th>Large Bags</th>\n",
       "      <th>XLarge Bags</th>\n",
       "      <th>type</th>\n",
       "      <th>year</th>\n",
       "      <th>region</th>\n",
       "    </tr>\n",
       "  </thead>\n",
       "  <tbody>\n",
       "    <tr>\n",
       "      <th>0</th>\n",
       "      <td>0</td>\n",
       "      <td>2015-12-27</td>\n",
       "      <td>1.33</td>\n",
       "      <td>64236.62</td>\n",
       "      <td>1036.74</td>\n",
       "      <td>54454.85</td>\n",
       "      <td>48.16</td>\n",
       "      <td>8696.87</td>\n",
       "      <td>8603.62</td>\n",
       "      <td>93.25</td>\n",
       "      <td>0.0</td>\n",
       "      <td>conventional</td>\n",
       "      <td>2015</td>\n",
       "      <td>Albany</td>\n",
       "    </tr>\n",
       "    <tr>\n",
       "      <th>1</th>\n",
       "      <td>1</td>\n",
       "      <td>2015-12-20</td>\n",
       "      <td>1.35</td>\n",
       "      <td>54876.98</td>\n",
       "      <td>674.28</td>\n",
       "      <td>44638.81</td>\n",
       "      <td>58.33</td>\n",
       "      <td>9505.56</td>\n",
       "      <td>9408.07</td>\n",
       "      <td>97.49</td>\n",
       "      <td>0.0</td>\n",
       "      <td>conventional</td>\n",
       "      <td>2015</td>\n",
       "      <td>Albany</td>\n",
       "    </tr>\n",
       "    <tr>\n",
       "      <th>2</th>\n",
       "      <td>2</td>\n",
       "      <td>2015-12-13</td>\n",
       "      <td>0.93</td>\n",
       "      <td>118220.22</td>\n",
       "      <td>794.70</td>\n",
       "      <td>109149.67</td>\n",
       "      <td>130.50</td>\n",
       "      <td>8145.35</td>\n",
       "      <td>8042.21</td>\n",
       "      <td>103.14</td>\n",
       "      <td>0.0</td>\n",
       "      <td>conventional</td>\n",
       "      <td>2015</td>\n",
       "      <td>Albany</td>\n",
       "    </tr>\n",
       "    <tr>\n",
       "      <th>3</th>\n",
       "      <td>3</td>\n",
       "      <td>2015-12-06</td>\n",
       "      <td>1.08</td>\n",
       "      <td>78992.15</td>\n",
       "      <td>1132.00</td>\n",
       "      <td>71976.41</td>\n",
       "      <td>72.58</td>\n",
       "      <td>5811.16</td>\n",
       "      <td>5677.40</td>\n",
       "      <td>133.76</td>\n",
       "      <td>0.0</td>\n",
       "      <td>conventional</td>\n",
       "      <td>2015</td>\n",
       "      <td>Albany</td>\n",
       "    </tr>\n",
       "    <tr>\n",
       "      <th>4</th>\n",
       "      <td>4</td>\n",
       "      <td>2015-11-29</td>\n",
       "      <td>1.28</td>\n",
       "      <td>51039.60</td>\n",
       "      <td>941.48</td>\n",
       "      <td>43838.39</td>\n",
       "      <td>75.78</td>\n",
       "      <td>6183.95</td>\n",
       "      <td>5986.26</td>\n",
       "      <td>197.69</td>\n",
       "      <td>0.0</td>\n",
       "      <td>conventional</td>\n",
       "      <td>2015</td>\n",
       "      <td>Albany</td>\n",
       "    </tr>\n",
       "  </tbody>\n",
       "</table>\n",
       "</div>"
      ],
      "text/plain": [
       "  Unnamed: 0        Date  AveragePrice  Total Volume     4046       4225  \\\n",
       "0          0  2015-12-27          1.33      64236.62  1036.74   54454.85   \n",
       "1          1  2015-12-20          1.35      54876.98   674.28   44638.81   \n",
       "2          2  2015-12-13          0.93     118220.22   794.70  109149.67   \n",
       "3          3  2015-12-06          1.08      78992.15  1132.00   71976.41   \n",
       "4          4  2015-11-29          1.28      51039.60   941.48   43838.39   \n",
       "\n",
       "     4770  Total Bags  Small Bags  Large Bags  XLarge Bags          type  \\\n",
       "0   48.16     8696.87     8603.62       93.25          0.0  conventional   \n",
       "1   58.33     9505.56     9408.07       97.49          0.0  conventional   \n",
       "2  130.50     8145.35     8042.21      103.14          0.0  conventional   \n",
       "3   72.58     5811.16     5677.40      133.76          0.0  conventional   \n",
       "4   75.78     6183.95     5986.26      197.69          0.0  conventional   \n",
       "\n",
       "   year  region  \n",
       "0  2015  Albany  \n",
       "1  2015  Albany  \n",
       "2  2015  Albany  \n",
       "3  2015  Albany  \n",
       "4  2015  Albany  "
      ]
     },
     "execution_count": 12,
     "metadata": {},
     "output_type": "execute_result"
    }
   ],
   "source": [
    "avocado = pd.read_csv('data/avocado_eu.csv', delimiter=';', decimal=',')\n",
    "# can also use sep instead of delimiter\n",
    "avocado.head(5)"
   ]
  },
  {
   "cell_type": "markdown",
   "metadata": {
    "slideshow": {
     "slide_type": "slide"
    }
   },
   "source": [
    "# Counting the number of values\n",
    "\n",
    "Sometimes, you'll want to count the number of times values occur.  For example, we might want to know the number of times each 'type'\n",
    "is reported in our avocado data.  Use the ```value_counts()``` function on a Series to do so:"
   ]
  },
  {
   "cell_type": "code",
   "execution_count": 13,
   "metadata": {
    "slideshow": {
     "slide_type": "-"
    }
   },
   "outputs": [
    {
     "data": {
      "text/plain": [
       "conventional    9126\n",
       "organic         9123\n",
       "Name: type, dtype: int64"
      ]
     },
     "execution_count": 13,
     "metadata": {},
     "output_type": "execute_result"
    }
   ],
   "source": [
    "avocado['type'].value_counts()"
   ]
  },
  {
   "cell_type": "markdown",
   "metadata": {
    "slideshow": {
     "slide_type": "slide"
    }
   },
   "source": [
    "# Loading JSON data\n",
    "\n",
    "In addition to CSV files, JSON (JavaScript Object Notation) files or data is commonly used.  "
   ]
  },
  {
   "cell_type": "code",
   "execution_count": 14,
   "metadata": {},
   "outputs": [],
   "source": [
    "nfl_football_players = pd.read_json('data/nfl_football_profiles.json')"
   ]
  },
  {
   "cell_type": "code",
   "execution_count": 15,
   "metadata": {},
   "outputs": [
    {
     "data": {
      "text/html": [
       "<div>\n",
       "<style scoped>\n",
       "    .dataframe tbody tr th:only-of-type {\n",
       "        vertical-align: middle;\n",
       "    }\n",
       "\n",
       "    .dataframe tbody tr th {\n",
       "        vertical-align: top;\n",
       "    }\n",
       "\n",
       "    .dataframe thead th {\n",
       "        text-align: right;\n",
       "    }\n",
       "</style>\n",
       "<table border=\"1\" class=\"dataframe\">\n",
       "  <thead>\n",
       "    <tr style=\"text-align: right;\">\n",
       "      <th></th>\n",
       "      <th>birth_date</th>\n",
       "      <th>birth_place</th>\n",
       "      <th>college</th>\n",
       "      <th>current_salary</th>\n",
       "      <th>current_team</th>\n",
       "      <th>death_date</th>\n",
       "      <th>draft_position</th>\n",
       "      <th>draft_round</th>\n",
       "      <th>draft_team</th>\n",
       "      <th>draft_year</th>\n",
       "      <th>height</th>\n",
       "      <th>high_school</th>\n",
       "      <th>hof_induction_year</th>\n",
       "      <th>name</th>\n",
       "      <th>player_id</th>\n",
       "      <th>position</th>\n",
       "      <th>weight</th>\n",
       "    </tr>\n",
       "  </thead>\n",
       "  <tbody>\n",
       "    <tr>\n",
       "      <th>0</th>\n",
       "      <td>1967-05-12</td>\n",
       "      <td>Bay City, TX</td>\n",
       "      <td>Baylor</td>\n",
       "      <td>None</td>\n",
       "      <td>None</td>\n",
       "      <td>None</td>\n",
       "      <td>34.0</td>\n",
       "      <td>2.0</td>\n",
       "      <td>Seattle Seahawks</td>\n",
       "      <td>1990.0</td>\n",
       "      <td>6-0</td>\n",
       "      <td>Van Vleck, TX</td>\n",
       "      <td>NaN</td>\n",
       "      <td>Robert Blackmon</td>\n",
       "      <td>1809</td>\n",
       "      <td>DB</td>\n",
       "      <td>208.0</td>\n",
       "    </tr>\n",
       "    <tr>\n",
       "      <th>1</th>\n",
       "      <td>1970-07-20</td>\n",
       "      <td>Louisville, KY</td>\n",
       "      <td>Kentucky</td>\n",
       "      <td>None</td>\n",
       "      <td>None</td>\n",
       "      <td>None</td>\n",
       "      <td>85.0</td>\n",
       "      <td>4.0</td>\n",
       "      <td>Seattle Seahawks</td>\n",
       "      <td>1993.0</td>\n",
       "      <td>6-3</td>\n",
       "      <td>Holy Cross, KY</td>\n",
       "      <td>NaN</td>\n",
       "      <td>Dean Wells</td>\n",
       "      <td>23586</td>\n",
       "      <td>LB</td>\n",
       "      <td>248.0</td>\n",
       "    </tr>\n",
       "    <tr>\n",
       "      <th>2</th>\n",
       "      <td>1990-08-14</td>\n",
       "      <td>Newton, MA</td>\n",
       "      <td>Oregon</td>\n",
       "      <td>1,075,000</td>\n",
       "      <td>Miami Dolphins</td>\n",
       "      <td>None</td>\n",
       "      <td>46.0</td>\n",
       "      <td>2.0</td>\n",
       "      <td>Buffalo Bills</td>\n",
       "      <td>2013.0</td>\n",
       "      <td>6-3</td>\n",
       "      <td>Los Gatos, CA</td>\n",
       "      <td>NaN</td>\n",
       "      <td>Kiko Alonso</td>\n",
       "      <td>355</td>\n",
       "      <td>ILB</td>\n",
       "      <td>238.0</td>\n",
       "    </tr>\n",
       "    <tr>\n",
       "      <th>3</th>\n",
       "      <td>1948-04-22</td>\n",
       "      <td>Dallas, TX</td>\n",
       "      <td>North Texas</td>\n",
       "      <td>None</td>\n",
       "      <td>None</td>\n",
       "      <td>1999-10-15</td>\n",
       "      <td>126.0</td>\n",
       "      <td>5.0</td>\n",
       "      <td>New Orleans Saints</td>\n",
       "      <td>1970.0</td>\n",
       "      <td>6-2</td>\n",
       "      <td>W.W. Samuell, TX</td>\n",
       "      <td>NaN</td>\n",
       "      <td>Steve Ramsey</td>\n",
       "      <td>18182</td>\n",
       "      <td>QB</td>\n",
       "      <td>210.0</td>\n",
       "    </tr>\n",
       "    <tr>\n",
       "      <th>4</th>\n",
       "      <td>1988-02-27</td>\n",
       "      <td>Neptune, NJ</td>\n",
       "      <td>Miami (FL)</td>\n",
       "      <td>None</td>\n",
       "      <td>None</td>\n",
       "      <td>None</td>\n",
       "      <td>NaN</td>\n",
       "      <td>NaN</td>\n",
       "      <td>None</td>\n",
       "      <td>NaN</td>\n",
       "      <td>6-0</td>\n",
       "      <td>Neptune, NJ</td>\n",
       "      <td>NaN</td>\n",
       "      <td>Cory Nelms</td>\n",
       "      <td>16250</td>\n",
       "      <td>CB</td>\n",
       "      <td>195.0</td>\n",
       "    </tr>\n",
       "  </tbody>\n",
       "</table>\n",
       "</div>"
      ],
      "text/plain": [
       "   birth_date     birth_place      college current_salary    current_team  \\\n",
       "0  1967-05-12    Bay City, TX       Baylor           None            None   \n",
       "1  1970-07-20  Louisville, KY     Kentucky           None            None   \n",
       "2  1990-08-14      Newton, MA       Oregon      1,075,000  Miami Dolphins   \n",
       "3  1948-04-22      Dallas, TX  North Texas           None            None   \n",
       "4  1988-02-27     Neptune, NJ   Miami (FL)           None            None   \n",
       "\n",
       "   death_date  draft_position  draft_round          draft_team  draft_year  \\\n",
       "0        None            34.0          2.0    Seattle Seahawks      1990.0   \n",
       "1        None            85.0          4.0    Seattle Seahawks      1993.0   \n",
       "2        None            46.0          2.0       Buffalo Bills      2013.0   \n",
       "3  1999-10-15           126.0          5.0  New Orleans Saints      1970.0   \n",
       "4        None             NaN          NaN                None         NaN   \n",
       "\n",
       "  height       high_school  hof_induction_year             name  player_id  \\\n",
       "0    6-0     Van Vleck, TX                 NaN  Robert Blackmon       1809   \n",
       "1    6-3    Holy Cross, KY                 NaN       Dean Wells      23586   \n",
       "2    6-3     Los Gatos, CA                 NaN      Kiko Alonso        355   \n",
       "3    6-2  W.W. Samuell, TX                 NaN     Steve Ramsey      18182   \n",
       "4    6-0       Neptune, NJ                 NaN       Cory Nelms      16250   \n",
       "\n",
       "  position  weight  \n",
       "0       DB   208.0  \n",
       "1       LB   248.0  \n",
       "2      ILB   238.0  \n",
       "3       QB   210.0  \n",
       "4       CB   195.0  "
      ]
     },
     "execution_count": 15,
     "metadata": {},
     "output_type": "execute_result"
    }
   ],
   "source": [
    "nfl_football_players.head()"
   ]
  },
  {
   "cell_type": "markdown",
   "metadata": {
    "slideshow": {
     "slide_type": "slide"
    }
   },
   "source": [
    "And, just for fun, show the player with the highest Current Salary from that dataset:"
   ]
  },
  {
   "cell_type": "code",
   "execution_count": 16,
   "metadata": {},
   "outputs": [
    {
     "data": {
      "text/html": [
       "<div>\n",
       "<style scoped>\n",
       "    .dataframe tbody tr th:only-of-type {\n",
       "        vertical-align: middle;\n",
       "    }\n",
       "\n",
       "    .dataframe tbody tr th {\n",
       "        vertical-align: top;\n",
       "    }\n",
       "\n",
       "    .dataframe thead th {\n",
       "        text-align: right;\n",
       "    }\n",
       "</style>\n",
       "<table border=\"1\" class=\"dataframe\">\n",
       "  <thead>\n",
       "    <tr style=\"text-align: right;\">\n",
       "      <th></th>\n",
       "      <th>birth_date</th>\n",
       "      <th>birth_place</th>\n",
       "      <th>college</th>\n",
       "      <th>current_salary</th>\n",
       "      <th>current_team</th>\n",
       "      <th>death_date</th>\n",
       "      <th>draft_position</th>\n",
       "      <th>draft_round</th>\n",
       "      <th>draft_team</th>\n",
       "      <th>draft_year</th>\n",
       "      <th>height</th>\n",
       "      <th>high_school</th>\n",
       "      <th>hof_induction_year</th>\n",
       "      <th>name</th>\n",
       "      <th>player_id</th>\n",
       "      <th>position</th>\n",
       "      <th>weight</th>\n",
       "    </tr>\n",
       "  </thead>\n",
       "  <tbody>\n",
       "    <tr>\n",
       "      <th>6454</th>\n",
       "      <td>1993-01-17</td>\n",
       "      <td>Ibadan, Nigeria</td>\n",
       "      <td>Georgia Tech</td>\n",
       "      <td>993,150</td>\n",
       "      <td>Los Angeles Chargers</td>\n",
       "      <td>None</td>\n",
       "      <td>50.0</td>\n",
       "      <td>2.0</td>\n",
       "      <td>San Diego Chargers</td>\n",
       "      <td>2014.0</td>\n",
       "      <td>6-3</td>\n",
       "      <td>Archbishop Carroll, DE</td>\n",
       "      <td>NaN</td>\n",
       "      <td>Jeremiah Attaochu</td>\n",
       "      <td>721</td>\n",
       "      <td>OLB</td>\n",
       "      <td>252.0</td>\n",
       "    </tr>\n",
       "  </tbody>\n",
       "</table>\n",
       "</div>"
      ],
      "text/plain": [
       "      birth_date      birth_place       college current_salary  \\\n",
       "6454  1993-01-17  Ibadan, Nigeria  Georgia Tech        993,150   \n",
       "\n",
       "              current_team death_date  draft_position  draft_round  \\\n",
       "6454  Los Angeles Chargers       None            50.0          2.0   \n",
       "\n",
       "              draft_team  draft_year height             high_school  \\\n",
       "6454  San Diego Chargers      2014.0    6-3  Archbishop Carroll, DE   \n",
       "\n",
       "      hof_induction_year               name  player_id position  weight  \n",
       "6454                 NaN  Jeremiah Attaochu        721      OLB   252.0  "
      ]
     },
     "execution_count": 16,
     "metadata": {},
     "output_type": "execute_result"
    }
   ],
   "source": [
    "nfl_football_players.sort_values('current_salary', ascending=False).head(1)"
   ]
  },
  {
   "cell_type": "markdown",
   "metadata": {
    "slideshow": {
     "slide_type": "slide"
    }
   },
   "source": [
    "# Fixing up the data\n",
    "Assuming you did something like sort_values on one of the original columns, you probably got the wrong result.\n",
    "\n",
    "Looking a bit more closely at the results, you'll notice that the current_salary column looks a bit weird.  Remembering that we have made the shift from pythonic to pandorable, we can leverage the impressive-sounding \"vectorized string functions\" mentioned in the McKinney book.  Specifically, we can use the str.replace(...) method.  Note that had we use read_csv to load the file we could have used the ```thousands=``` option and avoided all this, but sometimes data doesn't come in a convenient format."
   ]
  },
  {
   "cell_type": "markdown",
   "metadata": {
    "slideshow": {
     "slide_type": "subslide"
    }
   },
   "source": [
    "\n",
    "One way to apply functions is to operate on a column and then assign the results to another column.  For example, if we wanted to eliminate commas, we could replace them with null strings"
   ]
  },
  {
   "cell_type": "code",
   "execution_count": 17,
   "metadata": {},
   "outputs": [
    {
     "data": {
      "text/plain": [
       "0       None\n",
       "1       None\n",
       "2    1075000\n",
       "3       None\n",
       "4       None\n",
       "Name: current_salary, dtype: object"
      ]
     },
     "execution_count": 17,
     "metadata": {},
     "output_type": "execute_result"
    }
   ],
   "source": [
    "replaced = nfl_football_players['current_salary'].str.replace(',', '')\n",
    "replaced.head()"
   ]
  },
  {
   "cell_type": "markdown",
   "metadata": {
    "slideshow": {
     "slide_type": "subslide"
    }
   },
   "source": [
    "And assign the results to a column in the original dataframe (in this case I'm calling the column current_salary_nocommas)"
   ]
  },
  {
   "cell_type": "code",
   "execution_count": 18,
   "metadata": {},
   "outputs": [],
   "source": [
    "nfl_football_players['current_salary_nocommas'] = replaced"
   ]
  },
  {
   "cell_type": "markdown",
   "metadata": {
    "slideshow": {
     "slide_type": "subslide"
    }
   },
   "source": [
    "But you'll notice that the type of the column is string, and we want to convert it to a float so we can sort it numerically.  So we can use the astype() function to convert it:"
   ]
  },
  {
   "cell_type": "code",
   "execution_count": 19,
   "metadata": {
    "slideshow": {
     "slide_type": "-"
    }
   },
   "outputs": [
    {
     "data": {
      "text/html": [
       "<div>\n",
       "<style scoped>\n",
       "    .dataframe tbody tr th:only-of-type {\n",
       "        vertical-align: middle;\n",
       "    }\n",
       "\n",
       "    .dataframe tbody tr th {\n",
       "        vertical-align: top;\n",
       "    }\n",
       "\n",
       "    .dataframe thead th {\n",
       "        text-align: right;\n",
       "    }\n",
       "</style>\n",
       "<table border=\"1\" class=\"dataframe\">\n",
       "  <thead>\n",
       "    <tr style=\"text-align: right;\">\n",
       "      <th></th>\n",
       "      <th>birth_date</th>\n",
       "      <th>birth_place</th>\n",
       "      <th>college</th>\n",
       "      <th>current_salary</th>\n",
       "      <th>current_team</th>\n",
       "      <th>death_date</th>\n",
       "      <th>draft_position</th>\n",
       "      <th>draft_round</th>\n",
       "      <th>draft_team</th>\n",
       "      <th>draft_year</th>\n",
       "      <th>height</th>\n",
       "      <th>high_school</th>\n",
       "      <th>hof_induction_year</th>\n",
       "      <th>name</th>\n",
       "      <th>player_id</th>\n",
       "      <th>position</th>\n",
       "      <th>weight</th>\n",
       "      <th>current_salary_nocommas</th>\n",
       "      <th>current_salary_cleaned</th>\n",
       "    </tr>\n",
       "  </thead>\n",
       "  <tbody>\n",
       "    <tr>\n",
       "      <th>0</th>\n",
       "      <td>1967-05-12</td>\n",
       "      <td>Bay City, TX</td>\n",
       "      <td>Baylor</td>\n",
       "      <td>None</td>\n",
       "      <td>None</td>\n",
       "      <td>None</td>\n",
       "      <td>34.0</td>\n",
       "      <td>2.0</td>\n",
       "      <td>Seattle Seahawks</td>\n",
       "      <td>1990.0</td>\n",
       "      <td>6-0</td>\n",
       "      <td>Van Vleck, TX</td>\n",
       "      <td>NaN</td>\n",
       "      <td>Robert Blackmon</td>\n",
       "      <td>1809</td>\n",
       "      <td>DB</td>\n",
       "      <td>208.0</td>\n",
       "      <td>None</td>\n",
       "      <td>NaN</td>\n",
       "    </tr>\n",
       "    <tr>\n",
       "      <th>1</th>\n",
       "      <td>1970-07-20</td>\n",
       "      <td>Louisville, KY</td>\n",
       "      <td>Kentucky</td>\n",
       "      <td>None</td>\n",
       "      <td>None</td>\n",
       "      <td>None</td>\n",
       "      <td>85.0</td>\n",
       "      <td>4.0</td>\n",
       "      <td>Seattle Seahawks</td>\n",
       "      <td>1993.0</td>\n",
       "      <td>6-3</td>\n",
       "      <td>Holy Cross, KY</td>\n",
       "      <td>NaN</td>\n",
       "      <td>Dean Wells</td>\n",
       "      <td>23586</td>\n",
       "      <td>LB</td>\n",
       "      <td>248.0</td>\n",
       "      <td>None</td>\n",
       "      <td>NaN</td>\n",
       "    </tr>\n",
       "  </tbody>\n",
       "</table>\n",
       "</div>"
      ],
      "text/plain": [
       "   birth_date     birth_place   college current_salary current_team  \\\n",
       "0  1967-05-12    Bay City, TX    Baylor           None         None   \n",
       "1  1970-07-20  Louisville, KY  Kentucky           None         None   \n",
       "\n",
       "  death_date  draft_position  draft_round        draft_team  draft_year  \\\n",
       "0       None            34.0          2.0  Seattle Seahawks      1990.0   \n",
       "1       None            85.0          4.0  Seattle Seahawks      1993.0   \n",
       "\n",
       "  height     high_school  hof_induction_year             name  player_id  \\\n",
       "0    6-0   Van Vleck, TX                 NaN  Robert Blackmon       1809   \n",
       "1    6-3  Holy Cross, KY                 NaN       Dean Wells      23586   \n",
       "\n",
       "  position  weight current_salary_nocommas  current_salary_cleaned  \n",
       "0       DB   208.0                    None                     NaN  \n",
       "1       LB   248.0                    None                     NaN  "
      ]
     },
     "execution_count": 19,
     "metadata": {},
     "output_type": "execute_result"
    }
   ],
   "source": [
    "nfl_football_players['current_salary_cleaned'] = nfl_football_players['current_salary_nocommas'].astype(float)\n",
    "nfl_football_players.head(2)"
   ]
  },
  {
   "cell_type": "markdown",
   "metadata": {
    "slideshow": {
     "slide_type": "subslide"
    }
   },
   "source": [
    "And now we can re-run our command to sort by salary and get the correct result:"
   ]
  },
  {
   "cell_type": "code",
   "execution_count": 20,
   "metadata": {},
   "outputs": [
    {
     "data": {
      "text/html": [
       "<div>\n",
       "<style scoped>\n",
       "    .dataframe tbody tr th:only-of-type {\n",
       "        vertical-align: middle;\n",
       "    }\n",
       "\n",
       "    .dataframe tbody tr th {\n",
       "        vertical-align: top;\n",
       "    }\n",
       "\n",
       "    .dataframe thead th {\n",
       "        text-align: right;\n",
       "    }\n",
       "</style>\n",
       "<table border=\"1\" class=\"dataframe\">\n",
       "  <thead>\n",
       "    <tr style=\"text-align: right;\">\n",
       "      <th></th>\n",
       "      <th>birth_date</th>\n",
       "      <th>birth_place</th>\n",
       "      <th>college</th>\n",
       "      <th>current_salary</th>\n",
       "      <th>current_team</th>\n",
       "      <th>death_date</th>\n",
       "      <th>draft_position</th>\n",
       "      <th>draft_round</th>\n",
       "      <th>draft_team</th>\n",
       "      <th>draft_year</th>\n",
       "      <th>height</th>\n",
       "      <th>high_school</th>\n",
       "      <th>hof_induction_year</th>\n",
       "      <th>name</th>\n",
       "      <th>player_id</th>\n",
       "      <th>position</th>\n",
       "      <th>weight</th>\n",
       "      <th>current_salary_nocommas</th>\n",
       "      <th>current_salary_cleaned</th>\n",
       "    </tr>\n",
       "  </thead>\n",
       "  <tbody>\n",
       "    <tr>\n",
       "      <th>17756</th>\n",
       "      <td>1988-08-19</td>\n",
       "      <td>Holland, MI</td>\n",
       "      <td>Michigan St.</td>\n",
       "      <td>23,943,600</td>\n",
       "      <td>Washington Redskins</td>\n",
       "      <td>None</td>\n",
       "      <td>102.0</td>\n",
       "      <td>4.0</td>\n",
       "      <td>Washington Redskins</td>\n",
       "      <td>2012.0</td>\n",
       "      <td>6-3</td>\n",
       "      <td>Holland Christian, MI</td>\n",
       "      <td>NaN</td>\n",
       "      <td>Kirk Cousins</td>\n",
       "      <td>4644</td>\n",
       "      <td>QB</td>\n",
       "      <td>214.0</td>\n",
       "      <td>23943600</td>\n",
       "      <td>23943600.0</td>\n",
       "    </tr>\n",
       "  </tbody>\n",
       "</table>\n",
       "</div>"
      ],
      "text/plain": [
       "       birth_date  birth_place       college current_salary  \\\n",
       "17756  1988-08-19  Holland, MI  Michigan St.     23,943,600   \n",
       "\n",
       "              current_team death_date  draft_position  draft_round  \\\n",
       "17756  Washington Redskins       None           102.0          4.0   \n",
       "\n",
       "                draft_team  draft_year height            high_school  \\\n",
       "17756  Washington Redskins      2012.0    6-3  Holland Christian, MI   \n",
       "\n",
       "       hof_induction_year          name  player_id position  weight  \\\n",
       "17756                 NaN  Kirk Cousins       4644       QB   214.0   \n",
       "\n",
       "      current_salary_nocommas  current_salary_cleaned  \n",
       "17756                23943600              23943600.0  "
      ]
     },
     "execution_count": 20,
     "metadata": {},
     "output_type": "execute_result"
    }
   ],
   "source": [
    "nfl_football_players.sort_values('current_salary_cleaned', ascending=False).head(1)"
   ]
  },
  {
   "cell_type": "markdown",
   "metadata": {
    "slideshow": {
     "slide_type": "slide"
    }
   },
   "source": [
    "# Dropping missing values\n",
    "\n",
    "In addition to the \"all\" or \"any\" functionality described in McKinney section 7.1, it's sometimes useful to drop a row only if a certain column or columns have missing data.  To do this, use the subset= option with dropna().  So, for example, to drop all players for whom we do not have salary information, we could use the following code:"
   ]
  },
  {
   "cell_type": "code",
   "execution_count": 21,
   "metadata": {},
   "outputs": [
    {
     "data": {
      "text/html": [
       "<div>\n",
       "<style scoped>\n",
       "    .dataframe tbody tr th:only-of-type {\n",
       "        vertical-align: middle;\n",
       "    }\n",
       "\n",
       "    .dataframe tbody tr th {\n",
       "        vertical-align: top;\n",
       "    }\n",
       "\n",
       "    .dataframe thead th {\n",
       "        text-align: right;\n",
       "    }\n",
       "</style>\n",
       "<table border=\"1\" class=\"dataframe\">\n",
       "  <thead>\n",
       "    <tr style=\"text-align: right;\">\n",
       "      <th></th>\n",
       "      <th>birth_date</th>\n",
       "      <th>birth_place</th>\n",
       "      <th>college</th>\n",
       "      <th>current_salary</th>\n",
       "      <th>current_team</th>\n",
       "      <th>death_date</th>\n",
       "      <th>draft_position</th>\n",
       "      <th>draft_round</th>\n",
       "      <th>draft_team</th>\n",
       "      <th>draft_year</th>\n",
       "      <th>height</th>\n",
       "      <th>high_school</th>\n",
       "      <th>hof_induction_year</th>\n",
       "      <th>name</th>\n",
       "      <th>player_id</th>\n",
       "      <th>position</th>\n",
       "      <th>weight</th>\n",
       "      <th>current_salary_nocommas</th>\n",
       "      <th>current_salary_cleaned</th>\n",
       "    </tr>\n",
       "  </thead>\n",
       "  <tbody>\n",
       "    <tr>\n",
       "      <th>2</th>\n",
       "      <td>1990-08-14</td>\n",
       "      <td>Newton, MA</td>\n",
       "      <td>Oregon</td>\n",
       "      <td>1,075,000</td>\n",
       "      <td>Miami Dolphins</td>\n",
       "      <td>None</td>\n",
       "      <td>46.0</td>\n",
       "      <td>2.0</td>\n",
       "      <td>Buffalo Bills</td>\n",
       "      <td>2013.0</td>\n",
       "      <td>6-3</td>\n",
       "      <td>Los Gatos, CA</td>\n",
       "      <td>NaN</td>\n",
       "      <td>Kiko Alonso</td>\n",
       "      <td>355</td>\n",
       "      <td>ILB</td>\n",
       "      <td>238.0</td>\n",
       "      <td>1075000</td>\n",
       "      <td>1075000.0</td>\n",
       "    </tr>\n",
       "    <tr>\n",
       "      <th>6</th>\n",
       "      <td>1992-10-27</td>\n",
       "      <td>Cincinnati, OH</td>\n",
       "      <td>Louisville</td>\n",
       "      <td>1,762,000</td>\n",
       "      <td>Buffalo Bills</td>\n",
       "      <td>None</td>\n",
       "      <td>73.0</td>\n",
       "      <td>3.0</td>\n",
       "      <td>Buffalo Bills</td>\n",
       "      <td>2014.0</td>\n",
       "      <td>6-1</td>\n",
       "      <td>Northwest, OH</td>\n",
       "      <td>NaN</td>\n",
       "      <td>Preston Brown</td>\n",
       "      <td>2701</td>\n",
       "      <td>ILB</td>\n",
       "      <td>251.0</td>\n",
       "      <td>1762000</td>\n",
       "      <td>1762000.0</td>\n",
       "    </tr>\n",
       "    <tr>\n",
       "      <th>13</th>\n",
       "      <td>1993-06-14</td>\n",
       "      <td>Cleveland, OH</td>\n",
       "      <td>Michigan</td>\n",
       "      <td>774,294</td>\n",
       "      <td>Seattle Seahawks</td>\n",
       "      <td>None</td>\n",
       "      <td>63.0</td>\n",
       "      <td>2.0</td>\n",
       "      <td>Seattle Seahawks</td>\n",
       "      <td>2015.0</td>\n",
       "      <td>6-2</td>\n",
       "      <td>Glenville, OH</td>\n",
       "      <td>NaN</td>\n",
       "      <td>Frank Clark</td>\n",
       "      <td>3966</td>\n",
       "      <td>DE</td>\n",
       "      <td>270.0</td>\n",
       "      <td>774294</td>\n",
       "      <td>774294.0</td>\n",
       "    </tr>\n",
       "    <tr>\n",
       "      <th>37</th>\n",
       "      <td>1987-03-16</td>\n",
       "      <td>Bellville, TX</td>\n",
       "      <td>SMU</td>\n",
       "      <td>6,750,000</td>\n",
       "      <td>Denver Broncos</td>\n",
       "      <td>None</td>\n",
       "      <td>82.0</td>\n",
       "      <td>3.0</td>\n",
       "      <td>Pittsburgh Steelers</td>\n",
       "      <td>2010.0</td>\n",
       "      <td>5-11</td>\n",
       "      <td>Bellville, TX</td>\n",
       "      <td>NaN</td>\n",
       "      <td>Emmanuel Sanders</td>\n",
       "      <td>19449</td>\n",
       "      <td>WR</td>\n",
       "      <td>186.0</td>\n",
       "      <td>6750000</td>\n",
       "      <td>6750000.0</td>\n",
       "    </tr>\n",
       "    <tr>\n",
       "      <th>53</th>\n",
       "      <td>1988-10-27</td>\n",
       "      <td>Lakeland, FL</td>\n",
       "      <td>Louisville</td>\n",
       "      <td>3,750,000</td>\n",
       "      <td>New York Jets</td>\n",
       "      <td>None</td>\n",
       "      <td>126.0</td>\n",
       "      <td>4.0</td>\n",
       "      <td>New York Jets</td>\n",
       "      <td>2011.0</td>\n",
       "      <td>5-11</td>\n",
       "      <td>Lake Gibson, FL</td>\n",
       "      <td>NaN</td>\n",
       "      <td>Bilal Powell</td>\n",
       "      <td>17858</td>\n",
       "      <td>RB</td>\n",
       "      <td>204.0</td>\n",
       "      <td>3750000</td>\n",
       "      <td>3750000.0</td>\n",
       "    </tr>\n",
       "  </tbody>\n",
       "</table>\n",
       "</div>"
      ],
      "text/plain": [
       "    birth_date     birth_place     college current_salary      current_team  \\\n",
       "2   1990-08-14      Newton, MA      Oregon      1,075,000    Miami Dolphins   \n",
       "6   1992-10-27  Cincinnati, OH  Louisville      1,762,000     Buffalo Bills   \n",
       "13  1993-06-14   Cleveland, OH    Michigan        774,294  Seattle Seahawks   \n",
       "37  1987-03-16   Bellville, TX         SMU      6,750,000    Denver Broncos   \n",
       "53  1988-10-27    Lakeland, FL  Louisville      3,750,000     New York Jets   \n",
       "\n",
       "   death_date  draft_position  draft_round           draft_team  draft_year  \\\n",
       "2        None            46.0          2.0        Buffalo Bills      2013.0   \n",
       "6        None            73.0          3.0        Buffalo Bills      2014.0   \n",
       "13       None            63.0          2.0     Seattle Seahawks      2015.0   \n",
       "37       None            82.0          3.0  Pittsburgh Steelers      2010.0   \n",
       "53       None           126.0          4.0        New York Jets      2011.0   \n",
       "\n",
       "   height      high_school  hof_induction_year               name  player_id  \\\n",
       "2     6-3    Los Gatos, CA                 NaN        Kiko Alonso        355   \n",
       "6     6-1    Northwest, OH                 NaN      Preston Brown       2701   \n",
       "13    6-2    Glenville, OH                 NaN        Frank Clark       3966   \n",
       "37   5-11    Bellville, TX                 NaN  Emmanuel Sanders       19449   \n",
       "53   5-11  Lake Gibson, FL                 NaN       Bilal Powell      17858   \n",
       "\n",
       "   position  weight current_salary_nocommas  current_salary_cleaned  \n",
       "2       ILB   238.0                 1075000               1075000.0  \n",
       "6       ILB   251.0                 1762000               1762000.0  \n",
       "13       DE   270.0                  774294                774294.0  \n",
       "37       WR   186.0                 6750000               6750000.0  \n",
       "53       RB   204.0                 3750000               3750000.0  "
      ]
     },
     "execution_count": 21,
     "metadata": {},
     "output_type": "execute_result"
    }
   ],
   "source": [
    "nfl_football_players_salaries = nfl_football_players.dropna(subset=['current_salary_cleaned'])\n",
    "nfl_football_players_salaries.head()"
   ]
  },
  {
   "cell_type": "markdown",
   "metadata": {
    "slideshow": {
     "slide_type": "slide"
    }
   },
   "source": [
    "# Creating dummy variables\n",
    "\n",
    "We might, on occasion, want to \"bin\" or \"discretize\" a variable.  For example, we might want to take the previous dataframe and add dummy variables that map onto whether the salaries are \"small\" (< \\\\$1M) , \"medium\" (\\\\$1M - \\\\$10M), or \"large\" (> \\\\$10M).  We could do something like the following:"
   ]
  },
  {
   "cell_type": "code",
   "execution_count": 22,
   "metadata": {},
   "outputs": [],
   "source": [
    "bins = [0,1000000,10000000,1000000000]"
   ]
  },
  {
   "cell_type": "code",
   "execution_count": 23,
   "metadata": {},
   "outputs": [],
   "source": [
    "dummies = pd.get_dummies(pd.cut(nfl_football_players_salaries['current_salary_cleaned'],bins,labels=['small','medium','large']))"
   ]
  },
  {
   "cell_type": "code",
   "execution_count": 24,
   "metadata": {},
   "outputs": [
    {
     "data": {
      "text/html": [
       "<div>\n",
       "<style scoped>\n",
       "    .dataframe tbody tr th:only-of-type {\n",
       "        vertical-align: middle;\n",
       "    }\n",
       "\n",
       "    .dataframe tbody tr th {\n",
       "        vertical-align: top;\n",
       "    }\n",
       "\n",
       "    .dataframe thead th {\n",
       "        text-align: right;\n",
       "    }\n",
       "</style>\n",
       "<table border=\"1\" class=\"dataframe\">\n",
       "  <thead>\n",
       "    <tr style=\"text-align: right;\">\n",
       "      <th></th>\n",
       "      <th>small</th>\n",
       "      <th>medium</th>\n",
       "      <th>large</th>\n",
       "    </tr>\n",
       "  </thead>\n",
       "  <tbody>\n",
       "    <tr>\n",
       "      <th>2</th>\n",
       "      <td>0</td>\n",
       "      <td>1</td>\n",
       "      <td>0</td>\n",
       "    </tr>\n",
       "    <tr>\n",
       "      <th>6</th>\n",
       "      <td>0</td>\n",
       "      <td>1</td>\n",
       "      <td>0</td>\n",
       "    </tr>\n",
       "    <tr>\n",
       "      <th>13</th>\n",
       "      <td>1</td>\n",
       "      <td>0</td>\n",
       "      <td>0</td>\n",
       "    </tr>\n",
       "    <tr>\n",
       "      <th>37</th>\n",
       "      <td>0</td>\n",
       "      <td>1</td>\n",
       "      <td>0</td>\n",
       "    </tr>\n",
       "    <tr>\n",
       "      <th>53</th>\n",
       "      <td>0</td>\n",
       "      <td>1</td>\n",
       "      <td>0</td>\n",
       "    </tr>\n",
       "  </tbody>\n",
       "</table>\n",
       "</div>"
      ],
      "text/plain": [
       "    small  medium  large\n",
       "2       0       1      0\n",
       "6       0       1      0\n",
       "13      1       0      0\n",
       "37      0       1      0\n",
       "53      0       1      0"
      ]
     },
     "execution_count": 24,
     "metadata": {},
     "output_type": "execute_result"
    }
   ],
   "source": [
    "dummies.head()"
   ]
  },
  {
   "cell_type": "markdown",
   "metadata": {
    "slideshow": {
     "slide_type": "subslide"
    }
   },
   "source": [
    "Now that we have a dataframe of dummy variables, we can concatenate it to the original dataframe (concatenating columns to the right rather than rows to the bottom using axis=1 or axis=\"columns\")"
   ]
  },
  {
   "cell_type": "code",
   "execution_count": 25,
   "metadata": {
    "slideshow": {
     "slide_type": "-"
    }
   },
   "outputs": [
    {
     "data": {
      "text/html": [
       "<div>\n",
       "<style scoped>\n",
       "    .dataframe tbody tr th:only-of-type {\n",
       "        vertical-align: middle;\n",
       "    }\n",
       "\n",
       "    .dataframe tbody tr th {\n",
       "        vertical-align: top;\n",
       "    }\n",
       "\n",
       "    .dataframe thead th {\n",
       "        text-align: right;\n",
       "    }\n",
       "</style>\n",
       "<table border=\"1\" class=\"dataframe\">\n",
       "  <thead>\n",
       "    <tr style=\"text-align: right;\">\n",
       "      <th></th>\n",
       "      <th>birth_date</th>\n",
       "      <th>birth_place</th>\n",
       "      <th>college</th>\n",
       "      <th>current_salary</th>\n",
       "      <th>current_team</th>\n",
       "      <th>death_date</th>\n",
       "      <th>draft_position</th>\n",
       "      <th>draft_round</th>\n",
       "      <th>draft_team</th>\n",
       "      <th>draft_year</th>\n",
       "      <th>...</th>\n",
       "      <th>hof_induction_year</th>\n",
       "      <th>name</th>\n",
       "      <th>player_id</th>\n",
       "      <th>position</th>\n",
       "      <th>weight</th>\n",
       "      <th>current_salary_nocommas</th>\n",
       "      <th>current_salary_cleaned</th>\n",
       "      <th>small</th>\n",
       "      <th>medium</th>\n",
       "      <th>large</th>\n",
       "    </tr>\n",
       "  </thead>\n",
       "  <tbody>\n",
       "    <tr>\n",
       "      <th>24885</th>\n",
       "      <td>1994-02-12</td>\n",
       "      <td>San Antonio, TX</td>\n",
       "      <td>Memphis</td>\n",
       "      <td>880,741</td>\n",
       "      <td>Denver Broncos</td>\n",
       "      <td>None</td>\n",
       "      <td>26.0</td>\n",
       "      <td>1.0</td>\n",
       "      <td>Denver Broncos</td>\n",
       "      <td>2016.0</td>\n",
       "      <td>...</td>\n",
       "      <td>NaN</td>\n",
       "      <td>Paxton Lynch</td>\n",
       "      <td>13753</td>\n",
       "      <td>QB</td>\n",
       "      <td>244.0</td>\n",
       "      <td>880741</td>\n",
       "      <td>880741.0</td>\n",
       "      <td>1</td>\n",
       "      <td>0</td>\n",
       "      <td>0</td>\n",
       "    </tr>\n",
       "    <tr>\n",
       "      <th>24917</th>\n",
       "      <td>1991-05-13</td>\n",
       "      <td>Fairfield, CA</td>\n",
       "      <td>TCU</td>\n",
       "      <td>860,000</td>\n",
       "      <td>Los Angeles Chargers</td>\n",
       "      <td>None</td>\n",
       "      <td>25.0</td>\n",
       "      <td>1.0</td>\n",
       "      <td>San Diego Chargers</td>\n",
       "      <td>2014.0</td>\n",
       "      <td>...</td>\n",
       "      <td>NaN</td>\n",
       "      <td>Jason Verrett</td>\n",
       "      <td>22916</td>\n",
       "      <td>CB</td>\n",
       "      <td>189.0</td>\n",
       "      <td>860000</td>\n",
       "      <td>860000.0</td>\n",
       "      <td>1</td>\n",
       "      <td>0</td>\n",
       "      <td>0</td>\n",
       "    </tr>\n",
       "    <tr>\n",
       "      <th>24923</th>\n",
       "      <td>1993-01-21</td>\n",
       "      <td>Sacramento, CA</td>\n",
       "      <td>Stanford</td>\n",
       "      <td>772,413</td>\n",
       "      <td>New England Patriots</td>\n",
       "      <td>None</td>\n",
       "      <td>64.0</td>\n",
       "      <td>2.0</td>\n",
       "      <td>New England Patriots</td>\n",
       "      <td>2015.0</td>\n",
       "      <td>...</td>\n",
       "      <td>NaN</td>\n",
       "      <td>Jordan Richards</td>\n",
       "      <td>18586</td>\n",
       "      <td>SS</td>\n",
       "      <td>211.0</td>\n",
       "      <td>772413</td>\n",
       "      <td>772413.0</td>\n",
       "      <td>1</td>\n",
       "      <td>0</td>\n",
       "      <td>0</td>\n",
       "    </tr>\n",
       "    <tr>\n",
       "      <th>24967</th>\n",
       "      <td>1989-11-27</td>\n",
       "      <td>St. Paul, MN</td>\n",
       "      <td>Notre Dame</td>\n",
       "      <td>887,058</td>\n",
       "      <td>Minnesota Vikings</td>\n",
       "      <td>None</td>\n",
       "      <td>13.0</td>\n",
       "      <td>1.0</td>\n",
       "      <td>Arizona Cardinals</td>\n",
       "      <td>2012.0</td>\n",
       "      <td>...</td>\n",
       "      <td>NaN</td>\n",
       "      <td>Michael Floyd</td>\n",
       "      <td>7063</td>\n",
       "      <td>WR</td>\n",
       "      <td>220.0</td>\n",
       "      <td>887058</td>\n",
       "      <td>887058.0</td>\n",
       "      <td>1</td>\n",
       "      <td>0</td>\n",
       "      <td>0</td>\n",
       "    </tr>\n",
       "    <tr>\n",
       "      <th>24984</th>\n",
       "      <td>1988-03-22</td>\n",
       "      <td>Longview, TX</td>\n",
       "      <td>Washington St.</td>\n",
       "      <td>4,500,000</td>\n",
       "      <td>Jacksonville Jaguars</td>\n",
       "      <td>None</td>\n",
       "      <td>NaN</td>\n",
       "      <td>NaN</td>\n",
       "      <td>None</td>\n",
       "      <td>NaN</td>\n",
       "      <td>...</td>\n",
       "      <td>NaN</td>\n",
       "      <td>Chris Ivory</td>\n",
       "      <td>10701</td>\n",
       "      <td>RB</td>\n",
       "      <td>222.0</td>\n",
       "      <td>4500000</td>\n",
       "      <td>4500000.0</td>\n",
       "      <td>0</td>\n",
       "      <td>1</td>\n",
       "      <td>0</td>\n",
       "    </tr>\n",
       "  </tbody>\n",
       "</table>\n",
       "<p>5 rows × 22 columns</p>\n",
       "</div>"
      ],
      "text/plain": [
       "       birth_date      birth_place         college current_salary  \\\n",
       "24885  1994-02-12  San Antonio, TX         Memphis        880,741   \n",
       "24917  1991-05-13    Fairfield, CA             TCU        860,000   \n",
       "24923  1993-01-21   Sacramento, CA        Stanford        772,413   \n",
       "24967  1989-11-27     St. Paul, MN      Notre Dame        887,058   \n",
       "24984  1988-03-22     Longview, TX  Washington St.      4,500,000   \n",
       "\n",
       "               current_team death_date  draft_position  draft_round  \\\n",
       "24885        Denver Broncos       None            26.0          1.0   \n",
       "24917  Los Angeles Chargers       None            25.0          1.0   \n",
       "24923  New England Patriots       None            64.0          2.0   \n",
       "24967     Minnesota Vikings       None            13.0          1.0   \n",
       "24984  Jacksonville Jaguars       None             NaN          NaN   \n",
       "\n",
       "                 draft_team  draft_year  ... hof_induction_year  \\\n",
       "24885        Denver Broncos      2016.0  ...                NaN   \n",
       "24917    San Diego Chargers      2014.0  ...                NaN   \n",
       "24923  New England Patriots      2015.0  ...                NaN   \n",
       "24967     Arizona Cardinals      2012.0  ...                NaN   \n",
       "24984                  None         NaN  ...                NaN   \n",
       "\n",
       "                  name  player_id position  weight current_salary_nocommas  \\\n",
       "24885    Paxton Lynch       13753       QB   244.0                  880741   \n",
       "24917    Jason Verrett      22916       CB   189.0                  860000   \n",
       "24923  Jordan Richards      18586       SS   211.0                  772413   \n",
       "24967   Michael Floyd        7063       WR   220.0                  887058   \n",
       "24984      Chris Ivory      10701       RB   222.0                 4500000   \n",
       "\n",
       "       current_salary_cleaned small  medium  large  \n",
       "24885                880741.0     1       0      0  \n",
       "24917                860000.0     1       0      0  \n",
       "24923                772413.0     1       0      0  \n",
       "24967                887058.0     1       0      0  \n",
       "24984               4500000.0     0       1      0  \n",
       "\n",
       "[5 rows x 22 columns]"
      ]
     },
     "execution_count": 25,
     "metadata": {},
     "output_type": "execute_result"
    }
   ],
   "source": [
    "nfl_cats = pd.concat([nfl_football_players_salaries,dummies],axis=\"columns\")\n",
    "nfl_cats.tail()"
   ]
  },
  {
   "cell_type": "markdown",
   "metadata": {
    "slideshow": {
     "slide_type": "slide"
    }
   },
   "source": [
    "## <font color=\"magenta\">Exercise 3 (2 points):\n",
    "Create dummy variables for \"draft_position\", using bins of 1-100 and 101+, and concatenate the dummy variables to the ```nfl_cats``` dataframe.  Make good choices for the column names"
   ]
  },
  {
   "cell_type": "code",
   "execution_count": 26,
   "metadata": {},
   "outputs": [
    {
     "data": {
      "text/html": [
       "<div>\n",
       "<style scoped>\n",
       "    .dataframe tbody tr th:only-of-type {\n",
       "        vertical-align: middle;\n",
       "    }\n",
       "\n",
       "    .dataframe tbody tr th {\n",
       "        vertical-align: top;\n",
       "    }\n",
       "\n",
       "    .dataframe thead th {\n",
       "        text-align: right;\n",
       "    }\n",
       "</style>\n",
       "<table border=\"1\" class=\"dataframe\">\n",
       "  <thead>\n",
       "    <tr style=\"text-align: right;\">\n",
       "      <th></th>\n",
       "      <th>birth_date</th>\n",
       "      <th>birth_place</th>\n",
       "      <th>college</th>\n",
       "      <th>current_salary</th>\n",
       "      <th>current_team</th>\n",
       "      <th>death_date</th>\n",
       "      <th>draft_position</th>\n",
       "      <th>draft_round</th>\n",
       "      <th>draft_team</th>\n",
       "      <th>draft_year</th>\n",
       "      <th>...</th>\n",
       "      <th>high_school</th>\n",
       "      <th>hof_induction_year</th>\n",
       "      <th>name</th>\n",
       "      <th>player_id</th>\n",
       "      <th>position</th>\n",
       "      <th>weight</th>\n",
       "      <th>current_salary_nocommas</th>\n",
       "      <th>current_salary_cleaned</th>\n",
       "      <th>0-100</th>\n",
       "      <th>101+</th>\n",
       "    </tr>\n",
       "  </thead>\n",
       "  <tbody>\n",
       "    <tr>\n",
       "      <th>24885</th>\n",
       "      <td>1994-02-12</td>\n",
       "      <td>San Antonio, TX</td>\n",
       "      <td>Memphis</td>\n",
       "      <td>880,741</td>\n",
       "      <td>Denver Broncos</td>\n",
       "      <td>None</td>\n",
       "      <td>26.0</td>\n",
       "      <td>1.0</td>\n",
       "      <td>Denver Broncos</td>\n",
       "      <td>2016.0</td>\n",
       "      <td>...</td>\n",
       "      <td>Trinity Christian, FL</td>\n",
       "      <td>NaN</td>\n",
       "      <td>Paxton Lynch</td>\n",
       "      <td>13753</td>\n",
       "      <td>QB</td>\n",
       "      <td>244.0</td>\n",
       "      <td>880741</td>\n",
       "      <td>880741.0</td>\n",
       "      <td>1</td>\n",
       "      <td>0</td>\n",
       "    </tr>\n",
       "    <tr>\n",
       "      <th>24917</th>\n",
       "      <td>1991-05-13</td>\n",
       "      <td>Fairfield, CA</td>\n",
       "      <td>TCU</td>\n",
       "      <td>860,000</td>\n",
       "      <td>Los Angeles Chargers</td>\n",
       "      <td>None</td>\n",
       "      <td>25.0</td>\n",
       "      <td>1.0</td>\n",
       "      <td>San Diego Chargers</td>\n",
       "      <td>2014.0</td>\n",
       "      <td>...</td>\n",
       "      <td>Rodriguez, CA</td>\n",
       "      <td>NaN</td>\n",
       "      <td>Jason Verrett</td>\n",
       "      <td>22916</td>\n",
       "      <td>CB</td>\n",
       "      <td>189.0</td>\n",
       "      <td>860000</td>\n",
       "      <td>860000.0</td>\n",
       "      <td>1</td>\n",
       "      <td>0</td>\n",
       "    </tr>\n",
       "    <tr>\n",
       "      <th>24923</th>\n",
       "      <td>1993-01-21</td>\n",
       "      <td>Sacramento, CA</td>\n",
       "      <td>Stanford</td>\n",
       "      <td>772,413</td>\n",
       "      <td>New England Patriots</td>\n",
       "      <td>None</td>\n",
       "      <td>64.0</td>\n",
       "      <td>2.0</td>\n",
       "      <td>New England Patriots</td>\n",
       "      <td>2015.0</td>\n",
       "      <td>...</td>\n",
       "      <td>Folsom, CA</td>\n",
       "      <td>NaN</td>\n",
       "      <td>Jordan Richards</td>\n",
       "      <td>18586</td>\n",
       "      <td>SS</td>\n",
       "      <td>211.0</td>\n",
       "      <td>772413</td>\n",
       "      <td>772413.0</td>\n",
       "      <td>1</td>\n",
       "      <td>0</td>\n",
       "    </tr>\n",
       "    <tr>\n",
       "      <th>24967</th>\n",
       "      <td>1989-11-27</td>\n",
       "      <td>St. Paul, MN</td>\n",
       "      <td>Notre Dame</td>\n",
       "      <td>887,058</td>\n",
       "      <td>Minnesota Vikings</td>\n",
       "      <td>None</td>\n",
       "      <td>13.0</td>\n",
       "      <td>1.0</td>\n",
       "      <td>Arizona Cardinals</td>\n",
       "      <td>2012.0</td>\n",
       "      <td>...</td>\n",
       "      <td>Cretin-Derham Hall, MN</td>\n",
       "      <td>NaN</td>\n",
       "      <td>Michael Floyd</td>\n",
       "      <td>7063</td>\n",
       "      <td>WR</td>\n",
       "      <td>220.0</td>\n",
       "      <td>887058</td>\n",
       "      <td>887058.0</td>\n",
       "      <td>1</td>\n",
       "      <td>0</td>\n",
       "    </tr>\n",
       "    <tr>\n",
       "      <th>24984</th>\n",
       "      <td>1988-03-22</td>\n",
       "      <td>Longview, TX</td>\n",
       "      <td>Washington St.</td>\n",
       "      <td>4,500,000</td>\n",
       "      <td>Jacksonville Jaguars</td>\n",
       "      <td>None</td>\n",
       "      <td>NaN</td>\n",
       "      <td>NaN</td>\n",
       "      <td>None</td>\n",
       "      <td>NaN</td>\n",
       "      <td>...</td>\n",
       "      <td>Longview, TX</td>\n",
       "      <td>NaN</td>\n",
       "      <td>Chris Ivory</td>\n",
       "      <td>10701</td>\n",
       "      <td>RB</td>\n",
       "      <td>222.0</td>\n",
       "      <td>4500000</td>\n",
       "      <td>4500000.0</td>\n",
       "      <td>0</td>\n",
       "      <td>0</td>\n",
       "    </tr>\n",
       "  </tbody>\n",
       "</table>\n",
       "<p>5 rows × 21 columns</p>\n",
       "</div>"
      ],
      "text/plain": [
       "       birth_date      birth_place         college current_salary  \\\n",
       "24885  1994-02-12  San Antonio, TX         Memphis        880,741   \n",
       "24917  1991-05-13    Fairfield, CA             TCU        860,000   \n",
       "24923  1993-01-21   Sacramento, CA        Stanford        772,413   \n",
       "24967  1989-11-27     St. Paul, MN      Notre Dame        887,058   \n",
       "24984  1988-03-22     Longview, TX  Washington St.      4,500,000   \n",
       "\n",
       "               current_team death_date  draft_position  draft_round  \\\n",
       "24885        Denver Broncos       None            26.0          1.0   \n",
       "24917  Los Angeles Chargers       None            25.0          1.0   \n",
       "24923  New England Patriots       None            64.0          2.0   \n",
       "24967     Minnesota Vikings       None            13.0          1.0   \n",
       "24984  Jacksonville Jaguars       None             NaN          NaN   \n",
       "\n",
       "                 draft_team  draft_year  ...             high_school  \\\n",
       "24885        Denver Broncos      2016.0  ...   Trinity Christian, FL   \n",
       "24917    San Diego Chargers      2014.0  ...           Rodriguez, CA   \n",
       "24923  New England Patriots      2015.0  ...              Folsom, CA   \n",
       "24967     Arizona Cardinals      2012.0  ...  Cretin-Derham Hall, MN   \n",
       "24984                  None         NaN  ...            Longview, TX   \n",
       "\n",
       "      hof_induction_year             name player_id  position weight  \\\n",
       "24885                NaN    Paxton Lynch      13753        QB  244.0   \n",
       "24917                NaN    Jason Verrett     22916        CB  189.0   \n",
       "24923                NaN  Jordan Richards     18586        SS  211.0   \n",
       "24967                NaN   Michael Floyd       7063        WR  220.0   \n",
       "24984                NaN      Chris Ivory     10701        RB  222.0   \n",
       "\n",
       "       current_salary_nocommas current_salary_cleaned  0-100  101+  \n",
       "24885                   880741               880741.0      1     0  \n",
       "24917                   860000               860000.0      1     0  \n",
       "24923                   772413               772413.0      1     0  \n",
       "24967                   887058               887058.0      1     0  \n",
       "24984                  4500000              4500000.0      0     0  \n",
       "\n",
       "[5 rows x 21 columns]"
      ]
     },
     "execution_count": 26,
     "metadata": {},
     "output_type": "execute_result"
    }
   ],
   "source": [
    "draft_bins = [0, 100, 1000]\n",
    "draft_dummies = pd.get_dummies(pd.cut(nfl_football_players_salaries['draft_position'],draft_bins,labels=['0-100','101+']))\n",
    "nfl_cats = pd.concat([nfl_football_players_salaries,draft_dummies],axis=\"columns\")\n",
    "nfl_cats.tail()"
   ]
  },
  {
   "cell_type": "markdown",
   "metadata": {
    "slideshow": {
     "slide_type": "slide"
    }
   },
   "source": [
    "# Scraping Tables from HTML"
   ]
  },
  {
   "cell_type": "markdown",
   "metadata": {
    "slideshow": {
     "slide_type": "slide"
    }
   },
   "source": [
    "The ```pd.read_html``` function returns a list of DataFrames read from an HTML source.  The following line will return a _list_ of DataFrames from https://en.wikipedia.org/wiki/List_of_largest_sports_contracts"
   ]
  },
  {
   "cell_type": "code",
   "execution_count": 27,
   "metadata": {},
   "outputs": [],
   "source": [
    "contracts_scraped = pd.read_html('https://en.wikipedia.org/wiki/List_of_largest_sports_contracts',header=0)"
   ]
  },
  {
   "cell_type": "code",
   "execution_count": 28,
   "metadata": {},
   "outputs": [
    {
     "data": {
      "text/plain": [
       "1"
      ]
     },
     "execution_count": 28,
     "metadata": {},
     "output_type": "execute_result"
    }
   ],
   "source": [
    "len(contracts_scraped)"
   ]
  },
  {
   "cell_type": "markdown",
   "metadata": {
    "slideshow": {
     "slide_type": "slide"
    }
   },
   "source": [
    "To get the first table, you'll need to pull off the 0th element:"
   ]
  },
  {
   "cell_type": "code",
   "execution_count": 29,
   "metadata": {},
   "outputs": [
    {
     "data": {
      "text/html": [
       "<div>\n",
       "<style scoped>\n",
       "    .dataframe tbody tr th:only-of-type {\n",
       "        vertical-align: middle;\n",
       "    }\n",
       "\n",
       "    .dataframe tbody tr th {\n",
       "        vertical-align: top;\n",
       "    }\n",
       "\n",
       "    .dataframe thead th {\n",
       "        text-align: right;\n",
       "    }\n",
       "</style>\n",
       "<table border=\"1\" class=\"dataframe\">\n",
       "  <thead>\n",
       "    <tr style=\"text-align: right;\">\n",
       "      <th></th>\n",
       "      <th>Rank</th>\n",
       "      <th>Player</th>\n",
       "      <th>Team/Streaming Service</th>\n",
       "      <th>Sport</th>\n",
       "      <th>Length of contract</th>\n",
       "      <th>Contract value (USD)</th>\n",
       "      <th>Average per year (USD)</th>\n",
       "      <th>Average per fixture (USD)</th>\n",
       "      <th>Ref</th>\n",
       "    </tr>\n",
       "  </thead>\n",
       "  <tbody>\n",
       "    <tr>\n",
       "      <th>0</th>\n",
       "      <td>01</td>\n",
       "      <td>Mike Trout</td>\n",
       "      <td>Los Angeles Angels</td>\n",
       "      <td>Baseball</td>\n",
       "      <td>12 years (2019–2030)</td>\n",
       "      <td>$430,000,000</td>\n",
       "      <td>$35,833,333</td>\n",
       "      <td>$219,393.42</td>\n",
       "      <td>[1]</td>\n",
       "    </tr>\n",
       "    <tr>\n",
       "      <th>1</th>\n",
       "      <td>02</td>\n",
       "      <td>Canelo Álvarez</td>\n",
       "      <td>DAZN*</td>\n",
       "      <td>Boxing</td>\n",
       "      <td>5 years (2018–2023)</td>\n",
       "      <td>$365,000,000</td>\n",
       "      <td>$73,000,000</td>\n",
       "      <td>$33,181,818.18</td>\n",
       "      <td>[2]</td>\n",
       "    </tr>\n",
       "    <tr>\n",
       "      <th>2</th>\n",
       "      <td>003|03</td>\n",
       "      <td>Bryce Harper</td>\n",
       "      <td>Philadelphia Phillies</td>\n",
       "      <td>Baseball</td>\n",
       "      <td>13 years (2019–2031)</td>\n",
       "      <td>$330,000,000</td>\n",
       "      <td>$25,384,615</td>\n",
       "      <td>$156,695.16</td>\n",
       "      <td>[3]</td>\n",
       "    </tr>\n",
       "    <tr>\n",
       "      <th>3</th>\n",
       "      <td>04</td>\n",
       "      <td>Giancarlo Stanton</td>\n",
       "      <td>Miami Marlins*</td>\n",
       "      <td>Baseball</td>\n",
       "      <td>13 years (2015–2027)</td>\n",
       "      <td>$325,000,000</td>\n",
       "      <td>$25,000,000</td>\n",
       "      <td>$154,320.99</td>\n",
       "      <td>[4]</td>\n",
       "    </tr>\n",
       "    <tr>\n",
       "      <th>4</th>\n",
       "      <td>05</td>\n",
       "      <td>Manny Machado</td>\n",
       "      <td>San Diego Padres</td>\n",
       "      <td>Baseball</td>\n",
       "      <td>10 years (2019–2028)</td>\n",
       "      <td>$300,000,000</td>\n",
       "      <td>$30,000,000</td>\n",
       "      <td>$185,185.19</td>\n",
       "      <td>[5]</td>\n",
       "    </tr>\n",
       "  </tbody>\n",
       "</table>\n",
       "</div>"
      ],
      "text/plain": [
       "     Rank             Player Team/Streaming Service     Sport  \\\n",
       "0      01         Mike Trout     Los Angeles Angels  Baseball   \n",
       "1      02     Canelo Álvarez                  DAZN*    Boxing   \n",
       "2  003|03       Bryce Harper  Philadelphia Phillies  Baseball   \n",
       "3      04  Giancarlo Stanton         Miami Marlins*  Baseball   \n",
       "4      05      Manny Machado       San Diego Padres  Baseball   \n",
       "\n",
       "     Length of contract Contract value (USD) Average per year (USD)  \\\n",
       "0  12 years (2019–2030)         $430,000,000            $35,833,333   \n",
       "1   5 years (2018–2023)         $365,000,000            $73,000,000   \n",
       "2  13 years (2019–2031)         $330,000,000            $25,384,615   \n",
       "3  13 years (2015–2027)         $325,000,000            $25,000,000   \n",
       "4  10 years (2019–2028)         $300,000,000            $30,000,000   \n",
       "\n",
       "  Average per fixture (USD)  Ref  \n",
       "0               $219,393.42  [1]  \n",
       "1            $33,181,818.18  [2]  \n",
       "2               $156,695.16  [3]  \n",
       "3               $154,320.99  [4]  \n",
       "4               $185,185.19  [5]  "
      ]
     },
     "execution_count": 29,
     "metadata": {},
     "output_type": "execute_result"
    }
   ],
   "source": [
    "contracts = contracts_scraped[0]\n",
    "contracts.head()"
   ]
  },
  {
   "cell_type": "markdown",
   "metadata": {
    "slideshow": {
     "slide_type": "slide"
    }
   },
   "source": [
    "## <font color=\"magenta\">Exercise 4 (1 point): </font>\n",
    "\n",
    "Count the number of players from each sport in the List of Largest Sports Contracts \n",
    "\n",
    "Hint:  see value_counts() description above"
   ]
  },
  {
   "cell_type": "code",
   "execution_count": 30,
   "metadata": {},
   "outputs": [
    {
     "data": {
      "text/plain": [
       "Baseball                57\n",
       "Basketball              24\n",
       "American football       15\n",
       "Auto racing              2\n",
       "Association football     1\n",
       "Boxing                   1\n",
       "Ice hockey               1\n",
       "Name: Sport, dtype: int64"
      ]
     },
     "execution_count": 30,
     "metadata": {},
     "output_type": "execute_result"
    }
   ],
   "source": [
    "contracts['Sport'].value_counts()"
   ]
  },
  {
   "cell_type": "markdown",
   "metadata": {
    "slideshow": {
     "slide_type": "slide"
    }
   },
   "source": [
    "For the final exercise, we're going to return to the nfl_football_players dataframe we created earlier.  "
   ]
  },
  {
   "cell_type": "markdown",
   "metadata": {
    "slideshow": {
     "slide_type": "slide"
    }
   },
   "source": [
    "## <font color=\"magenta\">Exercise 4 (5 points): </font>\n",
    "Create a new dataframe that contains all the columns in the nfl_football_players dataframe as well as an additional column that contains each player's height in centimeters. Show the first 5 rows of your result.\n",
    "\n",
    "hint: 1 inch = 2.54 cm\n",
    "\n",
    "hint: you can use the vectorized string function str.split() to separate feet and inches from the original dataframe column, _you might want to figure out what expand=True does in split()_.\n",
    "\n",
    "hint: remember to cast strings to numeric types if you're going to perform math on them\n",
    "\n",
    "hint: you might want to create an intermediate (temporary) DataFrame to help you keep things clear instead of attempting to do this in one line "
   ]
  },
  {
   "cell_type": "code",
   "execution_count": 31,
   "metadata": {},
   "outputs": [
    {
     "data": {
      "text/plain": [
       "Index(['birth_date', 'birth_place', 'college', 'current_salary',\n",
       "       'current_team', 'death_date', 'draft_position', 'draft_round',\n",
       "       'draft_team', 'draft_year', 'height', 'high_school',\n",
       "       'hof_induction_year', 'name', 'player_id', 'position', 'weight',\n",
       "       'current_salary_nocommas', 'current_salary_cleaned'],\n",
       "      dtype='object')"
      ]
     },
     "execution_count": 31,
     "metadata": {},
     "output_type": "execute_result"
    }
   ],
   "source": [
    "nfl_football_players.columns"
   ]
  },
  {
   "cell_type": "code",
   "execution_count": 32,
   "metadata": {},
   "outputs": [
    {
     "data": {
      "text/plain": [
       "0    6-0\n",
       "1    6-3\n",
       "2    6-3\n",
       "3    6-2\n",
       "4    6-0\n",
       "Name: height, dtype: object"
      ]
     },
     "execution_count": 32,
     "metadata": {},
     "output_type": "execute_result"
    }
   ],
   "source": [
    "nfl_football_players.height.head(5)"
   ]
  },
  {
   "cell_type": "code",
   "execution_count": 33,
   "metadata": {},
   "outputs": [],
   "source": [
    "heights = nfl_football_players.height.str.split('-')"
   ]
  },
  {
   "cell_type": "code",
   "execution_count": 34,
   "metadata": {},
   "outputs": [
    {
     "data": {
      "text/plain": [
       "0    [6, 0]\n",
       "1    [6, 3]\n",
       "2    [6, 3]\n",
       "3    [6, 2]\n",
       "4    [6, 0]\n",
       "Name: height, dtype: object"
      ]
     },
     "execution_count": 34,
     "metadata": {},
     "output_type": "execute_result"
    }
   ],
   "source": [
    "heights.head()"
   ]
  },
  {
   "cell_type": "code",
   "execution_count": 35,
   "metadata": {},
   "outputs": [],
   "source": [
    "heights = nfl_football_players.height.str.split('-', expand=True)"
   ]
  },
  {
   "cell_type": "code",
   "execution_count": 36,
   "metadata": {},
   "outputs": [
    {
     "data": {
      "text/html": [
       "<div>\n",
       "<style scoped>\n",
       "    .dataframe tbody tr th:only-of-type {\n",
       "        vertical-align: middle;\n",
       "    }\n",
       "\n",
       "    .dataframe tbody tr th {\n",
       "        vertical-align: top;\n",
       "    }\n",
       "\n",
       "    .dataframe thead th {\n",
       "        text-align: right;\n",
       "    }\n",
       "</style>\n",
       "<table border=\"1\" class=\"dataframe\">\n",
       "  <thead>\n",
       "    <tr style=\"text-align: right;\">\n",
       "      <th></th>\n",
       "      <th>0</th>\n",
       "      <th>1</th>\n",
       "    </tr>\n",
       "  </thead>\n",
       "  <tbody>\n",
       "    <tr>\n",
       "      <th>0</th>\n",
       "      <td>6</td>\n",
       "      <td>0</td>\n",
       "    </tr>\n",
       "    <tr>\n",
       "      <th>1</th>\n",
       "      <td>6</td>\n",
       "      <td>3</td>\n",
       "    </tr>\n",
       "    <tr>\n",
       "      <th>2</th>\n",
       "      <td>6</td>\n",
       "      <td>3</td>\n",
       "    </tr>\n",
       "    <tr>\n",
       "      <th>3</th>\n",
       "      <td>6</td>\n",
       "      <td>2</td>\n",
       "    </tr>\n",
       "    <tr>\n",
       "      <th>4</th>\n",
       "      <td>6</td>\n",
       "      <td>0</td>\n",
       "    </tr>\n",
       "  </tbody>\n",
       "</table>\n",
       "</div>"
      ],
      "text/plain": [
       "   0  1\n",
       "0  6  0\n",
       "1  6  3\n",
       "2  6  3\n",
       "3  6  2\n",
       "4  6  0"
      ]
     },
     "execution_count": 36,
     "metadata": {},
     "output_type": "execute_result"
    }
   ],
   "source": [
    "heights.head()"
   ]
  },
  {
   "cell_type": "code",
   "execution_count": 37,
   "metadata": {},
   "outputs": [],
   "source": [
    "heights.columns = ['feet','inches']"
   ]
  },
  {
   "cell_type": "code",
   "execution_count": 38,
   "metadata": {},
   "outputs": [
    {
     "data": {
      "text/html": [
       "<div>\n",
       "<style scoped>\n",
       "    .dataframe tbody tr th:only-of-type {\n",
       "        vertical-align: middle;\n",
       "    }\n",
       "\n",
       "    .dataframe tbody tr th {\n",
       "        vertical-align: top;\n",
       "    }\n",
       "\n",
       "    .dataframe thead th {\n",
       "        text-align: right;\n",
       "    }\n",
       "</style>\n",
       "<table border=\"1\" class=\"dataframe\">\n",
       "  <thead>\n",
       "    <tr style=\"text-align: right;\">\n",
       "      <th></th>\n",
       "      <th>feet</th>\n",
       "      <th>inches</th>\n",
       "    </tr>\n",
       "  </thead>\n",
       "  <tbody>\n",
       "    <tr>\n",
       "      <th>0</th>\n",
       "      <td>6</td>\n",
       "      <td>0</td>\n",
       "    </tr>\n",
       "    <tr>\n",
       "      <th>1</th>\n",
       "      <td>6</td>\n",
       "      <td>3</td>\n",
       "    </tr>\n",
       "    <tr>\n",
       "      <th>2</th>\n",
       "      <td>6</td>\n",
       "      <td>3</td>\n",
       "    </tr>\n",
       "    <tr>\n",
       "      <th>3</th>\n",
       "      <td>6</td>\n",
       "      <td>2</td>\n",
       "    </tr>\n",
       "    <tr>\n",
       "      <th>4</th>\n",
       "      <td>6</td>\n",
       "      <td>0</td>\n",
       "    </tr>\n",
       "  </tbody>\n",
       "</table>\n",
       "</div>"
      ],
      "text/plain": [
       "  feet inches\n",
       "0    6      0\n",
       "1    6      3\n",
       "2    6      3\n",
       "3    6      2\n",
       "4    6      0"
      ]
     },
     "execution_count": 38,
     "metadata": {},
     "output_type": "execute_result"
    }
   ],
   "source": [
    "heights.head()"
   ]
  },
  {
   "cell_type": "code",
   "execution_count": 39,
   "metadata": {},
   "outputs": [],
   "source": [
    "\n",
    "nfl_football_players['cm'] = (heights['feet'].astype(float)*12+heights['inches'].astype(float))*2.54"
   ]
  },
  {
   "cell_type": "code",
   "execution_count": 40,
   "metadata": {},
   "outputs": [
    {
     "data": {
      "text/html": [
       "<div>\n",
       "<style scoped>\n",
       "    .dataframe tbody tr th:only-of-type {\n",
       "        vertical-align: middle;\n",
       "    }\n",
       "\n",
       "    .dataframe tbody tr th {\n",
       "        vertical-align: top;\n",
       "    }\n",
       "\n",
       "    .dataframe thead th {\n",
       "        text-align: right;\n",
       "    }\n",
       "</style>\n",
       "<table border=\"1\" class=\"dataframe\">\n",
       "  <thead>\n",
       "    <tr style=\"text-align: right;\">\n",
       "      <th></th>\n",
       "      <th>birth_date</th>\n",
       "      <th>birth_place</th>\n",
       "      <th>college</th>\n",
       "      <th>current_salary</th>\n",
       "      <th>current_team</th>\n",
       "      <th>death_date</th>\n",
       "      <th>draft_position</th>\n",
       "      <th>draft_round</th>\n",
       "      <th>draft_team</th>\n",
       "      <th>draft_year</th>\n",
       "      <th>height</th>\n",
       "      <th>high_school</th>\n",
       "      <th>hof_induction_year</th>\n",
       "      <th>name</th>\n",
       "      <th>player_id</th>\n",
       "      <th>position</th>\n",
       "      <th>weight</th>\n",
       "      <th>current_salary_nocommas</th>\n",
       "      <th>current_salary_cleaned</th>\n",
       "      <th>cm</th>\n",
       "    </tr>\n",
       "  </thead>\n",
       "  <tbody>\n",
       "    <tr>\n",
       "      <th>0</th>\n",
       "      <td>1967-05-12</td>\n",
       "      <td>Bay City, TX</td>\n",
       "      <td>Baylor</td>\n",
       "      <td>None</td>\n",
       "      <td>None</td>\n",
       "      <td>None</td>\n",
       "      <td>34.0</td>\n",
       "      <td>2.0</td>\n",
       "      <td>Seattle Seahawks</td>\n",
       "      <td>1990.0</td>\n",
       "      <td>6-0</td>\n",
       "      <td>Van Vleck, TX</td>\n",
       "      <td>NaN</td>\n",
       "      <td>Robert Blackmon</td>\n",
       "      <td>1809</td>\n",
       "      <td>DB</td>\n",
       "      <td>208.0</td>\n",
       "      <td>None</td>\n",
       "      <td>NaN</td>\n",
       "      <td>182.88</td>\n",
       "    </tr>\n",
       "  </tbody>\n",
       "</table>\n",
       "</div>"
      ],
      "text/plain": [
       "   birth_date   birth_place college current_salary current_team death_date  \\\n",
       "0  1967-05-12  Bay City, TX  Baylor           None         None       None   \n",
       "\n",
       "   draft_position  draft_round        draft_team  draft_year height  \\\n",
       "0            34.0          2.0  Seattle Seahawks      1990.0    6-0   \n",
       "\n",
       "     high_school  hof_induction_year             name  player_id position  \\\n",
       "0  Van Vleck, TX                 NaN  Robert Blackmon       1809       DB   \n",
       "\n",
       "   weight current_salary_nocommas  current_salary_cleaned      cm  \n",
       "0   208.0                    None                     NaN  182.88  "
      ]
     },
     "execution_count": 40,
     "metadata": {},
     "output_type": "execute_result"
    }
   ],
   "source": [
    "nfl_football_players.head(1)"
   ]
  },
  {
   "cell_type": "markdown",
   "metadata": {},
   "source": [
    "# APIs and requests (FYI only)\n",
    "You've covered the ```requests``` package in previous courses.  This example shows what you can do with an API that returns JSON:"
   ]
  },
  {
   "cell_type": "code",
   "execution_count": null,
   "metadata": {},
   "outputs": [],
   "source": [
    "import requests"
   ]
  },
  {
   "cell_type": "code",
   "execution_count": null,
   "metadata": {},
   "outputs": [],
   "source": [
    "url = 'https://api.github.com/repos/pandas-dev/pandas/issues'"
   ]
  },
  {
   "cell_type": "code",
   "execution_count": null,
   "metadata": {},
   "outputs": [],
   "source": [
    "resp = requests.get(url)\n",
    "resp"
   ]
  },
  {
   "cell_type": "code",
   "execution_count": null,
   "metadata": {},
   "outputs": [],
   "source": [
    "data = resp.json()"
   ]
  },
  {
   "cell_type": "code",
   "execution_count": null,
   "metadata": {},
   "outputs": [],
   "source": [
    "data[0]['title']"
   ]
  },
  {
   "cell_type": "code",
   "execution_count": null,
   "metadata": {},
   "outputs": [],
   "source": [
    "issues = pd.DataFrame(data)\n",
    "issues.head()"
   ]
  },
  {
   "cell_type": "code",
   "execution_count": null,
   "metadata": {},
   "outputs": [],
   "source": [
    "issues.columns"
   ]
  },
  {
   "cell_type": "code",
   "execution_count": null,
   "metadata": {},
   "outputs": [],
   "source": [
    "issues = pd.DataFrame(data, columns=['number', 'title','labels', 'state'])\n",
    "issues.head()"
   ]
  },
  {
   "cell_type": "markdown",
   "metadata": {},
   "source": [
    "## <font color=\"magenta\">END OF NOTEBOOK</font>\n",
    "Please submit this notebook in HTML format via Canvas."
   ]
  },
  {
   "cell_type": "code",
   "execution_count": null,
   "metadata": {},
   "outputs": [],
   "source": []
  }
 ],
 "metadata": {
  "celltoolbar": "Slideshow",
  "kernelspec": {
   "display_name": "Python 3",
   "language": "python",
   "name": "python3"
  },
  "language_info": {
   "codemirror_mode": {
    "name": "ipython",
    "version": 3
   },
   "file_extension": ".py",
   "mimetype": "text/x-python",
   "name": "python",
   "nbconvert_exporter": "python",
   "pygments_lexer": "ipython3",
   "version": "3.7.3"
  }
 },
 "nbformat": 4,
 "nbformat_minor": 2
}
