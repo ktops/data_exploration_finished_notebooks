{
 "cells": [
  {
   "cell_type": "markdown",
   "metadata": {},
   "source": [
    "# SI 370 - Hypothesis testing (t-test and ANOVA)"
   ]
  },
  {
   "cell_type": "markdown",
   "metadata": {},
   "source": [
    "Today's class will focus on two common statistical techniques used to investigate\n",
    "hypotheses about the mean values within samples.  We'll spend most of our time \n",
    "focusing on ANOVA, as that seems to be scarier than the more familiar t-test.\n",
    "\n",
    "We will be using two datasets: a simple on about pizza dough recipes and \n",
    "a more complex one drawn from a FiveThirtyEight example about biographical films."
   ]
  },
  {
   "cell_type": "markdown",
   "metadata": {},
   "source": [
    "We'll start by importing the usual suspects (including scipy, which we haven't used\n",
    "much so far):"
   ]
  },
  {
   "cell_type": "code",
   "execution_count": 1,
   "metadata": {},
   "outputs": [],
   "source": [
    "import numpy as np\n",
    "import pandas as pd\n",
    "import scipy"
   ]
  },
  {
   "cell_type": "markdown",
   "metadata": {},
   "source": [
    "And we'll also import the main packages that we'll be using for our statistical analyses:"
   ]
  },
  {
   "cell_type": "code",
   "execution_count": 2,
   "metadata": {},
   "outputs": [],
   "source": [
    "import statsmodels\n",
    "import statsmodels.api as sm\n",
    "from statsmodels.formula.api import ols"
   ]
  },
  {
   "cell_type": "markdown",
   "metadata": {},
   "source": [
    "## Part I: Pizza Dough Recipes"
   ]
  },
  {
   "cell_type": "markdown",
   "metadata": {},
   "source": [
    "https://dasl.datadescription.com/datafile/activating-baking-yeast/?_sfm_methods=Analysis+of+Variance&_sfm_cases=4+59943\n",
    "\n",
    "To shorten the time it takes him to\n",
    "make his favorite pizza, a student designed an experiment to\n",
    "test the effect of sugar and milk on the activation times for\n",
    "baking yeast. Specifically, he tested four different recipes and\n",
    "measured how many seconds it took for the same amount of\n",
    "dough to rise to the top of a bowl. He randomized the order\n",
    "of the recipes and replicated each treatment 4 times."
   ]
  },
  {
   "cell_type": "markdown",
   "metadata": {},
   "source": [
    "### Q1: Go ahead and read in the data/activating-baking-yeast.txt file into a DataFrame called ```yeast```"
   ]
  },
  {
   "cell_type": "code",
   "execution_count": 5,
   "metadata": {},
   "outputs": [],
   "source": [
    "# insert your code here\n",
    "yeast = pd.read_csv('data/activating-baking-yeast.txt', sep='\\t')"
   ]
  },
  {
   "cell_type": "markdown",
   "metadata": {},
   "source": [
    "### End Q1"
   ]
  },
  {
   "cell_type": "markdown",
   "metadata": {},
   "source": [
    "As usual, inspect the DataFrame so we know what we're dealing with:"
   ]
  },
  {
   "cell_type": "code",
   "execution_count": 6,
   "metadata": {},
   "outputs": [
    {
     "data": {
      "text/html": [
       "<div>\n",
       "<style scoped>\n",
       "    .dataframe tbody tr th:only-of-type {\n",
       "        vertical-align: middle;\n",
       "    }\n",
       "\n",
       "    .dataframe tbody tr th {\n",
       "        vertical-align: top;\n",
       "    }\n",
       "\n",
       "    .dataframe thead th {\n",
       "        text-align: right;\n",
       "    }\n",
       "</style>\n",
       "<table border=\"1\" class=\"dataframe\">\n",
       "  <thead>\n",
       "    <tr style=\"text-align: right;\">\n",
       "      <th></th>\n",
       "      <th>Activation Times</th>\n",
       "      <th>Recipe</th>\n",
       "    </tr>\n",
       "  </thead>\n",
       "  <tbody>\n",
       "    <tr>\n",
       "      <th>0</th>\n",
       "      <td>575</td>\n",
       "      <td>A</td>\n",
       "    </tr>\n",
       "    <tr>\n",
       "      <th>1</th>\n",
       "      <td>395</td>\n",
       "      <td>A</td>\n",
       "    </tr>\n",
       "    <tr>\n",
       "      <th>2</th>\n",
       "      <td>280</td>\n",
       "      <td>B</td>\n",
       "    </tr>\n",
       "    <tr>\n",
       "      <th>3</th>\n",
       "      <td>120</td>\n",
       "      <td>B</td>\n",
       "    </tr>\n",
       "    <tr>\n",
       "      <th>4</th>\n",
       "      <td>720</td>\n",
       "      <td>C</td>\n",
       "    </tr>\n",
       "  </tbody>\n",
       "</table>\n",
       "</div>"
      ],
      "text/plain": [
       "   Activation Times Recipe \n",
       "0               575       A\n",
       "1               395       A\n",
       "2               280       B\n",
       "3               120       B\n",
       "4               720       C"
      ]
     },
     "execution_count": 6,
     "metadata": {},
     "output_type": "execute_result"
    }
   ],
   "source": [
    "yeast.head()"
   ]
  },
  {
   "cell_type": "code",
   "execution_count": 7,
   "metadata": {},
   "outputs": [
    {
     "data": {
      "text/plain": [
       "Index(['Activation Times', 'Recipe '], dtype='object')"
      ]
     },
     "execution_count": 7,
     "metadata": {},
     "output_type": "execute_result"
    }
   ],
   "source": [
    "yeast.columns"
   ]
  },
  {
   "cell_type": "markdown",
   "metadata": {},
   "source": [
    "Those column names aren't nice to work with, so let's go ahead and rename them\n",
    "to ```activation``` and ```recipe```"
   ]
  },
  {
   "cell_type": "code",
   "execution_count": 8,
   "metadata": {},
   "outputs": [],
   "source": [
    "to_be_renamed = {\"Activation Times\" :\"activation\", \"Recipe \": \"recipe\"}\n",
    "yeast = yeast.rename(columns = to_be_renamed)  "
   ]
  },
  {
   "cell_type": "code",
   "execution_count": 9,
   "metadata": {},
   "outputs": [
    {
     "data": {
      "text/html": [
       "<div>\n",
       "<style scoped>\n",
       "    .dataframe tbody tr th:only-of-type {\n",
       "        vertical-align: middle;\n",
       "    }\n",
       "\n",
       "    .dataframe tbody tr th {\n",
       "        vertical-align: top;\n",
       "    }\n",
       "\n",
       "    .dataframe thead th {\n",
       "        text-align: right;\n",
       "    }\n",
       "</style>\n",
       "<table border=\"1\" class=\"dataframe\">\n",
       "  <thead>\n",
       "    <tr style=\"text-align: right;\">\n",
       "      <th></th>\n",
       "      <th>activation</th>\n",
       "      <th>recipe</th>\n",
       "    </tr>\n",
       "  </thead>\n",
       "  <tbody>\n",
       "    <tr>\n",
       "      <th>0</th>\n",
       "      <td>575</td>\n",
       "      <td>A</td>\n",
       "    </tr>\n",
       "    <tr>\n",
       "      <th>1</th>\n",
       "      <td>395</td>\n",
       "      <td>A</td>\n",
       "    </tr>\n",
       "    <tr>\n",
       "      <th>2</th>\n",
       "      <td>280</td>\n",
       "      <td>B</td>\n",
       "    </tr>\n",
       "    <tr>\n",
       "      <th>3</th>\n",
       "      <td>120</td>\n",
       "      <td>B</td>\n",
       "    </tr>\n",
       "    <tr>\n",
       "      <th>4</th>\n",
       "      <td>720</td>\n",
       "      <td>C</td>\n",
       "    </tr>\n",
       "  </tbody>\n",
       "</table>\n",
       "</div>"
      ],
      "text/plain": [
       "   activation recipe\n",
       "0         575      A\n",
       "1         395      A\n",
       "2         280      B\n",
       "3         120      B\n",
       "4         720      C"
      ]
     },
     "execution_count": 9,
     "metadata": {},
     "output_type": "execute_result"
    }
   ],
   "source": [
    "yeast.head()"
   ]
  },
  {
   "cell_type": "markdown",
   "metadata": {},
   "source": [
    "Let's start by visually examining our data:"
   ]
  },
  {
   "cell_type": "code",
   "execution_count": 10,
   "metadata": {},
   "outputs": [],
   "source": [
    "import seaborn as sns"
   ]
  },
  {
   "cell_type": "markdown",
   "metadata": {},
   "source": [
    "### Q2: Create a boxplot the looks like the following:\n",
    "![](resources/pizza-boxplot.png)"
   ]
  },
  {
   "cell_type": "code",
   "execution_count": 11,
   "metadata": {},
   "outputs": [
    {
     "data": {
      "image/png": "[encoded data removed]",
      "text/plain": [
       "<Figure size 432x288 with 1 Axes>"
      ]
     },
     "metadata": {
      "needs_background": "light"
     },
     "output_type": "display_data"
    }
   ],
   "source": [
    "# insert your code here\n",
    "ax = sns.boxplot(x='recipe', y='activation', data=yeast)"
   ]
  },
  {
   "cell_type": "markdown",
   "metadata": {},
   "source": [
    "### End Q2"
   ]
  },
  {
   "cell_type": "markdown",
   "metadata": {},
   "source": [
    "## Let's do an ANOVA!\n",
    "We want to know if the above differences are statistically \"real\".  In other words, \n",
    "we want to know if the activation times vary according to the recipes.\n",
    "\n",
    "We use statsmodels.forumula.api to create the model in a \"readable\" way.  For example, \n",
    "```activation ~ recipe``` would do that for us.  So we're going to create a model,\n",
    "fit it to the data, and examine it.  We'll talk about the \"Type 2\" bit in class."
   ]
  },
  {
   "cell_type": "code",
   "execution_count": 13,
   "metadata": {},
   "outputs": [
    {
     "data": {
      "text/html": [
       "<div>\n",
       "<style scoped>\n",
       "    .dataframe tbody tr th:only-of-type {\n",
       "        vertical-align: middle;\n",
       "    }\n",
       "\n",
       "    .dataframe tbody tr th {\n",
       "        vertical-align: top;\n",
       "    }\n",
       "\n",
       "    .dataframe thead th {\n",
       "        text-align: right;\n",
       "    }\n",
       "</style>\n",
       "<table border=\"1\" class=\"dataframe\">\n",
       "  <thead>\n",
       "    <tr style=\"text-align: right;\">\n",
       "      <th></th>\n",
       "      <th>df</th>\n",
       "      <th>sum_sq</th>\n",
       "      <th>mean_sq</th>\n",
       "      <th>F</th>\n",
       "      <th>PR(&gt;F)</th>\n",
       "    </tr>\n",
       "  </thead>\n",
       "  <tbody>\n",
       "    <tr>\n",
       "      <th>recipe</th>\n",
       "      <td>3.0</td>\n",
       "      <td>638967.6875</td>\n",
       "      <td>212989.229167</td>\n",
       "      <td>44.739175</td>\n",
       "      <td>8.639741e-07</td>\n",
       "    </tr>\n",
       "    <tr>\n",
       "      <th>Residual</th>\n",
       "      <td>12.0</td>\n",
       "      <td>57128.2500</td>\n",
       "      <td>4760.687500</td>\n",
       "      <td>NaN</td>\n",
       "      <td>NaN</td>\n",
       "    </tr>\n",
       "  </tbody>\n",
       "</table>\n",
       "</div>"
      ],
      "text/plain": [
       "            df       sum_sq        mean_sq          F        PR(>F)\n",
       "recipe     3.0  638967.6875  212989.229167  44.739175  8.639741e-07\n",
       "Residual  12.0   57128.2500    4760.687500        NaN           NaN"
      ]
     },
     "execution_count": 13,
     "metadata": {},
     "output_type": "execute_result"
    }
   ],
   "source": [
    "yeast_lm = ols('activation ~ recipe', data=yeast).fit()\n",
    "table = sm.stats.anova_lm(yeast_lm, type=2) # Type 2 ANOVA DataFrame\n",
    "table"
   ]
  },
  {
   "cell_type": "markdown",
   "metadata": {},
   "source": [
    "### Q3: What does that tell us?"
   ]
  },
  {
   "cell_type": "markdown",
   "metadata": {},
   "source": [
    "Modeling activation in terms of the different recipes (activation as a function of recipe). Tells us the probability that we got these values by chance is up in thet top right corner - there's a really low chance of that happening. There appears to be an affect of recipe on activation time."
   ]
  },
  {
   "cell_type": "code",
   "execution_count": 15,
   "metadata": {},
   "outputs": [
    {
     "name": "stderr",
     "output_type": "stream",
     "text": [
      "/opt/conda/lib/python3.7/site-packages/scipy/stats/stats.py:1416: UserWarning: kurtosistest only valid for n>=20 ... continuing anyway, n=16\n",
      "  \"anyway, n=%i\" % int(n))\n"
     ]
    },
    {
     "data": {
      "text/html": [
       "<table class=\"simpletable\">\n",
       "<caption>OLS Regression Results</caption>\n",
       "<tr>\n",
       "  <th>Dep. Variable:</th>       <td>activation</td>    <th>  R-squared:         </th> <td>   0.918</td>\n",
       "</tr>\n",
       "<tr>\n",
       "  <th>Model:</th>                   <td>OLS</td>       <th>  Adj. R-squared:    </th> <td>   0.897</td>\n",
       "</tr>\n",
       "<tr>\n",
       "  <th>Method:</th>             <td>Least Squares</td>  <th>  F-statistic:       </th> <td>   44.74</td>\n",
       "</tr>\n",
       "<tr>\n",
       "  <th>Date:</th>             <td>Tue, 01 Oct 2019</td> <th>  Prob (F-statistic):</th> <td>8.64e-07</td>\n",
       "</tr>\n",
       "<tr>\n",
       "  <th>Time:</th>                 <td>13:06:46</td>     <th>  Log-Likelihood:    </th> <td> -88.147</td>\n",
       "</tr>\n",
       "<tr>\n",
       "  <th>No. Observations:</th>      <td>    16</td>      <th>  AIC:               </th> <td>   184.3</td>\n",
       "</tr>\n",
       "<tr>\n",
       "  <th>Df Residuals:</th>          <td>    12</td>      <th>  BIC:               </th> <td>   187.4</td>\n",
       "</tr>\n",
       "<tr>\n",
       "  <th>Df Model:</th>              <td>     3</td>      <th>                     </th>     <td> </td>   \n",
       "</tr>\n",
       "<tr>\n",
       "  <th>Covariance Type:</th>      <td>nonrobust</td>    <th>                     </th>     <td> </td>   \n",
       "</tr>\n",
       "</table>\n",
       "<table class=\"simpletable\">\n",
       "<tr>\n",
       "       <td></td>          <th>coef</th>     <th>std err</th>      <th>t</th>      <th>P>|t|</th>  <th>[0.025</th>    <th>0.975]</th>  \n",
       "</tr>\n",
       "<tr>\n",
       "  <th>Intercept</th>   <td>  486.2500</td> <td>   34.499</td> <td>   14.095</td> <td> 0.000</td> <td>  411.083</td> <td>  561.417</td>\n",
       "</tr>\n",
       "<tr>\n",
       "  <th>recipe[T.B]</th> <td> -290.0000</td> <td>   48.789</td> <td>   -5.944</td> <td> 0.000</td> <td> -396.302</td> <td> -183.698</td>\n",
       "</tr>\n",
       "<tr>\n",
       "  <th>recipe[T.C]</th> <td>  169.7500</td> <td>   48.789</td> <td>    3.479</td> <td> 0.005</td> <td>   63.448</td> <td>  276.052</td>\n",
       "</tr>\n",
       "<tr>\n",
       "  <th>recipe[T.D]</th> <td> -302.5000</td> <td>   48.789</td> <td>   -6.200</td> <td> 0.000</td> <td> -408.802</td> <td> -196.198</td>\n",
       "</tr>\n",
       "</table>\n",
       "<table class=\"simpletable\">\n",
       "<tr>\n",
       "  <th>Omnibus:</th>       <td> 1.840</td> <th>  Durbin-Watson:     </th> <td>   3.281</td>\n",
       "</tr>\n",
       "<tr>\n",
       "  <th>Prob(Omnibus):</th> <td> 0.399</td> <th>  Jarque-Bera (JB):  </th> <td>   0.964</td>\n",
       "</tr>\n",
       "<tr>\n",
       "  <th>Skew:</th>          <td>-0.142</td> <th>  Prob(JB):          </th> <td>   0.618</td>\n",
       "</tr>\n",
       "<tr>\n",
       "  <th>Kurtosis:</th>      <td> 1.832</td> <th>  Cond. No.          </th> <td>    4.79</td>\n",
       "</tr>\n",
       "</table><br/><br/>Warnings:<br/>[1] Standard Errors assume that the covariance matrix of the errors is correctly specified."
      ],
      "text/plain": [
       "<class 'statsmodels.iolib.summary.Summary'>\n",
       "\"\"\"\n",
       "                            OLS Regression Results                            \n",
       "==============================================================================\n",
       "Dep. Variable:             activation   R-squared:                       0.918\n",
       "Model:                            OLS   Adj. R-squared:                  0.897\n",
       "Method:                 Least Squares   F-statistic:                     44.74\n",
       "Date:                Tue, 01 Oct 2019   Prob (F-statistic):           8.64e-07\n",
       "Time:                        13:06:46   Log-Likelihood:                -88.147\n",
       "No. Observations:                  16   AIC:                             184.3\n",
       "Df Residuals:                      12   BIC:                             187.4\n",
       "Df Model:                           3                                         \n",
       "Covariance Type:            nonrobust                                         \n",
       "===============================================================================\n",
       "                  coef    std err          t      P>|t|      [0.025      0.975]\n",
       "-------------------------------------------------------------------------------\n",
       "Intercept     486.2500     34.499     14.095      0.000     411.083     561.417\n",
       "recipe[T.B]  -290.0000     48.789     -5.944      0.000    -396.302    -183.698\n",
       "recipe[T.C]   169.7500     48.789      3.479      0.005      63.448     276.052\n",
       "recipe[T.D]  -302.5000     48.789     -6.200      0.000    -408.802    -196.198\n",
       "==============================================================================\n",
       "Omnibus:                        1.840   Durbin-Watson:                   3.281\n",
       "Prob(Omnibus):                  0.399   Jarque-Bera (JB):                0.964\n",
       "Skew:                          -0.142   Prob(JB):                        0.618\n",
       "Kurtosis:                       1.832   Cond. No.                         4.79\n",
       "==============================================================================\n",
       "\n",
       "Warnings:\n",
       "[1] Standard Errors assume that the covariance matrix of the errors is correctly specified.\n",
       "\"\"\""
      ]
     },
     "execution_count": 15,
     "metadata": {},
     "output_type": "execute_result"
    }
   ],
   "source": [
    "yeast_lm.summary()\n",
    "# the intercept tells us thet effect of our baseline\n",
    "# this means that our baseline value of recipe a is 486 s (coef)\n",
    "# the prob of getting this by chance is almost 0, so we are pretty sure of this\n",
    "\n",
    "# recipe b is 290 seconds lower than the baseline, not thet value -290, more like 486 - 290 ~= 200\n",
    "# recipe c is 169 above recipe a\n",
    "# recipe d is 302 below recipe a\n",
    "\n",
    "# we can see this reflected by where the graphs are in the boxplot\n",
    "\n",
    "# the [0.025 and 0.975] gives us 95% certainty that the coef is in betwteen those two (2.5% on each side)"
   ]
  },
  {
   "cell_type": "markdown",
   "metadata": {},
   "source": [
    "### End Q3"
   ]
  },
  {
   "cell_type": "markdown",
   "metadata": {},
   "source": [
    "## Tukey's Honestly Significant Differences (HSD)\n",
    "\n",
    "Ok, so we know there are significant differences between the different recipes, but\n",
    "which one(s) are different from other ones?  To answer that, we can use Tukey's HSD (Honestly Sigificant Differences):"
   ]
  },
  {
   "cell_type": "code",
   "execution_count": 16,
   "metadata": {},
   "outputs": [],
   "source": [
    "from statsmodels.stats.multicomp import (pairwise_tukeyhsd,\n",
    "                                         MultiComparison)"
   ]
  },
  {
   "cell_type": "code",
   "execution_count": 17,
   "metadata": {},
   "outputs": [
    {
     "data": {
      "text/html": [
       "<table class=\"simpletable\">\n",
       "<caption>Multiple Comparison of Means - Tukey HSD,FWER=0.05</caption>\n",
       "<tr>\n",
       "  <th>group1</th> <th>group2</th> <th>meandiff</th>   <th>lower</th>     <th>upper</th>   <th>reject</th>\n",
       "</tr>\n",
       "<tr>\n",
       "     <td>A</td>      <td>B</td>    <td>-290.0</td>  <td>-434.8661</td> <td>-145.1339</td>  <td>True</td> \n",
       "</tr>\n",
       "<tr>\n",
       "     <td>A</td>      <td>C</td>    <td>169.75</td>   <td>24.8839</td>  <td>314.6161</td>   <td>True</td> \n",
       "</tr>\n",
       "<tr>\n",
       "     <td>A</td>      <td>D</td>    <td>-302.5</td>  <td>-447.3661</td> <td>-157.6339</td>  <td>True</td> \n",
       "</tr>\n",
       "<tr>\n",
       "     <td>B</td>      <td>C</td>    <td>459.75</td>  <td>314.8839</td>  <td>604.6161</td>   <td>True</td> \n",
       "</tr>\n",
       "<tr>\n",
       "     <td>B</td>      <td>D</td>     <td>-12.5</td>  <td>-157.3661</td> <td>132.3661</td>   <td>False</td>\n",
       "</tr>\n",
       "<tr>\n",
       "     <td>C</td>      <td>D</td>    <td>-472.25</td> <td>-617.1161</td> <td>-327.3839</td>  <td>True</td> \n",
       "</tr>\n",
       "</table>"
      ],
      "text/plain": [
       "<class 'statsmodels.iolib.table.SimpleTable'>"
      ]
     },
     "execution_count": 17,
     "metadata": {},
     "output_type": "execute_result"
    }
   ],
   "source": [
    "res2 = pairwise_tukeyhsd(yeast['activation'], yeast['recipe'])\n",
    "res2.summary()"
   ]
  },
  {
   "cell_type": "markdown",
   "metadata": {},
   "source": [
    "### Q3: What does that mean?"
   ]
  },
  {
   "cell_type": "markdown",
   "metadata": {},
   "source": [
    "We reject the Null hypothesis for group A and B, meaning they are significantly different.\n",
    "\n",
    "We accept the Null hypothesis for group B and D, meaning they are NOT significantly different.\n",
    "\n",
    "You can see these by looking at the graph."
   ]
  },
  {
   "cell_type": "markdown",
   "metadata": {},
   "source": [
    "### End Q3"
   ]
  },
  {
   "cell_type": "markdown",
   "metadata": {},
   "source": [
    "For the next section, we draw our inspiration from the FiveThirtyEight article \"‘Straight Outta Compton’ Is The Rare Biopic Not About White Dudes\" (https://fivethirtyeight.com/features/straight-outta-compton-is-the-rare-biopic-not-about-white-dudes/).  FiveThiryEight has a great habit of publishing the data\n",
    "that underpin their stories and those data are available via GitHub so it's easy to \n",
    "load them into a DataFrame:"
   ]
  },
  {
   "cell_type": "code",
   "execution_count": 46,
   "metadata": {},
   "outputs": [],
   "source": [
    "biopics = pd.read_csv(\"https://raw.githubusercontent.com/fivethirtyeight/data/master/biopics/biopics.csv\", encoding=\"latin1\")"
   ]
  },
  {
   "cell_type": "code",
   "execution_count": 47,
   "metadata": {},
   "outputs": [
    {
     "data": {
      "text/html": [
       "<div>\n",
       "<style scoped>\n",
       "    .dataframe tbody tr th:only-of-type {\n",
       "        vertical-align: middle;\n",
       "    }\n",
       "\n",
       "    .dataframe tbody tr th {\n",
       "        vertical-align: top;\n",
       "    }\n",
       "\n",
       "    .dataframe thead th {\n",
       "        text-align: right;\n",
       "    }\n",
       "</style>\n",
       "<table border=\"1\" class=\"dataframe\">\n",
       "  <thead>\n",
       "    <tr style=\"text-align: right;\">\n",
       "      <th></th>\n",
       "      <th>title</th>\n",
       "      <th>site</th>\n",
       "      <th>country</th>\n",
       "      <th>year_release</th>\n",
       "      <th>box_office</th>\n",
       "      <th>director</th>\n",
       "      <th>number_of_subjects</th>\n",
       "      <th>subject</th>\n",
       "      <th>type_of_subject</th>\n",
       "      <th>race_known</th>\n",
       "      <th>subject_race</th>\n",
       "      <th>person_of_color</th>\n",
       "      <th>subject_sex</th>\n",
       "      <th>lead_actor_actress</th>\n",
       "    </tr>\n",
       "  </thead>\n",
       "  <tbody>\n",
       "    <tr>\n",
       "      <th>0</th>\n",
       "      <td>10 Rillington Place</td>\n",
       "      <td>http://www.imdb.com/title/tt0066730/</td>\n",
       "      <td>UK</td>\n",
       "      <td>1971</td>\n",
       "      <td>-</td>\n",
       "      <td>Richard Fleischer</td>\n",
       "      <td>1</td>\n",
       "      <td>John Christie</td>\n",
       "      <td>Criminal</td>\n",
       "      <td>Unknown</td>\n",
       "      <td>NaN</td>\n",
       "      <td>0</td>\n",
       "      <td>Male</td>\n",
       "      <td>Richard Attenborough</td>\n",
       "    </tr>\n",
       "    <tr>\n",
       "      <th>1</th>\n",
       "      <td>12 Years a Slave</td>\n",
       "      <td>http://www.imdb.com/title/tt2024544/</td>\n",
       "      <td>US/UK</td>\n",
       "      <td>2013</td>\n",
       "      <td>$56.7M</td>\n",
       "      <td>Steve McQueen</td>\n",
       "      <td>1</td>\n",
       "      <td>Solomon Northup</td>\n",
       "      <td>Other</td>\n",
       "      <td>Known</td>\n",
       "      <td>African American</td>\n",
       "      <td>1</td>\n",
       "      <td>Male</td>\n",
       "      <td>Chiwetel Ejiofor</td>\n",
       "    </tr>\n",
       "    <tr>\n",
       "      <th>2</th>\n",
       "      <td>127 Hours</td>\n",
       "      <td>http://www.imdb.com/title/tt1542344/</td>\n",
       "      <td>US/UK</td>\n",
       "      <td>2010</td>\n",
       "      <td>$18.3M</td>\n",
       "      <td>Danny Boyle</td>\n",
       "      <td>1</td>\n",
       "      <td>Aron Ralston</td>\n",
       "      <td>Athlete</td>\n",
       "      <td>Unknown</td>\n",
       "      <td>NaN</td>\n",
       "      <td>0</td>\n",
       "      <td>Male</td>\n",
       "      <td>James Franco</td>\n",
       "    </tr>\n",
       "    <tr>\n",
       "      <th>3</th>\n",
       "      <td>1987</td>\n",
       "      <td>http://www.imdb.com/title/tt2833074/</td>\n",
       "      <td>Canada</td>\n",
       "      <td>2014</td>\n",
       "      <td>-</td>\n",
       "      <td>Ricardo Trogi</td>\n",
       "      <td>1</td>\n",
       "      <td>Ricardo Trogi</td>\n",
       "      <td>Other</td>\n",
       "      <td>Known</td>\n",
       "      <td>White</td>\n",
       "      <td>0</td>\n",
       "      <td>Male</td>\n",
       "      <td>Jean-Carl Boucher</td>\n",
       "    </tr>\n",
       "    <tr>\n",
       "      <th>4</th>\n",
       "      <td>20 Dates</td>\n",
       "      <td>http://www.imdb.com/title/tt0138987/</td>\n",
       "      <td>US</td>\n",
       "      <td>1998</td>\n",
       "      <td>$537K</td>\n",
       "      <td>Myles Berkowitz</td>\n",
       "      <td>1</td>\n",
       "      <td>Myles Berkowitz</td>\n",
       "      <td>Other</td>\n",
       "      <td>Unknown</td>\n",
       "      <td>NaN</td>\n",
       "      <td>0</td>\n",
       "      <td>Male</td>\n",
       "      <td>Myles Berkowitz</td>\n",
       "    </tr>\n",
       "  </tbody>\n",
       "</table>\n",
       "</div>"
      ],
      "text/plain": [
       "                 title                                  site country  \\\n",
       "0  10 Rillington Place  http://www.imdb.com/title/tt0066730/      UK   \n",
       "1     12 Years a Slave  http://www.imdb.com/title/tt2024544/   US/UK   \n",
       "2            127 Hours  http://www.imdb.com/title/tt1542344/   US/UK   \n",
       "3                 1987  http://www.imdb.com/title/tt2833074/  Canada   \n",
       "4             20 Dates  http://www.imdb.com/title/tt0138987/      US   \n",
       "\n",
       "   year_release box_office           director  number_of_subjects  \\\n",
       "0          1971          -  Richard Fleischer                   1   \n",
       "1          2013     $56.7M      Steve McQueen                   1   \n",
       "2          2010     $18.3M        Danny Boyle                   1   \n",
       "3          2014          -      Ricardo Trogi                   1   \n",
       "4          1998      $537K    Myles Berkowitz                   1   \n",
       "\n",
       "            subject type_of_subject race_known      subject_race  \\\n",
       "0     John Christie        Criminal    Unknown               NaN   \n",
       "1   Solomon Northup           Other      Known  African American   \n",
       "2      Aron Ralston         Athlete    Unknown               NaN   \n",
       "3     Ricardo Trogi           Other      Known             White   \n",
       "4   Myles Berkowitz           Other    Unknown               NaN   \n",
       "\n",
       "   person_of_color subject_sex    lead_actor_actress  \n",
       "0                0        Male  Richard Attenborough  \n",
       "1                1        Male      Chiwetel Ejiofor  \n",
       "2                0        Male          James Franco  \n",
       "3                0        Male     Jean-Carl Boucher  \n",
       "4                0        Male       Myles Berkowitz  "
      ]
     },
     "execution_count": 47,
     "metadata": {},
     "output_type": "execute_result"
    }
   ],
   "source": [
    "biopics.head()"
   ]
  },
  {
   "cell_type": "markdown",
   "metadata": {},
   "source": [
    "We're interested in the 'box_office' variable, which is an oddly-formatted representation of the box-office earnings for each movie.  We're going to create a function that \n",
    "converts representations like '$56.7M' to '56700000'.  How?"
   ]
  },
  {
   "cell_type": "markdown",
   "metadata": {},
   "source": [
    "Time for some regular expressions (yay!):"
   ]
  },
  {
   "cell_type": "code",
   "execution_count": 48,
   "metadata": {},
   "outputs": [],
   "source": [
    "import re"
   ]
  },
  {
   "cell_type": "markdown",
   "metadata": {},
   "source": [
    "### Q4: Fill in the regular expression\n",
    "You want to look for a $ sign, followed by at least one number, followed optionally by a dot (\".\") and one or more additional numbers, followed optionally by a \"K\" or an \"M\".  You want the numerical part as group #1, and the\n",
    "\"K\" or \"M\" part as group #2.  \n",
    "\n",
    "In the unit test below, the return value of \"$537K\" should be 537000.\n",
    "\n",
    "Documentation is at https://docs.python.org/3/library/re.html (that's FYI only -- you \n",
    "won't have time to read this during class)."
   ]
  },
  {
   "cell_type": "code",
   "execution_count": 54,
   "metadata": {},
   "outputs": [
    {
     "data": {
      "text/plain": [
       "10.0"
      ]
     },
     "execution_count": 54,
     "metadata": {},
     "output_type": "execute_result"
    }
   ],
   "source": [
    "def box_office_dollars(earnings):\n",
    "    m = re.match(r'\\$?([0-9.]+)([KM]?)',earnings)\n",
    "    # \\$ explicit dollar sign\n",
    "    # ([0-9.]+) any number of numbers or dots\n",
    "    # ([KM]?) either a K or a M\n",
    "    if not m:\n",
    "        return np.NaN\n",
    "    ret = m.group(1)\n",
    "    if not ret:\n",
    "        return np.NaN\n",
    "    try:\n",
    "        ret = float(ret)\n",
    "    except:\n",
    "        return np.NaN\n",
    "    if m.group(2) == 'M':\n",
    "        return ret * 1000000\n",
    "    if m.group(2) == 'K':\n",
    "        return ret * 1000\n",
    "    return ret\n",
    "\n",
    "# Test out our function, which should print 537000.0 given $537K\n",
    "box_office_dollars(\"$10\")"
   ]
  },
  {
   "cell_type": "markdown",
   "metadata": {},
   "source": [
    "### End Q4"
   ]
  },
  {
   "cell_type": "markdown",
   "metadata": {},
   "source": [
    "Let's drop our missing values:"
   ]
  },
  {
   "cell_type": "code",
   "execution_count": 55,
   "metadata": {},
   "outputs": [],
   "source": [
    "biopics = biopics.dropna()"
   ]
  },
  {
   "cell_type": "markdown",
   "metadata": {},
   "source": [
    "And apply it to our DataFrame, creating a new column called 'box_office_dollars'"
   ]
  },
  {
   "cell_type": "code",
   "execution_count": 56,
   "metadata": {},
   "outputs": [],
   "source": [
    "biopics['box_office_dollars'] = biopics['box_office'].apply(box_office_dollars)"
   ]
  },
  {
   "cell_type": "code",
   "execution_count": 57,
   "metadata": {},
   "outputs": [],
   "source": [
    "# biopics = biopics.dropna()"
   ]
  },
  {
   "cell_type": "markdown",
   "metadata": {},
   "source": [
    "As always, let's take a look at the distribution of our variable:\n"
   ]
  },
  {
   "cell_type": "code",
   "execution_count": 58,
   "metadata": {},
   "outputs": [
    {
     "data": {
      "text/plain": [
       "<matplotlib.axes._subplots.AxesSubplot at 0x7f18e8e8f5f8>"
      ]
     },
     "execution_count": 58,
     "metadata": {},
     "output_type": "execute_result"
    },
    {
     "data": {
      "image/png": "[encoded data removed]",
      "text/plain": [
       "<Figure size 432x288 with 1 Axes>"
      ]
     },
     "metadata": {
      "needs_background": "light"
     },
     "output_type": "display_data"
    }
   ],
   "source": [
    "sns.distplot(biopics['box_office_dollars'])"
   ]
  },
  {
   "cell_type": "markdown",
   "metadata": {},
   "source": [
    "Hmmmm.  That doesn't look good (why?) . \n",
    "\n",
    "Let's see if we can make that look a bit more like a normal distribution.  Let's \n",
    "apply a log transform:"
   ]
  },
  {
   "cell_type": "code",
   "execution_count": 59,
   "metadata": {},
   "outputs": [],
   "source": [
    "biopics['log_box_office_dollars'] = np.log(biopics['box_office_dollars'])"
   ]
  },
  {
   "cell_type": "code",
   "execution_count": 60,
   "metadata": {},
   "outputs": [
    {
     "data": {
      "text/html": [
       "<div>\n",
       "<style scoped>\n",
       "    .dataframe tbody tr th:only-of-type {\n",
       "        vertical-align: middle;\n",
       "    }\n",
       "\n",
       "    .dataframe tbody tr th {\n",
       "        vertical-align: top;\n",
       "    }\n",
       "\n",
       "    .dataframe thead th {\n",
       "        text-align: right;\n",
       "    }\n",
       "</style>\n",
       "<table border=\"1\" class=\"dataframe\">\n",
       "  <thead>\n",
       "    <tr style=\"text-align: right;\">\n",
       "      <th></th>\n",
       "      <th>title</th>\n",
       "      <th>site</th>\n",
       "      <th>country</th>\n",
       "      <th>year_release</th>\n",
       "      <th>box_office</th>\n",
       "      <th>director</th>\n",
       "      <th>number_of_subjects</th>\n",
       "      <th>subject</th>\n",
       "      <th>type_of_subject</th>\n",
       "      <th>race_known</th>\n",
       "      <th>subject_race</th>\n",
       "      <th>person_of_color</th>\n",
       "      <th>subject_sex</th>\n",
       "      <th>lead_actor_actress</th>\n",
       "      <th>box_office_dollars</th>\n",
       "      <th>log_box_office_dollars</th>\n",
       "    </tr>\n",
       "  </thead>\n",
       "  <tbody>\n",
       "    <tr>\n",
       "      <th>1</th>\n",
       "      <td>12 Years a Slave</td>\n",
       "      <td>http://www.imdb.com/title/tt2024544/</td>\n",
       "      <td>US/UK</td>\n",
       "      <td>2013</td>\n",
       "      <td>$56.7M</td>\n",
       "      <td>Steve McQueen</td>\n",
       "      <td>1</td>\n",
       "      <td>Solomon Northup</td>\n",
       "      <td>Other</td>\n",
       "      <td>Known</td>\n",
       "      <td>African American</td>\n",
       "      <td>1</td>\n",
       "      <td>Male</td>\n",
       "      <td>Chiwetel Ejiofor</td>\n",
       "      <td>56700000.0</td>\n",
       "      <td>17.853285</td>\n",
       "    </tr>\n",
       "    <tr>\n",
       "      <th>5</th>\n",
       "      <td>21</td>\n",
       "      <td>http://www.imdb.com/title/tt0478087/</td>\n",
       "      <td>US</td>\n",
       "      <td>2008</td>\n",
       "      <td>$81.2M</td>\n",
       "      <td>Robert Luketic</td>\n",
       "      <td>1</td>\n",
       "      <td>Jeff Ma</td>\n",
       "      <td>Other</td>\n",
       "      <td>Known</td>\n",
       "      <td>Asian American</td>\n",
       "      <td>1</td>\n",
       "      <td>Male</td>\n",
       "      <td>Jim Sturgess</td>\n",
       "      <td>81200000.0</td>\n",
       "      <td>18.212426</td>\n",
       "    </tr>\n",
       "    <tr>\n",
       "      <th>6</th>\n",
       "      <td>24 Hour Party People</td>\n",
       "      <td>http://www.imdb.com/title/tt0274309/</td>\n",
       "      <td>UK</td>\n",
       "      <td>2002</td>\n",
       "      <td>$1.13M</td>\n",
       "      <td>Michael Winterbottom</td>\n",
       "      <td>1</td>\n",
       "      <td>Tony Wilson</td>\n",
       "      <td>Musician</td>\n",
       "      <td>Known</td>\n",
       "      <td>White</td>\n",
       "      <td>0</td>\n",
       "      <td>Male</td>\n",
       "      <td>Steve Coogan</td>\n",
       "      <td>1130000.0</td>\n",
       "      <td>13.937728</td>\n",
       "    </tr>\n",
       "    <tr>\n",
       "      <th>7</th>\n",
       "      <td>42</td>\n",
       "      <td>http://www.imdb.com/title/tt0453562/</td>\n",
       "      <td>US</td>\n",
       "      <td>2013</td>\n",
       "      <td>$95M</td>\n",
       "      <td>Brian Helgeland</td>\n",
       "      <td>1</td>\n",
       "      <td>Jackie Robinson</td>\n",
       "      <td>Athlete</td>\n",
       "      <td>Known</td>\n",
       "      <td>African American</td>\n",
       "      <td>1</td>\n",
       "      <td>Male</td>\n",
       "      <td>Chadwick Boseman</td>\n",
       "      <td>95000000.0</td>\n",
       "      <td>18.369387</td>\n",
       "    </tr>\n",
       "    <tr>\n",
       "      <th>12</th>\n",
       "      <td>A Dangerous Method</td>\n",
       "      <td>http://www.imdb.com/title/tt1571222/</td>\n",
       "      <td>Canada/UK</td>\n",
       "      <td>2011</td>\n",
       "      <td>$5.7M</td>\n",
       "      <td>David Cronenberg</td>\n",
       "      <td>3</td>\n",
       "      <td>Carl Gustav Jung</td>\n",
       "      <td>Academic</td>\n",
       "      <td>Known</td>\n",
       "      <td>White</td>\n",
       "      <td>0</td>\n",
       "      <td>Male</td>\n",
       "      <td>Michael Fassbender</td>\n",
       "      <td>5700000.0</td>\n",
       "      <td>15.555977</td>\n",
       "    </tr>\n",
       "  </tbody>\n",
       "</table>\n",
       "</div>"
      ],
      "text/plain": [
       "                   title                                  site    country  \\\n",
       "1       12 Years a Slave  http://www.imdb.com/title/tt2024544/      US/UK   \n",
       "5                     21  http://www.imdb.com/title/tt0478087/         US   \n",
       "6   24 Hour Party People  http://www.imdb.com/title/tt0274309/         UK   \n",
       "7                     42  http://www.imdb.com/title/tt0453562/         US   \n",
       "12    A Dangerous Method  http://www.imdb.com/title/tt1571222/  Canada/UK   \n",
       "\n",
       "    year_release box_office              director  number_of_subjects  \\\n",
       "1           2013     $56.7M         Steve McQueen                   1   \n",
       "5           2008     $81.2M        Robert Luketic                   1   \n",
       "6           2002     $1.13M  Michael Winterbottom                   1   \n",
       "7           2013       $95M       Brian Helgeland                   1   \n",
       "12          2011      $5.7M      David Cronenberg                   3   \n",
       "\n",
       "             subject type_of_subject race_known      subject_race  \\\n",
       "1    Solomon Northup           Other      Known  African American   \n",
       "5            Jeff Ma           Other      Known    Asian American   \n",
       "6        Tony Wilson        Musician      Known             White   \n",
       "7    Jackie Robinson         Athlete      Known  African American   \n",
       "12  Carl Gustav Jung        Academic      Known             White   \n",
       "\n",
       "    person_of_color subject_sex  lead_actor_actress  box_office_dollars  \\\n",
       "1                 1        Male    Chiwetel Ejiofor          56700000.0   \n",
       "5                 1        Male        Jim Sturgess          81200000.0   \n",
       "6                 0        Male        Steve Coogan           1130000.0   \n",
       "7                 1        Male    Chadwick Boseman          95000000.0   \n",
       "12                0        Male  Michael Fassbender           5700000.0   \n",
       "\n",
       "    log_box_office_dollars  \n",
       "1                17.853285  \n",
       "5                18.212426  \n",
       "6                13.937728  \n",
       "7                18.369387  \n",
       "12               15.555977  "
      ]
     },
     "execution_count": 60,
     "metadata": {},
     "output_type": "execute_result"
    }
   ],
   "source": [
    "biopics.head()"
   ]
  },
  {
   "cell_type": "code",
   "execution_count": 61,
   "metadata": {},
   "outputs": [
    {
     "data": {
      "text/plain": [
       "<matplotlib.axes._subplots.AxesSubplot at 0x7f18e8e1b5f8>"
      ]
     },
     "execution_count": 61,
     "metadata": {},
     "output_type": "execute_result"
    },
    {
     "data": {
      "image/png": "[encoded data removed]",
      "text/plain": [
       "<Figure size 432x288 with 1 Axes>"
      ]
     },
     "metadata": {
      "needs_background": "light"
     },
     "output_type": "display_data"
    }
   ],
   "source": [
    "sns.distplot(biopics['log_box_office_dollars'])"
   ]
  },
  {
   "cell_type": "markdown",
   "metadata": {},
   "source": [
    "Let's take a look at the (log) box_office_dollars according to whether\n",
    "the subject of the biopic was a person of color or not:"
   ]
  },
  {
   "cell_type": "code",
   "execution_count": 62,
   "metadata": {},
   "outputs": [
    {
     "data": {
      "text/plain": [
       "<matplotlib.axes._subplots.AxesSubplot at 0x7f18e8e13b00>"
      ]
     },
     "execution_count": 62,
     "metadata": {},
     "output_type": "execute_result"
    },
    {
     "data": {
      "image/png": "[encoded data removed]",
      "text/plain": [
       "<Figure size 432x288 with 1 Axes>"
      ]
     },
     "metadata": {
      "needs_background": "light"
     },
     "output_type": "display_data"
    }
   ],
   "source": [
    "sns.boxplot(\"person_of_color\",y=\"log_box_office_dollars\",data=biopics)"
   ]
  },
  {
   "cell_type": "markdown",
   "metadata": {},
   "source": [
    "### Q4: Does it look like there's a difference between the two groups?"
   ]
  },
  {
   "cell_type": "markdown",
   "metadata": {},
   "source": [
    "It doesn't look like there's too much of a difference. You might be able to say some movies without a person of color had a higher minimum box office income."
   ]
  },
  {
   "cell_type": "markdown",
   "metadata": {},
   "source": [
    "### End Q4"
   ]
  },
  {
   "cell_type": "markdown",
   "metadata": {},
   "source": [
    "## The t-test"
   ]
  },
  {
   "cell_type": "markdown",
   "metadata": {},
   "source": [
    "To test of there's a statistically significant difference between two means, we\n",
    "can use the independent sample t-test.  First, load up the right package:"
   ]
  },
  {
   "cell_type": "code",
   "execution_count": 63,
   "metadata": {},
   "outputs": [],
   "source": [
    "from scipy.stats import ttest_ind"
   ]
  },
  {
   "cell_type": "markdown",
   "metadata": {},
   "source": [
    "It's more readable if we split the data into two samples:"
   ]
  },
  {
   "cell_type": "code",
   "execution_count": 64,
   "metadata": {},
   "outputs": [],
   "source": [
    "poc = biopics[biopics[\"person_of_color\"] == 1]\n",
    "not_poc = biopics[biopics[\"person_of_color\" ] == 0]"
   ]
  },
  {
   "cell_type": "code",
   "execution_count": 65,
   "metadata": {},
   "outputs": [
    {
     "data": {
      "text/plain": [
       "Ttest_indResult(statistic=2.1155676498398988, pvalue=0.03516867248056494)"
      ]
     },
     "execution_count": 65,
     "metadata": {},
     "output_type": "execute_result"
    }
   ],
   "source": [
    "ttest_ind(poc[\"log_box_office_dollars\"],not_poc[\"log_box_office_dollars\"])"
   ]
  },
  {
   "cell_type": "markdown",
   "metadata": {},
   "source": [
    "\n",
    "### Q5: What do those results mean?"
   ]
  },
  {
   "cell_type": "markdown",
   "metadata": {},
   "source": [
    "The p value is below 0.05, so there is still a low chance that this happened by chance, so there appears to be a significant difference between the two. So I was wrong above, never trust a graph."
   ]
  },
  {
   "cell_type": "markdown",
   "metadata": {},
   "source": [
    "### End Q5"
   ]
  },
  {
   "cell_type": "markdown",
   "metadata": {},
   "source": [
    "## ANOVA\n",
    "Ok, that's pretty straight-forward.  Let's look at a more complex problem:"
   ]
  },
  {
   "cell_type": "code",
   "execution_count": 66,
   "metadata": {},
   "outputs": [
    {
     "data": {
      "text/plain": [
       "<matplotlib.axes._subplots.AxesSubplot at 0x7f18e8d1b2b0>"
      ]
     },
     "execution_count": 66,
     "metadata": {},
     "output_type": "execute_result"
    },
    {
     "data": {
      "image/png": "[encoded data removed]",
      "text/plain": [
       "<Figure size 432x288 with 1 Axes>"
      ]
     },
     "metadata": {
      "needs_background": "light"
     },
     "output_type": "display_data"
    }
   ],
   "source": [
    "sns.boxplot(\"subject_race\",y=\"log_box_office_dollars\",data=biopics)"
   ]
  },
  {
   "cell_type": "markdown",
   "metadata": {},
   "source": [
    "Without getting too worred about the fact that the axes are unreadable, it looks like\n",
    "there are some differences between the different groups.  But are they real?\n",
    "\n",
    "Let's start with an ANOVA:"
   ]
  },
  {
   "cell_type": "code",
   "execution_count": 67,
   "metadata": {},
   "outputs": [
    {
     "data": {
      "text/html": [
       "<div>\n",
       "<style scoped>\n",
       "    .dataframe tbody tr th:only-of-type {\n",
       "        vertical-align: middle;\n",
       "    }\n",
       "\n",
       "    .dataframe tbody tr th {\n",
       "        vertical-align: top;\n",
       "    }\n",
       "\n",
       "    .dataframe thead th {\n",
       "        text-align: right;\n",
       "    }\n",
       "</style>\n",
       "<table border=\"1\" class=\"dataframe\">\n",
       "  <thead>\n",
       "    <tr style=\"text-align: right;\">\n",
       "      <th></th>\n",
       "      <th>sum_sq</th>\n",
       "      <th>df</th>\n",
       "      <th>F</th>\n",
       "      <th>PR(&gt;F)</th>\n",
       "    </tr>\n",
       "  </thead>\n",
       "  <tbody>\n",
       "    <tr>\n",
       "      <th>subject_race</th>\n",
       "      <td>182.134523</td>\n",
       "      <td>15.0</td>\n",
       "      <td>2.550334</td>\n",
       "      <td>0.001365</td>\n",
       "    </tr>\n",
       "    <tr>\n",
       "      <th>Residual</th>\n",
       "      <td>1428.318701</td>\n",
       "      <td>300.0</td>\n",
       "      <td>NaN</td>\n",
       "      <td>NaN</td>\n",
       "    </tr>\n",
       "  </tbody>\n",
       "</table>\n",
       "</div>"
      ],
      "text/plain": [
       "                   sum_sq     df         F    PR(>F)\n",
       "subject_race   182.134523   15.0  2.550334  0.001365\n",
       "Residual      1428.318701  300.0       NaN       NaN"
      ]
     },
     "execution_count": 67,
     "metadata": {},
     "output_type": "execute_result"
    }
   ],
   "source": [
    "box_office_dollars_lm = ols('log_box_office_dollars ~ subject_race', data=biopics).fit()\n",
    "table = sm.stats.anova_lm(box_office_dollars_lm, typ=2) # Type 2 ANOVA DataFrame: no interaction effect\n",
    "table"
   ]
  },
  {
   "cell_type": "markdown",
   "metadata": {},
   "source": [
    "### Q6: Is there a statistically significant difference?"
   ]
  },
  {
   "cell_type": "markdown",
   "metadata": {},
   "source": [
    "PR(>F) is less than 0.05, so they are significantly different, so there is an effect of subject race on box office dollars."
   ]
  },
  {
   "cell_type": "markdown",
   "metadata": {},
   "source": [
    "### End Q6"
   ]
  },
  {
   "cell_type": "markdown",
   "metadata": {},
   "source": [
    "Let's apply Tukey's HSD using the same model and see what we get."
   ]
  },
  {
   "cell_type": "markdown",
   "metadata": {},
   "source": [
    "### Q7: Write code to use Tukey's HSD test on the subject_race variable and interpret the results."
   ]
  },
  {
   "cell_type": "code",
   "execution_count": 70,
   "metadata": {},
   "outputs": [
    {
     "data": {
      "text/html": [
       "<table class=\"simpletable\">\n",
       "<caption>Multiple Comparison of Means - Tukey HSD,FWER=0.05</caption>\n",
       "<tr>\n",
       "           <th>group1</th>                    <th>group2</th>           <th>meandiff</th>   <th>lower</th>   <th>upper</th>  <th>reject</th>\n",
       "</tr>\n",
       "<tr>\n",
       "           <td>African</td>              <td>African American</td>       <td>1.9884</td>   <td>-1.167</td>  <td>5.1437</td>   <td>False</td>\n",
       "</tr>\n",
       "<tr>\n",
       "           <td>African</td>                    <td>Asian</td>            <td>-1.0387</td>  <td>-5.7648</td> <td>3.6874</td>   <td>False</td>\n",
       "</tr>\n",
       "<tr>\n",
       "           <td>African</td>               <td>Asian American</td>        <td>2.1526</td>   <td>-3.0507</td> <td>7.3558</td>   <td>False</td>\n",
       "</tr>\n",
       "<tr>\n",
       "           <td>African</td>                  <td>Caribbean</td>           <td>2.517</td>   <td>-5.5439</td> <td>10.5778</td>  <td>False</td>\n",
       "</tr>\n",
       "<tr>\n",
       "           <td>African</td>          <td>Hispanic (Latin American)</td>  <td>0.4535</td>   <td>-3.2624</td> <td>4.1694</td>   <td>False</td>\n",
       "</tr>\n",
       "<tr>\n",
       "           <td>African</td>              <td>Hispanic (Latina)</td>      <td>2.4782</td>   <td>-5.5827</td> <td>10.5391</td>  <td>False</td>\n",
       "</tr>\n",
       "<tr>\n",
       "           <td>African</td>              <td>Hispanic (Latino)</td>      <td>1.5807</td>   <td>-3.1454</td> <td>6.3068</td>   <td>False</td>\n",
       "</tr>\n",
       "<tr>\n",
       "           <td>African</td>              <td>Hispanic (White)</td>       <td>-0.4918</td>  <td>-5.2179</td> <td>4.2343</td>   <td>False</td>\n",
       "</tr>\n",
       "<tr>\n",
       "           <td>African</td>                   <td>Indian</td>            <td>-2.0048</td> <td>-10.0657</td>  <td>6.056</td>   <td>False</td>\n",
       "</tr>\n",
       "<tr>\n",
       "           <td>African</td>                <td>Mediterranean</td>        <td>-1.896</td>   <td>-9.9568</td> <td>6.1649</td>   <td>False</td>\n",
       "</tr>\n",
       "<tr>\n",
       "           <td>African</td>               <td>Middle Eastern</td>        <td>-0.577</td>   <td>-4.9922</td> <td>3.8381</td>   <td>False</td>\n",
       "</tr>\n",
       "<tr>\n",
       "           <td>African</td>           <td>Middle Eastern (White)</td>    <td>2.4058</td>   <td>-1.4967</td> <td>6.3082</td>   <td>False</td>\n",
       "</tr>\n",
       "<tr>\n",
       "           <td>African</td>                <td>Multi racial</td>         <td>-0.6936</td>  <td>-4.1106</td> <td>2.7234</td>   <td>False</td>\n",
       "</tr>\n",
       "<tr>\n",
       "           <td>African</td>               <td>Native American</td>       <td>0.7853</td>   <td>-5.2604</td> <td>6.8309</td>   <td>False</td>\n",
       "</tr>\n",
       "<tr>\n",
       "           <td>African</td>                    <td>White</td>            <td>0.3095</td>   <td>-2.5859</td> <td>3.2048</td>   <td>False</td>\n",
       "</tr>\n",
       "<tr>\n",
       "      <td>African American</td>                <td>Asian</td>            <td>-3.0271</td>  <td>-7.033</td>  <td>0.9789</td>   <td>False</td>\n",
       "</tr>\n",
       "<tr>\n",
       "      <td>African American</td>           <td>Asian American</td>        <td>0.1642</td>   <td>-4.395</td>  <td>4.7233</td>   <td>False</td>\n",
       "</tr>\n",
       "<tr>\n",
       "      <td>African American</td>              <td>Caribbean</td>          <td>0.5286</td>   <td>-7.1323</td> <td>8.1895</td>   <td>False</td>\n",
       "</tr>\n",
       "<tr>\n",
       "      <td>African American</td>      <td>Hispanic (Latin American)</td>  <td>-1.5349</td>  <td>-4.277</td>  <td>1.2073</td>   <td>False</td>\n",
       "</tr>\n",
       "<tr>\n",
       "      <td>African American</td>          <td>Hispanic (Latina)</td>      <td>0.4898</td>   <td>-7.1711</td> <td>8.1507</td>   <td>False</td>\n",
       "</tr>\n",
       "<tr>\n",
       "      <td>African American</td>          <td>Hispanic (Latino)</td>      <td>-0.4077</td>  <td>-4.4136</td> <td>3.5983</td>   <td>False</td>\n",
       "</tr>\n",
       "<tr>\n",
       "      <td>African American</td>          <td>Hispanic (White)</td>       <td>-2.4801</td>  <td>-6.4861</td> <td>1.5258</td>   <td>False</td>\n",
       "</tr>\n",
       "<tr>\n",
       "      <td>African American</td>               <td>Indian</td>            <td>-3.9932</td> <td>-11.6541</td> <td>3.6677</td>   <td>False</td>\n",
       "</tr>\n",
       "<tr>\n",
       "      <td>African American</td>            <td>Mediterranean</td>        <td>-3.8843</td> <td>-11.5452</td> <td>3.7766</td>   <td>False</td>\n",
       "</tr>\n",
       "<tr>\n",
       "      <td>African American</td>           <td>Middle Eastern</td>        <td>-2.5654</td>  <td>-6.1993</td> <td>1.0685</td>   <td>False</td>\n",
       "</tr>\n",
       "<tr>\n",
       "      <td>African American</td>       <td>Middle Eastern (White)</td>    <td>0.4174</td>   <td>-2.5728</td> <td>3.4075</td>   <td>False</td>\n",
       "</tr>\n",
       "<tr>\n",
       "      <td>African American</td>            <td>Multi racial</td>         <td>-2.682</td>   <td>-5.0031</td> <td>-0.3609</td>  <td>True</td> \n",
       "</tr>\n",
       "<tr>\n",
       "      <td>African American</td>           <td>Native American</td>       <td>-1.2031</td>  <td>-6.7042</td>  <td>4.298</td>   <td>False</td>\n",
       "</tr>\n",
       "<tr>\n",
       "      <td>African American</td>                <td>White</td>            <td>-1.6789</td>  <td>-3.1263</td> <td>-0.2316</td>  <td>True</td> \n",
       "</tr>\n",
       "<tr>\n",
       "            <td>Asian</td>                <td>Asian American</td>        <td>3.1913</td>   <td>-2.5677</td> <td>8.9502</td>   <td>False</td>\n",
       "</tr>\n",
       "<tr>\n",
       "            <td>Asian</td>                   <td>Caribbean</td>          <td>3.5557</td>   <td>-4.8746</td> <td>11.9859</td>  <td>False</td>\n",
       "</tr>\n",
       "<tr>\n",
       "            <td>Asian</td>           <td>Hispanic (Latin American)</td>  <td>1.4922</td>   <td>-2.9687</td> <td>5.9531</td>   <td>False</td>\n",
       "</tr>\n",
       "<tr>\n",
       "            <td>Asian</td>               <td>Hispanic (Latina)</td>      <td>3.5169</td>   <td>-4.9134</td> <td>11.9471</td>  <td>False</td>\n",
       "</tr>\n",
       "<tr>\n",
       "            <td>Asian</td>               <td>Hispanic (Latino)</td>      <td>2.6194</td>   <td>-2.7124</td> <td>7.9512</td>   <td>False</td>\n",
       "</tr>\n",
       "<tr>\n",
       "            <td>Asian</td>               <td>Hispanic (White)</td>       <td>0.5469</td>   <td>-4.7848</td> <td>5.8787</td>   <td>False</td>\n",
       "</tr>\n",
       "<tr>\n",
       "            <td>Asian</td>                    <td>Indian</td>            <td>-0.9661</td>  <td>-9.3964</td> <td>7.4641</td>   <td>False</td>\n",
       "</tr>\n",
       "<tr>\n",
       "            <td>Asian</td>                 <td>Mediterranean</td>        <td>-0.8573</td>  <td>-9.2875</td>  <td>7.573</td>   <td>False</td>\n",
       "</tr>\n",
       "<tr>\n",
       "            <td>Asian</td>                <td>Middle Eastern</td>        <td>0.4617</td>   <td>-4.5965</td> <td>5.5198</td>   <td>False</td>\n",
       "</tr>\n",
       "<tr>\n",
       "            <td>Asian</td>            <td>Middle Eastern (White)</td>    <td>3.4445</td>   <td>-1.173</td>  <td>8.0619</td>   <td>False</td>\n",
       "</tr>\n",
       "<tr>\n",
       "            <td>Asian</td>                 <td>Multi racial</td>         <td>0.3451</td>    <td>-3.87</td>  <td>4.5602</td>   <td>False</td>\n",
       "</tr>\n",
       "<tr>\n",
       "            <td>Asian</td>                <td>Native American</td>       <td>1.8239</td>   <td>-4.7061</td>  <td>8.354</td>   <td>False</td>\n",
       "</tr>\n",
       "<tr>\n",
       "            <td>Asian</td>                     <td>White</td>            <td>1.3481</td>   <td>-2.4564</td> <td>5.1527</td>   <td>False</td>\n",
       "</tr>\n",
       "<tr>\n",
       "       <td>Asian American</td>               <td>Caribbean</td>          <td>0.3644</td>   <td>-8.3423</td> <td>9.0711</td>   <td>False</td>\n",
       "</tr>\n",
       "<tr>\n",
       "       <td>Asian American</td>       <td>Hispanic (Latin American)</td>  <td>-1.699</td>   <td>-6.6627</td> <td>3.2646</td>   <td>False</td>\n",
       "</tr>\n",
       "<tr>\n",
       "       <td>Asian American</td>           <td>Hispanic (Latina)</td>      <td>0.3256</td>   <td>-8.3811</td> <td>9.0324</td>   <td>False</td>\n",
       "</tr>\n",
       "<tr>\n",
       "       <td>Asian American</td>           <td>Hispanic (Latino)</td>      <td>-0.5718</td>  <td>-6.3308</td> <td>5.1871</td>   <td>False</td>\n",
       "</tr>\n",
       "<tr>\n",
       "       <td>Asian American</td>           <td>Hispanic (White)</td>       <td>-2.6443</td>  <td>-8.4033</td> <td>3.1146</td>   <td>False</td>\n",
       "</tr>\n",
       "<tr>\n",
       "       <td>Asian American</td>                <td>Indian</td>            <td>-4.1574</td> <td>-12.8641</td> <td>4.5494</td>   <td>False</td>\n",
       "</tr>\n",
       "<tr>\n",
       "       <td>Asian American</td>             <td>Mediterranean</td>        <td>-4.0485</td> <td>-12.7553</td> <td>4.6582</td>   <td>False</td>\n",
       "</tr>\n",
       "<tr>\n",
       "       <td>Asian American</td>            <td>Middle Eastern</td>        <td>-2.7296</td>  <td>-8.2362</td>  <td>2.777</td>   <td>False</td>\n",
       "</tr>\n",
       "<tr>\n",
       "       <td>Asian American</td>        <td>Middle Eastern (White)</td>    <td>0.2532</td>   <td>-4.8516</td>  <td>5.358</td>   <td>False</td>\n",
       "</tr>\n",
       "<tr>\n",
       "       <td>Asian American</td>             <td>Multi racial</td>         <td>-2.8461</td>  <td>-7.5901</td> <td>1.8978</td>   <td>False</td>\n",
       "</tr>\n",
       "<tr>\n",
       "       <td>Asian American</td>            <td>Native American</td>       <td>-1.3673</td>  <td>-8.2506</td>  <td>5.516</td>   <td>False</td>\n",
       "</tr>\n",
       "<tr>\n",
       "       <td>Asian American</td>                 <td>White</td>            <td>-1.8431</td>  <td>-6.2263</td> <td>2.5401</td>   <td>False</td>\n",
       "</tr>\n",
       "<tr>\n",
       "          <td>Caribbean</td>         <td>Hispanic (Latin American)</td>  <td>-2.0635</td>  <td>-9.9717</td> <td>5.8448</td>   <td>False</td>\n",
       "</tr>\n",
       "<tr>\n",
       "          <td>Caribbean</td>             <td>Hispanic (Latina)</td>      <td>-0.0388</td> <td>-10.7023</td> <td>10.6247</td>  <td>False</td>\n",
       "</tr>\n",
       "<tr>\n",
       "          <td>Caribbean</td>             <td>Hispanic (Latino)</td>      <td>-0.9363</td>  <td>-9.3665</td>  <td>7.494</td>   <td>False</td>\n",
       "</tr>\n",
       "<tr>\n",
       "          <td>Caribbean</td>             <td>Hispanic (White)</td>       <td>-3.0087</td>  <td>-11.439</td> <td>5.4215</td>   <td>False</td>\n",
       "</tr>\n",
       "<tr>\n",
       "          <td>Caribbean</td>                  <td>Indian</td>            <td>-4.5218</td> <td>-15.1853</td> <td>6.1417</td>   <td>False</td>\n",
       "</tr>\n",
       "<tr>\n",
       "          <td>Caribbean</td>               <td>Mediterranean</td>        <td>-4.4129</td> <td>-15.0765</td> <td>6.2506</td>   <td>False</td>\n",
       "</tr>\n",
       "<tr>\n",
       "          <td>Caribbean</td>              <td>Middle Eastern</td>        <td>-3.094</td>  <td>-11.3539</td> <td>5.1659</td>   <td>False</td>\n",
       "</tr>\n",
       "<tr>\n",
       "          <td>Caribbean</td>          <td>Middle Eastern (White)</td>    <td>-0.1112</td>  <td>-8.1089</td> <td>7.8864</td>   <td>False</td>\n",
       "</tr>\n",
       "<tr>\n",
       "          <td>Caribbean</td>               <td>Multi racial</td>         <td>-3.2106</td> <td>-10.9829</td> <td>4.5618</td>   <td>False</td>\n",
       "</tr>\n",
       "<tr>\n",
       "          <td>Caribbean</td>              <td>Native American</td>       <td>-1.7317</td> <td>-10.9666</td> <td>7.5032</td>   <td>False</td>\n",
       "</tr>\n",
       "<tr>\n",
       "          <td>Caribbean</td>                   <td>White</td>            <td>-2.2075</td>  <td>-9.765</td>   <td>5.35</td>    <td>False</td>\n",
       "</tr>\n",
       "<tr>\n",
       "  <td>Hispanic (Latin American)</td>     <td>Hispanic (Latina)</td>      <td>2.0247</td>   <td>-5.8836</td>  <td>9.933</td>   <td>False</td>\n",
       "</tr>\n",
       "<tr>\n",
       "  <td>Hispanic (Latin American)</td>     <td>Hispanic (Latino)</td>      <td>1.1272</td>   <td>-3.3337</td> <td>5.5881</td>   <td>False</td>\n",
       "</tr>\n",
       "<tr>\n",
       "  <td>Hispanic (Latin American)</td>     <td>Hispanic (White)</td>       <td>-0.9453</td>  <td>-5.4062</td> <td>3.5156</td>   <td>False</td>\n",
       "</tr>\n",
       "<tr>\n",
       "  <td>Hispanic (Latin American)</td>          <td>Indian</td>            <td>-2.4583</td> <td>-10.3666</td>  <td>5.45</td>    <td>False</td>\n",
       "</tr>\n",
       "<tr>\n",
       "  <td>Hispanic (Latin American)</td>       <td>Mediterranean</td>        <td>-2.3495</td> <td>-10.2578</td> <td>5.5588</td>   <td>False</td>\n",
       "</tr>\n",
       "<tr>\n",
       "  <td>Hispanic (Latin American)</td>      <td>Middle Eastern</td>        <td>-1.0305</td>  <td>-5.1605</td> <td>3.0994</td>   <td>False</td>\n",
       "</tr>\n",
       "<tr>\n",
       "  <td>Hispanic (Latin American)</td>  <td>Middle Eastern (White)</td>    <td>1.9523</td>   <td>-1.6244</td> <td>5.5289</td>   <td>False</td>\n",
       "</tr>\n",
       "<tr>\n",
       "  <td>Hispanic (Latin American)</td>       <td>Multi racial</td>         <td>-1.1471</td>  <td>-4.1867</td> <td>1.8925</td>   <td>False</td>\n",
       "</tr>\n",
       "<tr>\n",
       "  <td>Hispanic (Latin American)</td>      <td>Native American</td>       <td>0.3317</td>   <td>-5.5089</td> <td>6.1724</td>   <td>False</td>\n",
       "</tr>\n",
       "<tr>\n",
       "  <td>Hispanic (Latin American)</td>           <td>White</td>            <td>-0.1441</td>  <td>-2.5826</td> <td>2.2945</td>   <td>False</td>\n",
       "</tr>\n",
       "<tr>\n",
       "      <td>Hispanic (Latina)</td>         <td>Hispanic (Latino)</td>      <td>-0.8975</td>  <td>-9.3277</td> <td>7.5328</td>   <td>False</td>\n",
       "</tr>\n",
       "<tr>\n",
       "      <td>Hispanic (Latina)</td>         <td>Hispanic (White)</td>        <td>-2.97</td>  <td>-11.4002</td> <td>5.4603</td>   <td>False</td>\n",
       "</tr>\n",
       "<tr>\n",
       "      <td>Hispanic (Latina)</td>              <td>Indian</td>            <td>-4.483</td>  <td>-15.1465</td> <td>6.1805</td>   <td>False</td>\n",
       "</tr>\n",
       "<tr>\n",
       "      <td>Hispanic (Latina)</td>           <td>Mediterranean</td>        <td>-4.3741</td> <td>-15.0377</td> <td>6.2894</td>   <td>False</td>\n",
       "</tr>\n",
       "<tr>\n",
       "      <td>Hispanic (Latina)</td>          <td>Middle Eastern</td>        <td>-3.0552</td> <td>-11.3151</td> <td>5.2047</td>   <td>False</td>\n",
       "</tr>\n",
       "<tr>\n",
       "      <td>Hispanic (Latina)</td>      <td>Middle Eastern (White)</td>    <td>-0.0724</td>  <td>-8.0701</td> <td>7.9252</td>   <td>False</td>\n",
       "</tr>\n",
       "<tr>\n",
       "      <td>Hispanic (Latina)</td>           <td>Multi racial</td>         <td>-3.1718</td> <td>-10.9441</td> <td>4.6006</td>   <td>False</td>\n",
       "</tr>\n",
       "<tr>\n",
       "      <td>Hispanic (Latina)</td>          <td>Native American</td>       <td>-1.6929</td> <td>-10.9278</td>  <td>7.542</td>   <td>False</td>\n",
       "</tr>\n",
       "<tr>\n",
       "      <td>Hispanic (Latina)</td>               <td>White</td>            <td>-2.1687</td>  <td>-9.7263</td> <td>5.3888</td>   <td>False</td>\n",
       "</tr>\n",
       "<tr>\n",
       "      <td>Hispanic (Latino)</td>         <td>Hispanic (White)</td>       <td>-2.0725</td>  <td>-7.4043</td> <td>3.2593</td>   <td>False</td>\n",
       "</tr>\n",
       "<tr>\n",
       "      <td>Hispanic (Latino)</td>              <td>Indian</td>            <td>-3.5855</td> <td>-12.0158</td> <td>4.8447</td>   <td>False</td>\n",
       "</tr>\n",
       "<tr>\n",
       "      <td>Hispanic (Latino)</td>           <td>Mediterranean</td>        <td>-3.4767</td> <td>-11.9069</td> <td>4.9536</td>   <td>False</td>\n",
       "</tr>\n",
       "<tr>\n",
       "      <td>Hispanic (Latino)</td>          <td>Middle Eastern</td>        <td>-2.1577</td>  <td>-7.2159</td> <td>2.9004</td>   <td>False</td>\n",
       "</tr>\n",
       "<tr>\n",
       "      <td>Hispanic (Latino)</td>      <td>Middle Eastern (White)</td>     <td>0.825</td>   <td>-3.7924</td> <td>5.4425</td>   <td>False</td>\n",
       "</tr>\n",
       "<tr>\n",
       "      <td>Hispanic (Latino)</td>           <td>Multi racial</td>         <td>-2.2743</td>  <td>-6.4894</td> <td>1.9408</td>   <td>False</td>\n",
       "</tr>\n",
       "<tr>\n",
       "      <td>Hispanic (Latino)</td>          <td>Native American</td>       <td>-0.7955</td>  <td>-7.3255</td> <td>5.7346</td>   <td>False</td>\n",
       "</tr>\n",
       "<tr>\n",
       "      <td>Hispanic (Latino)</td>               <td>White</td>            <td>-1.2713</td>  <td>-5.0758</td> <td>2.5333</td>   <td>False</td>\n",
       "</tr>\n",
       "<tr>\n",
       "      <td>Hispanic (White)</td>               <td>Indian</td>            <td>-1.513</td>   <td>-9.9433</td> <td>6.9172</td>   <td>False</td>\n",
       "</tr>\n",
       "<tr>\n",
       "      <td>Hispanic (White)</td>            <td>Mediterranean</td>        <td>-1.4042</td>  <td>-9.8345</td> <td>7.0261</td>   <td>False</td>\n",
       "</tr>\n",
       "<tr>\n",
       "      <td>Hispanic (White)</td>           <td>Middle Eastern</td>        <td>-0.0853</td>  <td>-5.1434</td> <td>4.9729</td>   <td>False</td>\n",
       "</tr>\n",
       "<tr>\n",
       "      <td>Hispanic (White)</td>       <td>Middle Eastern (White)</td>    <td>2.8975</td>   <td>-1.7199</td>  <td>7.515</td>   <td>False</td>\n",
       "</tr>\n",
       "<tr>\n",
       "      <td>Hispanic (White)</td>            <td>Multi racial</td>         <td>-0.2018</td>  <td>-4.4169</td> <td>4.0133</td>   <td>False</td>\n",
       "</tr>\n",
       "<tr>\n",
       "      <td>Hispanic (White)</td>           <td>Native American</td>        <td>1.277</td>   <td>-5.253</td>  <td>7.8071</td>   <td>False</td>\n",
       "</tr>\n",
       "<tr>\n",
       "      <td>Hispanic (White)</td>                <td>White</td>            <td>0.8012</td>   <td>-3.0033</td> <td>4.6058</td>   <td>False</td>\n",
       "</tr>\n",
       "<tr>\n",
       "           <td>Indian</td>                 <td>Mediterranean</td>        <td>0.1089</td>  <td>-10.5547</td> <td>10.7724</td>  <td>False</td>\n",
       "</tr>\n",
       "<tr>\n",
       "           <td>Indian</td>                <td>Middle Eastern</td>        <td>1.4278</td>   <td>-6.8321</td> <td>9.6877</td>   <td>False</td>\n",
       "</tr>\n",
       "<tr>\n",
       "           <td>Indian</td>            <td>Middle Eastern (White)</td>    <td>4.4106</td>   <td>-3.5871</td> <td>12.4082</td>  <td>False</td>\n",
       "</tr>\n",
       "<tr>\n",
       "           <td>Indian</td>                 <td>Multi racial</td>         <td>1.3112</td>   <td>-6.4611</td> <td>9.0836</td>   <td>False</td>\n",
       "</tr>\n",
       "<tr>\n",
       "           <td>Indian</td>                <td>Native American</td>       <td>2.7901</td>   <td>-6.4448</td> <td>12.025</td>   <td>False</td>\n",
       "</tr>\n",
       "<tr>\n",
       "           <td>Indian</td>                     <td>White</td>            <td>2.3143</td>   <td>-5.2433</td> <td>9.8718</td>   <td>False</td>\n",
       "</tr>\n",
       "<tr>\n",
       "        <td>Mediterranean</td>            <td>Middle Eastern</td>        <td>1.3189</td>   <td>-6.941</td>  <td>9.5789</td>   <td>False</td>\n",
       "</tr>\n",
       "<tr>\n",
       "        <td>Mediterranean</td>        <td>Middle Eastern (White)</td>    <td>4.3017</td>   <td>-3.6959</td> <td>12.2994</td>  <td>False</td>\n",
       "</tr>\n",
       "<tr>\n",
       "        <td>Mediterranean</td>             <td>Multi racial</td>         <td>1.2024</td>   <td>-6.5699</td> <td>8.9747</td>   <td>False</td>\n",
       "</tr>\n",
       "<tr>\n",
       "        <td>Mediterranean</td>            <td>Native American</td>       <td>2.6812</td>   <td>-6.5537</td> <td>11.9161</td>  <td>False</td>\n",
       "</tr>\n",
       "<tr>\n",
       "        <td>Mediterranean</td>                 <td>White</td>            <td>2.2054</td>   <td>-5.3521</td>  <td>9.763</td>   <td>False</td>\n",
       "</tr>\n",
       "<tr>\n",
       "       <td>Middle Eastern</td>        <td>Middle Eastern (White)</td>    <td>2.9828</td>   <td>-1.3158</td> <td>7.2814</td>   <td>False</td>\n",
       "</tr>\n",
       "<tr>\n",
       "       <td>Middle Eastern</td>             <td>Multi racial</td>         <td>-0.1166</td>  <td>-3.9798</td> <td>3.7467</td>   <td>False</td>\n",
       "</tr>\n",
       "<tr>\n",
       "       <td>Middle Eastern</td>            <td>Native American</td>       <td>1.3623</td>   <td>-4.9463</td> <td>7.6709</td>   <td>False</td>\n",
       "</tr>\n",
       "<tr>\n",
       "       <td>Middle Eastern</td>                 <td>White</td>            <td>0.8865</td>   <td>-2.5241</td>  <td>4.297</td>   <td>False</td>\n",
       "</tr>\n",
       "<tr>\n",
       "   <td>Middle Eastern (White)</td>         <td>Multi racial</td>         <td>-3.0993</td>  <td>-6.3644</td> <td>0.1657</td>   <td>False</td>\n",
       "</tr>\n",
       "<tr>\n",
       "   <td>Middle Eastern (White)</td>        <td>Native American</td>       <td>-1.6205</td>  <td>-7.5816</td> <td>4.3406</td>   <td>False</td>\n",
       "</tr>\n",
       "<tr>\n",
       "   <td>Middle Eastern (White)</td>             <td>White</td>            <td>-2.0963</td>  <td>-4.8107</td> <td>0.6181</td>   <td>False</td>\n",
       "</tr>\n",
       "<tr>\n",
       "        <td>Multi racial</td>             <td>Native American</td>       <td>1.4788</td>   <td>-4.1764</td>  <td>7.134</td>   <td>False</td>\n",
       "</tr>\n",
       "<tr>\n",
       "        <td>Multi racial</td>                  <td>White</td>             <td>1.003</td>    <td>-0.95</td>  <td>2.9561</td>   <td>False</td>\n",
       "</tr>\n",
       "<tr>\n",
       "       <td>Native American</td>                <td>White</td>            <td>-0.4758</td>  <td>-5.832</td>  <td>4.8804</td>   <td>False</td>\n",
       "</tr>\n",
       "</table>"
      ],
      "text/plain": [
       "<class 'statsmodels.iolib.table.SimpleTable'>"
      ]
     },
     "execution_count": 70,
     "metadata": {},
     "output_type": "execute_result"
    }
   ],
   "source": [
    "# Insert your code here - looking to see which values of race are different from each other\n",
    "res3 = pairwise_tukeyhsd(biopics['log_box_office_dollars'], biopics['subject_race'])\n",
    "res3.summary()"
   ]
  },
  {
   "cell_type": "markdown",
   "metadata": {},
   "source": [
    "The only races that seem to NOT be significantly different are African American and Multi racial, and African American and White."
   ]
  },
  {
   "cell_type": "code",
   "execution_count": 73,
   "metadata": {},
   "outputs": [
    {
     "data": {
      "text/plain": [
       "['African',\n",
       " 'African American',\n",
       " 'Asian',\n",
       " 'Asian American',\n",
       " 'Caribbean',\n",
       " 'Hispanic (Latin American)',\n",
       " 'Hispanic (Latina)',\n",
       " 'Hispanic (Latino)',\n",
       " 'Hispanic (White)',\n",
       " 'Indian',\n",
       " 'Mediterranean',\n",
       " 'Middle Eastern',\n",
       " 'Middle Eastern (White)',\n",
       " 'Multi racial',\n",
       " 'Native American',\n",
       " 'White']"
      ]
     },
     "execution_count": 73,
     "metadata": {},
     "output_type": "execute_result"
    }
   ],
   "source": [
    "sorted(list(biopics['subject_race'].unique()))\n",
    "# helps us see which is the intercept below"
   ]
  },
  {
   "cell_type": "code",
   "execution_count": 74,
   "metadata": {},
   "outputs": [
    {
     "data": {
      "text/html": [
       "<table class=\"simpletable\">\n",
       "<caption>OLS Regression Results</caption>\n",
       "<tr>\n",
       "  <th>Dep. Variable:</th>    <td>log_box_office_dollars</td> <th>  R-squared:         </th> <td>   0.113</td>\n",
       "</tr>\n",
       "<tr>\n",
       "  <th>Model:</th>                      <td>OLS</td>          <th>  Adj. R-squared:    </th> <td>   0.069</td>\n",
       "</tr>\n",
       "<tr>\n",
       "  <th>Method:</th>                <td>Least Squares</td>     <th>  F-statistic:       </th> <td>   2.550</td>\n",
       "</tr>\n",
       "<tr>\n",
       "  <th>Date:</th>                <td>Tue, 01 Oct 2019</td>    <th>  Prob (F-statistic):</th>  <td>0.00137</td>\n",
       "</tr>\n",
       "<tr>\n",
       "  <th>Time:</th>                    <td>13:40:59</td>        <th>  Log-Likelihood:    </th> <td> -686.73</td>\n",
       "</tr>\n",
       "<tr>\n",
       "  <th>No. Observations:</th>         <td>   316</td>         <th>  AIC:               </th> <td>   1405.</td>\n",
       "</tr>\n",
       "<tr>\n",
       "  <th>Df Residuals:</th>             <td>   300</td>         <th>  BIC:               </th> <td>   1466.</td>\n",
       "</tr>\n",
       "<tr>\n",
       "  <th>Df Model:</th>                 <td>    15</td>         <th>                     </th>     <td> </td>   \n",
       "</tr>\n",
       "<tr>\n",
       "  <th>Covariance Type:</th>         <td>nonrobust</td>       <th>                     </th>     <td> </td>   \n",
       "</tr>\n",
       "</table>\n",
       "<table class=\"simpletable\">\n",
       "<tr>\n",
       "                      <td></td>                         <th>coef</th>     <th>std err</th>      <th>t</th>      <th>P>|t|</th>  <th>[0.025</th>    <th>0.975]</th>  \n",
       "</tr>\n",
       "<tr>\n",
       "  <th>Intercept</th>                                 <td>   14.9040</td> <td>    0.825</td> <td>   18.072</td> <td> 0.000</td> <td>   13.281</td> <td>   16.527</td>\n",
       "</tr>\n",
       "<tr>\n",
       "  <th>subject_race[T.African American]</th>          <td>    1.9884</td> <td>    0.913</td> <td>    2.178</td> <td> 0.030</td> <td>    0.191</td> <td>    3.785</td>\n",
       "</tr>\n",
       "<tr>\n",
       "  <th>subject_race[T.Asian]</th>                     <td>   -1.0387</td> <td>    1.368</td> <td>   -0.759</td> <td> 0.448</td> <td>   -3.730</td> <td>    1.653</td>\n",
       "</tr>\n",
       "<tr>\n",
       "  <th>subject_race[T.Asian American]</th>            <td>    2.1526</td> <td>    1.506</td> <td>    1.430</td> <td> 0.154</td> <td>   -0.811</td> <td>    5.116</td>\n",
       "</tr>\n",
       "<tr>\n",
       "  <th>subject_race[T.Caribbean]</th>                 <td>    2.5170</td> <td>    2.333</td> <td>    1.079</td> <td> 0.281</td> <td>   -2.073</td> <td>    7.107</td>\n",
       "</tr>\n",
       "<tr>\n",
       "  <th>subject_race[T.Hispanic (Latin American)]</th> <td>    0.4535</td> <td>    1.075</td> <td>    0.422</td> <td> 0.674</td> <td>   -1.663</td> <td>    2.570</td>\n",
       "</tr>\n",
       "<tr>\n",
       "  <th>subject_race[T.Hispanic (Latina)]</th>         <td>    2.4782</td> <td>    2.333</td> <td>    1.062</td> <td> 0.289</td> <td>   -2.112</td> <td>    7.069</td>\n",
       "</tr>\n",
       "<tr>\n",
       "  <th>subject_race[T.Hispanic (Latino)]</th>         <td>    1.5807</td> <td>    1.368</td> <td>    1.156</td> <td> 0.249</td> <td>   -1.111</td> <td>    4.272</td>\n",
       "</tr>\n",
       "<tr>\n",
       "  <th>subject_race[T.Hispanic (White)]</th>          <td>   -0.4918</td> <td>    1.368</td> <td>   -0.360</td> <td> 0.719</td> <td>   -3.183</td> <td>    2.200</td>\n",
       "</tr>\n",
       "<tr>\n",
       "  <th>subject_race[T.Indian]</th>                    <td>   -2.0048</td> <td>    2.333</td> <td>   -0.859</td> <td> 0.391</td> <td>   -6.595</td> <td>    2.586</td>\n",
       "</tr>\n",
       "<tr>\n",
       "  <th>subject_race[T.Mediterranean]</th>             <td>   -1.8960</td> <td>    2.333</td> <td>   -0.813</td> <td> 0.417</td> <td>   -6.486</td> <td>    2.694</td>\n",
       "</tr>\n",
       "<tr>\n",
       "  <th>subject_race[T.Middle Eastern]</th>            <td>   -0.5770</td> <td>    1.278</td> <td>   -0.452</td> <td> 0.652</td> <td>   -3.091</td> <td>    1.937</td>\n",
       "</tr>\n",
       "<tr>\n",
       "  <th>subject_race[T.Middle Eastern (White)]</th>    <td>    2.4058</td> <td>    1.129</td> <td>    2.130</td> <td> 0.034</td> <td>    0.183</td> <td>    4.628</td>\n",
       "</tr>\n",
       "<tr>\n",
       "  <th>subject_race[T.Multi racial]</th>              <td>   -0.6936</td> <td>    0.989</td> <td>   -0.701</td> <td> 0.484</td> <td>   -2.639</td> <td>    1.252</td>\n",
       "</tr>\n",
       "<tr>\n",
       "  <th>subject_race[T.Native American]</th>           <td>    0.7853</td> <td>    1.749</td> <td>    0.449</td> <td> 0.654</td> <td>   -2.658</td> <td>    4.228</td>\n",
       "</tr>\n",
       "<tr>\n",
       "  <th>subject_race[T.White]</th>                     <td>    0.3095</td> <td>    0.838</td> <td>    0.369</td> <td> 0.712</td> <td>   -1.339</td> <td>    1.958</td>\n",
       "</tr>\n",
       "</table>\n",
       "<table class=\"simpletable\">\n",
       "<tr>\n",
       "  <th>Omnibus:</th>       <td>34.456</td> <th>  Durbin-Watson:     </th> <td>   1.861</td>\n",
       "</tr>\n",
       "<tr>\n",
       "  <th>Prob(Omnibus):</th> <td> 0.000</td> <th>  Jarque-Bera (JB):  </th> <td>  42.793</td>\n",
       "</tr>\n",
       "<tr>\n",
       "  <th>Skew:</th>          <td>-0.826</td> <th>  Prob(JB):          </th> <td>5.10e-10</td>\n",
       "</tr>\n",
       "<tr>\n",
       "  <th>Kurtosis:</th>      <td> 3.723</td> <th>  Cond. No.          </th> <td>    36.7</td>\n",
       "</tr>\n",
       "</table><br/><br/>Warnings:<br/>[1] Standard Errors assume that the covariance matrix of the errors is correctly specified."
      ],
      "text/plain": [
       "<class 'statsmodels.iolib.summary.Summary'>\n",
       "\"\"\"\n",
       "                              OLS Regression Results                              \n",
       "==================================================================================\n",
       "Dep. Variable:     log_box_office_dollars   R-squared:                       0.113\n",
       "Model:                                OLS   Adj. R-squared:                  0.069\n",
       "Method:                     Least Squares   F-statistic:                     2.550\n",
       "Date:                    Tue, 01 Oct 2019   Prob (F-statistic):            0.00137\n",
       "Time:                            13:40:59   Log-Likelihood:                -686.73\n",
       "No. Observations:                     316   AIC:                             1405.\n",
       "Df Residuals:                         300   BIC:                             1466.\n",
       "Df Model:                              15                                         \n",
       "Covariance Type:                nonrobust                                         \n",
       "=============================================================================================================\n",
       "                                                coef    std err          t      P>|t|      [0.025      0.975]\n",
       "-------------------------------------------------------------------------------------------------------------\n",
       "Intercept                                    14.9040      0.825     18.072      0.000      13.281      16.527\n",
       "subject_race[T.African American]              1.9884      0.913      2.178      0.030       0.191       3.785\n",
       "subject_race[T.Asian]                        -1.0387      1.368     -0.759      0.448      -3.730       1.653\n",
       "subject_race[T.Asian American]                2.1526      1.506      1.430      0.154      -0.811       5.116\n",
       "subject_race[T.Caribbean]                     2.5170      2.333      1.079      0.281      -2.073       7.107\n",
       "subject_race[T.Hispanic (Latin American)]     0.4535      1.075      0.422      0.674      -1.663       2.570\n",
       "subject_race[T.Hispanic (Latina)]             2.4782      2.333      1.062      0.289      -2.112       7.069\n",
       "subject_race[T.Hispanic (Latino)]             1.5807      1.368      1.156      0.249      -1.111       4.272\n",
       "subject_race[T.Hispanic (White)]             -0.4918      1.368     -0.360      0.719      -3.183       2.200\n",
       "subject_race[T.Indian]                       -2.0048      2.333     -0.859      0.391      -6.595       2.586\n",
       "subject_race[T.Mediterranean]                -1.8960      2.333     -0.813      0.417      -6.486       2.694\n",
       "subject_race[T.Middle Eastern]               -0.5770      1.278     -0.452      0.652      -3.091       1.937\n",
       "subject_race[T.Middle Eastern (White)]        2.4058      1.129      2.130      0.034       0.183       4.628\n",
       "subject_race[T.Multi racial]                 -0.6936      0.989     -0.701      0.484      -2.639       1.252\n",
       "subject_race[T.Native American]               0.7853      1.749      0.449      0.654      -2.658       4.228\n",
       "subject_race[T.White]                         0.3095      0.838      0.369      0.712      -1.339       1.958\n",
       "==============================================================================\n",
       "Omnibus:                       34.456   Durbin-Watson:                   1.861\n",
       "Prob(Omnibus):                  0.000   Jarque-Bera (JB):               42.793\n",
       "Skew:                          -0.826   Prob(JB):                     5.10e-10\n",
       "Kurtosis:                       3.723   Cond. No.                         36.7\n",
       "==============================================================================\n",
       "\n",
       "Warnings:\n",
       "[1] Standard Errors assume that the covariance matrix of the errors is correctly specified.\n",
       "\"\"\""
      ]
     },
     "execution_count": 74,
     "metadata": {},
     "output_type": "execute_result"
    }
   ],
   "source": [
    "box_office_dollars_lm.summary()"
   ]
  },
  {
   "cell_type": "markdown",
   "metadata": {},
   "source": [
    "### End Q7"
   ]
  },
  {
   "cell_type": "markdown",
   "metadata": {},
   "source": [
    "# <font color=\"green\">END OF NOTEBOOK</font>\n",
    "## Remember to submit the HTML version of this notebook via Canvas."
   ]
  },
  {
   "cell_type": "code",
   "execution_count": null,
   "metadata": {},
   "outputs": [],
   "source": []
  }
 ],
 "metadata": {
  "kernelspec": {
   "display_name": "Python 3",
   "language": "python",
   "name": "python3"
  },
  "language_info": {
   "codemirror_mode": {
    "name": "ipython",
    "version": 3
   },
   "file_extension": ".py",
   "mimetype": "text/x-python",
   "name": "python",
   "nbconvert_exporter": "python",
   "pygments_lexer": "ipython3",
   "version": "3.7.3"
  }
 },
 "nbformat": 4,
 "nbformat_minor": 2
}
