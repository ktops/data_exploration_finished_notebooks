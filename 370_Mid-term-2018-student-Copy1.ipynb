{
 "cells": [
  {
   "cell_type": "markdown",
   "metadata": {},
   "source": [
    "# SI 370 FA 2018: Mid-term Test"
   ]
  },
  {
   "cell_type": "markdown",
   "metadata": {},
   "source": [
    "### Please turn in HTML and notebook file on canvas by 10:30am."
   ]
  },
  {
   "cell_type": "code",
   "execution_count": 1,
   "metadata": {},
   "outputs": [],
   "source": [
    "import pandas as pd\n",
    "import seaborn as sns\n",
    "import numpy as np\n",
    "\n",
    "import statsmodels.api as sm\n",
    "import statsmodels.formula.api as smf\n",
    "from statsmodels.graphics.mosaicplot import mosaic\n",
    "\n",
    "from sklearn.cluster import KMeans\n",
    "from sklearn import metrics\n",
    "import matplotlib.pyplot as plt\n",
    "%matplotlib inline\n"
   ]
  },
  {
   "cell_type": "markdown",
   "metadata": {},
   "source": [
    "This test has 7 questions and is worth 150 points.  You may use any online or paper-based resources *except* real-time, direct communication with other people (i.e. instant messaging)."
   ]
  },
  {
   "cell_type": "markdown",
   "metadata": {},
   "source": [
    "## Question 1 (Basic pandas, 15 points)):\n",
    "### 1a: Write code to create the following DataFrame:\n",
    "![](resources/midterm-dataframe1.png)"
   ]
  },
  {
   "cell_type": "code",
   "execution_count": 4,
   "metadata": {},
   "outputs": [
    {
     "data": {
      "text/html": [
       "<div>\n",
       "<style scoped>\n",
       "    .dataframe tbody tr th:only-of-type {\n",
       "        vertical-align: middle;\n",
       "    }\n",
       "\n",
       "    .dataframe tbody tr th {\n",
       "        vertical-align: top;\n",
       "    }\n",
       "\n",
       "    .dataframe thead th {\n",
       "        text-align: right;\n",
       "    }\n",
       "</style>\n",
       "<table border=\"1\" class=\"dataframe\">\n",
       "  <thead>\n",
       "    <tr style=\"text-align: right;\">\n",
       "      <th></th>\n",
       "      <th>score</th>\n",
       "      <th>odds</th>\n",
       "    </tr>\n",
       "  </thead>\n",
       "  <tbody>\n",
       "    <tr>\n",
       "      <th>alpha</th>\n",
       "      <td>76</td>\n",
       "      <td>0.8</td>\n",
       "    </tr>\n",
       "    <tr>\n",
       "      <th>bravo</th>\n",
       "      <td>81</td>\n",
       "      <td>0.9</td>\n",
       "    </tr>\n",
       "    <tr>\n",
       "      <th>charlie</th>\n",
       "      <td>67</td>\n",
       "      <td>0.7</td>\n",
       "    </tr>\n",
       "    <tr>\n",
       "      <th>delta</th>\n",
       "      <td>90</td>\n",
       "      <td>1.0</td>\n",
       "    </tr>\n",
       "  </tbody>\n",
       "</table>\n",
       "</div>"
      ],
      "text/plain": [
       "         score  odds\n",
       "alpha       76   0.8\n",
       "bravo       81   0.9\n",
       "charlie     67   0.7\n",
       "delta       90   1.0"
      ]
     },
     "execution_count": 4,
     "metadata": {},
     "output_type": "execute_result"
    }
   ],
   "source": [
    "#Insert Code Here\n",
    "index_name = ['alpha', 'bravo', 'charlie', 'delta']\n",
    "data = {'score': [76, 81, 67, 90], 'odds': [0.8, 0.9, 0.7, 1.0]}\n",
    "df = pd.DataFrame(data, index=index_name)\n",
    "df"
   ]
  },
  {
   "cell_type": "markdown",
   "metadata": {},
   "source": [
    "### 1b: Write code to use a universal function to transform the DataFrame you created in 1a to the following DataFrame:\n",
    "\n",
    "![](resources/midterm-dataframe2.png)"
   ]
  },
  {
   "cell_type": "code",
   "execution_count": 8,
   "metadata": {},
   "outputs": [
    {
     "data": {
      "text/html": [
       "<div>\n",
       "<style scoped>\n",
       "    .dataframe tbody tr th:only-of-type {\n",
       "        vertical-align: middle;\n",
       "    }\n",
       "\n",
       "    .dataframe tbody tr th {\n",
       "        vertical-align: top;\n",
       "    }\n",
       "\n",
       "    .dataframe thead th {\n",
       "        text-align: right;\n",
       "    }\n",
       "</style>\n",
       "<table border=\"1\" class=\"dataframe\">\n",
       "  <thead>\n",
       "    <tr style=\"text-align: right;\">\n",
       "      <th></th>\n",
       "      <th>score</th>\n",
       "      <th>odds</th>\n",
       "      <th>prob</th>\n",
       "    </tr>\n",
       "  </thead>\n",
       "  <tbody>\n",
       "    <tr>\n",
       "      <th>alpha</th>\n",
       "      <td>76</td>\n",
       "      <td>0.8</td>\n",
       "      <td>0.2</td>\n",
       "    </tr>\n",
       "    <tr>\n",
       "      <th>bravo</th>\n",
       "      <td>81</td>\n",
       "      <td>0.9</td>\n",
       "      <td>0.1</td>\n",
       "    </tr>\n",
       "    <tr>\n",
       "      <th>charlie</th>\n",
       "      <td>67</td>\n",
       "      <td>0.7</td>\n",
       "      <td>0.3</td>\n",
       "    </tr>\n",
       "    <tr>\n",
       "      <th>delta</th>\n",
       "      <td>90</td>\n",
       "      <td>1.0</td>\n",
       "      <td>0.0</td>\n",
       "    </tr>\n",
       "  </tbody>\n",
       "</table>\n",
       "</div>"
      ],
      "text/plain": [
       "         score  odds  prob\n",
       "alpha       76   0.8   0.2\n",
       "bravo       81   0.9   0.1\n",
       "charlie     67   0.7   0.3\n",
       "delta       90   1.0   0.0"
      ]
     },
     "execution_count": 8,
     "metadata": {},
     "output_type": "execute_result"
    }
   ],
   "source": [
    "#Insert Code Here\n",
    "df['prob'] = 1 - df['odds']\n",
    "df"
   ]
  },
  {
   "cell_type": "markdown",
   "metadata": {},
   "source": [
    "## Question 2 (Pandas and code flow, 15 points):\n",
    "Put the following 5 code blocks in the correct order so the output is \n",
    "```\n",
    "2     1075000.0\n",
    "6     1762000.0\n",
    "13     774294.0\n",
    "Name: current_salary_cleaned, dtype: float64\n",
    "```\n",
    "\n"
   ]
  },
  {
   "cell_type": "code",
   "execution_count": null,
   "metadata": {},
   "outputs": [],
   "source": [
    "# nfl_football_players_salaries = nfl_football_players.dropna(subset=['current_salary_cleaned'])"
   ]
  },
  {
   "cell_type": "code",
   "execution_count": null,
   "metadata": {},
   "outputs": [],
   "source": [
    "# nfl_football_players['current_salary_cleaned'] = nfl_football_players['current_salary_nocommas'].astype(float)"
   ]
  },
  {
   "cell_type": "code",
   "execution_count": null,
   "metadata": {},
   "outputs": [],
   "source": [
    "# nfl_football_players = pd.read_json('data/nfl_football_profiles.json')"
   ]
  },
  {
   "cell_type": "code",
   "execution_count": null,
   "metadata": {},
   "outputs": [],
   "source": [
    "# nfl_football_players_salaries['current_salary_cleaned'].head(3)"
   ]
  },
  {
   "cell_type": "code",
   "execution_count": null,
   "metadata": {},
   "outputs": [],
   "source": [
    "# nfl_football_players['current_salary_nocommas'] = nfl_football_players['current_salary'].str.replace(',', '')"
   ]
  },
  {
   "cell_type": "code",
   "execution_count": 9,
   "metadata": {},
   "outputs": [
    {
     "data": {
      "text/plain": [
       "2     1075000.0\n",
       "6     1762000.0\n",
       "13     774294.0\n",
       "Name: current_salary_cleaned, dtype: float64"
      ]
     },
     "execution_count": 9,
     "metadata": {},
     "output_type": "execute_result"
    }
   ],
   "source": [
    "nfl_football_players = pd.read_json('data/nfl_football_profiles.json')\n",
    "nfl_football_players['current_salary_nocommas'] = nfl_football_players['current_salary'].str.replace(',', '')\n",
    "nfl_football_players['current_salary_cleaned'] = nfl_football_players['current_salary_nocommas'].astype(float)\n",
    "nfl_football_players_salaries = nfl_football_players.dropna(subset=['current_salary_cleaned'])\n",
    "nfl_football_players_salaries['current_salary_cleaned'].head(3)"
   ]
  },
  {
   "cell_type": "markdown",
   "metadata": {},
   "source": [
    "## Question 3 (Visualization and Analysis, 20 points): "
   ]
  },
  {
   "cell_type": "markdown",
   "metadata": {},
   "source": [
    "Recall the wine quality data dataset that we used in this class.  In the code below, we load the data and then\n",
    "separate it into \"good\" (i.e. quality > 6) and \"bad\" (i.e. quality <= 5) categories."
   ]
  },
  {
   "cell_type": "code",
   "execution_count": 10,
   "metadata": {},
   "outputs": [],
   "source": [
    "wine = pd.read_csv('data/winequality-red.csv')"
   ]
  },
  {
   "cell_type": "code",
   "execution_count": 11,
   "metadata": {},
   "outputs": [],
   "source": [
    "wine['good_or_bad'] = np.where(wine['quality'] > 6, 'good','bad')"
   ]
  },
  {
   "cell_type": "markdown",
   "metadata": {},
   "source": [
    "### 3a. Create a boxplot that shows the values of pH for good and bad wines.  \n",
    "Based on your visualization, does it look like there is a significant difference of the pH between good and bad wines?"
   ]
  },
  {
   "cell_type": "code",
   "execution_count": 13,
   "metadata": {},
   "outputs": [
    {
     "data": {
      "text/plain": [
       "<matplotlib.axes._subplots.AxesSubplot at 0x7f3fac8cbef0>"
      ]
     },
     "execution_count": 13,
     "metadata": {},
     "output_type": "execute_result"
    },
    {
     "data": {
      "image/png": "[encoded data removed]",
      "text/plain": [
       "<Figure size 432x288 with 1 Axes>"
      ]
     },
     "metadata": {
      "needs_background": "light"
     },
     "output_type": "display_data"
    }
   ],
   "source": [
    "#Insert Code Here\n",
    "sns.boxplot('good_or_bad', y='pH', data=wine)"
   ]
  },
  {
   "cell_type": "markdown",
   "metadata": {},
   "source": [
    "There does not seem to be a significant difference with these two box plots. The medians and IQR are very similar."
   ]
  },
  {
   "cell_type": "markdown",
   "metadata": {},
   "source": [
    "Examine the results of a t-test on pH for good and bad wines using the following code. "
   ]
  },
  {
   "cell_type": "code",
   "execution_count": 15,
   "metadata": {},
   "outputs": [],
   "source": [
    "from scipy.stats import ttest_ind\n",
    "goodwine = wine[wine['good_or_bad'] == 'good']\n",
    "badwine = wine[wine['good_or_bad'] == 'bad']\n",
    "results = ttest_ind(goodwine['pH'],badwine['pH'])"
   ]
  },
  {
   "cell_type": "code",
   "execution_count": 16,
   "metadata": {},
   "outputs": [
    {
     "data": {
      "text/plain": [
       "0.02198034398691512"
      ]
     },
     "execution_count": 16,
     "metadata": {},
     "output_type": "execute_result"
    }
   ],
   "source": [
    "results.pvalue"
   ]
  },
  {
   "cell_type": "markdown",
   "metadata": {},
   "source": [
    "### 3b.  Based on your t-test, is the difference between good and bad wines significant?"
   ]
  },
  {
   "cell_type": "markdown",
   "metadata": {},
   "source": [
    "No, because it is below 0.05. This means that we would accept the null hypothesis, and say that the two groups are not significantly different."
   ]
  },
  {
   "cell_type": "markdown",
   "metadata": {},
   "source": [
    "## Question 4 (Correlation & Regression, 20 points):"
   ]
  },
  {
   "cell_type": "markdown",
   "metadata": {},
   "source": [
    "This question also uses the wine quality dataset."
   ]
  },
  {
   "cell_type": "code",
   "execution_count": 17,
   "metadata": {},
   "outputs": [
    {
     "data": {
      "text/plain": [
       "Index(['fixed acidity', 'volatile acidity', 'citric acid', 'residual sugar',\n",
       "       'chlorides', 'free sulfur dioxide', 'total sulfur dioxide', 'density',\n",
       "       'pH', 'sulphates', 'alcohol', 'quality', 'good_or_bad'],\n",
       "      dtype='object')"
      ]
     },
     "execution_count": 17,
     "metadata": {},
     "output_type": "execute_result"
    }
   ],
   "source": [
    "wine.columns"
   ]
  },
  {
   "cell_type": "markdown",
   "metadata": {},
   "source": [
    "### 4a. Fill in the correct formula to create two regressions of pH vs. \"total sulfur dioxide\", one for \"good\" wines and one for \"bad\" wines (code for the regression is given to you below. "
   ]
  },
  {
   "cell_type": "code",
   "execution_count": 24,
   "metadata": {},
   "outputs": [],
   "source": [
    "formula = \"pH ~ Q('total sulfur dioxide')\""
   ]
  },
  {
   "cell_type": "code",
   "execution_count": 25,
   "metadata": {},
   "outputs": [
    {
     "data": {
      "text/html": [
       "<table class=\"simpletable\">\n",
       "<caption>OLS Regression Results</caption>\n",
       "<tr>\n",
       "  <th>Dep. Variable:</th>           <td>pH</td>        <th>  R-squared:         </th> <td>   0.002</td>\n",
       "</tr>\n",
       "<tr>\n",
       "  <th>Model:</th>                   <td>OLS</td>       <th>  Adj. R-squared:    </th> <td>  -0.002</td>\n",
       "</tr>\n",
       "<tr>\n",
       "  <th>Method:</th>             <td>Least Squares</td>  <th>  F-statistic:       </th> <td>  0.5329</td>\n",
       "</tr>\n",
       "<tr>\n",
       "  <th>Date:</th>             <td>Thu, 07 Nov 2019</td> <th>  Prob (F-statistic):</th>  <td> 0.466</td> \n",
       "</tr>\n",
       "<tr>\n",
       "  <th>Time:</th>                 <td>14:00:31</td>     <th>  Log-Likelihood:    </th> <td>  98.152</td>\n",
       "</tr>\n",
       "<tr>\n",
       "  <th>No. Observations:</th>      <td>   217</td>      <th>  AIC:               </th> <td>  -192.3</td>\n",
       "</tr>\n",
       "<tr>\n",
       "  <th>Df Residuals:</th>          <td>   215</td>      <th>  BIC:               </th> <td>  -185.5</td>\n",
       "</tr>\n",
       "<tr>\n",
       "  <th>Df Model:</th>              <td>     1</td>      <th>                     </th>     <td> </td>   \n",
       "</tr>\n",
       "<tr>\n",
       "  <th>Covariance Type:</th>      <td>nonrobust</td>    <th>                     </th>     <td> </td>   \n",
       "</tr>\n",
       "</table>\n",
       "<table class=\"simpletable\">\n",
       "<tr>\n",
       "              <td></td>                 <th>coef</th>     <th>std err</th>      <th>t</th>      <th>P>|t|</th>  <th>[0.025</th>    <th>0.975]</th>  \n",
       "</tr>\n",
       "<tr>\n",
       "  <th>Intercept</th>                 <td>    3.2806</td> <td>    0.015</td> <td>  212.989</td> <td> 0.000</td> <td>    3.250</td> <td>    3.311</td>\n",
       "</tr>\n",
       "<tr>\n",
       "  <th>Q('total sulfur dioxide')</th> <td>    0.0002</td> <td>    0.000</td> <td>    0.730</td> <td> 0.466</td> <td>   -0.000</td> <td>    0.001</td>\n",
       "</tr>\n",
       "</table>\n",
       "<table class=\"simpletable\">\n",
       "<tr>\n",
       "  <th>Omnibus:</th>       <td> 6.927</td> <th>  Durbin-Watson:     </th> <td>   1.563</td>\n",
       "</tr>\n",
       "<tr>\n",
       "  <th>Prob(Omnibus):</th> <td> 0.031</td> <th>  Jarque-Bera (JB):  </th> <td>   7.539</td>\n",
       "</tr>\n",
       "<tr>\n",
       "  <th>Skew:</th>          <td> 0.301</td> <th>  Prob(JB):          </th> <td>  0.0231</td>\n",
       "</tr>\n",
       "<tr>\n",
       "  <th>Kurtosis:</th>      <td> 3.687</td> <th>  Cond. No.          </th> <td>    70.0</td>\n",
       "</tr>\n",
       "</table><br/><br/>Warnings:<br/>[1] Standard Errors assume that the covariance matrix of the errors is correctly specified."
      ],
      "text/plain": [
       "<class 'statsmodels.iolib.summary.Summary'>\n",
       "\"\"\"\n",
       "                            OLS Regression Results                            \n",
       "==============================================================================\n",
       "Dep. Variable:                     pH   R-squared:                       0.002\n",
       "Model:                            OLS   Adj. R-squared:                 -0.002\n",
       "Method:                 Least Squares   F-statistic:                    0.5329\n",
       "Date:                Thu, 07 Nov 2019   Prob (F-statistic):              0.466\n",
       "Time:                        14:00:31   Log-Likelihood:                 98.152\n",
       "No. Observations:                 217   AIC:                            -192.3\n",
       "Df Residuals:                     215   BIC:                            -185.5\n",
       "Df Model:                           1                                         \n",
       "Covariance Type:            nonrobust                                         \n",
       "=============================================================================================\n",
       "                                coef    std err          t      P>|t|      [0.025      0.975]\n",
       "---------------------------------------------------------------------------------------------\n",
       "Intercept                     3.2806      0.015    212.989      0.000       3.250       3.311\n",
       "Q('total sulfur dioxide')     0.0002      0.000      0.730      0.466      -0.000       0.001\n",
       "==============================================================================\n",
       "Omnibus:                        6.927   Durbin-Watson:                   1.563\n",
       "Prob(Omnibus):                  0.031   Jarque-Bera (JB):                7.539\n",
       "Skew:                           0.301   Prob(JB):                       0.0231\n",
       "Kurtosis:                       3.687   Cond. No.                         70.0\n",
       "==============================================================================\n",
       "\n",
       "Warnings:\n",
       "[1] Standard Errors assume that the covariance matrix of the errors is correctly specified.\n",
       "\"\"\""
      ]
     },
     "execution_count": 25,
     "metadata": {},
     "output_type": "execute_result"
    }
   ],
   "source": [
    "model0 = smf.ols(formula, data=goodwine).fit()\n",
    "model0.summary()"
   ]
  },
  {
   "cell_type": "code",
   "execution_count": 26,
   "metadata": {},
   "outputs": [
    {
     "data": {
      "text/html": [
       "<table class=\"simpletable\">\n",
       "<caption>OLS Regression Results</caption>\n",
       "<tr>\n",
       "  <th>Dep. Variable:</th>           <td>pH</td>        <th>  R-squared:         </th> <td>   0.009</td>\n",
       "</tr>\n",
       "<tr>\n",
       "  <th>Model:</th>                   <td>OLS</td>       <th>  Adj. R-squared:    </th> <td>   0.008</td>\n",
       "</tr>\n",
       "<tr>\n",
       "  <th>Method:</th>             <td>Least Squares</td>  <th>  F-statistic:       </th> <td>   12.55</td>\n",
       "</tr>\n",
       "<tr>\n",
       "  <th>Date:</th>             <td>Thu, 07 Nov 2019</td> <th>  Prob (F-statistic):</th> <td>0.000409</td>\n",
       "</tr>\n",
       "<tr>\n",
       "  <th>Time:</th>                 <td>14:00:34</td>     <th>  Log-Likelihood:    </th> <td>  630.02</td>\n",
       "</tr>\n",
       "<tr>\n",
       "  <th>No. Observations:</th>      <td>  1382</td>      <th>  AIC:               </th> <td>  -1256.</td>\n",
       "</tr>\n",
       "<tr>\n",
       "  <th>Df Residuals:</th>          <td>  1380</td>      <th>  BIC:               </th> <td>  -1246.</td>\n",
       "</tr>\n",
       "<tr>\n",
       "  <th>Df Model:</th>              <td>     1</td>      <th>                     </th>     <td> </td>   \n",
       "</tr>\n",
       "<tr>\n",
       "  <th>Covariance Type:</th>      <td>nonrobust</td>    <th>                     </th>     <td> </td>   \n",
       "</tr>\n",
       "</table>\n",
       "<table class=\"simpletable\">\n",
       "<tr>\n",
       "              <td></td>                 <th>coef</th>     <th>std err</th>      <th>t</th>      <th>P>|t|</th>  <th>[0.025</th>    <th>0.975]</th>  \n",
       "</tr>\n",
       "<tr>\n",
       "  <th>Intercept</th>                 <td>    3.3363</td> <td>    0.007</td> <td>  451.889</td> <td> 0.000</td> <td>    3.322</td> <td>    3.351</td>\n",
       "</tr>\n",
       "<tr>\n",
       "  <th>Q('total sulfur dioxide')</th> <td>   -0.0004</td> <td>    0.000</td> <td>   -3.543</td> <td> 0.000</td> <td>   -0.001</td> <td>   -0.000</td>\n",
       "</tr>\n",
       "</table>\n",
       "<table class=\"simpletable\">\n",
       "<tr>\n",
       "  <th>Omnibus:</th>       <td>30.928</td> <th>  Durbin-Watson:     </th> <td>   1.558</td>\n",
       "</tr>\n",
       "<tr>\n",
       "  <th>Prob(Omnibus):</th> <td> 0.000</td> <th>  Jarque-Bera (JB):  </th> <td>  53.067</td>\n",
       "</tr>\n",
       "<tr>\n",
       "  <th>Skew:</th>          <td> 0.167</td> <th>  Prob(JB):          </th> <td>3.00e-12</td>\n",
       "</tr>\n",
       "<tr>\n",
       "  <th>Kurtosis:</th>      <td> 3.900</td> <th>  Cond. No.          </th> <td>    104.</td>\n",
       "</tr>\n",
       "</table><br/><br/>Warnings:<br/>[1] Standard Errors assume that the covariance matrix of the errors is correctly specified."
      ],
      "text/plain": [
       "<class 'statsmodels.iolib.summary.Summary'>\n",
       "\"\"\"\n",
       "                            OLS Regression Results                            \n",
       "==============================================================================\n",
       "Dep. Variable:                     pH   R-squared:                       0.009\n",
       "Model:                            OLS   Adj. R-squared:                  0.008\n",
       "Method:                 Least Squares   F-statistic:                     12.55\n",
       "Date:                Thu, 07 Nov 2019   Prob (F-statistic):           0.000409\n",
       "Time:                        14:00:34   Log-Likelihood:                 630.02\n",
       "No. Observations:                1382   AIC:                            -1256.\n",
       "Df Residuals:                    1380   BIC:                            -1246.\n",
       "Df Model:                           1                                         \n",
       "Covariance Type:            nonrobust                                         \n",
       "=============================================================================================\n",
       "                                coef    std err          t      P>|t|      [0.025      0.975]\n",
       "---------------------------------------------------------------------------------------------\n",
       "Intercept                     3.3363      0.007    451.889      0.000       3.322       3.351\n",
       "Q('total sulfur dioxide')    -0.0004      0.000     -3.543      0.000      -0.001      -0.000\n",
       "==============================================================================\n",
       "Omnibus:                       30.928   Durbin-Watson:                   1.558\n",
       "Prob(Omnibus):                  0.000   Jarque-Bera (JB):               53.067\n",
       "Skew:                           0.167   Prob(JB):                     3.00e-12\n",
       "Kurtosis:                       3.900   Cond. No.                         104.\n",
       "==============================================================================\n",
       "\n",
       "Warnings:\n",
       "[1] Standard Errors assume that the covariance matrix of the errors is correctly specified.\n",
       "\"\"\""
      ]
     },
     "execution_count": 26,
     "metadata": {},
     "output_type": "execute_result"
    }
   ],
   "source": [
    "model0 = smf.ols(formula, data=badwine).fit()\n",
    "model0.summary()"
   ]
  },
  {
   "cell_type": "markdown",
   "metadata": {},
   "source": [
    "### 4b. How do the results of the two regressions differ?"
   ]
  },
  {
   "cell_type": "markdown",
   "metadata": {},
   "source": [
    "The coefficients and intercepts don't look that different, the p value for total sulfur dioxide of the bad wine is higher.\n",
    "\n",
    "The coef stuff is the most important. For the good wine, our estimate for pH is the coef of the sulfer dioxide (0.02) * the intercept (3.2806)\n",
    "\n",
    "the r squared value shows how much of the variance is explained by the model (if it's low, not a lot, if it's high, a lot) r squared is the percentage of the variance that's explained by the model, if r squared is < 0.6 it's not great\n",
    "\n",
    "prob of f stat tells if regression is significant or not, this one is not for good wine, depends on num of observations you have, if less than 0.05 it's significant??"
   ]
  },
  {
   "cell_type": "markdown",
   "metadata": {},
   "source": [
    "## Question 5 (Categorical variables, 20 points):"
   ]
  },
  {
   "cell_type": "markdown",
   "metadata": {},
   "source": [
    "The dataset contains details about a list of comic book characters from DC and Marvel, such as:  sex and sexuality, hair color, eye color, whether the characters were good guys or bad guys or neutral, whether they had secret identities, and whether they were alive or dead."
   ]
  },
  {
   "cell_type": "code",
   "execution_count": 27,
   "metadata": {},
   "outputs": [
    {
     "data": {
      "text/html": [
       "<div>\n",
       "<style scoped>\n",
       "    .dataframe tbody tr th:only-of-type {\n",
       "        vertical-align: middle;\n",
       "    }\n",
       "\n",
       "    .dataframe tbody tr th {\n",
       "        vertical-align: top;\n",
       "    }\n",
       "\n",
       "    .dataframe thead th {\n",
       "        text-align: right;\n",
       "    }\n",
       "</style>\n",
       "<table border=\"1\" class=\"dataframe\">\n",
       "  <thead>\n",
       "    <tr style=\"text-align: right;\">\n",
       "      <th></th>\n",
       "      <th>publisher</th>\n",
       "      <th>name</th>\n",
       "      <th>Identity</th>\n",
       "      <th>align</th>\n",
       "      <th>eye</th>\n",
       "      <th>hair</th>\n",
       "      <th>sex</th>\n",
       "      <th>alive</th>\n",
       "      <th>appearances</th>\n",
       "      <th>first_appearance</th>\n",
       "      <th>month</th>\n",
       "      <th>year</th>\n",
       "      <th>date</th>\n",
       "    </tr>\n",
       "    <tr>\n",
       "      <th>id</th>\n",
       "      <th></th>\n",
       "      <th></th>\n",
       "      <th></th>\n",
       "      <th></th>\n",
       "      <th></th>\n",
       "      <th></th>\n",
       "      <th></th>\n",
       "      <th></th>\n",
       "      <th></th>\n",
       "      <th></th>\n",
       "      <th></th>\n",
       "      <th></th>\n",
       "      <th></th>\n",
       "    </tr>\n",
       "  </thead>\n",
       "  <tbody>\n",
       "    <tr>\n",
       "      <th>1</th>\n",
       "      <td>Marvel</td>\n",
       "      <td>Spider-Man (Peter Parker)</td>\n",
       "      <td>Secret Identity</td>\n",
       "      <td>Good Characters</td>\n",
       "      <td>Hazel Eyes</td>\n",
       "      <td>Brown Hair</td>\n",
       "      <td>Male Characters</td>\n",
       "      <td>Living Characters</td>\n",
       "      <td>4043.0</td>\n",
       "      <td>1962, August</td>\n",
       "      <td>August</td>\n",
       "      <td>1962.0</td>\n",
       "      <td>8/1/1962</td>\n",
       "    </tr>\n",
       "  </tbody>\n",
       "</table>\n",
       "</div>"
      ],
      "text/plain": [
       "   publisher                       name         Identity            align  \\\n",
       "id                                                                          \n",
       "1     Marvel  Spider-Man (Peter Parker)  Secret Identity  Good Characters   \n",
       "\n",
       "           eye        hair              sex              alive  appearances  \\\n",
       "id                                                                            \n",
       "1   Hazel Eyes  Brown Hair  Male Characters  Living Characters       4043.0   \n",
       "\n",
       "   first_appearance   month    year      date  \n",
       "id                                             \n",
       "1      1962, August  August  1962.0  8/1/1962  "
      ]
     },
     "execution_count": 27,
     "metadata": {},
     "output_type": "execute_result"
    }
   ],
   "source": [
    "comic_characters = pd.read_csv(\"data/comic_characters.csv\", index_col=\"id\")\n",
    "comic_characters.head(1)"
   ]
  },
  {
   "cell_type": "code",
   "execution_count": 28,
   "metadata": {},
   "outputs": [],
   "source": [
    "comic_characters = comic_characters[(comic_characters['Identity']== 'Secret Identity') | (comic_characters['Identity'] == 'Public Identity')]"
   ]
  },
  {
   "cell_type": "markdown",
   "metadata": {},
   "source": [
    "### 5a. Create a crosstab of Identity vs. alive status"
   ]
  },
  {
   "cell_type": "code",
   "execution_count": 29,
   "metadata": {},
   "outputs": [
    {
     "data": {
      "text/html": [
       "<div>\n",
       "<style scoped>\n",
       "    .dataframe tbody tr th:only-of-type {\n",
       "        vertical-align: middle;\n",
       "    }\n",
       "\n",
       "    .dataframe tbody tr th {\n",
       "        vertical-align: top;\n",
       "    }\n",
       "\n",
       "    .dataframe thead th {\n",
       "        text-align: right;\n",
       "    }\n",
       "</style>\n",
       "<table border=\"1\" class=\"dataframe\">\n",
       "  <thead>\n",
       "    <tr style=\"text-align: right;\">\n",
       "      <th>alive</th>\n",
       "      <th>Deceased Characters</th>\n",
       "      <th>Living Characters</th>\n",
       "    </tr>\n",
       "    <tr>\n",
       "      <th>Identity</th>\n",
       "      <th></th>\n",
       "      <th></th>\n",
       "    </tr>\n",
       "  </thead>\n",
       "  <tbody>\n",
       "    <tr>\n",
       "      <th>Public Identity</th>\n",
       "      <td>1683</td>\n",
       "      <td>5309</td>\n",
       "    </tr>\n",
       "    <tr>\n",
       "      <th>Secret Identity</th>\n",
       "      <td>2248</td>\n",
       "      <td>6435</td>\n",
       "    </tr>\n",
       "  </tbody>\n",
       "</table>\n",
       "</div>"
      ],
      "text/plain": [
       "alive            Deceased Characters  Living Characters\n",
       "Identity                                               \n",
       "Public Identity                 1683               5309\n",
       "Secret Identity                 2248               6435"
      ]
     },
     "execution_count": 29,
     "metadata": {},
     "output_type": "execute_result"
    }
   ],
   "source": [
    "#Insert Code Here\n",
    "ct = pd.crosstab(comic_characters.Identity, comic_characters.alive)\n",
    "ct"
   ]
  },
  {
   "cell_type": "markdown",
   "metadata": {},
   "source": [
    "### 5b. Create a mosaic plot of identity vs alive status"
   ]
  },
  {
   "cell_type": "code",
   "execution_count": 31,
   "metadata": {},
   "outputs": [
    {
     "data": {
      "image/png": "[encoded data removed]",
      "text/plain": [
       "<Figure size 432x288 with 3 Axes>"
      ]
     },
     "metadata": {
      "needs_background": "light"
     },
     "output_type": "display_data"
    }
   ],
   "source": [
    "#Insert Code Here\n",
    "t = mosaic(comic_characters,  ['Identity', 'alive'], title='Identity vs Alive Status')"
   ]
  },
  {
   "cell_type": "markdown",
   "metadata": {},
   "source": [
    "## Question 6 (Machine Learning: Clustering, 20 points):"
   ]
  },
  {
   "cell_type": "markdown",
   "metadata": {},
   "source": [
    "For clustering, it's sometimes helpful to create dummy variables.  For example, the \"Identity\" property can be replaced by Identity_Public Identity and Indentity_Secret Identity.  The following code does that for several of the categorical variables in the comic characters dataset:"
   ]
  },
  {
   "cell_type": "code",
   "execution_count": 32,
   "metadata": {},
   "outputs": [],
   "source": [
    "comic_dummies = pd.get_dummies(comic_characters,columns=['Identity','align','eye','hair','sex','alive'])\n"
   ]
  },
  {
   "cell_type": "code",
   "execution_count": 33,
   "metadata": {},
   "outputs": [
    {
     "data": {
      "text/html": [
       "<div>\n",
       "<style scoped>\n",
       "    .dataframe tbody tr th:only-of-type {\n",
       "        vertical-align: middle;\n",
       "    }\n",
       "\n",
       "    .dataframe tbody tr th {\n",
       "        vertical-align: top;\n",
       "    }\n",
       "\n",
       "    .dataframe thead th {\n",
       "        text-align: right;\n",
       "    }\n",
       "</style>\n",
       "<table border=\"1\" class=\"dataframe\">\n",
       "  <thead>\n",
       "    <tr style=\"text-align: right;\">\n",
       "      <th></th>\n",
       "      <th>publisher</th>\n",
       "      <th>name</th>\n",
       "      <th>appearances</th>\n",
       "      <th>first_appearance</th>\n",
       "      <th>month</th>\n",
       "      <th>year</th>\n",
       "      <th>date</th>\n",
       "      <th>Identity_Public Identity</th>\n",
       "      <th>Identity_Secret Identity</th>\n",
       "      <th>align_Bad Characters</th>\n",
       "      <th>...</th>\n",
       "      <th>hair_Violet Hair</th>\n",
       "      <th>hair_White Hair</th>\n",
       "      <th>hair_Yellow Hair</th>\n",
       "      <th>sex_Agender Characters</th>\n",
       "      <th>sex_Female Characters</th>\n",
       "      <th>sex_Genderfluid Characters</th>\n",
       "      <th>sex_Genderless Characters</th>\n",
       "      <th>sex_Male Characters</th>\n",
       "      <th>alive_Deceased Characters</th>\n",
       "      <th>alive_Living Characters</th>\n",
       "    </tr>\n",
       "    <tr>\n",
       "      <th>id</th>\n",
       "      <th></th>\n",
       "      <th></th>\n",
       "      <th></th>\n",
       "      <th></th>\n",
       "      <th></th>\n",
       "      <th></th>\n",
       "      <th></th>\n",
       "      <th></th>\n",
       "      <th></th>\n",
       "      <th></th>\n",
       "      <th></th>\n",
       "      <th></th>\n",
       "      <th></th>\n",
       "      <th></th>\n",
       "      <th></th>\n",
       "      <th></th>\n",
       "      <th></th>\n",
       "      <th></th>\n",
       "      <th></th>\n",
       "      <th></th>\n",
       "      <th></th>\n",
       "    </tr>\n",
       "  </thead>\n",
       "  <tbody>\n",
       "    <tr>\n",
       "      <th>1</th>\n",
       "      <td>Marvel</td>\n",
       "      <td>Spider-Man (Peter Parker)</td>\n",
       "      <td>4043.0</td>\n",
       "      <td>1962, August</td>\n",
       "      <td>August</td>\n",
       "      <td>1962.0</td>\n",
       "      <td>8/1/1962</td>\n",
       "      <td>0</td>\n",
       "      <td>1</td>\n",
       "      <td>0</td>\n",
       "      <td>...</td>\n",
       "      <td>0</td>\n",
       "      <td>0</td>\n",
       "      <td>0</td>\n",
       "      <td>0</td>\n",
       "      <td>0</td>\n",
       "      <td>0</td>\n",
       "      <td>0</td>\n",
       "      <td>1</td>\n",
       "      <td>0</td>\n",
       "      <td>1</td>\n",
       "    </tr>\n",
       "    <tr>\n",
       "      <th>2</th>\n",
       "      <td>Marvel</td>\n",
       "      <td>Captain America (Steven Rogers)</td>\n",
       "      <td>3360.0</td>\n",
       "      <td>1941, March</td>\n",
       "      <td>March</td>\n",
       "      <td>1941.0</td>\n",
       "      <td>3/1/1941</td>\n",
       "      <td>1</td>\n",
       "      <td>0</td>\n",
       "      <td>0</td>\n",
       "      <td>...</td>\n",
       "      <td>0</td>\n",
       "      <td>1</td>\n",
       "      <td>0</td>\n",
       "      <td>0</td>\n",
       "      <td>0</td>\n",
       "      <td>0</td>\n",
       "      <td>0</td>\n",
       "      <td>1</td>\n",
       "      <td>0</td>\n",
       "      <td>1</td>\n",
       "    </tr>\n",
       "    <tr>\n",
       "      <th>3</th>\n",
       "      <td>Marvel</td>\n",
       "      <td>Wolverine (James \\\"Logan\\\" Howlett)</td>\n",
       "      <td>3061.0</td>\n",
       "      <td>1974, October</td>\n",
       "      <td>October</td>\n",
       "      <td>1974.0</td>\n",
       "      <td>10/1/1974</td>\n",
       "      <td>1</td>\n",
       "      <td>0</td>\n",
       "      <td>0</td>\n",
       "      <td>...</td>\n",
       "      <td>0</td>\n",
       "      <td>0</td>\n",
       "      <td>0</td>\n",
       "      <td>0</td>\n",
       "      <td>0</td>\n",
       "      <td>0</td>\n",
       "      <td>0</td>\n",
       "      <td>1</td>\n",
       "      <td>0</td>\n",
       "      <td>1</td>\n",
       "    </tr>\n",
       "    <tr>\n",
       "      <th>4</th>\n",
       "      <td>Marvel</td>\n",
       "      <td>Iron Man (Anthony \\\"Tony\\\" Stark)</td>\n",
       "      <td>2961.0</td>\n",
       "      <td>1963, March</td>\n",
       "      <td>March</td>\n",
       "      <td>1963.0</td>\n",
       "      <td>3/1/1963</td>\n",
       "      <td>1</td>\n",
       "      <td>0</td>\n",
       "      <td>0</td>\n",
       "      <td>...</td>\n",
       "      <td>0</td>\n",
       "      <td>0</td>\n",
       "      <td>0</td>\n",
       "      <td>0</td>\n",
       "      <td>0</td>\n",
       "      <td>0</td>\n",
       "      <td>0</td>\n",
       "      <td>1</td>\n",
       "      <td>0</td>\n",
       "      <td>1</td>\n",
       "    </tr>\n",
       "    <tr>\n",
       "      <th>6</th>\n",
       "      <td>Marvel</td>\n",
       "      <td>Benjamin Grimm (Earth-616)</td>\n",
       "      <td>2255.0</td>\n",
       "      <td>1961, November</td>\n",
       "      <td>November</td>\n",
       "      <td>1961.0</td>\n",
       "      <td>11/1/1961</td>\n",
       "      <td>1</td>\n",
       "      <td>0</td>\n",
       "      <td>0</td>\n",
       "      <td>...</td>\n",
       "      <td>0</td>\n",
       "      <td>0</td>\n",
       "      <td>0</td>\n",
       "      <td>0</td>\n",
       "      <td>0</td>\n",
       "      <td>0</td>\n",
       "      <td>0</td>\n",
       "      <td>1</td>\n",
       "      <td>0</td>\n",
       "      <td>1</td>\n",
       "    </tr>\n",
       "  </tbody>\n",
       "</table>\n",
       "<p>5 rows × 72 columns</p>\n",
       "</div>"
      ],
      "text/plain": [
       "   publisher                                 name  appearances  \\\n",
       "id                                                               \n",
       "1     Marvel            Spider-Man (Peter Parker)       4043.0   \n",
       "2     Marvel      Captain America (Steven Rogers)       3360.0   \n",
       "3     Marvel  Wolverine (James \\\"Logan\\\" Howlett)       3061.0   \n",
       "4     Marvel    Iron Man (Anthony \\\"Tony\\\" Stark)       2961.0   \n",
       "6     Marvel           Benjamin Grimm (Earth-616)       2255.0   \n",
       "\n",
       "   first_appearance     month    year       date  Identity_Public Identity  \\\n",
       "id                                                                           \n",
       "1      1962, August    August  1962.0   8/1/1962                         0   \n",
       "2       1941, March     March  1941.0   3/1/1941                         1   \n",
       "3     1974, October   October  1974.0  10/1/1974                         1   \n",
       "4       1963, March     March  1963.0   3/1/1963                         1   \n",
       "6    1961, November  November  1961.0  11/1/1961                         1   \n",
       "\n",
       "    Identity_Secret Identity  align_Bad Characters  ...  hair_Violet Hair  \\\n",
       "id                                                  ...                     \n",
       "1                          1                     0  ...                 0   \n",
       "2                          0                     0  ...                 0   \n",
       "3                          0                     0  ...                 0   \n",
       "4                          0                     0  ...                 0   \n",
       "6                          0                     0  ...                 0   \n",
       "\n",
       "    hair_White Hair  hair_Yellow Hair  sex_Agender Characters  \\\n",
       "id                                                              \n",
       "1                 0                 0                       0   \n",
       "2                 1                 0                       0   \n",
       "3                 0                 0                       0   \n",
       "4                 0                 0                       0   \n",
       "6                 0                 0                       0   \n",
       "\n",
       "    sex_Female Characters  sex_Genderfluid Characters  \\\n",
       "id                                                      \n",
       "1                       0                           0   \n",
       "2                       0                           0   \n",
       "3                       0                           0   \n",
       "4                       0                           0   \n",
       "6                       0                           0   \n",
       "\n",
       "    sex_Genderless Characters  sex_Male Characters  alive_Deceased Characters  \\\n",
       "id                                                                              \n",
       "1                           0                    1                          0   \n",
       "2                           0                    1                          0   \n",
       "3                           0                    1                          0   \n",
       "4                           0                    1                          0   \n",
       "6                           0                    1                          0   \n",
       "\n",
       "    alive_Living Characters  \n",
       "id                           \n",
       "1                         1  \n",
       "2                         1  \n",
       "3                         1  \n",
       "4                         1  \n",
       "6                         1  \n",
       "\n",
       "[5 rows x 72 columns]"
      ]
     },
     "execution_count": 33,
     "metadata": {},
     "output_type": "execute_result"
    }
   ],
   "source": [
    "comic_dummies.head()"
   ]
  },
  {
   "cell_type": "markdown",
   "metadata": {},
   "source": [
    "The following code creates a new DataFrame with only the resulting dummy variables:"
   ]
  },
  {
   "cell_type": "code",
   "execution_count": 34,
   "metadata": {},
   "outputs": [],
   "source": [
    "comic_dummies_vars = comic_dummies.iloc[:,7:]"
   ]
  },
  {
   "cell_type": "markdown",
   "metadata": {},
   "source": [
    "## Question 6: Find the optimal value of \"k\" for k-means clustering of the comic character dataset with dummy variables (i.e. comic_dummies_vars)."
   ]
  },
  {
   "cell_type": "code",
   "execution_count": 36,
   "metadata": {},
   "outputs": [],
   "source": [
    "#Insert Code Here\n",
    "\n",
    "# HE'S NOT GOING TO ASK US THIS QUESTION ON THE EXAM!\n",
    "\n",
    "# he might pre-run this for us and ask us which solution is best, know how to interpret a \n",
    "# sillhouette scores and clusters (tightness, closeness, etc.)\n",
    "\n",
    "# he might ask us to perform a k means analysis with a specific k\n",
    "\n",
    "# tell me who in the dataset is most like someone else (the diagram with the arrows?)"
   ]
  },
  {
   "cell_type": "markdown",
   "metadata": {},
   "source": [
    "## Question 7 (Natural Language Processing, 20 points):"
   ]
  },
  {
   "cell_type": "markdown",
   "metadata": {},
   "source": [
    "The data/vox_transcript.csv file that we distributed as part of this test contains a transcript of the first 2016 Presidential Debate between Clinton and Trump.  \n",
    "\n",
    "Run the following code block to load and peek at the data:"
   ]
  },
  {
   "cell_type": "code",
   "execution_count": 46,
   "metadata": {},
   "outputs": [],
   "source": [
    "# HE'S NOT GONNA ASK US ABOUT SPACY, HE WILL ASK ABOUT NLTK, HE WILL USE THIS DATASET\n",
    "\n",
    "# HE COULD ASK WHAT EVIDENCE WE HAVE THAT ONE SPEAKER HAD MORE NEGATIVE SENTENCES\n",
    "# HE WILL ASK US TO TIE THAT BACK TO AN ANOVE OR A T TEST??\n",
    "\n",
    "# mean sentiment from each side, he'd give code, we'd have to clean, stem, lemm\n",
    "\n",
    "# go through nlp work we did and see what you can answer below!!!!!!!!!!!!!!!!!!!!!!!!!!!!!!!!!!!!\n",
    "\n",
    "# might ask us to do a classification example, classification on nlp text"
   ]
  },
  {
   "cell_type": "code",
   "execution_count": 40,
   "metadata": {},
   "outputs": [
    {
     "data": {
      "text/html": [
       "<div>\n",
       "<style scoped>\n",
       "    .dataframe tbody tr th:only-of-type {\n",
       "        vertical-align: middle;\n",
       "    }\n",
       "\n",
       "    .dataframe tbody tr th {\n",
       "        vertical-align: top;\n",
       "    }\n",
       "\n",
       "    .dataframe thead th {\n",
       "        text-align: right;\n",
       "    }\n",
       "</style>\n",
       "<table border=\"1\" class=\"dataframe\">\n",
       "  <thead>\n",
       "    <tr style=\"text-align: right;\">\n",
       "      <th></th>\n",
       "      <th>text_id</th>\n",
       "      <th>question_id</th>\n",
       "      <th>speaker</th>\n",
       "      <th>text</th>\n",
       "      <th>text_type</th>\n",
       "    </tr>\n",
       "  </thead>\n",
       "  <tbody>\n",
       "    <tr>\n",
       "      <th>0</th>\n",
       "      <td>1</td>\n",
       "      <td>1</td>\n",
       "      <td>Holt</td>\n",
       "      <td>Good evening from Hofstra University in Hempst...</td>\n",
       "      <td>q</td>\n",
       "    </tr>\n",
       "    <tr>\n",
       "      <th>1</th>\n",
       "      <td>2</td>\n",
       "      <td>1</td>\n",
       "      <td>Holt</td>\n",
       "      <td>The participants tonight are Donald Trump and ...</td>\n",
       "      <td>q</td>\n",
       "    </tr>\n",
       "    <tr>\n",
       "      <th>2</th>\n",
       "      <td>3</td>\n",
       "      <td>1</td>\n",
       "      <td>Holt</td>\n",
       "      <td>The 90-minute debate is divided into six segme...</td>\n",
       "      <td>q</td>\n",
       "    </tr>\n",
       "    <tr>\n",
       "      <th>3</th>\n",
       "      <td>4</td>\n",
       "      <td>1</td>\n",
       "      <td>Holt</td>\n",
       "      <td>The questions are mine and have not been share...</td>\n",
       "      <td>q</td>\n",
       "    </tr>\n",
       "    <tr>\n",
       "      <th>4</th>\n",
       "      <td>5</td>\n",
       "      <td>1</td>\n",
       "      <td>Holt</td>\n",
       "      <td>I will invite you to applaud, however, at this...</td>\n",
       "      <td>q</td>\n",
       "    </tr>\n",
       "  </tbody>\n",
       "</table>\n",
       "</div>"
      ],
      "text/plain": [
       "   text_id  question_id speaker  \\\n",
       "0        1            1    Holt   \n",
       "1        2            1    Holt   \n",
       "2        3            1    Holt   \n",
       "3        4            1    Holt   \n",
       "4        5            1    Holt   \n",
       "\n",
       "                                                text text_type  \n",
       "0  Good evening from Hofstra University in Hempst...         q  \n",
       "1  The participants tonight are Donald Trump and ...         q  \n",
       "2  The 90-minute debate is divided into six segme...         q  \n",
       "3  The questions are mine and have not been share...         q  \n",
       "4  I will invite you to applaud, however, at this...         q  "
      ]
     },
     "execution_count": 40,
     "metadata": {},
     "output_type": "execute_result"
    }
   ],
   "source": [
    "debate = pd.read_csv('data/vox_transcript.csv')\n",
    "debate.head()"
   ]
  },
  {
   "cell_type": "code",
   "execution_count": 44,
   "metadata": {},
   "outputs": [
    {
     "data": {
      "text/plain": [
       "(519, 5)"
      ]
     },
     "execution_count": 44,
     "metadata": {},
     "output_type": "execute_result"
    }
   ],
   "source": [
    "debate.shape"
   ]
  },
  {
   "cell_type": "code",
   "execution_count": 45,
   "metadata": {},
   "outputs": [],
   "source": [
    "from collections import Counter"
   ]
  },
  {
   "cell_type": "code",
   "execution_count": 42,
   "metadata": {},
   "outputs": [
    {
     "ename": "ModuleNotFoundError",
     "evalue": "No module named 'spacy'",
     "output_type": "error",
     "traceback": [
      "\u001b[0;31m---------------------------------------------------------------------------\u001b[0m",
      "\u001b[0;31mModuleNotFoundError\u001b[0m                       Traceback (most recent call last)",
      "\u001b[0;32m<ipython-input-42-dc6e834cdfad>\u001b[0m in \u001b[0;36m<module>\u001b[0;34m\u001b[0m\n\u001b[0;32m----> 1\u001b[0;31m \u001b[0;32mimport\u001b[0m \u001b[0mspacy\u001b[0m\u001b[0;34m\u001b[0m\u001b[0;34m\u001b[0m\u001b[0m\n\u001b[0m\u001b[1;32m      2\u001b[0m \u001b[0mnlp\u001b[0m \u001b[0;34m=\u001b[0m \u001b[0mspacy\u001b[0m\u001b[0;34m.\u001b[0m\u001b[0mload\u001b[0m\u001b[0;34m(\u001b[0m\u001b[0;34m'en'\u001b[0m\u001b[0;34m)\u001b[0m\u001b[0;34m\u001b[0m\u001b[0;34m\u001b[0m\u001b[0m\n",
      "\u001b[0;31mModuleNotFoundError\u001b[0m: No module named 'spacy'"
     ]
    }
   ],
   "source": [
    "import spacy\n",
    "nlp = spacy.load('en')"
   ]
  },
  {
   "cell_type": "code",
   "execution_count": null,
   "metadata": {},
   "outputs": [],
   "source": [
    "from spacy.lang.en.stop_words import STOP_WORDS"
   ]
  },
  {
   "cell_type": "markdown",
   "metadata": {},
   "source": [
    "Let's split the data so we have one DataFrame for Trump and one DataFrame for Clinton"
   ]
  },
  {
   "cell_type": "code",
   "execution_count": null,
   "metadata": {},
   "outputs": [],
   "source": [
    "trump = debate[debate['speaker'] == 'Trump']\n",
    "clinton = debate[debate['speaker'] == 'Clinton']"
   ]
  },
  {
   "cell_type": "markdown",
   "metadata": {},
   "source": [
    "The following code concatenates all the text from each of those dataframes into strings (one for each of Trump and Clinton):"
   ]
  },
  {
   "cell_type": "code",
   "execution_count": null,
   "metadata": {},
   "outputs": [],
   "source": [
    "trump_debate_text = trump['text'].str.cat(sep = ' ')\n",
    "clinton_debate_text = clinton['text'].str.cat(sep = ' ')"
   ]
  },
  {
   "cell_type": "code",
   "execution_count": null,
   "metadata": {},
   "outputs": [],
   "source": [
    "doc = nlp(trump_debate_text)"
   ]
  },
  {
   "cell_type": "code",
   "execution_count": null,
   "metadata": {},
   "outputs": [],
   "source": [
    "labels = [x.pos_ for x in doc if x.text not in STOP_WORDS]\n",
    "#Counter(labels)"
   ]
  },
  {
   "cell_type": "code",
   "execution_count": null,
   "metadata": {},
   "outputs": [],
   "source": [
    "plt.figure(figsize=(45,10))\n",
    "sns.countplot(labels, order=pd.Series(labels).value_counts().index)\n",
    "# sns.countplot(words_nostop, order=[counted[0] for counted in Counter(words_nostop).most_common()])\n",
    "plt.xticks(rotation=90)\n",
    "plt.show()"
   ]
  },
  {
   "cell_type": "markdown",
   "metadata": {},
   "source": [
    "### 7a. Repeat the above steps on the Clinton text:"
   ]
  },
  {
   "cell_type": "code",
   "execution_count": null,
   "metadata": {},
   "outputs": [],
   "source": [
    "#Insert Code Here"
   ]
  },
  {
   "cell_type": "markdown",
   "metadata": {},
   "source": [
    "### 7b. Describe how these distributions differ."
   ]
  },
  {
   "cell_type": "markdown",
   "metadata": {},
   "source": [
    "Insert your interpretation here."
   ]
  },
  {
   "cell_type": "markdown",
   "metadata": {},
   "source": [
    "### Please turn in HTML and notebook file on canvas by 10:30am."
   ]
  }
 ],
 "metadata": {
  "kernelspec": {
   "display_name": "Python 3",
   "language": "python",
   "name": "python3"
  },
  "language_info": {
   "codemirror_mode": {
    "name": "ipython",
    "version": 3
   },
   "file_extension": ".py",
   "mimetype": "text/x-python",
   "name": "python",
   "nbconvert_exporter": "python",
   "pygments_lexer": "ipython3",
   "version": "3.7.3"
  }
 },
 "nbformat": 4,
 "nbformat_minor": 2
}
